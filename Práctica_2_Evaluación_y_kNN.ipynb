{
  "nbformat": 4,
  "nbformat_minor": 0,
  "metadata": {
    "colab": {
      "name": "Práctica 2: Evaluación y kNN.ipynb",
      "provenance": [],
      "collapsed_sections": [],
      "include_colab_link": true
    },
    "kernelspec": {
      "name": "python3",
      "display_name": "Python 3"
    }
  },
  "cells": [
    {
      "cell_type": "markdown",
      "metadata": {
        "id": "view-in-github",
        "colab_type": "text"
      },
      "source": [
        "<a href=\"https://colab.research.google.com/github/alrevus00/Try1/blob/main/Pr%C3%A1ctica_2_Evaluaci%C3%B3n_y_kNN.ipynb\" target=\"_parent\"><img src=\"https://colab.research.google.com/assets/colab-badge.svg\" alt=\"Open In Colab\"/></a>"
      ]
    },
    {
      "cell_type": "markdown",
      "metadata": {
        "id": "y-ZeaXUGnYVN"
      },
      "source": [
        "#Práctica 2: Evaluación y kNN"
      ]
    },
    {
      "cell_type": "markdown",
      "metadata": {
        "id": "nj8ZoNH1nfzA"
      },
      "source": [
        "Esta sesión práctica se divide en cuatro secciones de distinta complejidad. \n",
        "\n",
        "En la primera se explica la primera parte de evaluación en la cual se ve cómo usando la libreria *Scikit-Learn* se pueden separar los conjuntos de training y de testing.\n",
        "\n",
        "En la segunda sección, y antes de continuar con la evaluación, es necesario tener un modelo, y para esta sesión vamos a usar el modelo kNN que hemos explicado ya en teoría. En este apartado veremos como se usa y que parámetros son susceptibles de cambio para obtener un resultado más óptimo.\n",
        "\n",
        "En la tercera sección, se ven las diferentes estrategias de validación.\n",
        "\n",
        "En la última parte se habla de como calcular las métricas que más se usan."
      ]
    },
    {
      "cell_type": "markdown",
      "metadata": {
        "id": "IWCfSfaFdkOT"
      },
      "source": [
        "source: https://www.aprendemachinelearning.com/clasificar-con-k-nearest-neighbor-ejemplo-en-python/"
      ]
    },
    {
      "cell_type": "markdown",
      "metadata": {
        "id": "1EcLDaQm8a8U"
      },
      "source": [
        "## Evaluación (parte I)"
      ]
    },
    {
      "cell_type": "markdown",
      "metadata": {
        "id": "opMXilGB8hTi"
      },
      "source": [
        "Evaluar la capacidad predictiva de un modelo consiste en comprobar cómo de próximas son sus predicciones a los verdaderos valores de la variable respuesta. Para poder cuantificarlo de forma correcta, se necesita disponer de un conjunto de observaciones, de las que se conozca la variable respuesta, pero que el modelo no haya \"visto\", es decir, que no hayan participado en su ajuste. Con esta finalidad, se dividen los datos disponibles en un conjunto de entrenamiento y un conjunto de test. El tamaño adecuado de las particiones depende en gran medida de la cantidad de datos disponibles y la seguridad que se necesite en la estimación del error, 80%-20% suele dar buenos resultados. El reparto debe hacerse de forma aleatoria o aleatoria-estratificada como se ha explicado en clase.\n",
        "\n",
        "Además más adelante veremos como también necesitaremos dividir nuestro conjunto de datos en 3 partes: conjunto de entrenamiento, de test y de validación. Aunque ahora no necesitamos explicitamente estos tres grupos si que veremos como se crean.\n",
        "\n"
      ]
    },
    {
      "cell_type": "markdown",
      "metadata": {
        "id": "d92roZKkjLOD"
      },
      "source": [
        "### Obtenemos los datos"
      ]
    },
    {
      "cell_type": "markdown",
      "metadata": {
        "id": "yMRfzWZlgKgB"
      },
      "source": [
        "Primero cargamos las librerías que utillizaremos tanto para manejar los datos como crear gráficos.\n"
      ]
    },
    {
      "cell_type": "code",
      "metadata": {
        "id": "cs7oxWSGdBte"
      },
      "source": [
        "import pandas as pd\n",
        "import numpy as np\n",
        "import matplotlib.pyplot as plt\n",
        "from matplotlib.colors import ListedColormap\n",
        "import matplotlib.patches as mpatches\n",
        "import seaborn as sb\n",
        "\n",
        "#esto determina como queremos que sean los gráficos \n",
        "%matplotlib inline\n",
        "plt.rcParams['figure.figsize'] = (16, 9)\n",
        "plt.style.use('ggplot')"
      ],
      "execution_count": 1,
      "outputs": []
    },
    {
      "cell_type": "markdown",
      "metadata": {
        "id": "Tw7cBEUWC6G4"
      },
      "source": [
        "El conjunto de datos que vamos a usar es \"*Wine Quality*\", puedes ver más información [aquí](https://archive.ics.uci.edu/ml/datasets/wine+quality)."
      ]
    },
    {
      "cell_type": "markdown",
      "metadata": {
        "id": "irXIn-XCgdqH"
      },
      "source": [
        "Cargamos el archivo usando pandas. Este archivo contiene 1599 instancias sobre vinos. Cada instancia viene descrita por 11 características y una última variable que determina la calidad a la que pertenece el vino. Esta variable toma un valor natural entre 1 y 8."
      ]
    },
    {
      "cell_type": "code",
      "metadata": {
        "id": "S9nVNliwcZ1U"
      },
      "source": [
        "df = pd.read_csv('http://archive.ics.uci.edu/ml/machine-learning-databases/wine-quality/winequality-red.csv',sep=';')"
      ],
      "execution_count": 2,
      "outputs": []
    },
    {
      "cell_type": "markdown",
      "metadata": {
        "id": "rbHEI_SA-WLx"
      },
      "source": [
        "Revisamos el contenido del archivo, para comprobar que datos son los que tenemos y cómo son."
      ]
    },
    {
      "cell_type": "code",
      "metadata": {
        "id": "-KSm3XxH-UPq",
        "colab": {
          "base_uri": "https://localhost:8080/"
        },
        "outputId": "01b5931c-1e2c-4573-99b7-dd61aa370416"
      },
      "source": [
        "# Mostrar las n primeras filas del dataset\n",
        "print(df.head(4))\n",
        "# Comprobamos la dimensión del dataset\n",
        "print(df.shape)\n",
        "# Obtenemos el tipo de cada una de sus características\n",
        "df.info()"
      ],
      "execution_count": 3,
      "outputs": [
        {
          "output_type": "stream",
          "name": "stdout",
          "text": [
            "   fixed acidity  volatile acidity  citric acid  ...  sulphates  alcohol  quality\n",
            "0            7.4              0.70         0.00  ...       0.56      9.4        5\n",
            "1            7.8              0.88         0.00  ...       0.68      9.8        5\n",
            "2            7.8              0.76         0.04  ...       0.65      9.8        5\n",
            "3           11.2              0.28         0.56  ...       0.58      9.8        6\n",
            "\n",
            "[4 rows x 12 columns]\n",
            "(1599, 12)\n",
            "<class 'pandas.core.frame.DataFrame'>\n",
            "RangeIndex: 1599 entries, 0 to 1598\n",
            "Data columns (total 12 columns):\n",
            " #   Column                Non-Null Count  Dtype  \n",
            "---  ------                --------------  -----  \n",
            " 0   fixed acidity         1599 non-null   float64\n",
            " 1   volatile acidity      1599 non-null   float64\n",
            " 2   citric acid           1599 non-null   float64\n",
            " 3   residual sugar        1599 non-null   float64\n",
            " 4   chlorides             1599 non-null   float64\n",
            " 5   free sulfur dioxide   1599 non-null   float64\n",
            " 6   total sulfur dioxide  1599 non-null   float64\n",
            " 7   density               1599 non-null   float64\n",
            " 8   pH                    1599 non-null   float64\n",
            " 9   sulphates             1599 non-null   float64\n",
            " 10  alcohol               1599 non-null   float64\n",
            " 11  quality               1599 non-null   int64  \n",
            "dtypes: float64(11), int64(1)\n",
            "memory usage: 150.0 KB\n"
          ]
        }
      ]
    },
    {
      "cell_type": "markdown",
      "metadata": {
        "id": "GKDnwBNZ-hBw"
      },
      "source": [
        "Viendo la dimensión del dataset comprobamos que disponemos de 1599 instancias con 12 descriptores (características) cada una."
      ]
    },
    {
      "cell_type": "code",
      "metadata": {
        "colab": {
          "base_uri": "https://localhost:8080/",
          "height": 206
        },
        "id": "kqYwgJirW0Cw",
        "outputId": "7e6e06f8-1301-46f9-80dd-fdeb45d64394"
      },
      "source": [
        "df.head(5)"
      ],
      "execution_count": 4,
      "outputs": [
        {
          "output_type": "execute_result",
          "data": {
            "text/html": [
              "<div>\n",
              "<style scoped>\n",
              "    .dataframe tbody tr th:only-of-type {\n",
              "        vertical-align: middle;\n",
              "    }\n",
              "\n",
              "    .dataframe tbody tr th {\n",
              "        vertical-align: top;\n",
              "    }\n",
              "\n",
              "    .dataframe thead th {\n",
              "        text-align: right;\n",
              "    }\n",
              "</style>\n",
              "<table border=\"1\" class=\"dataframe\">\n",
              "  <thead>\n",
              "    <tr style=\"text-align: right;\">\n",
              "      <th></th>\n",
              "      <th>fixed acidity</th>\n",
              "      <th>volatile acidity</th>\n",
              "      <th>citric acid</th>\n",
              "      <th>residual sugar</th>\n",
              "      <th>chlorides</th>\n",
              "      <th>free sulfur dioxide</th>\n",
              "      <th>total sulfur dioxide</th>\n",
              "      <th>density</th>\n",
              "      <th>pH</th>\n",
              "      <th>sulphates</th>\n",
              "      <th>alcohol</th>\n",
              "      <th>quality</th>\n",
              "    </tr>\n",
              "  </thead>\n",
              "  <tbody>\n",
              "    <tr>\n",
              "      <th>0</th>\n",
              "      <td>7.4</td>\n",
              "      <td>0.70</td>\n",
              "      <td>0.00</td>\n",
              "      <td>1.9</td>\n",
              "      <td>0.076</td>\n",
              "      <td>11.0</td>\n",
              "      <td>34.0</td>\n",
              "      <td>0.9978</td>\n",
              "      <td>3.51</td>\n",
              "      <td>0.56</td>\n",
              "      <td>9.4</td>\n",
              "      <td>5</td>\n",
              "    </tr>\n",
              "    <tr>\n",
              "      <th>1</th>\n",
              "      <td>7.8</td>\n",
              "      <td>0.88</td>\n",
              "      <td>0.00</td>\n",
              "      <td>2.6</td>\n",
              "      <td>0.098</td>\n",
              "      <td>25.0</td>\n",
              "      <td>67.0</td>\n",
              "      <td>0.9968</td>\n",
              "      <td>3.20</td>\n",
              "      <td>0.68</td>\n",
              "      <td>9.8</td>\n",
              "      <td>5</td>\n",
              "    </tr>\n",
              "    <tr>\n",
              "      <th>2</th>\n",
              "      <td>7.8</td>\n",
              "      <td>0.76</td>\n",
              "      <td>0.04</td>\n",
              "      <td>2.3</td>\n",
              "      <td>0.092</td>\n",
              "      <td>15.0</td>\n",
              "      <td>54.0</td>\n",
              "      <td>0.9970</td>\n",
              "      <td>3.26</td>\n",
              "      <td>0.65</td>\n",
              "      <td>9.8</td>\n",
              "      <td>5</td>\n",
              "    </tr>\n",
              "    <tr>\n",
              "      <th>3</th>\n",
              "      <td>11.2</td>\n",
              "      <td>0.28</td>\n",
              "      <td>0.56</td>\n",
              "      <td>1.9</td>\n",
              "      <td>0.075</td>\n",
              "      <td>17.0</td>\n",
              "      <td>60.0</td>\n",
              "      <td>0.9980</td>\n",
              "      <td>3.16</td>\n",
              "      <td>0.58</td>\n",
              "      <td>9.8</td>\n",
              "      <td>6</td>\n",
              "    </tr>\n",
              "    <tr>\n",
              "      <th>4</th>\n",
              "      <td>7.4</td>\n",
              "      <td>0.70</td>\n",
              "      <td>0.00</td>\n",
              "      <td>1.9</td>\n",
              "      <td>0.076</td>\n",
              "      <td>11.0</td>\n",
              "      <td>34.0</td>\n",
              "      <td>0.9978</td>\n",
              "      <td>3.51</td>\n",
              "      <td>0.56</td>\n",
              "      <td>9.4</td>\n",
              "      <td>5</td>\n",
              "    </tr>\n",
              "  </tbody>\n",
              "</table>\n",
              "</div>"
            ],
            "text/plain": [
              "   fixed acidity  volatile acidity  citric acid  ...  sulphates  alcohol  quality\n",
              "0            7.4              0.70         0.00  ...       0.56      9.4        5\n",
              "1            7.8              0.88         0.00  ...       0.68      9.8        5\n",
              "2            7.8              0.76         0.04  ...       0.65      9.8        5\n",
              "3           11.2              0.28         0.56  ...       0.58      9.8        6\n",
              "4            7.4              0.70         0.00  ...       0.56      9.4        5\n",
              "\n",
              "[5 rows x 12 columns]"
            ]
          },
          "metadata": {},
          "execution_count": 4
        }
      ]
    },
    {
      "cell_type": "markdown",
      "metadata": {
        "id": "6A3uUMQGjXEq"
      },
      "source": [
        "### Preprocesamos los datos"
      ]
    },
    {
      "cell_type": "markdown",
      "metadata": {
        "id": "ClBHPzWIjZU6"
      },
      "source": [
        "En esta asignatura no nos vamos a detener mucho en este punto, pero hay casos en los que es necesario hacer un poco de procesamiento como en este ejemplo.\n",
        "\n",
        "Como variable objetivo, utilizaremos la calidad del vino.\n",
        "\n",
        "Antes de hacer cualquier cosa sobre los datos hay que ver como son a través del cálculo estadístico para cada característica."
      ]
    },
    {
      "cell_type": "code",
      "metadata": {
        "id": "hz8nnolydvVM",
        "colab": {
          "base_uri": "https://localhost:8080/",
          "height": 318
        },
        "outputId": "4e7b1135-3c49-4b4c-8e38-9dea0ed29fd2"
      },
      "source": [
        "df.describe()"
      ],
      "execution_count": 5,
      "outputs": [
        {
          "output_type": "execute_result",
          "data": {
            "text/html": [
              "<div>\n",
              "<style scoped>\n",
              "    .dataframe tbody tr th:only-of-type {\n",
              "        vertical-align: middle;\n",
              "    }\n",
              "\n",
              "    .dataframe tbody tr th {\n",
              "        vertical-align: top;\n",
              "    }\n",
              "\n",
              "    .dataframe thead th {\n",
              "        text-align: right;\n",
              "    }\n",
              "</style>\n",
              "<table border=\"1\" class=\"dataframe\">\n",
              "  <thead>\n",
              "    <tr style=\"text-align: right;\">\n",
              "      <th></th>\n",
              "      <th>fixed acidity</th>\n",
              "      <th>volatile acidity</th>\n",
              "      <th>citric acid</th>\n",
              "      <th>residual sugar</th>\n",
              "      <th>chlorides</th>\n",
              "      <th>free sulfur dioxide</th>\n",
              "      <th>total sulfur dioxide</th>\n",
              "      <th>density</th>\n",
              "      <th>pH</th>\n",
              "      <th>sulphates</th>\n",
              "      <th>alcohol</th>\n",
              "      <th>quality</th>\n",
              "    </tr>\n",
              "  </thead>\n",
              "  <tbody>\n",
              "    <tr>\n",
              "      <th>count</th>\n",
              "      <td>1599.000000</td>\n",
              "      <td>1599.000000</td>\n",
              "      <td>1599.000000</td>\n",
              "      <td>1599.000000</td>\n",
              "      <td>1599.000000</td>\n",
              "      <td>1599.000000</td>\n",
              "      <td>1599.000000</td>\n",
              "      <td>1599.000000</td>\n",
              "      <td>1599.000000</td>\n",
              "      <td>1599.000000</td>\n",
              "      <td>1599.000000</td>\n",
              "      <td>1599.000000</td>\n",
              "    </tr>\n",
              "    <tr>\n",
              "      <th>mean</th>\n",
              "      <td>8.319637</td>\n",
              "      <td>0.527821</td>\n",
              "      <td>0.270976</td>\n",
              "      <td>2.538806</td>\n",
              "      <td>0.087467</td>\n",
              "      <td>15.874922</td>\n",
              "      <td>46.467792</td>\n",
              "      <td>0.996747</td>\n",
              "      <td>3.311113</td>\n",
              "      <td>0.658149</td>\n",
              "      <td>10.422983</td>\n",
              "      <td>5.636023</td>\n",
              "    </tr>\n",
              "    <tr>\n",
              "      <th>std</th>\n",
              "      <td>1.741096</td>\n",
              "      <td>0.179060</td>\n",
              "      <td>0.194801</td>\n",
              "      <td>1.409928</td>\n",
              "      <td>0.047065</td>\n",
              "      <td>10.460157</td>\n",
              "      <td>32.895324</td>\n",
              "      <td>0.001887</td>\n",
              "      <td>0.154386</td>\n",
              "      <td>0.169507</td>\n",
              "      <td>1.065668</td>\n",
              "      <td>0.807569</td>\n",
              "    </tr>\n",
              "    <tr>\n",
              "      <th>min</th>\n",
              "      <td>4.600000</td>\n",
              "      <td>0.120000</td>\n",
              "      <td>0.000000</td>\n",
              "      <td>0.900000</td>\n",
              "      <td>0.012000</td>\n",
              "      <td>1.000000</td>\n",
              "      <td>6.000000</td>\n",
              "      <td>0.990070</td>\n",
              "      <td>2.740000</td>\n",
              "      <td>0.330000</td>\n",
              "      <td>8.400000</td>\n",
              "      <td>3.000000</td>\n",
              "    </tr>\n",
              "    <tr>\n",
              "      <th>25%</th>\n",
              "      <td>7.100000</td>\n",
              "      <td>0.390000</td>\n",
              "      <td>0.090000</td>\n",
              "      <td>1.900000</td>\n",
              "      <td>0.070000</td>\n",
              "      <td>7.000000</td>\n",
              "      <td>22.000000</td>\n",
              "      <td>0.995600</td>\n",
              "      <td>3.210000</td>\n",
              "      <td>0.550000</td>\n",
              "      <td>9.500000</td>\n",
              "      <td>5.000000</td>\n",
              "    </tr>\n",
              "    <tr>\n",
              "      <th>50%</th>\n",
              "      <td>7.900000</td>\n",
              "      <td>0.520000</td>\n",
              "      <td>0.260000</td>\n",
              "      <td>2.200000</td>\n",
              "      <td>0.079000</td>\n",
              "      <td>14.000000</td>\n",
              "      <td>38.000000</td>\n",
              "      <td>0.996750</td>\n",
              "      <td>3.310000</td>\n",
              "      <td>0.620000</td>\n",
              "      <td>10.200000</td>\n",
              "      <td>6.000000</td>\n",
              "    </tr>\n",
              "    <tr>\n",
              "      <th>75%</th>\n",
              "      <td>9.200000</td>\n",
              "      <td>0.640000</td>\n",
              "      <td>0.420000</td>\n",
              "      <td>2.600000</td>\n",
              "      <td>0.090000</td>\n",
              "      <td>21.000000</td>\n",
              "      <td>62.000000</td>\n",
              "      <td>0.997835</td>\n",
              "      <td>3.400000</td>\n",
              "      <td>0.730000</td>\n",
              "      <td>11.100000</td>\n",
              "      <td>6.000000</td>\n",
              "    </tr>\n",
              "    <tr>\n",
              "      <th>max</th>\n",
              "      <td>15.900000</td>\n",
              "      <td>1.580000</td>\n",
              "      <td>1.000000</td>\n",
              "      <td>15.500000</td>\n",
              "      <td>0.611000</td>\n",
              "      <td>72.000000</td>\n",
              "      <td>289.000000</td>\n",
              "      <td>1.003690</td>\n",
              "      <td>4.010000</td>\n",
              "      <td>2.000000</td>\n",
              "      <td>14.900000</td>\n",
              "      <td>8.000000</td>\n",
              "    </tr>\n",
              "  </tbody>\n",
              "</table>\n",
              "</div>"
            ],
            "text/plain": [
              "       fixed acidity  volatile acidity  ...      alcohol      quality\n",
              "count    1599.000000       1599.000000  ...  1599.000000  1599.000000\n",
              "mean        8.319637          0.527821  ...    10.422983     5.636023\n",
              "std         1.741096          0.179060  ...     1.065668     0.807569\n",
              "min         4.600000          0.120000  ...     8.400000     3.000000\n",
              "25%         7.100000          0.390000  ...     9.500000     5.000000\n",
              "50%         7.900000          0.520000  ...    10.200000     6.000000\n",
              "75%         9.200000          0.640000  ...    11.100000     6.000000\n",
              "max        15.900000          1.580000  ...    14.900000     8.000000\n",
              "\n",
              "[8 rows x 12 columns]"
            ]
          },
          "metadata": {},
          "execution_count": 5
        }
      ]
    },
    {
      "cell_type": "markdown",
      "metadata": {
        "id": "EkgG-b_KlLue"
      },
      "source": [
        "Otra opción es ver en una gráfica las características para poder observar como son. En este caso, usaremos histogramas y gráficas de densidad para ver la frecuencia de los datos de cada característica."
      ]
    },
    {
      "cell_type": "code",
      "metadata": {
        "id": "HrjpNQmQd4Yj",
        "colab": {
          "base_uri": "https://localhost:8080/",
          "height": 534
        },
        "outputId": "b281e064-9bd2-459e-ad66-1762743c9dff"
      },
      "source": [
        "# Histograms\n",
        "df.hist()\n",
        "plt.show()\n",
        "\n",
        "# Density\n",
        "df.plot(kind='density', subplots=True, layout=(4,3), sharex=False)\n",
        "plt.show()"
      ],
      "execution_count": 6,
      "outputs": [
        {
          "output_type": "display_data",
          "data": {
            "image/png": "[encoded data removed]",
            "text/plain": [
              "<Figure size 432x288 with 12 Axes>"
            ]
          },
          "metadata": {
            "needs_background": "light"
          }
        },
        {
          "output_type": "display_data",
          "data": {
            "image/png": "[encoded data removed]",
            "text/plain": [
              "<Figure size 432x288 with 12 Axes>"
            ]
          },
          "metadata": {
            "needs_background": "light"
          }
        }
      ]
    },
    {
      "cell_type": "markdown",
      "metadata": {
        "id": "DnbthMRJleCH"
      },
      "source": [
        "Las conclusiones que podemos sacar es que en la mayoría de las características los datos están acumulados en los valores más pequeños, sin embargo características como el *alcohol* o el *pH* tienen más forma de campana.\n",
        "\n",
        "Esto nos ayuda a observar como son las características dentro de mi conjunto de datos. En este caso sobretodo, nos vamos a fijar en que las *features* no pertenecen a la misma escala y en la variable objetivo\n",
        "\n"
      ]
    },
    {
      "cell_type": "markdown",
      "metadata": {
        "id": "4vvpUJTeisTs"
      },
      "source": [
        "PREGUNTA: ¿qué conclusión obtienes para la variable objetivo? \n",
        "Una ayuda puede ser agrupar los valores y ver cuantos hay de cada clase de forma numérica. Muestra el valor de instancias para cada clase."
      ]
    },
    {
      "cell_type": "code",
      "metadata": {
        "colab": {
          "base_uri": "https://localhost:8080/"
        },
        "id": "RPt-KEOqVvsw",
        "outputId": "011d3daf-9987-4e69-9900-907dff422012"
      },
      "source": [
        "df.groupby(\"quality\")[\"quality\"].count()"
      ],
      "execution_count": 7,
      "outputs": [
        {
          "output_type": "execute_result",
          "data": {
            "text/plain": [
              "quality\n",
              "3     10\n",
              "4     53\n",
              "5    681\n",
              "6    638\n",
              "7    199\n",
              "8     18\n",
              "Name: quality, dtype: int64"
            ]
          },
          "metadata": {},
          "execution_count": 7
        }
      ]
    },
    {
      "cell_type": "markdown",
      "metadata": {
        "id": "xnGSKN6fXuPu"
      },
      "source": [
        "**Hay más muestras de las calidades 5 y 6 que para el resto. Las muestras están desbalanceadas.**"
      ]
    },
    {
      "cell_type": "code",
      "metadata": {
        "id": "xoW4hgRMXHuP"
      },
      "source": [
        ""
      ],
      "execution_count": 7,
      "outputs": []
    },
    {
      "cell_type": "markdown",
      "metadata": {
        "id": "0F6hGvX4eK19"
      },
      "source": [
        "De hecho, vamos a abordar el problema como un problema de clasificación binario, de esta manera salvamos la desigualdad entre las clases. Para ello, vamos a dividir las instancias en \"good\" o \"bad\" en función de la calidad del vino, considerando que los vinos que estén entre (5,8] serán \"good\" y los de calidad menor que 5, serán \"bad\"."
      ]
    },
    {
      "cell_type": "code",
      "metadata": {
        "id": "ZroYk3xNvaij",
        "colab": {
          "base_uri": "https://localhost:8080/",
          "height": 389
        },
        "outputId": "cfcdcafb-3bd3-415a-8655-51c8d8641924"
      },
      "source": [
        "from sklearn.preprocessing import LabelEncoder\n",
        "# Dividir las instancias del vino como 'good' y 'bad' a partir de la característica \"quality\"\n",
        "bins = (2, 5, 8) #bins = (2, 6, 8)\n",
        "group_names = ['bad', 'good']\n",
        "df['quality'] = pd.cut(df['quality'], bins = bins, labels = group_names)\n",
        "# Asignamos una etiqueta a \"quality\"\n",
        "label_quality = LabelEncoder()\n",
        "# Bad tomará el valor 0 y good será el valor 1\n",
        "df['quality'] = label_quality.fit_transform(df['quality'])\n",
        "print(df['quality'].value_counts())\n",
        "sb.countplot(df['quality'])\n",
        "plt.show()"
      ],
      "execution_count": 8,
      "outputs": [
        {
          "output_type": "stream",
          "name": "stdout",
          "text": [
            "1    855\n",
            "0    744\n",
            "Name: quality, dtype: int64\n"
          ]
        },
        {
          "output_type": "stream",
          "name": "stderr",
          "text": [
            "/usr/local/lib/python3.7/dist-packages/seaborn/_decorators.py:43: FutureWarning: Pass the following variable as a keyword arg: x. From version 0.12, the only valid positional argument will be `data`, and passing other arguments without an explicit keyword will result in an error or misinterpretation.\n",
            "  FutureWarning\n"
          ]
        },
        {
          "output_type": "display_data",
          "data": {
            "image/png": "[encoded data removed]",
            "text/plain": [
              "<Figure size 432x288 with 1 Axes>"
            ]
          },
          "metadata": {
            "needs_background": "light"
          }
        }
      ]
    },
    {
      "cell_type": "markdown",
      "metadata": {
        "id": "QvCL2arX5xuC"
      },
      "source": [
        "PREGUNTA: Se puede haber corregido el problema que veíamos antes en la variable objetivo ¿se ha arreglado?\n",
        "¿Qué crees que hubiera pasado si hubiéramos considerado como buenos los vinos de calidad mayor que 6?"
      ]
    },
    {
      "cell_type": "markdown",
      "metadata": {
        "id": "PYTxJKKGX1pv"
      },
      "source": [
        "**Se ha arreglado hasta cierto punto, pero sigue habiendo más muestras con una calidad \"buena\" que \"mala\". Si hubieramos escogido la barrera en la calidad 6 hubieramos tenido una cantidad de muestras \"malas\" muy superior a las \"buenas\" y estaría desbalanceado.**"
      ]
    },
    {
      "cell_type": "code",
      "metadata": {
        "id": "DG7OoEusXlKA"
      },
      "source": [
        ""
      ],
      "execution_count": null,
      "outputs": []
    },
    {
      "cell_type": "markdown",
      "metadata": {
        "id": "bhti4fpf6GjB"
      },
      "source": [
        "Vamos a continuar con el ejemplo y con el conjunto de datos tal y como está aunque no sea lo mejor ni lo más completo. \n"
      ]
    },
    {
      "cell_type": "markdown",
      "metadata": {
        "id": "3FJQO3Gim9Wi"
      },
      "source": [
        "Cargamos las librerías que vamos a necesitar para, primero separar nuestros datos en dos grupos (training y testing) y escalar todas las características.\n",
        "\n"
      ]
    },
    {
      "cell_type": "code",
      "metadata": {
        "id": "TBKeb2b5eZQ7"
      },
      "source": [
        "from sklearn.model_selection import train_test_split\n",
        "from sklearn.preprocessing import StandardScaler"
      ],
      "execution_count": 9,
      "outputs": []
    },
    {
      "cell_type": "markdown",
      "metadata": {
        "id": "ms7Ya6mY2w3X"
      },
      "source": [
        "En la librería *sklearn.preprocessing* hay distintos métodos para escalar los datos, entre ellos:\n",
        "\n",
        "\n",
        "*   teniendo en cuenta el mínimo y el máximo (*MinMaxScaler*)\n",
        "*   estandarizando, obteniendo un conjunto de datos de media 0 y desviación estándar 1 (*StandardScaler*)\n",
        "\n",
        "Para este ejemplo vamos a usar *StandardScaler*.\n"
      ]
    },
    {
      "cell_type": "markdown",
      "metadata": {
        "id": "HYUJPZIvoWIR"
      },
      "source": [
        "¡OJO! Antes de escalar los datos hay que separarlos.\n",
        "\n",
        "Si no los separamos antes de escalar estaríamos usando en cierto modo los datos de entrenamiento para testeo y eso **no** puede ser.\n",
        "\n"
      ]
    },
    {
      "cell_type": "markdown",
      "metadata": {
        "id": "akau_9DP-viR"
      },
      "source": [
        "Antes de separar el dataset en un conjunto para entrenar y otro para testear, tenemos que separar el conjunto de datos original de tal manera que tengamos los descriptores por un lado (X) y el valor objetivo (o clase) en otro (y)."
      ]
    },
    {
      "cell_type": "code",
      "metadata": {
        "id": "InLrvW-4eROM"
      },
      "source": [
        "#creamos una variable X que tendrá las características de nuestros datos menos la variable objetivo\n",
        "X = df.drop('quality', axis=1)\n",
        "#creamos una variable y que tendrá sólo la variable objetivo\n",
        "y = df['quality']"
      ],
      "execution_count": 10,
      "outputs": []
    },
    {
      "cell_type": "markdown",
      "metadata": {
        "id": "l-dR7pgu_CqQ"
      },
      "source": [
        "Comprobamos las dimensiones y una descripción de lo que contienen X e y:"
      ]
    },
    {
      "cell_type": "code",
      "metadata": {
        "id": "jgNlztFG_DXB",
        "colab": {
          "base_uri": "https://localhost:8080/"
        },
        "outputId": "1a56dc36-ed6b-4ebc-9cc0-400479dbda72"
      },
      "source": [
        "# Dimensión del conjunto X\n",
        "X.shape"
      ],
      "execution_count": 11,
      "outputs": [
        {
          "output_type": "execute_result",
          "data": {
            "text/plain": [
              "(1599, 11)"
            ]
          },
          "metadata": {},
          "execution_count": 11
        }
      ]
    },
    {
      "cell_type": "code",
      "metadata": {
        "id": "eBUhcRtP_FaX",
        "colab": {
          "base_uri": "https://localhost:8080/"
        },
        "outputId": "e30585c6-8a69-4cb9-f3ff-4d2864f9ed0e"
      },
      "source": [
        "# Información sobre las columnas y el tipo del conjunto X\n",
        "X.info()"
      ],
      "execution_count": 12,
      "outputs": [
        {
          "output_type": "stream",
          "name": "stdout",
          "text": [
            "<class 'pandas.core.frame.DataFrame'>\n",
            "RangeIndex: 1599 entries, 0 to 1598\n",
            "Data columns (total 11 columns):\n",
            " #   Column                Non-Null Count  Dtype  \n",
            "---  ------                --------------  -----  \n",
            " 0   fixed acidity         1599 non-null   float64\n",
            " 1   volatile acidity      1599 non-null   float64\n",
            " 2   citric acid           1599 non-null   float64\n",
            " 3   residual sugar        1599 non-null   float64\n",
            " 4   chlorides             1599 non-null   float64\n",
            " 5   free sulfur dioxide   1599 non-null   float64\n",
            " 6   total sulfur dioxide  1599 non-null   float64\n",
            " 7   density               1599 non-null   float64\n",
            " 8   pH                    1599 non-null   float64\n",
            " 9   sulphates             1599 non-null   float64\n",
            " 10  alcohol               1599 non-null   float64\n",
            "dtypes: float64(11)\n",
            "memory usage: 137.5 KB\n"
          ]
        }
      ]
    },
    {
      "cell_type": "code",
      "metadata": {
        "id": "oZzKPqdN_Ib3",
        "colab": {
          "base_uri": "https://localhost:8080/"
        },
        "outputId": "de2a13cb-c1a4-488e-a105-be00f2300b65"
      },
      "source": [
        "# Dimensión del conjunto X\n",
        "y.shape"
      ],
      "execution_count": 13,
      "outputs": [
        {
          "output_type": "execute_result",
          "data": {
            "text/plain": [
              "(1599,)"
            ]
          },
          "metadata": {},
          "execution_count": 13
        }
      ]
    },
    {
      "cell_type": "code",
      "metadata": {
        "id": "yvJKFIfl_J0H",
        "colab": {
          "base_uri": "https://localhost:8080/"
        },
        "outputId": "8debddfd-ff0d-4014-bb0a-b924ce5e7b5f"
      },
      "source": [
        "y.dtypes"
      ],
      "execution_count": 14,
      "outputs": [
        {
          "output_type": "execute_result",
          "data": {
            "text/plain": [
              "dtype('int64')"
            ]
          },
          "metadata": {},
          "execution_count": 14
        }
      ]
    },
    {
      "cell_type": "markdown",
      "metadata": {
        "id": "apY5-9nN-3Bo"
      },
      "source": [
        "Una vez tenemos separado por un lado el conjunto de descriptores y por otro lado la variable objetivo, vamos a crear los conjuntos de entrenamiento y testeo.\n",
        "\n",
        "Para ello usamos la instrucción train_test_split de la librería Scikit-learn, usamos train_size para definir el porcentaje de instancias que hay en el conjunto de entrenamiento. Tienes más información sobre esta instrucción [aquí](https://scikit-learn.org/stable/modules/generated/sklearn.model_selection.train_test_split.html)."
      ]
    },
    {
      "cell_type": "code",
      "metadata": {
        "id": "0Vr-wF3n-3eQ"
      },
      "source": [
        "#creamos los conjuntos de entrenamiento y testeo (80-20%)\n",
        "X_train, X_test, y_train, y_test = train_test_split(X,y,\n",
        "                                        train_size   = 0.8, #se puede usar determinando el tamaño del conjunto de test \"test_size\"\n",
        "                                        random_state = 50,\n",
        "                                        shuffle      = True\n",
        "                                    )"
      ],
      "execution_count": 15,
      "outputs": []
    },
    {
      "cell_type": "markdown",
      "metadata": {
        "id": "Z9kCwjh8onOt"
      },
      "source": [
        "Para hacer cualquier cambio de escala o normalización sobre los datos, debemos, por un lado escalar el conjunto de entrenamiento, y utilizar esa escala usada para el conjunto de test o los siguientes conjuntos que obtengamos."
      ]
    },
    {
      "cell_type": "code",
      "metadata": {
        "id": "MZEY3mXEAF0u"
      },
      "source": [
        "scaler = StandardScaler()\n",
        "X_train = scaler.fit_transform(X_train)\n",
        "X_test = scaler.transform(X_test)"
      ],
      "execution_count": 16,
      "outputs": []
    },
    {
      "cell_type": "markdown",
      "metadata": {
        "id": "4BpGQAylAWsV"
      },
      "source": [
        "Comprobamos ahora las dimensiones de los conjuntos que hemos creado"
      ]
    },
    {
      "cell_type": "code",
      "metadata": {
        "id": "MiZPL_A_AYAF",
        "colab": {
          "base_uri": "https://localhost:8080/"
        },
        "outputId": "cbe97c5b-3750-4b11-b866-7b9e9fb4c82e"
      },
      "source": [
        "print(\"Xtrain \", X_train.shape)\n",
        "print(\"ytrain \",y_train.shape)\n",
        "print(\"Xtest \",X_test.shape)\n",
        "print(\"ytest \",y_test.shape)"
      ],
      "execution_count": 17,
      "outputs": [
        {
          "output_type": "stream",
          "name": "stdout",
          "text": [
            "Xtrain  (1279, 11)\n",
            "ytrain  (1279,)\n",
            "Xtest  (320, 11)\n",
            "ytest  (320,)\n"
          ]
        }
      ]
    },
    {
      "cell_type": "markdown",
      "metadata": {
        "id": "EA4mcVyyCOdr"
      },
      "source": [
        "Es importante verificar que la distribución de la variable respuesta es similar en el conjunto de entrenamiento y en el de test."
      ]
    },
    {
      "cell_type": "code",
      "metadata": {
        "id": "5z9B3YXVBhX0",
        "colab": {
          "base_uri": "https://localhost:8080/"
        },
        "outputId": "eab2bcb3-ca57-4ca0-98a6-78169925535b"
      },
      "source": [
        "y_train.value_counts()"
      ],
      "execution_count": 18,
      "outputs": [
        {
          "output_type": "execute_result",
          "data": {
            "text/plain": [
              "1    713\n",
              "0    566\n",
              "Name: quality, dtype: int64"
            ]
          },
          "metadata": {},
          "execution_count": 18
        }
      ]
    },
    {
      "cell_type": "code",
      "metadata": {
        "id": "cdYFJZ8tB6OA",
        "colab": {
          "base_uri": "https://localhost:8080/"
        },
        "outputId": "21649377-cc88-41fb-b309-6382821bd2e0"
      },
      "source": [
        "y_test.value_counts()"
      ],
      "execution_count": 19,
      "outputs": [
        {
          "output_type": "execute_result",
          "data": {
            "text/plain": [
              "0    178\n",
              "1    142\n",
              "Name: quality, dtype: int64"
            ]
          },
          "metadata": {},
          "execution_count": 19
        }
      ]
    },
    {
      "cell_type": "markdown",
      "metadata": {
        "id": "zbT3hm0dC2Vq"
      },
      "source": [
        "En este caso. el porcentaje de clases no sale muy dispar como se puede comprobar. \n",
        "\n",
        "PREGUNTA: Prueba a poner en el atributo *random_state* del método *train_test_split* el valor 1234. ¿Se conserva la proporción de clases?"
      ]
    },
    {
      "cell_type": "code",
      "metadata": {
        "id": "TitZx_KyglGN"
      },
      "source": [
        "#creamos los conjuntos de entrenamiento y testeo (80-20%)\n",
        "X_train, X_test, y_train, y_test = train_test_split(X,y,\n",
        "                                        train_size   = 0.8, #se puede usar determinando el tamaño del conjunto de test \"test_size\"\n",
        "                                        random_state = 1234,\n",
        "                                        shuffle      = True\n",
        "                                    )"
      ],
      "execution_count": 20,
      "outputs": []
    },
    {
      "cell_type": "code",
      "metadata": {
        "id": "ZXIrZHPmg9vq"
      },
      "source": [
        "scaler = StandardScaler()\n",
        "X_train = scaler.fit_transform(X_train)\n",
        "X_test = scaler.transform(X_test)"
      ],
      "execution_count": 21,
      "outputs": []
    },
    {
      "cell_type": "code",
      "metadata": {
        "colab": {
          "base_uri": "https://localhost:8080/"
        },
        "id": "lxLlt5hYg9vq",
        "outputId": "2d0b7d65-4e17-4bac-ba68-0ed4e39a090f"
      },
      "source": [
        "print(\"Xtrain \", X_train.shape)\n",
        "print(\"ytrain \",y_train.shape)\n",
        "print(\"Xtest \",X_test.shape)\n",
        "print(\"ytest \",y_test.shape)"
      ],
      "execution_count": 22,
      "outputs": [
        {
          "output_type": "stream",
          "name": "stdout",
          "text": [
            "Xtrain  (1279, 11)\n",
            "ytrain  (1279,)\n",
            "Xtest  (320, 11)\n",
            "ytest  (320,)\n"
          ]
        }
      ]
    },
    {
      "cell_type": "code",
      "metadata": {
        "colab": {
          "base_uri": "https://localhost:8080/"
        },
        "id": "PRjTTCwug9vr",
        "outputId": "e8a3b873-d7cd-4955-dd1c-c7eeec736c73"
      },
      "source": [
        "y_train.value_counts()"
      ],
      "execution_count": 23,
      "outputs": [
        {
          "output_type": "execute_result",
          "data": {
            "text/plain": [
              "1    683\n",
              "0    596\n",
              "Name: quality, dtype: int64"
            ]
          },
          "metadata": {},
          "execution_count": 23
        }
      ]
    },
    {
      "cell_type": "code",
      "metadata": {
        "colab": {
          "base_uri": "https://localhost:8080/"
        },
        "id": "MqEmL03Wg9vr",
        "outputId": "30dd7b21-61f8-453c-8cc2-cc2419c8c745"
      },
      "source": [
        "y_test.value_counts()"
      ],
      "execution_count": 24,
      "outputs": [
        {
          "output_type": "execute_result",
          "data": {
            "text/plain": [
              "1    172\n",
              "0    148\n",
              "Name: quality, dtype: int64"
            ]
          },
          "metadata": {},
          "execution_count": 24
        }
      ]
    },
    {
      "cell_type": "markdown",
      "metadata": {
        "id": "9I3JVUIchaZ4"
      },
      "source": [
        "**Los valores cambian ligeramente, se mantiene la proporción de clases**"
      ]
    },
    {
      "cell_type": "markdown",
      "metadata": {
        "id": "oibH3cJAFCxW"
      },
      "source": [
        "Por defecto, el método *train_test_split* si no se le especifica lo contrario va a tratar de separar estratificando por clases."
      ]
    },
    {
      "cell_type": "code",
      "source": [
        ""
      ],
      "metadata": {
        "id": "5KWfbkKgQPw2"
      },
      "execution_count": null,
      "outputs": []
    },
    {
      "cell_type": "markdown",
      "metadata": {
        "id": "soiArlC5DBHp"
      },
      "source": [
        "Antes de continuar con la evaluación, y para poder usar un modelo el cuál conocemos para ver los distintos resultados vamos ver como usar el modelo **k-nearest neighbors**."
      ]
    },
    {
      "cell_type": "markdown",
      "metadata": {
        "id": "cBCJ1Vcocagh"
      },
      "source": [
        "## kNN - k-Nearest Neighbors "
      ]
    },
    {
      "cell_type": "markdown",
      "metadata": {
        "id": "0nKtazoTmdPz"
      },
      "source": [
        "Como ya se vió brevemente en el Tema 1, en la Práctica 0, vamos a usar el algoritmo kNN (k-Nearest Neighbors), aunque hablaremos de él otra vez en el Tema 4 puedes encontrar más información [aquí](https://es.wikipedia.org/wiki/K_vecinos_m%C3%A1s_pr%C3%B3ximos)."
      ]
    },
    {
      "cell_type": "markdown",
      "metadata": {
        "id": "3zRzfoO5pXox"
      },
      "source": [
        "Partimos de los datos tal y como los tenemos en este punto.\n",
        "Tenemos los conjuntos de entrenamiento y testeo, así que podemos obtener el modelo. \n",
        "Para ello cargamos las librerías necesarias, en las que se incluye el modelo y las métricas con las que se va a evaluar."
      ]
    },
    {
      "cell_type": "code",
      "metadata": {
        "id": "IwW2mYj8m5vK"
      },
      "source": [
        "# librería del modelo\n",
        "from sklearn.neighbors import KNeighborsClassifier\n",
        "# librerías para la evaluación de modelos\n",
        "from sklearn.metrics import classification_report\n",
        "from sklearn.metrics import confusion_matrix"
      ],
      "execution_count": 25,
      "outputs": []
    },
    {
      "cell_type": "markdown",
      "metadata": {
        "id": "zWdfCGlFput1"
      },
      "source": [
        "Por defecto, el número de vecinos que usa *KNeighborsClassifier* es 5, tienes la ayuda del método en este [enlace](https://scikit-learn.org/stable/modules/generated/sklearn.neighbors.KNeighborsClassifier.html).\n",
        "\n",
        "Para generar un modelo necesitamos hacer lo siguiente y esta estructura es igual para cualquier modelo que generemos usando la librería *sklearn*:"
      ]
    },
    {
      "cell_type": "code",
      "metadata": {
        "id": "eUOE8I-8qlIz",
        "colab": {
          "base_uri": "https://localhost:8080/"
        },
        "outputId": "d9f51527-3c67-428e-efe0-16aa96855ebd"
      },
      "source": [
        "knn = KNeighborsClassifier() # determinamos el modelo que vamos a usar y cual es su configuración, en este caso usaremos los valores por defecto\n",
        "knn.fit(X_train, y_train)"
      ],
      "execution_count": 26,
      "outputs": [
        {
          "output_type": "execute_result",
          "data": {
            "text/plain": [
              "KNeighborsClassifier()"
            ]
          },
          "metadata": {},
          "execution_count": 26
        }
      ]
    },
    {
      "cell_type": "markdown",
      "metadata": {
        "id": "XA3grqTtrQJj"
      },
      "source": [
        "*KNeighborsClassifier* tiene un método que es *score* que devuelve la *accuracy*. \n",
        "\n",
        "De esta manera lo que hacemos usando el método *score* sobre el modelo, es que primero se prediga sobre el conjunto de datos X y luego compare el resultado con la variable objetivo (y).\n",
        "\n",
        "En este caso la calculamos para cada uno de los conjuntos de train y de test."
      ]
    },
    {
      "cell_type": "code",
      "metadata": {
        "id": "64jutedCq7TT",
        "colab": {
          "base_uri": "https://localhost:8080/"
        },
        "outputId": "b737bc59-181b-4546-f9be-a69ba457a640"
      },
      "source": [
        "print('Accuracy of K-NN classifier on training set: {:.2f}'\n",
        "     .format(knn.score(X_train, y_train)))\n",
        "print('Accuracy of K-NN classifier on test set: {:.2f}'\n",
        "     .format(knn.score(X_test, y_test)))"
      ],
      "execution_count": 27,
      "outputs": [
        {
          "output_type": "stream",
          "name": "stdout",
          "text": [
            "Accuracy of K-NN classifier on training set: 0.82\n",
            "Accuracy of K-NN classifier on test set: 0.74\n"
          ]
        }
      ]
    },
    {
      "cell_type": "markdown",
      "metadata": {
        "id": "fPw3LSiFBd6s"
      },
      "source": [
        "PREGUNTA: ¿por qué crees que es más alto el valor obtenido con el conjunto de entrenamiento que con el de test?"
      ]
    },
    {
      "cell_type": "markdown",
      "metadata": {
        "id": "haajfcvIiBaj"
      },
      "source": [
        "**Porque el modelo de alguna forma ha sido entrenado con esos datos**"
      ]
    },
    {
      "cell_type": "markdown",
      "metadata": {
        "id": "Z87Uja036leG"
      },
      "source": [
        "Obtenemos la matriz de confusión y las métricas para cada una de las clases de la variable objetivo. Para ello en lugar de hacer la predicción y la evaluación todo junto en la misma métrica, lo vamos a hacer por separado.\n",
        "\n",
        "Primero predecimos sobre un conjunto, en este caso el conjunto de test:"
      ]
    },
    {
      "cell_type": "code",
      "metadata": {
        "id": "Dd30JQyEerRT"
      },
      "source": [
        "# Obtenemos la predicción sobre el conjunto de test\n",
        "pred = knn.predict(X_test)"
      ],
      "execution_count": 28,
      "outputs": []
    },
    {
      "cell_type": "markdown",
      "metadata": {
        "id": "s9GZ2GeGBxRL"
      },
      "source": [
        "Y sobre la predicción hecha, se calcula la matriz de confusión:"
      ]
    },
    {
      "cell_type": "code",
      "metadata": {
        "id": "8s0fdR65F0r0",
        "colab": {
          "base_uri": "https://localhost:8080/"
        },
        "outputId": "79b6e25f-7f09-4656-dbe9-f4bec336258a"
      },
      "source": [
        "# Muestra la matriz de confusión\n",
        "print(confusion_matrix(y_test, pred))"
      ],
      "execution_count": 29,
      "outputs": [
        {
          "output_type": "stream",
          "name": "stdout",
          "text": [
            "[[101  47]\n",
            " [ 35 137]]\n"
          ]
        }
      ]
    },
    {
      "cell_type": "markdown",
      "metadata": {
        "id": "zmV9QPPFHZ4i"
      },
      "source": [
        "Podemos usar el método *plot_confusion_matrix* que ofrece *sklearn.metrics* para tener una visualización más completa de la matriz de confusión ([+ info](https://scikit-learn.org/stable/modules/generated/sklearn.metrics.plot_confusion_matrix.html))"
      ]
    },
    {
      "cell_type": "code",
      "metadata": {
        "id": "gNwQHbvvGUJr",
        "colab": {
          "base_uri": "https://localhost:8080/",
          "height": 388
        },
        "outputId": "7d2ac8b7-0fa2-4f45-f683-dd859bdd5edc"
      },
      "source": [
        "from sklearn.metrics import plot_confusion_matrix\n",
        "\n",
        "title=\"Confusion Matrix\"\n",
        "disp = plot_confusion_matrix(knn, X_test, y_test,cmap=plt.cm.Blues)\n",
        "disp.ax_.set_title(title)\n",
        "\n",
        "print(disp.confusion_matrix)"
      ],
      "execution_count": 30,
      "outputs": [
        {
          "output_type": "stream",
          "name": "stderr",
          "text": [
            "/usr/local/lib/python3.7/dist-packages/sklearn/utils/deprecation.py:87: FutureWarning: Function plot_confusion_matrix is deprecated; Function `plot_confusion_matrix` is deprecated in 1.0 and will be removed in 1.2. Use one of the class methods: ConfusionMatrixDisplay.from_predictions or ConfusionMatrixDisplay.from_estimator.\n",
            "  warnings.warn(msg, category=FutureWarning)\n"
          ]
        },
        {
          "output_type": "stream",
          "name": "stdout",
          "text": [
            "[[101  47]\n",
            " [ 35 137]]\n"
          ]
        },
        {
          "output_type": "display_data",
          "data": {
            "image/png": "[encoded data removed]",
            "text/plain": [
              "<Figure size 432x288 with 2 Axes>"
            ]
          },
          "metadata": {
            "needs_background": "light"
          }
        }
      ]
    },
    {
      "cell_type": "markdown",
      "metadata": {
        "id": "KQt56EzbCCn0"
      },
      "source": [
        "También se puede usar la predicción del conjunto para calcular cualquier otra métrica que necesitemos."
      ]
    },
    {
      "cell_type": "code",
      "metadata": {
        "id": "zp_3yQ68F217",
        "colab": {
          "base_uri": "https://localhost:8080/"
        },
        "outputId": "27ba6b4c-c0dd-4e03-b3c4-fe983552f43e"
      },
      "source": [
        "# Muestra un resumen de las métricas de evaluación del modelo\n",
        "print(classification_report(y_test, pred))"
      ],
      "execution_count": 31,
      "outputs": [
        {
          "output_type": "stream",
          "name": "stdout",
          "text": [
            "              precision    recall  f1-score   support\n",
            "\n",
            "           0       0.74      0.68      0.71       148\n",
            "           1       0.74      0.80      0.77       172\n",
            "\n",
            "    accuracy                           0.74       320\n",
            "   macro avg       0.74      0.74      0.74       320\n",
            "weighted avg       0.74      0.74      0.74       320\n",
            "\n"
          ]
        }
      ]
    },
    {
      "cell_type": "markdown",
      "metadata": {
        "id": "d5cfnYmVq6cT"
      },
      "source": [
        "EJERCICIO: crea un modelo considerando 7 vecinos y calcula sus métricas. ¿Ha mejorado en cuanto a *accuracy*? ¿y su *recall* y *precision*?"
      ]
    },
    {
      "cell_type": "code",
      "metadata": {
        "colab": {
          "base_uri": "https://localhost:8080/"
        },
        "id": "l_A9mKIGi0Uo",
        "outputId": "1f90cc0c-db18-4a9e-be6e-bb64fe236510"
      },
      "source": [
        "knn = KNeighborsClassifier(n_neighbors=7) # determinamos el modelo que vamos a usar y cual es su configuración, en este caso usaremos los valores por defecto\n",
        "knn.fit(X_train, y_train)"
      ],
      "execution_count": 32,
      "outputs": [
        {
          "output_type": "execute_result",
          "data": {
            "text/plain": [
              "KNeighborsClassifier(n_neighbors=7)"
            ]
          },
          "metadata": {},
          "execution_count": 32
        }
      ]
    },
    {
      "cell_type": "code",
      "metadata": {
        "colab": {
          "base_uri": "https://localhost:8080/"
        },
        "id": "T0Jx0KRTi0Uo",
        "outputId": "0af2f7ff-96ef-4897-8b73-895f2695e7c9"
      },
      "source": [
        "print('Accuracy of K-NN classifier on training set: {:.2f}'\n",
        "     .format(knn.score(X_train, y_train)))\n",
        "print('Accuracy of K-NN classifier on test set: {:.2f}'\n",
        "     .format(knn.score(X_test, y_test)))"
      ],
      "execution_count": 33,
      "outputs": [
        {
          "output_type": "stream",
          "name": "stdout",
          "text": [
            "Accuracy of K-NN classifier on training set: 0.79\n",
            "Accuracy of K-NN classifier on test set: 0.75\n"
          ]
        }
      ]
    },
    {
      "cell_type": "code",
      "metadata": {
        "id": "tb6DF0S-i0Uo"
      },
      "source": [
        "# Obtenemos la predicción sobre el conjunto de test\n",
        "pred = knn.predict(X_test)"
      ],
      "execution_count": 34,
      "outputs": []
    },
    {
      "cell_type": "code",
      "metadata": {
        "colab": {
          "base_uri": "https://localhost:8080/"
        },
        "id": "juHKY-Kwi0Up",
        "outputId": "ebfca987-8521-4d6f-dbff-6569381e3f67"
      },
      "source": [
        "# Muestra la matriz de confusión\n",
        "print(confusion_matrix(y_test, pred))"
      ],
      "execution_count": 35,
      "outputs": [
        {
          "output_type": "stream",
          "name": "stdout",
          "text": [
            "[[ 99  49]\n",
            " [ 31 141]]\n"
          ]
        }
      ]
    },
    {
      "cell_type": "code",
      "metadata": {
        "colab": {
          "base_uri": "https://localhost:8080/",
          "height": 388
        },
        "id": "kYeppqFli0Up",
        "outputId": "1a3c47eb-3a1e-4f52-876d-360215847968"
      },
      "source": [
        "from sklearn.metrics import plot_confusion_matrix\n",
        "\n",
        "title=\"Confusion Matrix\"\n",
        "disp = plot_confusion_matrix(knn, X_test, y_test,cmap=plt.cm.Blues)\n",
        "disp.ax_.set_title(title)\n",
        "\n",
        "print(disp.confusion_matrix)"
      ],
      "execution_count": 36,
      "outputs": [
        {
          "output_type": "stream",
          "name": "stderr",
          "text": [
            "/usr/local/lib/python3.7/dist-packages/sklearn/utils/deprecation.py:87: FutureWarning: Function plot_confusion_matrix is deprecated; Function `plot_confusion_matrix` is deprecated in 1.0 and will be removed in 1.2. Use one of the class methods: ConfusionMatrixDisplay.from_predictions or ConfusionMatrixDisplay.from_estimator.\n",
            "  warnings.warn(msg, category=FutureWarning)\n"
          ]
        },
        {
          "output_type": "stream",
          "name": "stdout",
          "text": [
            "[[ 99  49]\n",
            " [ 31 141]]\n"
          ]
        },
        {
          "output_type": "display_data",
          "data": {
            "image/png": "[encoded data removed]",
            "text/plain": [
              "<Figure size 432x288 with 2 Axes>"
            ]
          },
          "metadata": {
            "needs_background": "light"
          }
        }
      ]
    },
    {
      "cell_type": "code",
      "metadata": {
        "colab": {
          "base_uri": "https://localhost:8080/"
        },
        "id": "oviO7ajZi0Up",
        "outputId": "8edbac03-2477-45e2-ac32-c9ef18cbaf16"
      },
      "source": [
        "# Muestra un resumen de las métricas de evaluación del modelo\n",
        "print(classification_report(y_test, pred))"
      ],
      "execution_count": 37,
      "outputs": [
        {
          "output_type": "stream",
          "name": "stdout",
          "text": [
            "              precision    recall  f1-score   support\n",
            "\n",
            "           0       0.76      0.67      0.71       148\n",
            "           1       0.74      0.82      0.78       172\n",
            "\n",
            "    accuracy                           0.75       320\n",
            "   macro avg       0.75      0.74      0.75       320\n",
            "weighted avg       0.75      0.75      0.75       320\n",
            "\n"
          ]
        }
      ]
    },
    {
      "cell_type": "markdown",
      "metadata": {
        "id": "BTLWJ_Xhjf-i"
      },
      "source": [
        "La accuracy para el conjunto de entrenamiento ha disminuido, sin embargo para los datos de test ha subido ligeramente. \n",
        "\n",
        " Precisión sube ligeramente para las muestras \"0\". \n",
        "\n",
        " Recall ha subido en uno y ha bajado en otro. \n",
        "\n",
        " En definitiva, son muy similares a los obtenidos anteriormente. "
      ]
    },
    {
      "cell_type": "markdown",
      "metadata": {
        "id": "QEggkFW_If8H"
      },
      "source": [
        "EJERCICIO: repite el proceso ahora para k=3 y contesta a las mismas preguntas teniendo en cuenta los dos modelos anteriores (el de k=5 y el de k=7). ¿Ha mejorado en cuanto a *accuracy*? ¿y su *recall* y *precision*? "
      ]
    },
    {
      "cell_type": "code",
      "metadata": {
        "colab": {
          "base_uri": "https://localhost:8080/"
        },
        "id": "LMT9eQOCkTjp",
        "outputId": "947216b8-0b79-4e48-861b-1a49fa397ad3"
      },
      "source": [
        "knn = KNeighborsClassifier(n_neighbors=3) # determinamos el modelo que vamos a usar y cual es su configuración, en este caso usaremos los valores por defecto\n",
        "knn.fit(X_train, y_train)"
      ],
      "execution_count": 38,
      "outputs": [
        {
          "output_type": "execute_result",
          "data": {
            "text/plain": [
              "KNeighborsClassifier(n_neighbors=3)"
            ]
          },
          "metadata": {},
          "execution_count": 38
        }
      ]
    },
    {
      "cell_type": "code",
      "metadata": {
        "colab": {
          "base_uri": "https://localhost:8080/"
        },
        "id": "J8aTratukTjq",
        "outputId": "d99d9e49-ed2c-4fad-abf7-215200fa3531"
      },
      "source": [
        "print('Accuracy of K-NN classifier on training set: {:.2f}'\n",
        "     .format(knn.score(X_train, y_train)))\n",
        "print('Accuracy of K-NN classifier on test set: {:.2f}'\n",
        "     .format(knn.score(X_test, y_test)))"
      ],
      "execution_count": 39,
      "outputs": [
        {
          "output_type": "stream",
          "name": "stdout",
          "text": [
            "Accuracy of K-NN classifier on training set: 0.87\n",
            "Accuracy of K-NN classifier on test set: 0.73\n"
          ]
        }
      ]
    },
    {
      "cell_type": "code",
      "metadata": {
        "id": "YuW-971ukTjq"
      },
      "source": [
        "# Obtenemos la predicción sobre el conjunto de test\n",
        "pred = knn.predict(X_test)"
      ],
      "execution_count": 40,
      "outputs": []
    },
    {
      "cell_type": "code",
      "metadata": {
        "colab": {
          "base_uri": "https://localhost:8080/"
        },
        "id": "EHZa506JkTjq",
        "outputId": "2d8d669d-5937-49f2-cfa7-ec9346cb9d05"
      },
      "source": [
        "# Muestra la matriz de confusión\n",
        "print(confusion_matrix(y_test, pred))"
      ],
      "execution_count": 41,
      "outputs": [
        {
          "output_type": "stream",
          "name": "stdout",
          "text": [
            "[[101  47]\n",
            " [ 40 132]]\n"
          ]
        }
      ]
    },
    {
      "cell_type": "code",
      "metadata": {
        "colab": {
          "base_uri": "https://localhost:8080/",
          "height": 388
        },
        "id": "39iUupfGkTjq",
        "outputId": "84180d2e-3302-4aea-9eb6-04ceb0a7a0d3"
      },
      "source": [
        "from sklearn.metrics import plot_confusion_matrix\n",
        "\n",
        "title=\"Confusion Matrix\"\n",
        "disp = plot_confusion_matrix(knn, X_test, y_test,cmap=plt.cm.Blues)\n",
        "disp.ax_.set_title(title)\n",
        "\n",
        "print(disp.confusion_matrix)"
      ],
      "execution_count": 42,
      "outputs": [
        {
          "output_type": "stream",
          "name": "stdout",
          "text": [
            "[[101  47]\n",
            " [ 40 132]]\n"
          ]
        },
        {
          "output_type": "stream",
          "name": "stderr",
          "text": [
            "/usr/local/lib/python3.7/dist-packages/sklearn/utils/deprecation.py:87: FutureWarning: Function plot_confusion_matrix is deprecated; Function `plot_confusion_matrix` is deprecated in 1.0 and will be removed in 1.2. Use one of the class methods: ConfusionMatrixDisplay.from_predictions or ConfusionMatrixDisplay.from_estimator.\n",
            "  warnings.warn(msg, category=FutureWarning)\n"
          ]
        },
        {
          "output_type": "display_data",
          "data": {
            "image/png": "[encoded data removed]",
            "text/plain": [
              "<Figure size 432x288 with 2 Axes>"
            ]
          },
          "metadata": {
            "needs_background": "light"
          }
        }
      ]
    },
    {
      "cell_type": "code",
      "metadata": {
        "colab": {
          "base_uri": "https://localhost:8080/"
        },
        "id": "WHOlJXuWkTjq",
        "outputId": "29d4cf70-e3d8-4888-f18a-2e47957d5130"
      },
      "source": [
        "# Muestra un resumen de las métricas de evaluación del modelo\n",
        "print(classification_report(y_test, pred))"
      ],
      "execution_count": 43,
      "outputs": [
        {
          "output_type": "stream",
          "name": "stdout",
          "text": [
            "              precision    recall  f1-score   support\n",
            "\n",
            "           0       0.72      0.68      0.70       148\n",
            "           1       0.74      0.77      0.75       172\n",
            "\n",
            "    accuracy                           0.73       320\n",
            "   macro avg       0.73      0.72      0.73       320\n",
            "weighted avg       0.73      0.73      0.73       320\n",
            "\n"
          ]
        }
      ]
    },
    {
      "cell_type": "markdown",
      "metadata": {
        "id": "Z4TfTidnkeCj"
      },
      "source": [
        "En este caso la accuracy del entrenamiento ha subido y la del test ha bajado. Solamente con accuracy podemos decir que nos interesa un mayor número de k para así conseguir un resultado mejor en el test.\n",
        "\n",
        "La precisión baja.\n",
        "\n",
        "El recall baja."
      ]
    },
    {
      "cell_type": "markdown",
      "metadata": {
        "id": "8ljJZAPbCktS"
      },
      "source": [
        "PREGUNTA: ¿Cuál de las tres configuraciones es mejor? ¿por qué? Asegúrate que estás evaluando en el conjunto de datos correcto.\n",
        "NOTA: La configuración que determines como la mejor, será la que uses el resto de la práctica."
      ]
    },
    {
      "cell_type": "markdown",
      "metadata": {
        "id": "dqz-7Jo-kclD"
      },
      "source": [
        "La mejor configuración en mi opinión es el de k igual a 7 porque se obtienen los valores más altos para precisión y recall."
      ]
    },
    {
      "cell_type": "markdown",
      "metadata": {
        "id": "llH0BU-q68WE"
      },
      "source": [
        "Una manera de saber cuál es la k que mejor modelo genera, es aplicar el modelo a un rango de k, y ver cual es el resultado que sale para cada una de esas k, y quedarnos con aquella que obtenga el mejor valor.\n"
      ]
    },
    {
      "cell_type": "markdown",
      "metadata": {
        "id": "0YUUja8i7YR8"
      },
      "source": [
        "EJERCICIO OPCIONAL: implementa un bucle que recorra de 1 a 30 los valores de k. \n",
        "Crea una gráfica que represente estos valores dónde el eje x sea los valores de k y el eje y el valor de la accuracy obtenido con ese valor.\n",
        "¿Qué valor de k elegirías para crear el modelo definitivo basándote en la *accuracy*? ¿por qué?"
      ]
    },
    {
      "cell_type": "markdown",
      "metadata": {
        "id": "5vBD5rbmBLfK"
      },
      "source": [
        "EJERCICIO OPCIONAL: Por defecto *KNeighborsClassifier* usa la distancia euclidea para calcular la distancia entre las instancias. Prueba con la distancia Manhattan, ¿vale el mismo valor de k que has seleccionado antes? ¿por qué? ¿cuál es la mejor accuracy que se obtiene?\n",
        "\n",
        "PREGUNTA OPCIONAL (si has realizado los ejercicios opcionales): después de lo visto hasta ahora completa los siguientes parámetros con la mejor opción que consideres para este problema:\n",
        "\n",
        "\n",
        "\n",
        "*   valor de k:\n",
        "*   tipo de distancia:\n",
        "\n",
        "NOTA: Si haces los ejercicios opcionales, quédate con la mejor configuración para el modelo entre todas (incluidas estas) para realizar el resto de la práctica.\n",
        "\n",
        "\n"
      ]
    },
    {
      "cell_type": "markdown",
      "metadata": {
        "id": "01D3vE6kI8P-"
      },
      "source": [
        "## Evaluación (parte II)"
      ]
    },
    {
      "cell_type": "markdown",
      "metadata": {
        "id": "McqqeCj3LZnS"
      },
      "source": [
        "Vamos a seguir con la evaluación del modelo, como podrás ver las decisiones que se van tomando influyen en los pasos siguientes y la evaluación de la métrica final puede llevar a cambiar alguna de las decisiones tomadas al principio. Por eso es importante ir tomando decisiones y llevándolas acabo de manera ordenada.\n",
        "\n",
        "\n",
        "A partir de ahora cuando creemos un modelo vamos a trabajar con los parámetros del modelo k-NN que has elegido en el apartado anterior."
      ]
    },
    {
      "cell_type": "markdown",
      "metadata": {
        "id": "TJ1AajyTMlHZ"
      },
      "source": [
        "EJERCICIO: hasta este momento la partición que hemos hecho del conjunto de training y de testing ha sido de un 80-20% respectivamente.\n",
        "\n",
        "Calcula la *accuracy* con el modelo k-NN, con la configuración escogida, para conjuntos de training y de testing, en primer lugar de 90-10% y luego de 75-25%.\n",
        "\n",
        "Teniendo en cuenta la accuracy obtenida también con el reparto 80-20%, ¿cuál es la partición que ha obtenido mejor *accuracy*?"
      ]
    },
    {
      "cell_type": "code",
      "metadata": {
        "id": "t0lm_CNtm1ry"
      },
      "source": [
        "#creamos los conjuntos de entrenamiento y testeo (90-10%)\n",
        "X_train, X_test, y_train, y_test = train_test_split(X,y,\n",
        "                                        train_size   = 0.9, #se puede usar determinando el tamaño del conjunto de test \"test_size\"\n",
        "                                        random_state = 50,\n",
        "                                        shuffle      = True\n",
        "                                    )"
      ],
      "execution_count": 44,
      "outputs": []
    },
    {
      "cell_type": "code",
      "metadata": {
        "id": "8URupWQlm1rz"
      },
      "source": [
        "scaler = StandardScaler()\n",
        "X_train = scaler.fit_transform(X_train)\n",
        "X_test = scaler.transform(X_test)"
      ],
      "execution_count": 45,
      "outputs": []
    },
    {
      "cell_type": "code",
      "metadata": {
        "colab": {
          "base_uri": "https://localhost:8080/"
        },
        "id": "C-e5heZsm1rz",
        "outputId": "78384723-ae0a-4af9-e8fb-2e90b27f45ed"
      },
      "source": [
        "print(\"Xtrain \", X_train.shape)\n",
        "print(\"ytrain \",y_train.shape)\n",
        "print(\"Xtest \",X_test.shape)\n",
        "print(\"ytest \",y_test.shape)"
      ],
      "execution_count": 46,
      "outputs": [
        {
          "output_type": "stream",
          "name": "stdout",
          "text": [
            "Xtrain  (1439, 11)\n",
            "ytrain  (1439,)\n",
            "Xtest  (160, 11)\n",
            "ytest  (160,)\n"
          ]
        }
      ]
    },
    {
      "cell_type": "code",
      "metadata": {
        "colab": {
          "base_uri": "https://localhost:8080/"
        },
        "id": "nyymfTF7m1rz",
        "outputId": "52055585-0706-485f-b43d-b4afc10a459e"
      },
      "source": [
        "y_train.value_counts()"
      ],
      "execution_count": 47,
      "outputs": [
        {
          "output_type": "execute_result",
          "data": {
            "text/plain": [
              "1    794\n",
              "0    645\n",
              "Name: quality, dtype: int64"
            ]
          },
          "metadata": {},
          "execution_count": 47
        }
      ]
    },
    {
      "cell_type": "code",
      "metadata": {
        "colab": {
          "base_uri": "https://localhost:8080/"
        },
        "id": "-ywGtd5om1rz",
        "outputId": "f9f6b4ae-a050-4959-ebc6-8636e605c4af"
      },
      "source": [
        "y_test.value_counts()"
      ],
      "execution_count": 48,
      "outputs": [
        {
          "output_type": "execute_result",
          "data": {
            "text/plain": [
              "0    99\n",
              "1    61\n",
              "Name: quality, dtype: int64"
            ]
          },
          "metadata": {},
          "execution_count": 48
        }
      ]
    },
    {
      "cell_type": "code",
      "metadata": {
        "colab": {
          "base_uri": "https://localhost:8080/"
        },
        "id": "vzqEbFt9m1r0",
        "outputId": "dd8f0161-6032-40f1-fe27-2d3488f36c70"
      },
      "source": [
        "knn = KNeighborsClassifier(n_neighbors=7) # determinamos el modelo que vamos a usar y cual es su configuración, en este caso usaremos los valores por defecto\n",
        "knn.fit(X_train, y_train)"
      ],
      "execution_count": 49,
      "outputs": [
        {
          "output_type": "execute_result",
          "data": {
            "text/plain": [
              "KNeighborsClassifier(n_neighbors=7)"
            ]
          },
          "metadata": {},
          "execution_count": 49
        }
      ]
    },
    {
      "cell_type": "code",
      "metadata": {
        "colab": {
          "base_uri": "https://localhost:8080/"
        },
        "id": "rycGANrSm1r0",
        "outputId": "0935cbec-4c8c-44dd-b700-57178f31c31d"
      },
      "source": [
        "print('Accuracy of K-NN classifier on training set: {:.2f}'\n",
        "     .format(knn.score(X_train, y_train)))\n",
        "print('Accuracy of K-NN classifier on test set: {:.2f}'\n",
        "     .format(knn.score(X_test, y_test)))"
      ],
      "execution_count": 50,
      "outputs": [
        {
          "output_type": "stream",
          "name": "stdout",
          "text": [
            "Accuracy of K-NN classifier on training set: 0.80\n",
            "Accuracy of K-NN classifier on test set: 0.70\n"
          ]
        }
      ]
    },
    {
      "cell_type": "code",
      "metadata": {
        "id": "CuUhEudLm1r0"
      },
      "source": [
        "# Obtenemos la predicción sobre el conjunto de test\n",
        "pred = knn.predict(X_test)"
      ],
      "execution_count": 51,
      "outputs": []
    },
    {
      "cell_type": "code",
      "metadata": {
        "colab": {
          "base_uri": "https://localhost:8080/"
        },
        "id": "V2fWOxgSm1r0",
        "outputId": "ee42785f-dd3c-4746-e9fd-a3860382ca64"
      },
      "source": [
        "# Muestra la matriz de confusión\n",
        "print(confusion_matrix(y_test, pred))"
      ],
      "execution_count": 52,
      "outputs": [
        {
          "output_type": "stream",
          "name": "stdout",
          "text": [
            "[[63 36]\n",
            " [12 49]]\n"
          ]
        }
      ]
    },
    {
      "cell_type": "code",
      "metadata": {
        "colab": {
          "base_uri": "https://localhost:8080/",
          "height": 388
        },
        "id": "ahdwsL5Im1r0",
        "outputId": "594191ae-f75b-4aab-c133-400be371e79d"
      },
      "source": [
        "from sklearn.metrics import plot_confusion_matrix\n",
        "\n",
        "title=\"Confusion Matrix\"\n",
        "disp = plot_confusion_matrix(knn, X_test, y_test,cmap=plt.cm.Blues)\n",
        "disp.ax_.set_title(title)\n",
        "\n",
        "print(disp.confusion_matrix)"
      ],
      "execution_count": 53,
      "outputs": [
        {
          "output_type": "stream",
          "name": "stdout",
          "text": [
            "[[63 36]\n",
            " [12 49]]\n"
          ]
        },
        {
          "output_type": "stream",
          "name": "stderr",
          "text": [
            "/usr/local/lib/python3.7/dist-packages/sklearn/utils/deprecation.py:87: FutureWarning: Function plot_confusion_matrix is deprecated; Function `plot_confusion_matrix` is deprecated in 1.0 and will be removed in 1.2. Use one of the class methods: ConfusionMatrixDisplay.from_predictions or ConfusionMatrixDisplay.from_estimator.\n",
            "  warnings.warn(msg, category=FutureWarning)\n"
          ]
        },
        {
          "output_type": "display_data",
          "data": {
            "image/png": "[encoded data removed]",
            "text/plain": [
              "<Figure size 432x288 with 2 Axes>"
            ]
          },
          "metadata": {
            "needs_background": "light"
          }
        }
      ]
    },
    {
      "cell_type": "code",
      "metadata": {
        "colab": {
          "base_uri": "https://localhost:8080/"
        },
        "id": "y2bpXWonm1r1",
        "outputId": "f70919c8-ac30-457e-a053-f9e01a0a3637"
      },
      "source": [
        "# Muestra un resumen de las métricas de evaluación del modelo\n",
        "print(classification_report(y_test, pred))"
      ],
      "execution_count": 54,
      "outputs": [
        {
          "output_type": "stream",
          "name": "stdout",
          "text": [
            "              precision    recall  f1-score   support\n",
            "\n",
            "           0       0.84      0.64      0.72        99\n",
            "           1       0.58      0.80      0.67        61\n",
            "\n",
            "    accuracy                           0.70       160\n",
            "   macro avg       0.71      0.72      0.70       160\n",
            "weighted avg       0.74      0.70      0.70       160\n",
            "\n"
          ]
        }
      ]
    },
    {
      "cell_type": "code",
      "metadata": {
        "id": "CA_A78tcnIua"
      },
      "source": [
        ""
      ],
      "execution_count": null,
      "outputs": []
    },
    {
      "cell_type": "code",
      "metadata": {
        "id": "6Ykk6LF7nNSg"
      },
      "source": [
        "#creamos los conjuntos de entrenamiento y testeo (75-25%)\n",
        "X_train, X_test, y_train, y_test = train_test_split(X,y,\n",
        "                                        train_size   = 0.75, #se puede usar determinando el tamaño del conjunto de test \"test_size\"\n",
        "                                        random_state = 50,\n",
        "                                        shuffle      = True\n",
        "                                    )"
      ],
      "execution_count": 55,
      "outputs": []
    },
    {
      "cell_type": "code",
      "metadata": {
        "id": "NmaKlNk3nNSh"
      },
      "source": [
        "scaler = StandardScaler()\n",
        "X_train = scaler.fit_transform(X_train)\n",
        "X_test = scaler.transform(X_test)"
      ],
      "execution_count": 56,
      "outputs": []
    },
    {
      "cell_type": "code",
      "metadata": {
        "colab": {
          "base_uri": "https://localhost:8080/"
        },
        "id": "o72KgTt2nNSh",
        "outputId": "7d7af5be-305c-43d1-fe36-3d5190df041d"
      },
      "source": [
        "print(\"Xtrain \", X_train.shape)\n",
        "print(\"ytrain \",y_train.shape)\n",
        "print(\"Xtest \",X_test.shape)\n",
        "print(\"ytest \",y_test.shape)"
      ],
      "execution_count": 57,
      "outputs": [
        {
          "output_type": "stream",
          "name": "stdout",
          "text": [
            "Xtrain  (1199, 11)\n",
            "ytrain  (1199,)\n",
            "Xtest  (400, 11)\n",
            "ytest  (400,)\n"
          ]
        }
      ]
    },
    {
      "cell_type": "code",
      "metadata": {
        "colab": {
          "base_uri": "https://localhost:8080/"
        },
        "id": "ovqAdxVsnNSi",
        "outputId": "cee1fddd-fff7-4971-9f8a-05a23f2f3245"
      },
      "source": [
        "y_train.value_counts()"
      ],
      "execution_count": 58,
      "outputs": [
        {
          "output_type": "execute_result",
          "data": {
            "text/plain": [
              "1    668\n",
              "0    531\n",
              "Name: quality, dtype: int64"
            ]
          },
          "metadata": {},
          "execution_count": 58
        }
      ]
    },
    {
      "cell_type": "code",
      "metadata": {
        "colab": {
          "base_uri": "https://localhost:8080/"
        },
        "id": "2PVwDHFenNSj",
        "outputId": "9b00adce-ac23-48ee-b98c-c1994702d00e"
      },
      "source": [
        "y_test.value_counts()"
      ],
      "execution_count": 59,
      "outputs": [
        {
          "output_type": "execute_result",
          "data": {
            "text/plain": [
              "0    213\n",
              "1    187\n",
              "Name: quality, dtype: int64"
            ]
          },
          "metadata": {},
          "execution_count": 59
        }
      ]
    },
    {
      "cell_type": "code",
      "metadata": {
        "colab": {
          "base_uri": "https://localhost:8080/"
        },
        "id": "FYggLNesnNSk",
        "outputId": "75c319e1-a7f2-4085-f7a4-2f0e6cd03067"
      },
      "source": [
        "knn = KNeighborsClassifier(n_neighbors=7) # determinamos el modelo que vamos a usar y cual es su configuración, en este caso usaremos los valores por defecto\n",
        "knn.fit(X_train, y_train)"
      ],
      "execution_count": 60,
      "outputs": [
        {
          "output_type": "execute_result",
          "data": {
            "text/plain": [
              "KNeighborsClassifier(n_neighbors=7)"
            ]
          },
          "metadata": {},
          "execution_count": 60
        }
      ]
    },
    {
      "cell_type": "code",
      "metadata": {
        "colab": {
          "base_uri": "https://localhost:8080/"
        },
        "id": "lk1-580TnNSk",
        "outputId": "a5994a76-9b36-43b2-fa97-5f4296a908a4"
      },
      "source": [
        "print('Accuracy of K-NN classifier on training set: {:.2f}'\n",
        "     .format(knn.score(X_train, y_train)))\n",
        "print('Accuracy of K-NN classifier on test set: {:.2f}'\n",
        "     .format(knn.score(X_test, y_test)))"
      ],
      "execution_count": 61,
      "outputs": [
        {
          "output_type": "stream",
          "name": "stdout",
          "text": [
            "Accuracy of K-NN classifier on training set: 0.80\n",
            "Accuracy of K-NN classifier on test set: 0.70\n"
          ]
        }
      ]
    },
    {
      "cell_type": "code",
      "metadata": {
        "id": "NqQmEAnwnNSl"
      },
      "source": [
        "# Obtenemos la predicción sobre el conjunto de test\n",
        "pred = knn.predict(X_test)"
      ],
      "execution_count": 62,
      "outputs": []
    },
    {
      "cell_type": "code",
      "metadata": {
        "colab": {
          "base_uri": "https://localhost:8080/"
        },
        "id": "XQ_I7mZrnNSl",
        "outputId": "6e605377-cc3e-4feb-9ca8-718b5877c849"
      },
      "source": [
        "# Muestra la matriz de confusión\n",
        "print(confusion_matrix(y_test, pred))"
      ],
      "execution_count": 63,
      "outputs": [
        {
          "output_type": "stream",
          "name": "stdout",
          "text": [
            "[[138  75]\n",
            " [ 43 144]]\n"
          ]
        }
      ]
    },
    {
      "cell_type": "code",
      "metadata": {
        "colab": {
          "base_uri": "https://localhost:8080/",
          "height": 388
        },
        "id": "hLp3KFy0nNSm",
        "outputId": "f4a2412d-d21d-4030-9e6a-bc3b8bbf961c"
      },
      "source": [
        "from sklearn.metrics import plot_confusion_matrix\n",
        "\n",
        "title=\"Confusion Matrix\"\n",
        "disp = plot_confusion_matrix(knn, X_test, y_test,cmap=plt.cm.Blues)\n",
        "disp.ax_.set_title(title)\n",
        "\n",
        "print(disp.confusion_matrix)"
      ],
      "execution_count": 64,
      "outputs": [
        {
          "output_type": "stream",
          "name": "stdout",
          "text": [
            "[[138  75]\n",
            " [ 43 144]]\n"
          ]
        },
        {
          "output_type": "stream",
          "name": "stderr",
          "text": [
            "/usr/local/lib/python3.7/dist-packages/sklearn/utils/deprecation.py:87: FutureWarning: Function plot_confusion_matrix is deprecated; Function `plot_confusion_matrix` is deprecated in 1.0 and will be removed in 1.2. Use one of the class methods: ConfusionMatrixDisplay.from_predictions or ConfusionMatrixDisplay.from_estimator.\n",
            "  warnings.warn(msg, category=FutureWarning)\n"
          ]
        },
        {
          "output_type": "display_data",
          "data": {
            "image/png": "[encoded data removed]",
            "text/plain": [
              "<Figure size 432x288 with 2 Axes>"
            ]
          },
          "metadata": {
            "needs_background": "light"
          }
        }
      ]
    },
    {
      "cell_type": "code",
      "metadata": {
        "colab": {
          "base_uri": "https://localhost:8080/"
        },
        "id": "Iat-l2CRnNSn",
        "outputId": "646104c2-2ad5-40b3-a91e-edb5c10cc2ae"
      },
      "source": [
        "# Muestra un resumen de las métricas de evaluación del modelo\n",
        "print(classification_report(y_test, pred))"
      ],
      "execution_count": 65,
      "outputs": [
        {
          "output_type": "stream",
          "name": "stdout",
          "text": [
            "              precision    recall  f1-score   support\n",
            "\n",
            "           0       0.76      0.65      0.70       213\n",
            "           1       0.66      0.77      0.71       187\n",
            "\n",
            "    accuracy                           0.70       400\n",
            "   macro avg       0.71      0.71      0.70       400\n",
            "weighted avg       0.71      0.70      0.70       400\n",
            "\n"
          ]
        }
      ]
    },
    {
      "cell_type": "markdown",
      "metadata": {
        "id": "C6iWvAxyNUF3"
      },
      "source": [
        "**NOTA:**\n",
        "Si además de nuestro conjunto de datos original, queremos separar otro conjunto de datos para hacer una validación posterior del modelo, esto lo podemos hacer apartando de uno de los conjuntos de entrenamiento o test, un subconjunto de instancias u observaciones."
      ]
    },
    {
      "cell_type": "markdown",
      "metadata": {
        "id": "FySmreb9NuBt"
      },
      "source": [
        "En este caso queremos usar el 75% de los datos para entrenar, un 15% de los datos para validar, y cuando ya tengamos un modelo elegido, usaremos un 10% de los datos para testearlo.\n",
        "\n",
        "Para conseguir estos conjuntos, primero separamos los datos en dos conjuntos, uno con el 75% de las instancias que será el conjunto de entrenamiento, y otro con el 25% restante que será un conjunto auxiliar del cuál obtendremos luego los conjuntos de test y validación.\n",
        "En la Práctica 0 lo vimos al revés, separamos un conjunto para entrenar y otro para testear, y del conjunto de entrenamiento, separamos de nuevo en un conjunto para validar, y el definitivo para testear. Las dos estrategias son buenas y puedes usar la que mejor comprendas. Ya que en la práctica 0 lo tenemos de una manera, aquí vamos a verlo de la otra."
      ]
    },
    {
      "cell_type": "code",
      "metadata": {
        "id": "fcYEkT6eJBF2",
        "colab": {
          "base_uri": "https://localhost:8080/"
        },
        "outputId": "44e9d762-3f3a-4b55-f5de-0ef8ca40c0d6"
      },
      "source": [
        "#primero se separa en dos conjuntos de datos \"train\" y \"aux\"\n",
        "X_train, X_aux, y_train, y_aux = train_test_split(X,y,\n",
        "                                        train_size   = 0.75,\n",
        "                                        random_state = 1234,\n",
        "                                        shuffle      = True\n",
        "                                    )\n",
        "# Mostramos la dimensión de los conjuntos para comprobar que es correcto\n",
        "print(\"Xtrain \", X_train.shape)\n",
        "print(\"ytrain \",y_train.shape)\n",
        "print(\"Xaux \",X_aux.shape)\n",
        "print(\"yaux \",y_aux.shape)"
      ],
      "execution_count": 66,
      "outputs": [
        {
          "output_type": "stream",
          "name": "stdout",
          "text": [
            "Xtrain  (1199, 11)\n",
            "ytrain  (1199,)\n",
            "Xaux  (400, 11)\n",
            "yaux  (400,)\n"
          ]
        }
      ]
    },
    {
      "cell_type": "markdown",
      "metadata": {
        "id": "WZvxm9kCNzF1"
      },
      "source": [
        "Ahora, a partir del conjunto auxiliar tenemos que obtener los conjuntos de validación y test, respectivamente han de ser el 15% y el 10% de los datos del dataset original.\n",
        "\n",
        "El porcentaje que tenemos que calcular ahora es sobre el 100% de los datos del conjunto auxiliar y para obtener la partición que queremos debemos de tener en cuenta que el porcentaje que buscamos es igual a %test/(%val+%test) en nuestro ejemplo sería 0.15/(0.15+0.10)=0.15/0.25=0.6, es decir, el 60% de los datos del conjunto auxiliar serán para validar y el resto para testear."
      ]
    },
    {
      "cell_type": "code",
      "metadata": {
        "id": "jwEyQECzN6UE",
        "colab": {
          "base_uri": "https://localhost:8080/"
        },
        "outputId": "07f39541-a136-40ff-a040-bed4582f6e1b"
      },
      "source": [
        "#segundo separamos el conjunto \"aux\" en dos conjuntos \"test\" y \"val\"\n",
        "X_val, X_test, y_val, y_test = train_test_split(X_aux,y_aux,\n",
        "                                        train_size   = 0.6,\n",
        "                                        random_state = 1234,\n",
        "                                        shuffle      = True\n",
        "                                    )\n",
        "# Mostramos la dimensión de los conjuntos para comprobar que es correcto\n",
        "print(\"Xval \",X_val.shape)\n",
        "print(\"yval \",y_val.shape)\n",
        "print(\"Xtest \", X_test.shape)\n",
        "print(\"ytest \",y_test.shape)"
      ],
      "execution_count": 67,
      "outputs": [
        {
          "output_type": "stream",
          "name": "stdout",
          "text": [
            "Xval  (240, 11)\n",
            "yval  (240,)\n",
            "Xtest  (160, 11)\n",
            "ytest  (160,)\n"
          ]
        }
      ]
    },
    {
      "cell_type": "markdown",
      "metadata": {
        "id": "sAAdk5Q7N9ge"
      },
      "source": [
        "EJERCICIO: repartir los datos de tal forma que la relación sea 90-7-3% y luego 60-30-10%, para entrenar, validar y testear respectivamente. Evalua tanto el conjunto de test como el de validación, con el modelo generado con el conjunto de training en cada caso para el modelo kNN con los parámetros establecidos al final de la sección anterior."
      ]
    },
    {
      "cell_type": "markdown",
      "source": [
        "**90/7/3**"
      ],
      "metadata": {
        "id": "iqBbDilGTKD2"
      }
    },
    {
      "cell_type": "code",
      "source": [
        "#primero se separa en dos conjuntos de datos \"train\" y \"aux\"\n",
        "X_train, X_aux, y_train, y_aux = train_test_split(X,y,\n",
        "                                        train_size   = 0.9,\n",
        "                                        random_state = 1234,\n",
        "                                        shuffle      = True\n",
        "                                    )\n",
        "# Mostramos la dimensión de los conjuntos para comprobar que es correcto\n",
        "print(\"Xtrain \", X_train.shape)\n",
        "print(\"ytrain \",y_train.shape)\n",
        "print(\"Xaux \",X_aux.shape)\n",
        "print(\"yaux \",y_aux.shape)"
      ],
      "metadata": {
        "colab": {
          "base_uri": "https://localhost:8080/"
        },
        "id": "i6kwnprdR1BO",
        "outputId": "e665a9cc-7423-4de4-f995-837d120ecfb9"
      },
      "execution_count": 68,
      "outputs": [
        {
          "output_type": "stream",
          "name": "stdout",
          "text": [
            "Xtrain  (1439, 11)\n",
            "ytrain  (1439,)\n",
            "Xaux  (160, 11)\n",
            "yaux  (160,)\n"
          ]
        }
      ]
    },
    {
      "cell_type": "code",
      "source": [
        "#segundo separamos el conjunto \"aux\" en dos conjuntos \"test\" y \"val\"\n",
        "X_val, X_test, y_val, y_test = train_test_split(X_aux,y_aux,\n",
        "                                        train_size   = 0.7,\n",
        "                                        random_state = 1234,\n",
        "                                        shuffle      = True\n",
        "                                    )\n",
        "# Mostramos la dimensión de los conjuntos para comprobar que es correcto\n",
        "print(\"Xval \",X_val.shape)\n",
        "print(\"yval \",y_val.shape)\n",
        "print(\"Xtest \", X_test.shape)\n",
        "print(\"ytest \",y_test.shape)"
      ],
      "metadata": {
        "colab": {
          "base_uri": "https://localhost:8080/"
        },
        "id": "lAPuZM4PR1IU",
        "outputId": "072ad555-6be3-4d8e-aad6-4cff12104926"
      },
      "execution_count": 69,
      "outputs": [
        {
          "output_type": "stream",
          "name": "stdout",
          "text": [
            "Xval  (112, 11)\n",
            "yval  (112,)\n",
            "Xtest  (48, 11)\n",
            "ytest  (48,)\n"
          ]
        }
      ]
    },
    {
      "cell_type": "code",
      "metadata": {
        "id": "37wYZiLbSwhJ"
      },
      "source": [
        "scaler = StandardScaler()\n",
        "X_train = scaler.fit_transform(X_train)\n",
        "X_test = scaler.transform(X_test)"
      ],
      "execution_count": 70,
      "outputs": []
    },
    {
      "cell_type": "code",
      "metadata": {
        "colab": {
          "base_uri": "https://localhost:8080/"
        },
        "outputId": "9762890c-14e4-4d53-8db3-2729394d69a4",
        "id": "DWuVcLgtSwhK"
      },
      "source": [
        "print(\"Xtrain \", X_train.shape)\n",
        "print(\"ytrain \",y_train.shape)\n",
        "print(\"Xtest \",X_test.shape)\n",
        "print(\"ytest \",y_test.shape)"
      ],
      "execution_count": 71,
      "outputs": [
        {
          "output_type": "stream",
          "name": "stdout",
          "text": [
            "Xtrain  (1439, 11)\n",
            "ytrain  (1439,)\n",
            "Xtest  (48, 11)\n",
            "ytest  (48,)\n"
          ]
        }
      ]
    },
    {
      "cell_type": "code",
      "metadata": {
        "colab": {
          "base_uri": "https://localhost:8080/"
        },
        "outputId": "ab1ecc4c-d423-4a27-d5fb-17b695bb9dfd",
        "id": "-eCuEhqNSwhK"
      },
      "source": [
        "y_train.value_counts()"
      ],
      "execution_count": 72,
      "outputs": [
        {
          "output_type": "execute_result",
          "data": {
            "text/plain": [
              "1    769\n",
              "0    670\n",
              "Name: quality, dtype: int64"
            ]
          },
          "metadata": {},
          "execution_count": 72
        }
      ]
    },
    {
      "cell_type": "code",
      "metadata": {
        "colab": {
          "base_uri": "https://localhost:8080/"
        },
        "outputId": "bbf8f6a4-f203-4fea-aaca-41910d6a6f64",
        "id": "U21jU7R2SwhK"
      },
      "source": [
        "y_test.value_counts()"
      ],
      "execution_count": 73,
      "outputs": [
        {
          "output_type": "execute_result",
          "data": {
            "text/plain": [
              "1    30\n",
              "0    18\n",
              "Name: quality, dtype: int64"
            ]
          },
          "metadata": {},
          "execution_count": 73
        }
      ]
    },
    {
      "cell_type": "code",
      "metadata": {
        "colab": {
          "base_uri": "https://localhost:8080/"
        },
        "outputId": "0038561a-4db6-44e5-d7ff-5530ce895ffd",
        "id": "KqCN-K9eSwhL"
      },
      "source": [
        "knn = KNeighborsClassifier(n_neighbors=7) # determinamos el modelo que vamos a usar y cual es su configuración, en este caso usaremos los valores por defecto\n",
        "knn.fit(X_train, y_train)"
      ],
      "execution_count": 74,
      "outputs": [
        {
          "output_type": "execute_result",
          "data": {
            "text/plain": [
              "KNeighborsClassifier(n_neighbors=7)"
            ]
          },
          "metadata": {},
          "execution_count": 74
        }
      ]
    },
    {
      "cell_type": "code",
      "metadata": {
        "colab": {
          "base_uri": "https://localhost:8080/"
        },
        "outputId": "730fd16d-2fde-4132-8136-4d256b5bf7df",
        "id": "S3t5rO9MSwhL"
      },
      "source": [
        "print('Accuracy of K-NN classifier on training set: {:.2f}'\n",
        "     .format(knn.score(X_train, y_train)))\n",
        "print('Accuracy of K-NN classifier on test set: {:.2f}'\n",
        "     .format(knn.score(X_test, y_test)))"
      ],
      "execution_count": 75,
      "outputs": [
        {
          "output_type": "stream",
          "name": "stdout",
          "text": [
            "Accuracy of K-NN classifier on training set: 0.80\n",
            "Accuracy of K-NN classifier on test set: 0.67\n"
          ]
        }
      ]
    },
    {
      "cell_type": "code",
      "metadata": {
        "id": "mk0LZLt3SwhL"
      },
      "source": [
        "# Obtenemos la predicción sobre el conjunto de test\n",
        "pred = knn.predict(X_test)"
      ],
      "execution_count": 76,
      "outputs": []
    },
    {
      "cell_type": "code",
      "metadata": {
        "colab": {
          "base_uri": "https://localhost:8080/"
        },
        "outputId": "48f8ba95-08b9-4fda-d6d1-bedf31dc21f9",
        "id": "jLIeRp9lSwhL"
      },
      "source": [
        "# Muestra la matriz de confusión\n",
        "print(confusion_matrix(y_test, pred))"
      ],
      "execution_count": 77,
      "outputs": [
        {
          "output_type": "stream",
          "name": "stdout",
          "text": [
            "[[11  7]\n",
            " [ 9 21]]\n"
          ]
        }
      ]
    },
    {
      "cell_type": "code",
      "metadata": {
        "colab": {
          "base_uri": "https://localhost:8080/",
          "height": 388
        },
        "outputId": "4ec82d66-8ce3-42cb-c9f1-c7bf9c21f7c7",
        "id": "7dr-bzGnSwhM"
      },
      "source": [
        "from sklearn.metrics import plot_confusion_matrix\n",
        "\n",
        "title=\"Confusion Matrix\"\n",
        "disp = plot_confusion_matrix(knn, X_test, y_test,cmap=plt.cm.Blues)\n",
        "disp.ax_.set_title(title)\n",
        "\n",
        "print(disp.confusion_matrix)"
      ],
      "execution_count": 78,
      "outputs": [
        {
          "output_type": "stream",
          "name": "stderr",
          "text": [
            "/usr/local/lib/python3.7/dist-packages/sklearn/utils/deprecation.py:87: FutureWarning: Function plot_confusion_matrix is deprecated; Function `plot_confusion_matrix` is deprecated in 1.0 and will be removed in 1.2. Use one of the class methods: ConfusionMatrixDisplay.from_predictions or ConfusionMatrixDisplay.from_estimator.\n",
            "  warnings.warn(msg, category=FutureWarning)\n"
          ]
        },
        {
          "output_type": "stream",
          "name": "stdout",
          "text": [
            "[[11  7]\n",
            " [ 9 21]]\n"
          ]
        },
        {
          "output_type": "display_data",
          "data": {
            "image/png": "[encoded data removed]",
            "text/plain": [
              "<Figure size 432x288 with 2 Axes>"
            ]
          },
          "metadata": {
            "needs_background": "light"
          }
        }
      ]
    },
    {
      "cell_type": "code",
      "metadata": {
        "colab": {
          "base_uri": "https://localhost:8080/"
        },
        "outputId": "4ab399a9-adbc-4091-952c-1d42fcf07ab3",
        "id": "YqKSzpPXSwhM"
      },
      "source": [
        "# Muestra un resumen de las métricas de evaluación del modelo\n",
        "print(classification_report(y_test, pred))"
      ],
      "execution_count": 79,
      "outputs": [
        {
          "output_type": "stream",
          "name": "stdout",
          "text": [
            "              precision    recall  f1-score   support\n",
            "\n",
            "           0       0.55      0.61      0.58        18\n",
            "           1       0.75      0.70      0.72        30\n",
            "\n",
            "    accuracy                           0.67        48\n",
            "   macro avg       0.65      0.66      0.65        48\n",
            "weighted avg       0.67      0.67      0.67        48\n",
            "\n"
          ]
        }
      ]
    },
    {
      "cell_type": "markdown",
      "source": [
        "**Validación**"
      ],
      "metadata": {
        "id": "0JA6AvtgUgur"
      }
    },
    {
      "cell_type": "code",
      "source": [
        "#primero se separa en dos conjuntos de datos \"train\" y \"aux\"\n",
        "X_train, X_aux, y_train, y_aux = train_test_split(X,y,\n",
        "                                        train_size   = 0.9,\n",
        "                                        random_state = 1234,\n",
        "                                        shuffle      = True\n",
        "                                    )\n",
        "# Mostramos la dimensión de los conjuntos para comprobar que es correcto\n",
        "print(\"Xtrain \", X_train.shape)\n",
        "print(\"ytrain \",y_train.shape)\n",
        "print(\"Xaux \",X_aux.shape)\n",
        "print(\"yaux \",y_aux.shape)"
      ],
      "metadata": {
        "colab": {
          "base_uri": "https://localhost:8080/"
        },
        "outputId": "ee5f555b-428c-48b4-ee12-f349ea7de68f",
        "id": "zBtWxDGGVaLN"
      },
      "execution_count": 94,
      "outputs": [
        {
          "output_type": "stream",
          "name": "stdout",
          "text": [
            "Xtrain  (1439, 11)\n",
            "ytrain  (1439,)\n",
            "Xaux  (160, 11)\n",
            "yaux  (160,)\n"
          ]
        }
      ]
    },
    {
      "cell_type": "code",
      "source": [
        "#segundo separamos el conjunto \"aux\" en dos conjuntos \"test\" y \"val\"\n",
        "X_val, X_test, y_val, y_test = train_test_split(X_aux,y_aux,\n",
        "                                        train_size   = 0.7,\n",
        "                                        random_state = 1234,\n",
        "                                        shuffle      = True\n",
        "                                    )\n",
        "# Mostramos la dimensión de los conjuntos para comprobar que es correcto\n",
        "print(\"Xval \",X_val.shape)\n",
        "print(\"yval \",y_val.shape)\n",
        "print(\"Xtest \", X_test.shape)\n",
        "print(\"ytest \",y_test.shape)"
      ],
      "metadata": {
        "colab": {
          "base_uri": "https://localhost:8080/"
        },
        "outputId": "1388ad67-54a7-46a1-fca2-5f1c5d59c630",
        "id": "ONIaljHDVaLO"
      },
      "execution_count": 95,
      "outputs": [
        {
          "output_type": "stream",
          "name": "stdout",
          "text": [
            "Xval  (112, 11)\n",
            "yval  (112,)\n",
            "Xtest  (48, 11)\n",
            "ytest  (48,)\n"
          ]
        }
      ]
    },
    {
      "cell_type": "code",
      "metadata": {
        "id": "izTWTrO_Ujcr"
      },
      "source": [
        "scaler = StandardScaler()\n",
        "X_train = scaler.fit_transform(X_train)\n",
        "X_val = scaler.transform(X_val)"
      ],
      "execution_count": 96,
      "outputs": []
    },
    {
      "cell_type": "code",
      "metadata": {
        "colab": {
          "base_uri": "https://localhost:8080/"
        },
        "outputId": "e192de57-1bec-4541-d474-83504b1068b1",
        "id": "Jjj-wtJxUjct"
      },
      "source": [
        "print(\"Xtrain \", X_train.shape)\n",
        "print(\"ytrain \",y_train.shape)\n",
        "print(\"Xval \",X_val.shape)\n",
        "print(\"yval \",y_val.shape)"
      ],
      "execution_count": 97,
      "outputs": [
        {
          "output_type": "stream",
          "name": "stdout",
          "text": [
            "Xtrain  (1439, 11)\n",
            "ytrain  (1439,)\n",
            "Xval  (112, 11)\n",
            "yval  (112,)\n"
          ]
        }
      ]
    },
    {
      "cell_type": "code",
      "metadata": {
        "colab": {
          "base_uri": "https://localhost:8080/"
        },
        "outputId": "4d8dd4a1-d672-4006-bc52-d570e0cf3f30",
        "id": "ZVzoE1ATUjcu"
      },
      "source": [
        "y_train.value_counts()"
      ],
      "execution_count": 98,
      "outputs": [
        {
          "output_type": "execute_result",
          "data": {
            "text/plain": [
              "1    769\n",
              "0    670\n",
              "Name: quality, dtype: int64"
            ]
          },
          "metadata": {},
          "execution_count": 98
        }
      ]
    },
    {
      "cell_type": "code",
      "metadata": {
        "colab": {
          "base_uri": "https://localhost:8080/"
        },
        "outputId": "488ba6fd-8f98-40a5-c25e-6bb523b1ffa6",
        "id": "KFEZ04TxUjcu"
      },
      "source": [
        "y_val.value_counts()"
      ],
      "execution_count": 99,
      "outputs": [
        {
          "output_type": "execute_result",
          "data": {
            "text/plain": [
              "1    56\n",
              "0    56\n",
              "Name: quality, dtype: int64"
            ]
          },
          "metadata": {},
          "execution_count": 99
        }
      ]
    },
    {
      "cell_type": "code",
      "metadata": {
        "colab": {
          "base_uri": "https://localhost:8080/"
        },
        "outputId": "bbd5c2d0-c37e-46bd-f339-70b1a6ad6b43",
        "id": "WwIs9jpRUjcv"
      },
      "source": [
        "knn = KNeighborsClassifier(n_neighbors=7) # determinamos el modelo que vamos a usar y cual es su configuración, en este caso usaremos los valores por defecto\n",
        "knn.fit(X_train, y_train)"
      ],
      "execution_count": 100,
      "outputs": [
        {
          "output_type": "execute_result",
          "data": {
            "text/plain": [
              "KNeighborsClassifier(n_neighbors=7)"
            ]
          },
          "metadata": {},
          "execution_count": 100
        }
      ]
    },
    {
      "cell_type": "code",
      "metadata": {
        "colab": {
          "base_uri": "https://localhost:8080/"
        },
        "outputId": "234b9b82-6af2-4943-fe17-34058f0d57c0",
        "id": "XpSWOqa2Ujcw"
      },
      "source": [
        "print('Accuracy of K-NN classifier on training set: {:.2f}'\n",
        "     .format(knn.score(X_train, y_train)))\n",
        "print('Accuracy of K-NN classifier on test set: {:.2f}'\n",
        "     .format(knn.score(X_val, y_val)))"
      ],
      "execution_count": 101,
      "outputs": [
        {
          "output_type": "stream",
          "name": "stdout",
          "text": [
            "Accuracy of K-NN classifier on training set: 0.80\n",
            "Accuracy of K-NN classifier on test set: 0.80\n"
          ]
        }
      ]
    },
    {
      "cell_type": "code",
      "metadata": {
        "id": "6WbNJS5GUjcw"
      },
      "source": [
        "# Obtenemos la predicción sobre el conjunto de test\n",
        "pred = knn.predict(X_val)"
      ],
      "execution_count": 102,
      "outputs": []
    },
    {
      "cell_type": "code",
      "metadata": {
        "colab": {
          "base_uri": "https://localhost:8080/"
        },
        "outputId": "80fdd224-3076-4207-bf46-7ddc0635b14e",
        "id": "xcGPJu2vUjcx"
      },
      "source": [
        "# Muestra la matriz de confusión\n",
        "print(confusion_matrix(y_val, pred))"
      ],
      "execution_count": 103,
      "outputs": [
        {
          "output_type": "stream",
          "name": "stdout",
          "text": [
            "[[41 15]\n",
            " [ 7 49]]\n"
          ]
        }
      ]
    },
    {
      "cell_type": "code",
      "metadata": {
        "colab": {
          "base_uri": "https://localhost:8080/",
          "height": 388
        },
        "outputId": "633bb00d-bf10-4c48-9335-bb3274ea2089",
        "id": "NowkNaKDUjcy"
      },
      "source": [
        "from sklearn.metrics import plot_confusion_matrix\n",
        "\n",
        "title=\"Confusion Matrix\"\n",
        "disp = plot_confusion_matrix(knn, X_val, y_val,cmap=plt.cm.Blues)\n",
        "disp.ax_.set_title(title)\n",
        "\n",
        "print(disp.confusion_matrix)"
      ],
      "execution_count": 104,
      "outputs": [
        {
          "output_type": "stream",
          "name": "stdout",
          "text": [
            "[[41 15]\n",
            " [ 7 49]]\n"
          ]
        },
        {
          "output_type": "stream",
          "name": "stderr",
          "text": [
            "/usr/local/lib/python3.7/dist-packages/sklearn/utils/deprecation.py:87: FutureWarning: Function plot_confusion_matrix is deprecated; Function `plot_confusion_matrix` is deprecated in 1.0 and will be removed in 1.2. Use one of the class methods: ConfusionMatrixDisplay.from_predictions or ConfusionMatrixDisplay.from_estimator.\n",
            "  warnings.warn(msg, category=FutureWarning)\n"
          ]
        },
        {
          "output_type": "display_data",
          "data": {
            "image/png": "[encoded data removed]",
            "text/plain": [
              "<Figure size 432x288 with 2 Axes>"
            ]
          },
          "metadata": {
            "needs_background": "light"
          }
        }
      ]
    },
    {
      "cell_type": "code",
      "metadata": {
        "colab": {
          "base_uri": "https://localhost:8080/"
        },
        "outputId": "b908ca90-8efb-43ce-f37c-c4cc5daabbc9",
        "id": "34hHtOK4Ujcz"
      },
      "source": [
        "# Muestra un resumen de las métricas de evaluación del modelo\n",
        "print(classification_report(y_val, pred))"
      ],
      "execution_count": 105,
      "outputs": [
        {
          "output_type": "stream",
          "name": "stdout",
          "text": [
            "              precision    recall  f1-score   support\n",
            "\n",
            "           0       0.85      0.73      0.79        56\n",
            "           1       0.77      0.88      0.82        56\n",
            "\n",
            "    accuracy                           0.80       112\n",
            "   macro avg       0.81      0.80      0.80       112\n",
            "weighted avg       0.81      0.80      0.80       112\n",
            "\n"
          ]
        }
      ]
    },
    {
      "cell_type": "markdown",
      "source": [
        "**60/30/10**"
      ],
      "metadata": {
        "id": "lBf2sW8RThhL"
      }
    },
    {
      "cell_type": "code",
      "source": [
        "#primero se separa en dos conjuntos de datos \"train\" y \"aux\"\n",
        "X_train, X_aux, y_train, y_aux = train_test_split(X,y,\n",
        "                                        train_size   = 0.6,\n",
        "                                        random_state = 1234,\n",
        "                                        shuffle      = True\n",
        "                                    )\n",
        "# Mostramos la dimensión de los conjuntos para comprobar que es correcto\n",
        "print(\"Xtrain \", X_train.shape)\n",
        "print(\"ytrain \",y_train.shape)\n",
        "print(\"Xaux \",X_aux.shape)\n",
        "print(\"yaux \",y_aux.shape)"
      ],
      "metadata": {
        "outputId": "bde3f48b-4b61-4b18-a21a-cd6a8e0dd042",
        "colab": {
          "base_uri": "https://localhost:8080/"
        },
        "id": "MX-kcxxuTopn"
      },
      "execution_count": 80,
      "outputs": [
        {
          "output_type": "stream",
          "name": "stdout",
          "text": [
            "Xtrain  (959, 11)\n",
            "ytrain  (959,)\n",
            "Xaux  (640, 11)\n",
            "yaux  (640,)\n"
          ]
        }
      ]
    },
    {
      "cell_type": "code",
      "source": [
        "#segundo separamos el conjunto \"aux\" en dos conjuntos \"test\" y \"val\"\n",
        "X_val, X_test, y_val, y_test = train_test_split(X_aux,y_aux,\n",
        "                                        train_size   = 0.75,\n",
        "                                        random_state = 1234,\n",
        "                                        shuffle      = True\n",
        "                                    )\n",
        "# Mostramos la dimensión de los conjuntos para comprobar que es correcto\n",
        "print(\"Xval \",X_val.shape)\n",
        "print(\"yval \",y_val.shape)\n",
        "print(\"Xtest \", X_test.shape)\n",
        "print(\"ytest \",y_test.shape)"
      ],
      "metadata": {
        "outputId": "bc5579a5-a60f-40b8-c45d-c04de98af476",
        "colab": {
          "base_uri": "https://localhost:8080/"
        },
        "id": "AksTyrIcTopo"
      },
      "execution_count": 81,
      "outputs": [
        {
          "output_type": "stream",
          "name": "stdout",
          "text": [
            "Xval  (480, 11)\n",
            "yval  (480,)\n",
            "Xtest  (160, 11)\n",
            "ytest  (160,)\n"
          ]
        }
      ]
    },
    {
      "cell_type": "code",
      "metadata": {
        "id": "2ZhkfDkaTkmL"
      },
      "source": [
        "scaler = StandardScaler()\n",
        "X_train = scaler.fit_transform(X_train)\n",
        "X_test = scaler.transform(X_test)"
      ],
      "execution_count": 82,
      "outputs": []
    },
    {
      "cell_type": "code",
      "metadata": {
        "colab": {
          "base_uri": "https://localhost:8080/"
        },
        "outputId": "08722c63-db4f-4157-df13-9bd33eabad1d",
        "id": "3yvzzvOUTkmM"
      },
      "source": [
        "print(\"Xtrain \", X_train.shape)\n",
        "print(\"ytrain \",y_train.shape)\n",
        "print(\"Xtest \",X_test.shape)\n",
        "print(\"ytest \",y_test.shape)"
      ],
      "execution_count": 83,
      "outputs": [
        {
          "output_type": "stream",
          "name": "stdout",
          "text": [
            "Xtrain  (959, 11)\n",
            "ytrain  (959,)\n",
            "Xtest  (160, 11)\n",
            "ytest  (160,)\n"
          ]
        }
      ]
    },
    {
      "cell_type": "code",
      "metadata": {
        "colab": {
          "base_uri": "https://localhost:8080/"
        },
        "outputId": "f7ed6cb8-fab0-4812-a23c-fc9fc03c3770",
        "id": "reP16hwGTkmN"
      },
      "source": [
        "y_train.value_counts()"
      ],
      "execution_count": 84,
      "outputs": [
        {
          "output_type": "execute_result",
          "data": {
            "text/plain": [
              "1    518\n",
              "0    441\n",
              "Name: quality, dtype: int64"
            ]
          },
          "metadata": {},
          "execution_count": 84
        }
      ]
    },
    {
      "cell_type": "code",
      "metadata": {
        "colab": {
          "base_uri": "https://localhost:8080/"
        },
        "outputId": "e1c5e637-44ba-4a79-8fd1-c1616bc5f1e5",
        "id": "Ci0DHIPTTkmO"
      },
      "source": [
        "y_test.value_counts()"
      ],
      "execution_count": 85,
      "outputs": [
        {
          "output_type": "execute_result",
          "data": {
            "text/plain": [
              "1    86\n",
              "0    74\n",
              "Name: quality, dtype: int64"
            ]
          },
          "metadata": {},
          "execution_count": 85
        }
      ]
    },
    {
      "cell_type": "code",
      "metadata": {
        "colab": {
          "base_uri": "https://localhost:8080/"
        },
        "outputId": "a56d899c-f2d9-429f-ca5a-f1927762bc04",
        "id": "qUzZkKDYTkmP"
      },
      "source": [
        "knn = KNeighborsClassifier(n_neighbors=7) # determinamos el modelo que vamos a usar y cual es su configuración, en este caso usaremos los valores por defecto\n",
        "knn.fit(X_train, y_train)"
      ],
      "execution_count": 86,
      "outputs": [
        {
          "output_type": "execute_result",
          "data": {
            "text/plain": [
              "KNeighborsClassifier(n_neighbors=7)"
            ]
          },
          "metadata": {},
          "execution_count": 86
        }
      ]
    },
    {
      "cell_type": "code",
      "metadata": {
        "colab": {
          "base_uri": "https://localhost:8080/"
        },
        "outputId": "480f4ab2-29ed-41af-b503-60a5e83b2b9a",
        "id": "I5t4JM6ITkmQ"
      },
      "source": [
        "print('Accuracy of K-NN classifier on training set: {:.2f}'\n",
        "     .format(knn.score(X_train, y_train)))\n",
        "print('Accuracy of K-NN classifier on test set: {:.2f}'\n",
        "     .format(knn.score(X_test, y_test)))"
      ],
      "execution_count": 87,
      "outputs": [
        {
          "output_type": "stream",
          "name": "stdout",
          "text": [
            "Accuracy of K-NN classifier on training set: 0.78\n",
            "Accuracy of K-NN classifier on test set: 0.73\n"
          ]
        }
      ]
    },
    {
      "cell_type": "code",
      "metadata": {
        "id": "2fc1OfsTTkmQ"
      },
      "source": [
        "# Obtenemos la predicción sobre el conjunto de test\n",
        "pred = knn.predict(X_test)"
      ],
      "execution_count": 88,
      "outputs": []
    },
    {
      "cell_type": "code",
      "metadata": {
        "colab": {
          "base_uri": "https://localhost:8080/"
        },
        "outputId": "fcd86a3e-da9a-4423-e1c4-be983fc556e6",
        "id": "47-dkFthTkmR"
      },
      "source": [
        "# Muestra la matriz de confusión\n",
        "print(confusion_matrix(y_test, pred))"
      ],
      "execution_count": 89,
      "outputs": [
        {
          "output_type": "stream",
          "name": "stdout",
          "text": [
            "[[53 21]\n",
            " [22 64]]\n"
          ]
        }
      ]
    },
    {
      "cell_type": "code",
      "metadata": {
        "colab": {
          "base_uri": "https://localhost:8080/",
          "height": 388
        },
        "outputId": "821050a0-ed28-4bcd-f72e-efbb0ffd640d",
        "id": "t5seyWRBTkmS"
      },
      "source": [
        "from sklearn.metrics import plot_confusion_matrix\n",
        "\n",
        "title=\"Confusion Matrix\"\n",
        "disp = plot_confusion_matrix(knn, X_test, y_test,cmap=plt.cm.Blues)\n",
        "disp.ax_.set_title(title)\n",
        "\n",
        "print(disp.confusion_matrix)"
      ],
      "execution_count": 90,
      "outputs": [
        {
          "output_type": "stream",
          "name": "stdout",
          "text": [
            "[[53 21]\n",
            " [22 64]]\n"
          ]
        },
        {
          "output_type": "stream",
          "name": "stderr",
          "text": [
            "/usr/local/lib/python3.7/dist-packages/sklearn/utils/deprecation.py:87: FutureWarning: Function plot_confusion_matrix is deprecated; Function `plot_confusion_matrix` is deprecated in 1.0 and will be removed in 1.2. Use one of the class methods: ConfusionMatrixDisplay.from_predictions or ConfusionMatrixDisplay.from_estimator.\n",
            "  warnings.warn(msg, category=FutureWarning)\n"
          ]
        },
        {
          "output_type": "display_data",
          "data": {
            "image/png": "[encoded data removed]",
            "text/plain": [
              "<Figure size 432x288 with 2 Axes>"
            ]
          },
          "metadata": {
            "needs_background": "light"
          }
        }
      ]
    },
    {
      "cell_type": "code",
      "metadata": {
        "colab": {
          "base_uri": "https://localhost:8080/"
        },
        "outputId": "7ae59adf-6cc5-4a2b-a0f2-79ade28c5aeb",
        "id": "q1oy0saSTkmS"
      },
      "source": [
        "# Muestra un resumen de las métricas de evaluación del modelo\n",
        "print(classification_report(y_test, pred))"
      ],
      "execution_count": 91,
      "outputs": [
        {
          "output_type": "stream",
          "name": "stdout",
          "text": [
            "              precision    recall  f1-score   support\n",
            "\n",
            "           0       0.71      0.72      0.71        74\n",
            "           1       0.75      0.74      0.75        86\n",
            "\n",
            "    accuracy                           0.73       160\n",
            "   macro avg       0.73      0.73      0.73       160\n",
            "weighted avg       0.73      0.73      0.73       160\n",
            "\n"
          ]
        }
      ]
    },
    {
      "cell_type": "markdown",
      "metadata": {
        "id": "3Wkq-rtlOX5U"
      },
      "source": [
        "### Validación Simple"
      ]
    },
    {
      "cell_type": "markdown",
      "metadata": {
        "id": "CC7mQcL8OhNE"
      },
      "source": [
        "Es el método más sencillo consiste en dividir aleatoriamente las observaciones disponibles en dos grupos, uno se emplea para entrenar al modelo y otro para evaluarlo. Se realiza como hemos visto hasta este punto."
      ]
    },
    {
      "cell_type": "markdown",
      "metadata": {
        "id": "nZ9ggw-8Om3c"
      },
      "source": [
        "### Leave One Out Cross-Validation (LOOCV)"
      ]
    },
    {
      "cell_type": "markdown",
      "metadata": {
        "id": "Hm833wioOsf8"
      },
      "source": [
        "El método LOOCV en un método iterativo que se inicia empleando como conjunto de entrenamiento todas las observaciones disponibles excepto una, que se excluye para emplearla como validación."
      ]
    },
    {
      "cell_type": "markdown",
      "metadata": {
        "id": "4v5grLAGOutz"
      },
      "source": [
        "El método que vamos a usar es *LeaveOneOut* que se encuentra en la librería *Scikit-Learn* dendro del módulo *model_selection*."
      ]
    },
    {
      "cell_type": "code",
      "metadata": {
        "id": "jpc5bRPIOySp"
      },
      "source": [
        "from sklearn.model_selection import LeaveOneOut"
      ],
      "execution_count": null,
      "outputs": []
    },
    {
      "cell_type": "markdown",
      "metadata": {
        "id": "hd2E1mnnO2R2"
      },
      "source": [
        "Creamos el procedimiento para realizar el método interativo LOOCV"
      ]
    },
    {
      "cell_type": "code",
      "metadata": {
        "id": "hEinRigdO4PU"
      },
      "source": [
        "# crear el procedimiento loocv \n",
        "loocv = LeaveOneOut()"
      ],
      "execution_count": null,
      "outputs": []
    },
    {
      "cell_type": "markdown",
      "metadata": {
        "id": "u9TWZaMjO6Rt"
      },
      "source": [
        "La función *get_n_splits* nos muestra el número particiones (iteraciones) que ha hecho (n-1 muestras para train y 1 para validar). En este caso siempre ha de coincidir con el número de instancias de la muestra."
      ]
    },
    {
      "cell_type": "code",
      "metadata": {
        "id": "YbHnMatZPADX",
        "colab": {
          "base_uri": "https://localhost:8080/"
        },
        "outputId": "c04f6f00-3672-49f9-b551-37c95bf0ae4a"
      },
      "source": [
        "loocv.get_n_splits(X)"
      ],
      "execution_count": null,
      "outputs": [
        {
          "output_type": "execute_result",
          "data": {
            "text/plain": [
              "1599"
            ]
          },
          "metadata": {},
          "execution_count": 48
        }
      ]
    },
    {
      "cell_type": "markdown",
      "metadata": {
        "id": "Kw38-n9jPDk7"
      },
      "source": [
        "Al llamar a la función *split* del procedimiento *loocv* lo que devuelve son los índices de las estancias que van a ser usadas para entrenar, y el índice de instancia que va a ser usada para testear. \n",
        "De esta manera podemos recorrer todas las opciones posibles usando un bucle for de la siguiente manera:"
      ]
    },
    {
      "cell_type": "code",
      "metadata": {
        "id": "vxDacBacPIwa",
        "colab": {
          "base_uri": "https://localhost:8080/"
        },
        "outputId": "4306d86f-6265-41f1-bc20-60f9bafdb652"
      },
      "source": [
        "for train_index, test_index in loocv.split(X):\n",
        "  print(\"TRAIN:\", train_index, \"TEST:\", test_index)"
      ],
      "execution_count": null,
      "outputs": [
        {
          "output_type": "stream",
          "name": "stdout",
          "text": [
            "TRAIN: [   1    2    3 ... 1596 1597 1598] TEST: [0]\n",
            "TRAIN: [   0    2    3 ... 1596 1597 1598] TEST: [1]\n",
            "TRAIN: [   0    1    3 ... 1596 1597 1598] TEST: [2]\n",
            "TRAIN: [   0    1    2 ... 1596 1597 1598] TEST: [3]\n",
            "TRAIN: [   0    1    2 ... 1596 1597 1598] TEST: [4]\n",
            "TRAIN: [   0    1    2 ... 1596 1597 1598] TEST: [5]\n",
            "TRAIN: [   0    1    2 ... 1596 1597 1598] TEST: [6]\n",
            "TRAIN: [   0    1    2 ... 1596 1597 1598] TEST: [7]\n",
            "TRAIN: [   0    1    2 ... 1596 1597 1598] TEST: [8]\n",
            "TRAIN: [   0    1    2 ... 1596 1597 1598] TEST: [9]\n",
            "TRAIN: [   0    1    2 ... 1596 1597 1598] TEST: [10]\n",
            "TRAIN: [   0    1    2 ... 1596 1597 1598] TEST: [11]\n",
            "TRAIN: [   0    1    2 ... 1596 1597 1598] TEST: [12]\n",
            "TRAIN: [   0    1    2 ... 1596 1597 1598] TEST: [13]\n",
            "TRAIN: [   0    1    2 ... 1596 1597 1598] TEST: [14]\n",
            "TRAIN: [   0    1    2 ... 1596 1597 1598] TEST: [15]\n",
            "TRAIN: [   0    1    2 ... 1596 1597 1598] TEST: [16]\n",
            "TRAIN: [   0    1    2 ... 1596 1597 1598] TEST: [17]\n",
            "TRAIN: [   0    1    2 ... 1596 1597 1598] TEST: [18]\n",
            "TRAIN: [   0    1    2 ... 1596 1597 1598] TEST: [19]\n",
            "TRAIN: [   0    1    2 ... 1596 1597 1598] TEST: [20]\n",
            "TRAIN: [   0    1    2 ... 1596 1597 1598] TEST: [21]\n",
            "TRAIN: [   0    1    2 ... 1596 1597 1598] TEST: [22]\n",
            "TRAIN: [   0    1    2 ... 1596 1597 1598] TEST: [23]\n",
            "TRAIN: [   0    1    2 ... 1596 1597 1598] TEST: [24]\n",
            "TRAIN: [   0    1    2 ... 1596 1597 1598] TEST: [25]\n",
            "TRAIN: [   0    1    2 ... 1596 1597 1598] TEST: [26]\n",
            "TRAIN: [   0    1    2 ... 1596 1597 1598] TEST: [27]\n",
            "TRAIN: [   0    1    2 ... 1596 1597 1598] TEST: [28]\n",
            "TRAIN: [   0    1    2 ... 1596 1597 1598] TEST: [29]\n",
            "TRAIN: [   0    1    2 ... 1596 1597 1598] TEST: [30]\n",
            "TRAIN: [   0    1    2 ... 1596 1597 1598] TEST: [31]\n",
            "TRAIN: [   0    1    2 ... 1596 1597 1598] TEST: [32]\n",
            "TRAIN: [   0    1    2 ... 1596 1597 1598] TEST: [33]\n",
            "TRAIN: [   0    1    2 ... 1596 1597 1598] TEST: [34]\n",
            "TRAIN: [   0    1    2 ... 1596 1597 1598] TEST: [35]\n",
            "TRAIN: [   0    1    2 ... 1596 1597 1598] TEST: [36]\n",
            "TRAIN: [   0    1    2 ... 1596 1597 1598] TEST: [37]\n",
            "TRAIN: [   0    1    2 ... 1596 1597 1598] TEST: [38]\n",
            "TRAIN: [   0    1    2 ... 1596 1597 1598] TEST: [39]\n",
            "TRAIN: [   0    1    2 ... 1596 1597 1598] TEST: [40]\n",
            "TRAIN: [   0    1    2 ... 1596 1597 1598] TEST: [41]\n",
            "TRAIN: [   0    1    2 ... 1596 1597 1598] TEST: [42]\n",
            "TRAIN: [   0    1    2 ... 1596 1597 1598] TEST: [43]\n",
            "TRAIN: [   0    1    2 ... 1596 1597 1598] TEST: [44]\n",
            "TRAIN: [   0    1    2 ... 1596 1597 1598] TEST: [45]\n",
            "TRAIN: [   0    1    2 ... 1596 1597 1598] TEST: [46]\n",
            "TRAIN: [   0    1    2 ... 1596 1597 1598] TEST: [47]\n",
            "TRAIN: [   0    1    2 ... 1596 1597 1598] TEST: [48]\n",
            "TRAIN: [   0    1    2 ... 1596 1597 1598] TEST: [49]\n",
            "TRAIN: [   0    1    2 ... 1596 1597 1598] TEST: [50]\n",
            "TRAIN: [   0    1    2 ... 1596 1597 1598] TEST: [51]\n",
            "TRAIN: [   0    1    2 ... 1596 1597 1598] TEST: [52]\n",
            "TRAIN: [   0    1    2 ... 1596 1597 1598] TEST: [53]\n",
            "TRAIN: [   0    1    2 ... 1596 1597 1598] TEST: [54]\n",
            "TRAIN: [   0    1    2 ... 1596 1597 1598] TEST: [55]\n",
            "TRAIN: [   0    1    2 ... 1596 1597 1598] TEST: [56]\n",
            "TRAIN: [   0    1    2 ... 1596 1597 1598] TEST: [57]\n",
            "TRAIN: [   0    1    2 ... 1596 1597 1598] TEST: [58]\n",
            "TRAIN: [   0    1    2 ... 1596 1597 1598] TEST: [59]\n",
            "TRAIN: [   0    1    2 ... 1596 1597 1598] TEST: [60]\n",
            "TRAIN: [   0    1    2 ... 1596 1597 1598] TEST: [61]\n",
            "TRAIN: [   0    1    2 ... 1596 1597 1598] TEST: [62]\n",
            "TRAIN: [   0    1    2 ... 1596 1597 1598] TEST: [63]\n",
            "TRAIN: [   0    1    2 ... 1596 1597 1598] TEST: [64]\n",
            "TRAIN: [   0    1    2 ... 1596 1597 1598] TEST: [65]\n",
            "TRAIN: [   0    1    2 ... 1596 1597 1598] TEST: [66]\n",
            "TRAIN: [   0    1    2 ... 1596 1597 1598] TEST: [67]\n",
            "TRAIN: [   0    1    2 ... 1596 1597 1598] TEST: [68]\n",
            "TRAIN: [   0    1    2 ... 1596 1597 1598] TEST: [69]\n",
            "TRAIN: [   0    1    2 ... 1596 1597 1598] TEST: [70]\n",
            "TRAIN: [   0    1    2 ... 1596 1597 1598] TEST: [71]\n",
            "TRAIN: [   0    1    2 ... 1596 1597 1598] TEST: [72]\n",
            "TRAIN: [   0    1    2 ... 1596 1597 1598] TEST: [73]\n",
            "TRAIN: [   0    1    2 ... 1596 1597 1598] TEST: [74]\n",
            "TRAIN: [   0    1    2 ... 1596 1597 1598] TEST: [75]\n",
            "TRAIN: [   0    1    2 ... 1596 1597 1598] TEST: [76]\n",
            "TRAIN: [   0    1    2 ... 1596 1597 1598] TEST: [77]\n",
            "TRAIN: [   0    1    2 ... 1596 1597 1598] TEST: [78]\n",
            "TRAIN: [   0    1    2 ... 1596 1597 1598] TEST: [79]\n",
            "TRAIN: [   0    1    2 ... 1596 1597 1598] TEST: [80]\n",
            "TRAIN: [   0    1    2 ... 1596 1597 1598] TEST: [81]\n",
            "TRAIN: [   0    1    2 ... 1596 1597 1598] TEST: [82]\n",
            "TRAIN: [   0    1    2 ... 1596 1597 1598] TEST: [83]\n",
            "TRAIN: [   0    1    2 ... 1596 1597 1598] TEST: [84]\n",
            "TRAIN: [   0    1    2 ... 1596 1597 1598] TEST: [85]\n",
            "TRAIN: [   0    1    2 ... 1596 1597 1598] TEST: [86]\n",
            "TRAIN: [   0    1    2 ... 1596 1597 1598] TEST: [87]\n",
            "TRAIN: [   0    1    2 ... 1596 1597 1598] TEST: [88]\n",
            "TRAIN: [   0    1    2 ... 1596 1597 1598] TEST: [89]\n",
            "TRAIN: [   0    1    2 ... 1596 1597 1598] TEST: [90]\n",
            "TRAIN: [   0    1    2 ... 1596 1597 1598] TEST: [91]\n",
            "TRAIN: [   0    1    2 ... 1596 1597 1598] TEST: [92]\n",
            "TRAIN: [   0    1    2 ... 1596 1597 1598] TEST: [93]\n",
            "TRAIN: [   0    1    2 ... 1596 1597 1598] TEST: [94]\n",
            "TRAIN: [   0    1    2 ... 1596 1597 1598] TEST: [95]\n",
            "TRAIN: [   0    1    2 ... 1596 1597 1598] TEST: [96]\n",
            "TRAIN: [   0    1    2 ... 1596 1597 1598] TEST: [97]\n",
            "TRAIN: [   0    1    2 ... 1596 1597 1598] TEST: [98]\n",
            "TRAIN: [   0    1    2 ... 1596 1597 1598] TEST: [99]\n",
            "TRAIN: [   0    1    2 ... 1596 1597 1598] TEST: [100]\n",
            "TRAIN: [   0    1    2 ... 1596 1597 1598] TEST: [101]\n",
            "TRAIN: [   0    1    2 ... 1596 1597 1598] TEST: [102]\n",
            "TRAIN: [   0    1    2 ... 1596 1597 1598] TEST: [103]\n",
            "TRAIN: [   0    1    2 ... 1596 1597 1598] TEST: [104]\n",
            "TRAIN: [   0    1    2 ... 1596 1597 1598] TEST: [105]\n",
            "TRAIN: [   0    1    2 ... 1596 1597 1598] TEST: [106]\n",
            "TRAIN: [   0    1    2 ... 1596 1597 1598] TEST: [107]\n",
            "TRAIN: [   0    1    2 ... 1596 1597 1598] TEST: [108]\n",
            "TRAIN: [   0    1    2 ... 1596 1597 1598] TEST: [109]\n",
            "TRAIN: [   0    1    2 ... 1596 1597 1598] TEST: [110]\n",
            "TRAIN: [   0    1    2 ... 1596 1597 1598] TEST: [111]\n",
            "TRAIN: [   0    1    2 ... 1596 1597 1598] TEST: [112]\n",
            "TRAIN: [   0    1    2 ... 1596 1597 1598] TEST: [113]\n",
            "TRAIN: [   0    1    2 ... 1596 1597 1598] TEST: [114]\n",
            "TRAIN: [   0    1    2 ... 1596 1597 1598] TEST: [115]\n",
            "TRAIN: [   0    1    2 ... 1596 1597 1598] TEST: [116]\n",
            "TRAIN: [   0    1    2 ... 1596 1597 1598] TEST: [117]\n",
            "TRAIN: [   0    1    2 ... 1596 1597 1598] TEST: [118]\n",
            "TRAIN: [   0    1    2 ... 1596 1597 1598] TEST: [119]\n",
            "TRAIN: [   0    1    2 ... 1596 1597 1598] TEST: [120]\n",
            "TRAIN: [   0    1    2 ... 1596 1597 1598] TEST: [121]\n",
            "TRAIN: [   0    1    2 ... 1596 1597 1598] TEST: [122]\n",
            "TRAIN: [   0    1    2 ... 1596 1597 1598] TEST: [123]\n",
            "TRAIN: [   0    1    2 ... 1596 1597 1598] TEST: [124]\n",
            "TRAIN: [   0    1    2 ... 1596 1597 1598] TEST: [125]\n",
            "TRAIN: [   0    1    2 ... 1596 1597 1598] TEST: [126]\n",
            "TRAIN: [   0    1    2 ... 1596 1597 1598] TEST: [127]\n",
            "TRAIN: [   0    1    2 ... 1596 1597 1598] TEST: [128]\n",
            "TRAIN: [   0    1    2 ... 1596 1597 1598] TEST: [129]\n",
            "TRAIN: [   0    1    2 ... 1596 1597 1598] TEST: [130]\n",
            "TRAIN: [   0    1    2 ... 1596 1597 1598] TEST: [131]\n",
            "TRAIN: [   0    1    2 ... 1596 1597 1598] TEST: [132]\n",
            "TRAIN: [   0    1    2 ... 1596 1597 1598] TEST: [133]\n",
            "TRAIN: [   0    1    2 ... 1596 1597 1598] TEST: [134]\n",
            "TRAIN: [   0    1    2 ... 1596 1597 1598] TEST: [135]\n",
            "TRAIN: [   0    1    2 ... 1596 1597 1598] TEST: [136]\n",
            "TRAIN: [   0    1    2 ... 1596 1597 1598] TEST: [137]\n",
            "TRAIN: [   0    1    2 ... 1596 1597 1598] TEST: [138]\n",
            "TRAIN: [   0    1    2 ... 1596 1597 1598] TEST: [139]\n",
            "TRAIN: [   0    1    2 ... 1596 1597 1598] TEST: [140]\n",
            "TRAIN: [   0    1    2 ... 1596 1597 1598] TEST: [141]\n",
            "TRAIN: [   0    1    2 ... 1596 1597 1598] TEST: [142]\n",
            "TRAIN: [   0    1    2 ... 1596 1597 1598] TEST: [143]\n",
            "TRAIN: [   0    1    2 ... 1596 1597 1598] TEST: [144]\n",
            "TRAIN: [   0    1    2 ... 1596 1597 1598] TEST: [145]\n",
            "TRAIN: [   0    1    2 ... 1596 1597 1598] TEST: [146]\n",
            "TRAIN: [   0    1    2 ... 1596 1597 1598] TEST: [147]\n",
            "TRAIN: [   0    1    2 ... 1596 1597 1598] TEST: [148]\n",
            "TRAIN: [   0    1    2 ... 1596 1597 1598] TEST: [149]\n",
            "TRAIN: [   0    1    2 ... 1596 1597 1598] TEST: [150]\n",
            "TRAIN: [   0    1    2 ... 1596 1597 1598] TEST: [151]\n",
            "TRAIN: [   0    1    2 ... 1596 1597 1598] TEST: [152]\n",
            "TRAIN: [   0    1    2 ... 1596 1597 1598] TEST: [153]\n",
            "TRAIN: [   0    1    2 ... 1596 1597 1598] TEST: [154]\n",
            "TRAIN: [   0    1    2 ... 1596 1597 1598] TEST: [155]\n",
            "TRAIN: [   0    1    2 ... 1596 1597 1598] TEST: [156]\n",
            "TRAIN: [   0    1    2 ... 1596 1597 1598] TEST: [157]\n",
            "TRAIN: [   0    1    2 ... 1596 1597 1598] TEST: [158]\n",
            "TRAIN: [   0    1    2 ... 1596 1597 1598] TEST: [159]\n",
            "TRAIN: [   0    1    2 ... 1596 1597 1598] TEST: [160]\n",
            "TRAIN: [   0    1    2 ... 1596 1597 1598] TEST: [161]\n",
            "TRAIN: [   0    1    2 ... 1596 1597 1598] TEST: [162]\n",
            "TRAIN: [   0    1    2 ... 1596 1597 1598] TEST: [163]\n",
            "TRAIN: [   0    1    2 ... 1596 1597 1598] TEST: [164]\n",
            "TRAIN: [   0    1    2 ... 1596 1597 1598] TEST: [165]\n",
            "TRAIN: [   0    1    2 ... 1596 1597 1598] TEST: [166]\n",
            "TRAIN: [   0    1    2 ... 1596 1597 1598] TEST: [167]\n",
            "TRAIN: [   0    1    2 ... 1596 1597 1598] TEST: [168]\n",
            "TRAIN: [   0    1    2 ... 1596 1597 1598] TEST: [169]\n",
            "TRAIN: [   0    1    2 ... 1596 1597 1598] TEST: [170]\n",
            "TRAIN: [   0    1    2 ... 1596 1597 1598] TEST: [171]\n",
            "TRAIN: [   0    1    2 ... 1596 1597 1598] TEST: [172]\n",
            "TRAIN: [   0    1    2 ... 1596 1597 1598] TEST: [173]\n",
            "TRAIN: [   0    1    2 ... 1596 1597 1598] TEST: [174]\n",
            "TRAIN: [   0    1    2 ... 1596 1597 1598] TEST: [175]\n",
            "TRAIN: [   0    1    2 ... 1596 1597 1598] TEST: [176]\n",
            "TRAIN: [   0    1    2 ... 1596 1597 1598] TEST: [177]\n",
            "TRAIN: [   0    1    2 ... 1596 1597 1598] TEST: [178]\n",
            "TRAIN: [   0    1    2 ... 1596 1597 1598] TEST: [179]\n",
            "TRAIN: [   0    1    2 ... 1596 1597 1598] TEST: [180]\n",
            "TRAIN: [   0    1    2 ... 1596 1597 1598] TEST: [181]\n",
            "TRAIN: [   0    1    2 ... 1596 1597 1598] TEST: [182]\n",
            "TRAIN: [   0    1    2 ... 1596 1597 1598] TEST: [183]\n",
            "TRAIN: [   0    1    2 ... 1596 1597 1598] TEST: [184]\n",
            "TRAIN: [   0    1    2 ... 1596 1597 1598] TEST: [185]\n",
            "TRAIN: [   0    1    2 ... 1596 1597 1598] TEST: [186]\n",
            "TRAIN: [   0    1    2 ... 1596 1597 1598] TEST: [187]\n",
            "TRAIN: [   0    1    2 ... 1596 1597 1598] TEST: [188]\n",
            "TRAIN: [   0    1    2 ... 1596 1597 1598] TEST: [189]\n",
            "TRAIN: [   0    1    2 ... 1596 1597 1598] TEST: [190]\n",
            "TRAIN: [   0    1    2 ... 1596 1597 1598] TEST: [191]\n",
            "TRAIN: [   0    1    2 ... 1596 1597 1598] TEST: [192]\n",
            "TRAIN: [   0    1    2 ... 1596 1597 1598] TEST: [193]\n",
            "TRAIN: [   0    1    2 ... 1596 1597 1598] TEST: [194]\n",
            "TRAIN: [   0    1    2 ... 1596 1597 1598] TEST: [195]\n",
            "TRAIN: [   0    1    2 ... 1596 1597 1598] TEST: [196]\n",
            "TRAIN: [   0    1    2 ... 1596 1597 1598] TEST: [197]\n",
            "TRAIN: [   0    1    2 ... 1596 1597 1598] TEST: [198]\n",
            "TRAIN: [   0    1    2 ... 1596 1597 1598] TEST: [199]\n",
            "TRAIN: [   0    1    2 ... 1596 1597 1598] TEST: [200]\n",
            "TRAIN: [   0    1    2 ... 1596 1597 1598] TEST: [201]\n",
            "TRAIN: [   0    1    2 ... 1596 1597 1598] TEST: [202]\n",
            "TRAIN: [   0    1    2 ... 1596 1597 1598] TEST: [203]\n",
            "TRAIN: [   0    1    2 ... 1596 1597 1598] TEST: [204]\n",
            "TRAIN: [   0    1    2 ... 1596 1597 1598] TEST: [205]\n",
            "TRAIN: [   0    1    2 ... 1596 1597 1598] TEST: [206]\n",
            "TRAIN: [   0    1    2 ... 1596 1597 1598] TEST: [207]\n",
            "TRAIN: [   0    1    2 ... 1596 1597 1598] TEST: [208]\n",
            "TRAIN: [   0    1    2 ... 1596 1597 1598] TEST: [209]\n",
            "TRAIN: [   0    1    2 ... 1596 1597 1598] TEST: [210]\n",
            "TRAIN: [   0    1    2 ... 1596 1597 1598] TEST: [211]\n",
            "TRAIN: [   0    1    2 ... 1596 1597 1598] TEST: [212]\n",
            "TRAIN: [   0    1    2 ... 1596 1597 1598] TEST: [213]\n",
            "TRAIN: [   0    1    2 ... 1596 1597 1598] TEST: [214]\n",
            "TRAIN: [   0    1    2 ... 1596 1597 1598] TEST: [215]\n",
            "TRAIN: [   0    1    2 ... 1596 1597 1598] TEST: [216]\n",
            "TRAIN: [   0    1    2 ... 1596 1597 1598] TEST: [217]\n",
            "TRAIN: [   0    1    2 ... 1596 1597 1598] TEST: [218]\n",
            "TRAIN: [   0    1    2 ... 1596 1597 1598] TEST: [219]\n",
            "TRAIN: [   0    1    2 ... 1596 1597 1598] TEST: [220]\n",
            "TRAIN: [   0    1    2 ... 1596 1597 1598] TEST: [221]\n",
            "TRAIN: [   0    1    2 ... 1596 1597 1598] TEST: [222]\n",
            "TRAIN: [   0    1    2 ... 1596 1597 1598] TEST: [223]\n",
            "TRAIN: [   0    1    2 ... 1596 1597 1598] TEST: [224]\n",
            "TRAIN: [   0    1    2 ... 1596 1597 1598] TEST: [225]\n",
            "TRAIN: [   0    1    2 ... 1596 1597 1598] TEST: [226]\n",
            "TRAIN: [   0    1    2 ... 1596 1597 1598] TEST: [227]\n",
            "TRAIN: [   0    1    2 ... 1596 1597 1598] TEST: [228]\n",
            "TRAIN: [   0    1    2 ... 1596 1597 1598] TEST: [229]\n",
            "TRAIN: [   0    1    2 ... 1596 1597 1598] TEST: [230]\n",
            "TRAIN: [   0    1    2 ... 1596 1597 1598] TEST: [231]\n",
            "TRAIN: [   0    1    2 ... 1596 1597 1598] TEST: [232]\n",
            "TRAIN: [   0    1    2 ... 1596 1597 1598] TEST: [233]\n",
            "TRAIN: [   0    1    2 ... 1596 1597 1598] TEST: [234]\n",
            "TRAIN: [   0    1    2 ... 1596 1597 1598] TEST: [235]\n",
            "TRAIN: [   0    1    2 ... 1596 1597 1598] TEST: [236]\n",
            "TRAIN: [   0    1    2 ... 1596 1597 1598] TEST: [237]\n",
            "TRAIN: [   0    1    2 ... 1596 1597 1598] TEST: [238]\n",
            "TRAIN: [   0    1    2 ... 1596 1597 1598] TEST: [239]\n",
            "TRAIN: [   0    1    2 ... 1596 1597 1598] TEST: [240]\n",
            "TRAIN: [   0    1    2 ... 1596 1597 1598] TEST: [241]\n",
            "TRAIN: [   0    1    2 ... 1596 1597 1598] TEST: [242]\n",
            "TRAIN: [   0    1    2 ... 1596 1597 1598] TEST: [243]\n",
            "TRAIN: [   0    1    2 ... 1596 1597 1598] TEST: [244]\n",
            "TRAIN: [   0    1    2 ... 1596 1597 1598] TEST: [245]\n",
            "TRAIN: [   0    1    2 ... 1596 1597 1598] TEST: [246]\n",
            "TRAIN: [   0    1    2 ... 1596 1597 1598] TEST: [247]\n",
            "TRAIN: [   0    1    2 ... 1596 1597 1598] TEST: [248]\n",
            "TRAIN: [   0    1    2 ... 1596 1597 1598] TEST: [249]\n",
            "TRAIN: [   0    1    2 ... 1596 1597 1598] TEST: [250]\n",
            "TRAIN: [   0    1    2 ... 1596 1597 1598] TEST: [251]\n",
            "TRAIN: [   0    1    2 ... 1596 1597 1598] TEST: [252]\n",
            "TRAIN: [   0    1    2 ... 1596 1597 1598] TEST: [253]\n",
            "TRAIN: [   0    1    2 ... 1596 1597 1598] TEST: [254]\n",
            "TRAIN: [   0    1    2 ... 1596 1597 1598] TEST: [255]\n",
            "TRAIN: [   0    1    2 ... 1596 1597 1598] TEST: [256]\n",
            "TRAIN: [   0    1    2 ... 1596 1597 1598] TEST: [257]\n",
            "TRAIN: [   0    1    2 ... 1596 1597 1598] TEST: [258]\n",
            "TRAIN: [   0    1    2 ... 1596 1597 1598] TEST: [259]\n",
            "TRAIN: [   0    1    2 ... 1596 1597 1598] TEST: [260]\n",
            "TRAIN: [   0    1    2 ... 1596 1597 1598] TEST: [261]\n",
            "TRAIN: [   0    1    2 ... 1596 1597 1598] TEST: [262]\n",
            "TRAIN: [   0    1    2 ... 1596 1597 1598] TEST: [263]\n",
            "TRAIN: [   0    1    2 ... 1596 1597 1598] TEST: [264]\n",
            "TRAIN: [   0    1    2 ... 1596 1597 1598] TEST: [265]\n",
            "TRAIN: [   0    1    2 ... 1596 1597 1598] TEST: [266]\n",
            "TRAIN: [   0    1    2 ... 1596 1597 1598] TEST: [267]\n",
            "TRAIN: [   0    1    2 ... 1596 1597 1598] TEST: [268]\n",
            "TRAIN: [   0    1    2 ... 1596 1597 1598] TEST: [269]\n",
            "TRAIN: [   0    1    2 ... 1596 1597 1598] TEST: [270]\n",
            "TRAIN: [   0    1    2 ... 1596 1597 1598] TEST: [271]\n",
            "TRAIN: [   0    1    2 ... 1596 1597 1598] TEST: [272]\n",
            "TRAIN: [   0    1    2 ... 1596 1597 1598] TEST: [273]\n",
            "TRAIN: [   0    1    2 ... 1596 1597 1598] TEST: [274]\n",
            "TRAIN: [   0    1    2 ... 1596 1597 1598] TEST: [275]\n",
            "TRAIN: [   0    1    2 ... 1596 1597 1598] TEST: [276]\n",
            "TRAIN: [   0    1    2 ... 1596 1597 1598] TEST: [277]\n",
            "TRAIN: [   0    1    2 ... 1596 1597 1598] TEST: [278]\n",
            "TRAIN: [   0    1    2 ... 1596 1597 1598] TEST: [279]\n",
            "TRAIN: [   0    1    2 ... 1596 1597 1598] TEST: [280]\n",
            "TRAIN: [   0    1    2 ... 1596 1597 1598] TEST: [281]\n",
            "TRAIN: [   0    1    2 ... 1596 1597 1598] TEST: [282]\n",
            "TRAIN: [   0    1    2 ... 1596 1597 1598] TEST: [283]\n",
            "TRAIN: [   0    1    2 ... 1596 1597 1598] TEST: [284]\n",
            "TRAIN: [   0    1    2 ... 1596 1597 1598] TEST: [285]\n",
            "TRAIN: [   0    1    2 ... 1596 1597 1598] TEST: [286]\n",
            "TRAIN: [   0    1    2 ... 1596 1597 1598] TEST: [287]\n",
            "TRAIN: [   0    1    2 ... 1596 1597 1598] TEST: [288]\n",
            "TRAIN: [   0    1    2 ... 1596 1597 1598] TEST: [289]\n",
            "TRAIN: [   0    1    2 ... 1596 1597 1598] TEST: [290]\n",
            "TRAIN: [   0    1    2 ... 1596 1597 1598] TEST: [291]\n",
            "TRAIN: [   0    1    2 ... 1596 1597 1598] TEST: [292]\n",
            "TRAIN: [   0    1    2 ... 1596 1597 1598] TEST: [293]\n",
            "TRAIN: [   0    1    2 ... 1596 1597 1598] TEST: [294]\n",
            "TRAIN: [   0    1    2 ... 1596 1597 1598] TEST: [295]\n",
            "TRAIN: [   0    1    2 ... 1596 1597 1598] TEST: [296]\n",
            "TRAIN: [   0    1    2 ... 1596 1597 1598] TEST: [297]\n",
            "TRAIN: [   0    1    2 ... 1596 1597 1598] TEST: [298]\n",
            "TRAIN: [   0    1    2 ... 1596 1597 1598] TEST: [299]\n",
            "TRAIN: [   0    1    2 ... 1596 1597 1598] TEST: [300]\n",
            "TRAIN: [   0    1    2 ... 1596 1597 1598] TEST: [301]\n",
            "TRAIN: [   0    1    2 ... 1596 1597 1598] TEST: [302]\n",
            "TRAIN: [   0    1    2 ... 1596 1597 1598] TEST: [303]\n",
            "TRAIN: [   0    1    2 ... 1596 1597 1598] TEST: [304]\n",
            "TRAIN: [   0    1    2 ... 1596 1597 1598] TEST: [305]\n",
            "TRAIN: [   0    1    2 ... 1596 1597 1598] TEST: [306]\n",
            "TRAIN: [   0    1    2 ... 1596 1597 1598] TEST: [307]\n",
            "TRAIN: [   0    1    2 ... 1596 1597 1598] TEST: [308]\n",
            "TRAIN: [   0    1    2 ... 1596 1597 1598] TEST: [309]\n",
            "TRAIN: [   0    1    2 ... 1596 1597 1598] TEST: [310]\n",
            "TRAIN: [   0    1    2 ... 1596 1597 1598] TEST: [311]\n",
            "TRAIN: [   0    1    2 ... 1596 1597 1598] TEST: [312]\n",
            "TRAIN: [   0    1    2 ... 1596 1597 1598] TEST: [313]\n",
            "TRAIN: [   0    1    2 ... 1596 1597 1598] TEST: [314]\n",
            "TRAIN: [   0    1    2 ... 1596 1597 1598] TEST: [315]\n",
            "TRAIN: [   0    1    2 ... 1596 1597 1598] TEST: [316]\n",
            "TRAIN: [   0    1    2 ... 1596 1597 1598] TEST: [317]\n",
            "TRAIN: [   0    1    2 ... 1596 1597 1598] TEST: [318]\n",
            "TRAIN: [   0    1    2 ... 1596 1597 1598] TEST: [319]\n",
            "TRAIN: [   0    1    2 ... 1596 1597 1598] TEST: [320]\n",
            "TRAIN: [   0    1    2 ... 1596 1597 1598] TEST: [321]\n",
            "TRAIN: [   0    1    2 ... 1596 1597 1598] TEST: [322]\n",
            "TRAIN: [   0    1    2 ... 1596 1597 1598] TEST: [323]\n",
            "TRAIN: [   0    1    2 ... 1596 1597 1598] TEST: [324]\n",
            "TRAIN: [   0    1    2 ... 1596 1597 1598] TEST: [325]\n",
            "TRAIN: [   0    1    2 ... 1596 1597 1598] TEST: [326]\n",
            "TRAIN: [   0    1    2 ... 1596 1597 1598] TEST: [327]\n",
            "TRAIN: [   0    1    2 ... 1596 1597 1598] TEST: [328]\n",
            "TRAIN: [   0    1    2 ... 1596 1597 1598] TEST: [329]\n",
            "TRAIN: [   0    1    2 ... 1596 1597 1598] TEST: [330]\n",
            "TRAIN: [   0    1    2 ... 1596 1597 1598] TEST: [331]\n",
            "TRAIN: [   0    1    2 ... 1596 1597 1598] TEST: [332]\n",
            "TRAIN: [   0    1    2 ... 1596 1597 1598] TEST: [333]\n",
            "TRAIN: [   0    1    2 ... 1596 1597 1598] TEST: [334]\n",
            "TRAIN: [   0    1    2 ... 1596 1597 1598] TEST: [335]\n",
            "TRAIN: [   0    1    2 ... 1596 1597 1598] TEST: [336]\n",
            "TRAIN: [   0    1    2 ... 1596 1597 1598] TEST: [337]\n",
            "TRAIN: [   0    1    2 ... 1596 1597 1598] TEST: [338]\n",
            "TRAIN: [   0    1    2 ... 1596 1597 1598] TEST: [339]\n",
            "TRAIN: [   0    1    2 ... 1596 1597 1598] TEST: [340]\n",
            "TRAIN: [   0    1    2 ... 1596 1597 1598] TEST: [341]\n",
            "TRAIN: [   0    1    2 ... 1596 1597 1598] TEST: [342]\n",
            "TRAIN: [   0    1    2 ... 1596 1597 1598] TEST: [343]\n",
            "TRAIN: [   0    1    2 ... 1596 1597 1598] TEST: [344]\n",
            "TRAIN: [   0    1    2 ... 1596 1597 1598] TEST: [345]\n",
            "TRAIN: [   0    1    2 ... 1596 1597 1598] TEST: [346]\n",
            "TRAIN: [   0    1    2 ... 1596 1597 1598] TEST: [347]\n",
            "TRAIN: [   0    1    2 ... 1596 1597 1598] TEST: [348]\n",
            "TRAIN: [   0    1    2 ... 1596 1597 1598] TEST: [349]\n",
            "TRAIN: [   0    1    2 ... 1596 1597 1598] TEST: [350]\n",
            "TRAIN: [   0    1    2 ... 1596 1597 1598] TEST: [351]\n",
            "TRAIN: [   0    1    2 ... 1596 1597 1598] TEST: [352]\n",
            "TRAIN: [   0    1    2 ... 1596 1597 1598] TEST: [353]\n",
            "TRAIN: [   0    1    2 ... 1596 1597 1598] TEST: [354]\n",
            "TRAIN: [   0    1    2 ... 1596 1597 1598] TEST: [355]\n",
            "TRAIN: [   0    1    2 ... 1596 1597 1598] TEST: [356]\n",
            "TRAIN: [   0    1    2 ... 1596 1597 1598] TEST: [357]\n",
            "TRAIN: [   0    1    2 ... 1596 1597 1598] TEST: [358]\n",
            "TRAIN: [   0    1    2 ... 1596 1597 1598] TEST: [359]\n",
            "TRAIN: [   0    1    2 ... 1596 1597 1598] TEST: [360]\n",
            "TRAIN: [   0    1    2 ... 1596 1597 1598] TEST: [361]\n",
            "TRAIN: [   0    1    2 ... 1596 1597 1598] TEST: [362]\n",
            "TRAIN: [   0    1    2 ... 1596 1597 1598] TEST: [363]\n",
            "TRAIN: [   0    1    2 ... 1596 1597 1598] TEST: [364]\n",
            "TRAIN: [   0    1    2 ... 1596 1597 1598] TEST: [365]\n",
            "TRAIN: [   0    1    2 ... 1596 1597 1598] TEST: [366]\n",
            "TRAIN: [   0    1    2 ... 1596 1597 1598] TEST: [367]\n",
            "TRAIN: [   0    1    2 ... 1596 1597 1598] TEST: [368]\n",
            "TRAIN: [   0    1    2 ... 1596 1597 1598] TEST: [369]\n",
            "TRAIN: [   0    1    2 ... 1596 1597 1598] TEST: [370]\n",
            "TRAIN: [   0    1    2 ... 1596 1597 1598] TEST: [371]\n",
            "TRAIN: [   0    1    2 ... 1596 1597 1598] TEST: [372]\n",
            "TRAIN: [   0    1    2 ... 1596 1597 1598] TEST: [373]\n",
            "TRAIN: [   0    1    2 ... 1596 1597 1598] TEST: [374]\n",
            "TRAIN: [   0    1    2 ... 1596 1597 1598] TEST: [375]\n",
            "TRAIN: [   0    1    2 ... 1596 1597 1598] TEST: [376]\n",
            "TRAIN: [   0    1    2 ... 1596 1597 1598] TEST: [377]\n",
            "TRAIN: [   0    1    2 ... 1596 1597 1598] TEST: [378]\n",
            "TRAIN: [   0    1    2 ... 1596 1597 1598] TEST: [379]\n",
            "TRAIN: [   0    1    2 ... 1596 1597 1598] TEST: [380]\n",
            "TRAIN: [   0    1    2 ... 1596 1597 1598] TEST: [381]\n",
            "TRAIN: [   0    1    2 ... 1596 1597 1598] TEST: [382]\n",
            "TRAIN: [   0    1    2 ... 1596 1597 1598] TEST: [383]\n",
            "TRAIN: [   0    1    2 ... 1596 1597 1598] TEST: [384]\n",
            "TRAIN: [   0    1    2 ... 1596 1597 1598] TEST: [385]\n",
            "TRAIN: [   0    1    2 ... 1596 1597 1598] TEST: [386]\n",
            "TRAIN: [   0    1    2 ... 1596 1597 1598] TEST: [387]\n",
            "TRAIN: [   0    1    2 ... 1596 1597 1598] TEST: [388]\n",
            "TRAIN: [   0    1    2 ... 1596 1597 1598] TEST: [389]\n",
            "TRAIN: [   0    1    2 ... 1596 1597 1598] TEST: [390]\n",
            "TRAIN: [   0    1    2 ... 1596 1597 1598] TEST: [391]\n",
            "TRAIN: [   0    1    2 ... 1596 1597 1598] TEST: [392]\n",
            "TRAIN: [   0    1    2 ... 1596 1597 1598] TEST: [393]\n",
            "TRAIN: [   0    1    2 ... 1596 1597 1598] TEST: [394]\n",
            "TRAIN: [   0    1    2 ... 1596 1597 1598] TEST: [395]\n",
            "TRAIN: [   0    1    2 ... 1596 1597 1598] TEST: [396]\n",
            "TRAIN: [   0    1    2 ... 1596 1597 1598] TEST: [397]\n",
            "TRAIN: [   0    1    2 ... 1596 1597 1598] TEST: [398]\n",
            "TRAIN: [   0    1    2 ... 1596 1597 1598] TEST: [399]\n",
            "TRAIN: [   0    1    2 ... 1596 1597 1598] TEST: [400]\n",
            "TRAIN: [   0    1    2 ... 1596 1597 1598] TEST: [401]\n",
            "TRAIN: [   0    1    2 ... 1596 1597 1598] TEST: [402]\n",
            "TRAIN: [   0    1    2 ... 1596 1597 1598] TEST: [403]\n",
            "TRAIN: [   0    1    2 ... 1596 1597 1598] TEST: [404]\n",
            "TRAIN: [   0    1    2 ... 1596 1597 1598] TEST: [405]\n",
            "TRAIN: [   0    1    2 ... 1596 1597 1598] TEST: [406]\n",
            "TRAIN: [   0    1    2 ... 1596 1597 1598] TEST: [407]\n",
            "TRAIN: [   0    1    2 ... 1596 1597 1598] TEST: [408]\n",
            "TRAIN: [   0    1    2 ... 1596 1597 1598] TEST: [409]\n",
            "TRAIN: [   0    1    2 ... 1596 1597 1598] TEST: [410]\n",
            "TRAIN: [   0    1    2 ... 1596 1597 1598] TEST: [411]\n",
            "TRAIN: [   0    1    2 ... 1596 1597 1598] TEST: [412]\n",
            "TRAIN: [   0    1    2 ... 1596 1597 1598] TEST: [413]\n",
            "TRAIN: [   0    1    2 ... 1596 1597 1598] TEST: [414]\n",
            "TRAIN: [   0    1    2 ... 1596 1597 1598] TEST: [415]\n",
            "TRAIN: [   0    1    2 ... 1596 1597 1598] TEST: [416]\n",
            "TRAIN: [   0    1    2 ... 1596 1597 1598] TEST: [417]\n",
            "TRAIN: [   0    1    2 ... 1596 1597 1598] TEST: [418]\n",
            "TRAIN: [   0    1    2 ... 1596 1597 1598] TEST: [419]\n",
            "TRAIN: [   0    1    2 ... 1596 1597 1598] TEST: [420]\n",
            "TRAIN: [   0    1    2 ... 1596 1597 1598] TEST: [421]\n",
            "TRAIN: [   0    1    2 ... 1596 1597 1598] TEST: [422]\n",
            "TRAIN: [   0    1    2 ... 1596 1597 1598] TEST: [423]\n",
            "TRAIN: [   0    1    2 ... 1596 1597 1598] TEST: [424]\n",
            "TRAIN: [   0    1    2 ... 1596 1597 1598] TEST: [425]\n",
            "TRAIN: [   0    1    2 ... 1596 1597 1598] TEST: [426]\n",
            "TRAIN: [   0    1    2 ... 1596 1597 1598] TEST: [427]\n",
            "TRAIN: [   0    1    2 ... 1596 1597 1598] TEST: [428]\n",
            "TRAIN: [   0    1    2 ... 1596 1597 1598] TEST: [429]\n",
            "TRAIN: [   0    1    2 ... 1596 1597 1598] TEST: [430]\n",
            "TRAIN: [   0    1    2 ... 1596 1597 1598] TEST: [431]\n",
            "TRAIN: [   0    1    2 ... 1596 1597 1598] TEST: [432]\n",
            "TRAIN: [   0    1    2 ... 1596 1597 1598] TEST: [433]\n",
            "TRAIN: [   0    1    2 ... 1596 1597 1598] TEST: [434]\n",
            "TRAIN: [   0    1    2 ... 1596 1597 1598] TEST: [435]\n",
            "TRAIN: [   0    1    2 ... 1596 1597 1598] TEST: [436]\n",
            "TRAIN: [   0    1    2 ... 1596 1597 1598] TEST: [437]\n",
            "TRAIN: [   0    1    2 ... 1596 1597 1598] TEST: [438]\n",
            "TRAIN: [   0    1    2 ... 1596 1597 1598] TEST: [439]\n",
            "TRAIN: [   0    1    2 ... 1596 1597 1598] TEST: [440]\n",
            "TRAIN: [   0    1    2 ... 1596 1597 1598] TEST: [441]\n",
            "TRAIN: [   0    1    2 ... 1596 1597 1598] TEST: [442]\n",
            "TRAIN: [   0    1    2 ... 1596 1597 1598] TEST: [443]\n",
            "TRAIN: [   0    1    2 ... 1596 1597 1598] TEST: [444]\n",
            "TRAIN: [   0    1    2 ... 1596 1597 1598] TEST: [445]\n",
            "TRAIN: [   0    1    2 ... 1596 1597 1598] TEST: [446]\n",
            "TRAIN: [   0    1    2 ... 1596 1597 1598] TEST: [447]\n",
            "TRAIN: [   0    1    2 ... 1596 1597 1598] TEST: [448]\n",
            "TRAIN: [   0    1    2 ... 1596 1597 1598] TEST: [449]\n",
            "TRAIN: [   0    1    2 ... 1596 1597 1598] TEST: [450]\n",
            "TRAIN: [   0    1    2 ... 1596 1597 1598] TEST: [451]\n",
            "TRAIN: [   0    1    2 ... 1596 1597 1598] TEST: [452]\n",
            "TRAIN: [   0    1    2 ... 1596 1597 1598] TEST: [453]\n",
            "TRAIN: [   0    1    2 ... 1596 1597 1598] TEST: [454]\n",
            "TRAIN: [   0    1    2 ... 1596 1597 1598] TEST: [455]\n",
            "TRAIN: [   0    1    2 ... 1596 1597 1598] TEST: [456]\n",
            "TRAIN: [   0    1    2 ... 1596 1597 1598] TEST: [457]\n",
            "TRAIN: [   0    1    2 ... 1596 1597 1598] TEST: [458]\n",
            "TRAIN: [   0    1    2 ... 1596 1597 1598] TEST: [459]\n",
            "TRAIN: [   0    1    2 ... 1596 1597 1598] TEST: [460]\n",
            "TRAIN: [   0    1    2 ... 1596 1597 1598] TEST: [461]\n",
            "TRAIN: [   0    1    2 ... 1596 1597 1598] TEST: [462]\n",
            "TRAIN: [   0    1    2 ... 1596 1597 1598] TEST: [463]\n",
            "TRAIN: [   0    1    2 ... 1596 1597 1598] TEST: [464]\n",
            "TRAIN: [   0    1    2 ... 1596 1597 1598] TEST: [465]\n",
            "TRAIN: [   0    1    2 ... 1596 1597 1598] TEST: [466]\n",
            "TRAIN: [   0    1    2 ... 1596 1597 1598] TEST: [467]\n",
            "TRAIN: [   0    1    2 ... 1596 1597 1598] TEST: [468]\n",
            "TRAIN: [   0    1    2 ... 1596 1597 1598] TEST: [469]\n",
            "TRAIN: [   0    1    2 ... 1596 1597 1598] TEST: [470]\n",
            "TRAIN: [   0    1    2 ... 1596 1597 1598] TEST: [471]\n",
            "TRAIN: [   0    1    2 ... 1596 1597 1598] TEST: [472]\n",
            "TRAIN: [   0    1    2 ... 1596 1597 1598] TEST: [473]\n",
            "TRAIN: [   0    1    2 ... 1596 1597 1598] TEST: [474]\n",
            "TRAIN: [   0    1    2 ... 1596 1597 1598] TEST: [475]\n",
            "TRAIN: [   0    1    2 ... 1596 1597 1598] TEST: [476]\n",
            "TRAIN: [   0    1    2 ... 1596 1597 1598] TEST: [477]\n",
            "TRAIN: [   0    1    2 ... 1596 1597 1598] TEST: [478]\n",
            "TRAIN: [   0    1    2 ... 1596 1597 1598] TEST: [479]\n",
            "TRAIN: [   0    1    2 ... 1596 1597 1598] TEST: [480]\n",
            "TRAIN: [   0    1    2 ... 1596 1597 1598] TEST: [481]\n",
            "TRAIN: [   0    1    2 ... 1596 1597 1598] TEST: [482]\n",
            "TRAIN: [   0    1    2 ... 1596 1597 1598] TEST: [483]\n",
            "TRAIN: [   0    1    2 ... 1596 1597 1598] TEST: [484]\n",
            "TRAIN: [   0    1    2 ... 1596 1597 1598] TEST: [485]\n",
            "TRAIN: [   0    1    2 ... 1596 1597 1598] TEST: [486]\n",
            "TRAIN: [   0    1    2 ... 1596 1597 1598] TEST: [487]\n",
            "TRAIN: [   0    1    2 ... 1596 1597 1598] TEST: [488]\n",
            "TRAIN: [   0    1    2 ... 1596 1597 1598] TEST: [489]\n",
            "TRAIN: [   0    1    2 ... 1596 1597 1598] TEST: [490]\n",
            "TRAIN: [   0    1    2 ... 1596 1597 1598] TEST: [491]\n",
            "TRAIN: [   0    1    2 ... 1596 1597 1598] TEST: [492]\n",
            "TRAIN: [   0    1    2 ... 1596 1597 1598] TEST: [493]\n",
            "TRAIN: [   0    1    2 ... 1596 1597 1598] TEST: [494]\n",
            "TRAIN: [   0    1    2 ... 1596 1597 1598] TEST: [495]\n",
            "TRAIN: [   0    1    2 ... 1596 1597 1598] TEST: [496]\n",
            "TRAIN: [   0    1    2 ... 1596 1597 1598] TEST: [497]\n",
            "TRAIN: [   0    1    2 ... 1596 1597 1598] TEST: [498]\n",
            "TRAIN: [   0    1    2 ... 1596 1597 1598] TEST: [499]\n",
            "TRAIN: [   0    1    2 ... 1596 1597 1598] TEST: [500]\n",
            "TRAIN: [   0    1    2 ... 1596 1597 1598] TEST: [501]\n",
            "TRAIN: [   0    1    2 ... 1596 1597 1598] TEST: [502]\n",
            "TRAIN: [   0    1    2 ... 1596 1597 1598] TEST: [503]\n",
            "TRAIN: [   0    1    2 ... 1596 1597 1598] TEST: [504]\n",
            "TRAIN: [   0    1    2 ... 1596 1597 1598] TEST: [505]\n",
            "TRAIN: [   0    1    2 ... 1596 1597 1598] TEST: [506]\n",
            "TRAIN: [   0    1    2 ... 1596 1597 1598] TEST: [507]\n",
            "TRAIN: [   0    1    2 ... 1596 1597 1598] TEST: [508]\n",
            "TRAIN: [   0    1    2 ... 1596 1597 1598] TEST: [509]\n",
            "TRAIN: [   0    1    2 ... 1596 1597 1598] TEST: [510]\n",
            "TRAIN: [   0    1    2 ... 1596 1597 1598] TEST: [511]\n",
            "TRAIN: [   0    1    2 ... 1596 1597 1598] TEST: [512]\n",
            "TRAIN: [   0    1    2 ... 1596 1597 1598] TEST: [513]\n",
            "TRAIN: [   0    1    2 ... 1596 1597 1598] TEST: [514]\n",
            "TRAIN: [   0    1    2 ... 1596 1597 1598] TEST: [515]\n",
            "TRAIN: [   0    1    2 ... 1596 1597 1598] TEST: [516]\n",
            "TRAIN: [   0    1    2 ... 1596 1597 1598] TEST: [517]\n",
            "TRAIN: [   0    1    2 ... 1596 1597 1598] TEST: [518]\n",
            "TRAIN: [   0    1    2 ... 1596 1597 1598] TEST: [519]\n",
            "TRAIN: [   0    1    2 ... 1596 1597 1598] TEST: [520]\n",
            "TRAIN: [   0    1    2 ... 1596 1597 1598] TEST: [521]\n",
            "TRAIN: [   0    1    2 ... 1596 1597 1598] TEST: [522]\n",
            "TRAIN: [   0    1    2 ... 1596 1597 1598] TEST: [523]\n",
            "TRAIN: [   0    1    2 ... 1596 1597 1598] TEST: [524]\n",
            "TRAIN: [   0    1    2 ... 1596 1597 1598] TEST: [525]\n",
            "TRAIN: [   0    1    2 ... 1596 1597 1598] TEST: [526]\n",
            "TRAIN: [   0    1    2 ... 1596 1597 1598] TEST: [527]\n",
            "TRAIN: [   0    1    2 ... 1596 1597 1598] TEST: [528]\n",
            "TRAIN: [   0    1    2 ... 1596 1597 1598] TEST: [529]\n",
            "TRAIN: [   0    1    2 ... 1596 1597 1598] TEST: [530]\n",
            "TRAIN: [   0    1    2 ... 1596 1597 1598] TEST: [531]\n",
            "TRAIN: [   0    1    2 ... 1596 1597 1598] TEST: [532]\n",
            "TRAIN: [   0    1    2 ... 1596 1597 1598] TEST: [533]\n",
            "TRAIN: [   0    1    2 ... 1596 1597 1598] TEST: [534]\n",
            "TRAIN: [   0    1    2 ... 1596 1597 1598] TEST: [535]\n",
            "TRAIN: [   0    1    2 ... 1596 1597 1598] TEST: [536]\n",
            "TRAIN: [   0    1    2 ... 1596 1597 1598] TEST: [537]\n",
            "TRAIN: [   0    1    2 ... 1596 1597 1598] TEST: [538]\n",
            "TRAIN: [   0    1    2 ... 1596 1597 1598] TEST: [539]\n",
            "TRAIN: [   0    1    2 ... 1596 1597 1598] TEST: [540]\n",
            "TRAIN: [   0    1    2 ... 1596 1597 1598] TEST: [541]\n",
            "TRAIN: [   0    1    2 ... 1596 1597 1598] TEST: [542]\n",
            "TRAIN: [   0    1    2 ... 1596 1597 1598] TEST: [543]\n",
            "TRAIN: [   0    1    2 ... 1596 1597 1598] TEST: [544]\n",
            "TRAIN: [   0    1    2 ... 1596 1597 1598] TEST: [545]\n",
            "TRAIN: [   0    1    2 ... 1596 1597 1598] TEST: [546]\n",
            "TRAIN: [   0    1    2 ... 1596 1597 1598] TEST: [547]\n",
            "TRAIN: [   0    1    2 ... 1596 1597 1598] TEST: [548]\n",
            "TRAIN: [   0    1    2 ... 1596 1597 1598] TEST: [549]\n",
            "TRAIN: [   0    1    2 ... 1596 1597 1598] TEST: [550]\n",
            "TRAIN: [   0    1    2 ... 1596 1597 1598] TEST: [551]\n",
            "TRAIN: [   0    1    2 ... 1596 1597 1598] TEST: [552]\n",
            "TRAIN: [   0    1    2 ... 1596 1597 1598] TEST: [553]\n",
            "TRAIN: [   0    1    2 ... 1596 1597 1598] TEST: [554]\n",
            "TRAIN: [   0    1    2 ... 1596 1597 1598] TEST: [555]\n",
            "TRAIN: [   0    1    2 ... 1596 1597 1598] TEST: [556]\n",
            "TRAIN: [   0    1    2 ... 1596 1597 1598] TEST: [557]\n",
            "TRAIN: [   0    1    2 ... 1596 1597 1598] TEST: [558]\n",
            "TRAIN: [   0    1    2 ... 1596 1597 1598] TEST: [559]\n",
            "TRAIN: [   0    1    2 ... 1596 1597 1598] TEST: [560]\n",
            "TRAIN: [   0    1    2 ... 1596 1597 1598] TEST: [561]\n",
            "TRAIN: [   0    1    2 ... 1596 1597 1598] TEST: [562]\n",
            "TRAIN: [   0    1    2 ... 1596 1597 1598] TEST: [563]\n",
            "TRAIN: [   0    1    2 ... 1596 1597 1598] TEST: [564]\n",
            "TRAIN: [   0    1    2 ... 1596 1597 1598] TEST: [565]\n",
            "TRAIN: [   0    1    2 ... 1596 1597 1598] TEST: [566]\n",
            "TRAIN: [   0    1    2 ... 1596 1597 1598] TEST: [567]\n",
            "TRAIN: [   0    1    2 ... 1596 1597 1598] TEST: [568]\n",
            "TRAIN: [   0    1    2 ... 1596 1597 1598] TEST: [569]\n",
            "TRAIN: [   0    1    2 ... 1596 1597 1598] TEST: [570]\n",
            "TRAIN: [   0    1    2 ... 1596 1597 1598] TEST: [571]\n",
            "TRAIN: [   0    1    2 ... 1596 1597 1598] TEST: [572]\n",
            "TRAIN: [   0    1    2 ... 1596 1597 1598] TEST: [573]\n",
            "TRAIN: [   0    1    2 ... 1596 1597 1598] TEST: [574]\n",
            "TRAIN: [   0    1    2 ... 1596 1597 1598] TEST: [575]\n",
            "TRAIN: [   0    1    2 ... 1596 1597 1598] TEST: [576]\n",
            "TRAIN: [   0    1    2 ... 1596 1597 1598] TEST: [577]\n",
            "TRAIN: [   0    1    2 ... 1596 1597 1598] TEST: [578]\n",
            "TRAIN: [   0    1    2 ... 1596 1597 1598] TEST: [579]\n",
            "TRAIN: [   0    1    2 ... 1596 1597 1598] TEST: [580]\n",
            "TRAIN: [   0    1    2 ... 1596 1597 1598] TEST: [581]\n",
            "TRAIN: [   0    1    2 ... 1596 1597 1598] TEST: [582]\n",
            "TRAIN: [   0    1    2 ... 1596 1597 1598] TEST: [583]\n",
            "TRAIN: [   0    1    2 ... 1596 1597 1598] TEST: [584]\n",
            "TRAIN: [   0    1    2 ... 1596 1597 1598] TEST: [585]\n",
            "TRAIN: [   0    1    2 ... 1596 1597 1598] TEST: [586]\n",
            "TRAIN: [   0    1    2 ... 1596 1597 1598] TEST: [587]\n",
            "TRAIN: [   0    1    2 ... 1596 1597 1598] TEST: [588]\n",
            "TRAIN: [   0    1    2 ... 1596 1597 1598] TEST: [589]\n",
            "TRAIN: [   0    1    2 ... 1596 1597 1598] TEST: [590]\n",
            "TRAIN: [   0    1    2 ... 1596 1597 1598] TEST: [591]\n",
            "TRAIN: [   0    1    2 ... 1596 1597 1598] TEST: [592]\n",
            "TRAIN: [   0    1    2 ... 1596 1597 1598] TEST: [593]\n",
            "TRAIN: [   0    1    2 ... 1596 1597 1598] TEST: [594]\n",
            "TRAIN: [   0    1    2 ... 1596 1597 1598] TEST: [595]\n",
            "TRAIN: [   0    1    2 ... 1596 1597 1598] TEST: [596]\n",
            "TRAIN: [   0    1    2 ... 1596 1597 1598] TEST: [597]\n",
            "TRAIN: [   0    1    2 ... 1596 1597 1598] TEST: [598]\n",
            "TRAIN: [   0    1    2 ... 1596 1597 1598] TEST: [599]\n",
            "TRAIN: [   0    1    2 ... 1596 1597 1598] TEST: [600]\n",
            "TRAIN: [   0    1    2 ... 1596 1597 1598] TEST: [601]\n",
            "TRAIN: [   0    1    2 ... 1596 1597 1598] TEST: [602]\n",
            "TRAIN: [   0    1    2 ... 1596 1597 1598] TEST: [603]\n",
            "TRAIN: [   0    1    2 ... 1596 1597 1598] TEST: [604]\n",
            "TRAIN: [   0    1    2 ... 1596 1597 1598] TEST: [605]\n",
            "TRAIN: [   0    1    2 ... 1596 1597 1598] TEST: [606]\n",
            "TRAIN: [   0    1    2 ... 1596 1597 1598] TEST: [607]\n",
            "TRAIN: [   0    1    2 ... 1596 1597 1598] TEST: [608]\n",
            "TRAIN: [   0    1    2 ... 1596 1597 1598] TEST: [609]\n",
            "TRAIN: [   0    1    2 ... 1596 1597 1598] TEST: [610]\n",
            "TRAIN: [   0    1    2 ... 1596 1597 1598] TEST: [611]\n",
            "TRAIN: [   0    1    2 ... 1596 1597 1598] TEST: [612]\n",
            "TRAIN: [   0    1    2 ... 1596 1597 1598] TEST: [613]\n",
            "TRAIN: [   0    1    2 ... 1596 1597 1598] TEST: [614]\n",
            "TRAIN: [   0    1    2 ... 1596 1597 1598] TEST: [615]\n",
            "TRAIN: [   0    1    2 ... 1596 1597 1598] TEST: [616]\n",
            "TRAIN: [   0    1    2 ... 1596 1597 1598] TEST: [617]\n",
            "TRAIN: [   0    1    2 ... 1596 1597 1598] TEST: [618]\n",
            "TRAIN: [   0    1    2 ... 1596 1597 1598] TEST: [619]\n",
            "TRAIN: [   0    1    2 ... 1596 1597 1598] TEST: [620]\n",
            "TRAIN: [   0    1    2 ... 1596 1597 1598] TEST: [621]\n",
            "TRAIN: [   0    1    2 ... 1596 1597 1598] TEST: [622]\n",
            "TRAIN: [   0    1    2 ... 1596 1597 1598] TEST: [623]\n",
            "TRAIN: [   0    1    2 ... 1596 1597 1598] TEST: [624]\n",
            "TRAIN: [   0    1    2 ... 1596 1597 1598] TEST: [625]\n",
            "TRAIN: [   0    1    2 ... 1596 1597 1598] TEST: [626]\n",
            "TRAIN: [   0    1    2 ... 1596 1597 1598] TEST: [627]\n",
            "TRAIN: [   0    1    2 ... 1596 1597 1598] TEST: [628]\n",
            "TRAIN: [   0    1    2 ... 1596 1597 1598] TEST: [629]\n",
            "TRAIN: [   0    1    2 ... 1596 1597 1598] TEST: [630]\n",
            "TRAIN: [   0    1    2 ... 1596 1597 1598] TEST: [631]\n",
            "TRAIN: [   0    1    2 ... 1596 1597 1598] TEST: [632]\n",
            "TRAIN: [   0    1    2 ... 1596 1597 1598] TEST: [633]\n",
            "TRAIN: [   0    1    2 ... 1596 1597 1598] TEST: [634]\n",
            "TRAIN: [   0    1    2 ... 1596 1597 1598] TEST: [635]\n",
            "TRAIN: [   0    1    2 ... 1596 1597 1598] TEST: [636]\n",
            "TRAIN: [   0    1    2 ... 1596 1597 1598] TEST: [637]\n",
            "TRAIN: [   0    1    2 ... 1596 1597 1598] TEST: [638]\n",
            "TRAIN: [   0    1    2 ... 1596 1597 1598] TEST: [639]\n",
            "TRAIN: [   0    1    2 ... 1596 1597 1598] TEST: [640]\n",
            "TRAIN: [   0    1    2 ... 1596 1597 1598] TEST: [641]\n",
            "TRAIN: [   0    1    2 ... 1596 1597 1598] TEST: [642]\n",
            "TRAIN: [   0    1    2 ... 1596 1597 1598] TEST: [643]\n",
            "TRAIN: [   0    1    2 ... 1596 1597 1598] TEST: [644]\n",
            "TRAIN: [   0    1    2 ... 1596 1597 1598] TEST: [645]\n",
            "TRAIN: [   0    1    2 ... 1596 1597 1598] TEST: [646]\n",
            "TRAIN: [   0    1    2 ... 1596 1597 1598] TEST: [647]\n",
            "TRAIN: [   0    1    2 ... 1596 1597 1598] TEST: [648]\n",
            "TRAIN: [   0    1    2 ... 1596 1597 1598] TEST: [649]\n",
            "TRAIN: [   0    1    2 ... 1596 1597 1598] TEST: [650]\n",
            "TRAIN: [   0    1    2 ... 1596 1597 1598] TEST: [651]\n",
            "TRAIN: [   0    1    2 ... 1596 1597 1598] TEST: [652]\n",
            "TRAIN: [   0    1    2 ... 1596 1597 1598] TEST: [653]\n",
            "TRAIN: [   0    1    2 ... 1596 1597 1598] TEST: [654]\n",
            "TRAIN: [   0    1    2 ... 1596 1597 1598] TEST: [655]\n",
            "TRAIN: [   0    1    2 ... 1596 1597 1598] TEST: [656]\n",
            "TRAIN: [   0    1    2 ... 1596 1597 1598] TEST: [657]\n",
            "TRAIN: [   0    1    2 ... 1596 1597 1598] TEST: [658]\n",
            "TRAIN: [   0    1    2 ... 1596 1597 1598] TEST: [659]\n",
            "TRAIN: [   0    1    2 ... 1596 1597 1598] TEST: [660]\n",
            "TRAIN: [   0    1    2 ... 1596 1597 1598] TEST: [661]\n",
            "TRAIN: [   0    1    2 ... 1596 1597 1598] TEST: [662]\n",
            "TRAIN: [   0    1    2 ... 1596 1597 1598] TEST: [663]\n",
            "TRAIN: [   0    1    2 ... 1596 1597 1598] TEST: [664]\n",
            "TRAIN: [   0    1    2 ... 1596 1597 1598] TEST: [665]\n",
            "TRAIN: [   0    1    2 ... 1596 1597 1598] TEST: [666]\n",
            "TRAIN: [   0    1    2 ... 1596 1597 1598] TEST: [667]\n",
            "TRAIN: [   0    1    2 ... 1596 1597 1598] TEST: [668]\n",
            "TRAIN: [   0    1    2 ... 1596 1597 1598] TEST: [669]\n",
            "TRAIN: [   0    1    2 ... 1596 1597 1598] TEST: [670]\n",
            "TRAIN: [   0    1    2 ... 1596 1597 1598] TEST: [671]\n",
            "TRAIN: [   0    1    2 ... 1596 1597 1598] TEST: [672]\n",
            "TRAIN: [   0    1    2 ... 1596 1597 1598] TEST: [673]\n",
            "TRAIN: [   0    1    2 ... 1596 1597 1598] TEST: [674]\n",
            "TRAIN: [   0    1    2 ... 1596 1597 1598] TEST: [675]\n",
            "TRAIN: [   0    1    2 ... 1596 1597 1598] TEST: [676]\n",
            "TRAIN: [   0    1    2 ... 1596 1597 1598] TEST: [677]\n",
            "TRAIN: [   0    1    2 ... 1596 1597 1598] TEST: [678]\n",
            "TRAIN: [   0    1    2 ... 1596 1597 1598] TEST: [679]\n",
            "TRAIN: [   0    1    2 ... 1596 1597 1598] TEST: [680]\n",
            "TRAIN: [   0    1    2 ... 1596 1597 1598] TEST: [681]\n",
            "TRAIN: [   0    1    2 ... 1596 1597 1598] TEST: [682]\n",
            "TRAIN: [   0    1    2 ... 1596 1597 1598] TEST: [683]\n",
            "TRAIN: [   0    1    2 ... 1596 1597 1598] TEST: [684]\n",
            "TRAIN: [   0    1    2 ... 1596 1597 1598] TEST: [685]\n",
            "TRAIN: [   0    1    2 ... 1596 1597 1598] TEST: [686]\n",
            "TRAIN: [   0    1    2 ... 1596 1597 1598] TEST: [687]\n",
            "TRAIN: [   0    1    2 ... 1596 1597 1598] TEST: [688]\n",
            "TRAIN: [   0    1    2 ... 1596 1597 1598] TEST: [689]\n",
            "TRAIN: [   0    1    2 ... 1596 1597 1598] TEST: [690]\n",
            "TRAIN: [   0    1    2 ... 1596 1597 1598] TEST: [691]\n",
            "TRAIN: [   0    1    2 ... 1596 1597 1598] TEST: [692]\n",
            "TRAIN: [   0    1    2 ... 1596 1597 1598] TEST: [693]\n",
            "TRAIN: [   0    1    2 ... 1596 1597 1598] TEST: [694]\n",
            "TRAIN: [   0    1    2 ... 1596 1597 1598] TEST: [695]\n",
            "TRAIN: [   0    1    2 ... 1596 1597 1598] TEST: [696]\n",
            "TRAIN: [   0    1    2 ... 1596 1597 1598] TEST: [697]\n",
            "TRAIN: [   0    1    2 ... 1596 1597 1598] TEST: [698]\n",
            "TRAIN: [   0    1    2 ... 1596 1597 1598] TEST: [699]\n",
            "TRAIN: [   0    1    2 ... 1596 1597 1598] TEST: [700]\n",
            "TRAIN: [   0    1    2 ... 1596 1597 1598] TEST: [701]\n",
            "TRAIN: [   0    1    2 ... 1596 1597 1598] TEST: [702]\n",
            "TRAIN: [   0    1    2 ... 1596 1597 1598] TEST: [703]\n",
            "TRAIN: [   0    1    2 ... 1596 1597 1598] TEST: [704]\n",
            "TRAIN: [   0    1    2 ... 1596 1597 1598] TEST: [705]\n",
            "TRAIN: [   0    1    2 ... 1596 1597 1598] TEST: [706]\n",
            "TRAIN: [   0    1    2 ... 1596 1597 1598] TEST: [707]\n",
            "TRAIN: [   0    1    2 ... 1596 1597 1598] TEST: [708]\n",
            "TRAIN: [   0    1    2 ... 1596 1597 1598] TEST: [709]\n",
            "TRAIN: [   0    1    2 ... 1596 1597 1598] TEST: [710]\n",
            "TRAIN: [   0    1    2 ... 1596 1597 1598] TEST: [711]\n",
            "TRAIN: [   0    1    2 ... 1596 1597 1598] TEST: [712]\n",
            "TRAIN: [   0    1    2 ... 1596 1597 1598] TEST: [713]\n",
            "TRAIN: [   0    1    2 ... 1596 1597 1598] TEST: [714]\n",
            "TRAIN: [   0    1    2 ... 1596 1597 1598] TEST: [715]\n",
            "TRAIN: [   0    1    2 ... 1596 1597 1598] TEST: [716]\n",
            "TRAIN: [   0    1    2 ... 1596 1597 1598] TEST: [717]\n",
            "TRAIN: [   0    1    2 ... 1596 1597 1598] TEST: [718]\n",
            "TRAIN: [   0    1    2 ... 1596 1597 1598] TEST: [719]\n",
            "TRAIN: [   0    1    2 ... 1596 1597 1598] TEST: [720]\n",
            "TRAIN: [   0    1    2 ... 1596 1597 1598] TEST: [721]\n",
            "TRAIN: [   0    1    2 ... 1596 1597 1598] TEST: [722]\n",
            "TRAIN: [   0    1    2 ... 1596 1597 1598] TEST: [723]\n",
            "TRAIN: [   0    1    2 ... 1596 1597 1598] TEST: [724]\n",
            "TRAIN: [   0    1    2 ... 1596 1597 1598] TEST: [725]\n",
            "TRAIN: [   0    1    2 ... 1596 1597 1598] TEST: [726]\n",
            "TRAIN: [   0    1    2 ... 1596 1597 1598] TEST: [727]\n",
            "TRAIN: [   0    1    2 ... 1596 1597 1598] TEST: [728]\n",
            "TRAIN: [   0    1    2 ... 1596 1597 1598] TEST: [729]\n",
            "TRAIN: [   0    1    2 ... 1596 1597 1598] TEST: [730]\n",
            "TRAIN: [   0    1    2 ... 1596 1597 1598] TEST: [731]\n",
            "TRAIN: [   0    1    2 ... 1596 1597 1598] TEST: [732]\n",
            "TRAIN: [   0    1    2 ... 1596 1597 1598] TEST: [733]\n",
            "TRAIN: [   0    1    2 ... 1596 1597 1598] TEST: [734]\n",
            "TRAIN: [   0    1    2 ... 1596 1597 1598] TEST: [735]\n",
            "TRAIN: [   0    1    2 ... 1596 1597 1598] TEST: [736]\n",
            "TRAIN: [   0    1    2 ... 1596 1597 1598] TEST: [737]\n",
            "TRAIN: [   0    1    2 ... 1596 1597 1598] TEST: [738]\n",
            "TRAIN: [   0    1    2 ... 1596 1597 1598] TEST: [739]\n",
            "TRAIN: [   0    1    2 ... 1596 1597 1598] TEST: [740]\n",
            "TRAIN: [   0    1    2 ... 1596 1597 1598] TEST: [741]\n",
            "TRAIN: [   0    1    2 ... 1596 1597 1598] TEST: [742]\n",
            "TRAIN: [   0    1    2 ... 1596 1597 1598] TEST: [743]\n",
            "TRAIN: [   0    1    2 ... 1596 1597 1598] TEST: [744]\n",
            "TRAIN: [   0    1    2 ... 1596 1597 1598] TEST: [745]\n",
            "TRAIN: [   0    1    2 ... 1596 1597 1598] TEST: [746]\n",
            "TRAIN: [   0    1    2 ... 1596 1597 1598] TEST: [747]\n",
            "TRAIN: [   0    1    2 ... 1596 1597 1598] TEST: [748]\n",
            "TRAIN: [   0    1    2 ... 1596 1597 1598] TEST: [749]\n",
            "TRAIN: [   0    1    2 ... 1596 1597 1598] TEST: [750]\n",
            "TRAIN: [   0    1    2 ... 1596 1597 1598] TEST: [751]\n",
            "TRAIN: [   0    1    2 ... 1596 1597 1598] TEST: [752]\n",
            "TRAIN: [   0    1    2 ... 1596 1597 1598] TEST: [753]\n",
            "TRAIN: [   0    1    2 ... 1596 1597 1598] TEST: [754]\n",
            "TRAIN: [   0    1    2 ... 1596 1597 1598] TEST: [755]\n",
            "TRAIN: [   0    1    2 ... 1596 1597 1598] TEST: [756]\n",
            "TRAIN: [   0    1    2 ... 1596 1597 1598] TEST: [757]\n",
            "TRAIN: [   0    1    2 ... 1596 1597 1598] TEST: [758]\n",
            "TRAIN: [   0    1    2 ... 1596 1597 1598] TEST: [759]\n",
            "TRAIN: [   0    1    2 ... 1596 1597 1598] TEST: [760]\n",
            "TRAIN: [   0    1    2 ... 1596 1597 1598] TEST: [761]\n",
            "TRAIN: [   0    1    2 ... 1596 1597 1598] TEST: [762]\n",
            "TRAIN: [   0    1    2 ... 1596 1597 1598] TEST: [763]\n",
            "TRAIN: [   0    1    2 ... 1596 1597 1598] TEST: [764]\n",
            "TRAIN: [   0    1    2 ... 1596 1597 1598] TEST: [765]\n",
            "TRAIN: [   0    1    2 ... 1596 1597 1598] TEST: [766]\n",
            "TRAIN: [   0    1    2 ... 1596 1597 1598] TEST: [767]\n",
            "TRAIN: [   0    1    2 ... 1596 1597 1598] TEST: [768]\n",
            "TRAIN: [   0    1    2 ... 1596 1597 1598] TEST: [769]\n",
            "TRAIN: [   0    1    2 ... 1596 1597 1598] TEST: [770]\n",
            "TRAIN: [   0    1    2 ... 1596 1597 1598] TEST: [771]\n",
            "TRAIN: [   0    1    2 ... 1596 1597 1598] TEST: [772]\n",
            "TRAIN: [   0    1    2 ... 1596 1597 1598] TEST: [773]\n",
            "TRAIN: [   0    1    2 ... 1596 1597 1598] TEST: [774]\n",
            "TRAIN: [   0    1    2 ... 1596 1597 1598] TEST: [775]\n",
            "TRAIN: [   0    1    2 ... 1596 1597 1598] TEST: [776]\n",
            "TRAIN: [   0    1    2 ... 1596 1597 1598] TEST: [777]\n",
            "TRAIN: [   0    1    2 ... 1596 1597 1598] TEST: [778]\n",
            "TRAIN: [   0    1    2 ... 1596 1597 1598] TEST: [779]\n",
            "TRAIN: [   0    1    2 ... 1596 1597 1598] TEST: [780]\n",
            "TRAIN: [   0    1    2 ... 1596 1597 1598] TEST: [781]\n",
            "TRAIN: [   0    1    2 ... 1596 1597 1598] TEST: [782]\n",
            "TRAIN: [   0    1    2 ... 1596 1597 1598] TEST: [783]\n",
            "TRAIN: [   0    1    2 ... 1596 1597 1598] TEST: [784]\n",
            "TRAIN: [   0    1    2 ... 1596 1597 1598] TEST: [785]\n",
            "TRAIN: [   0    1    2 ... 1596 1597 1598] TEST: [786]\n",
            "TRAIN: [   0    1    2 ... 1596 1597 1598] TEST: [787]\n",
            "TRAIN: [   0    1    2 ... 1596 1597 1598] TEST: [788]\n",
            "TRAIN: [   0    1    2 ... 1596 1597 1598] TEST: [789]\n",
            "TRAIN: [   0    1    2 ... 1596 1597 1598] TEST: [790]\n",
            "TRAIN: [   0    1    2 ... 1596 1597 1598] TEST: [791]\n",
            "TRAIN: [   0    1    2 ... 1596 1597 1598] TEST: [792]\n",
            "TRAIN: [   0    1    2 ... 1596 1597 1598] TEST: [793]\n",
            "TRAIN: [   0    1    2 ... 1596 1597 1598] TEST: [794]\n",
            "TRAIN: [   0    1    2 ... 1596 1597 1598] TEST: [795]\n",
            "TRAIN: [   0    1    2 ... 1596 1597 1598] TEST: [796]\n",
            "TRAIN: [   0    1    2 ... 1596 1597 1598] TEST: [797]\n",
            "TRAIN: [   0    1    2 ... 1596 1597 1598] TEST: [798]\n",
            "TRAIN: [   0    1    2 ... 1596 1597 1598] TEST: [799]\n",
            "TRAIN: [   0    1    2 ... 1596 1597 1598] TEST: [800]\n",
            "TRAIN: [   0    1    2 ... 1596 1597 1598] TEST: [801]\n",
            "TRAIN: [   0    1    2 ... 1596 1597 1598] TEST: [802]\n",
            "TRAIN: [   0    1    2 ... 1596 1597 1598] TEST: [803]\n",
            "TRAIN: [   0    1    2 ... 1596 1597 1598] TEST: [804]\n",
            "TRAIN: [   0    1    2 ... 1596 1597 1598] TEST: [805]\n",
            "TRAIN: [   0    1    2 ... 1596 1597 1598] TEST: [806]\n",
            "TRAIN: [   0    1    2 ... 1596 1597 1598] TEST: [807]\n",
            "TRAIN: [   0    1    2 ... 1596 1597 1598] TEST: [808]\n",
            "TRAIN: [   0    1    2 ... 1596 1597 1598] TEST: [809]\n",
            "TRAIN: [   0    1    2 ... 1596 1597 1598] TEST: [810]\n",
            "TRAIN: [   0    1    2 ... 1596 1597 1598] TEST: [811]\n",
            "TRAIN: [   0    1    2 ... 1596 1597 1598] TEST: [812]\n",
            "TRAIN: [   0    1    2 ... 1596 1597 1598] TEST: [813]\n",
            "TRAIN: [   0    1    2 ... 1596 1597 1598] TEST: [814]\n",
            "TRAIN: [   0    1    2 ... 1596 1597 1598] TEST: [815]\n",
            "TRAIN: [   0    1    2 ... 1596 1597 1598] TEST: [816]\n",
            "TRAIN: [   0    1    2 ... 1596 1597 1598] TEST: [817]\n",
            "TRAIN: [   0    1    2 ... 1596 1597 1598] TEST: [818]\n",
            "TRAIN: [   0    1    2 ... 1596 1597 1598] TEST: [819]\n",
            "TRAIN: [   0    1    2 ... 1596 1597 1598] TEST: [820]\n",
            "TRAIN: [   0    1    2 ... 1596 1597 1598] TEST: [821]\n",
            "TRAIN: [   0    1    2 ... 1596 1597 1598] TEST: [822]\n",
            "TRAIN: [   0    1    2 ... 1596 1597 1598] TEST: [823]\n",
            "TRAIN: [   0    1    2 ... 1596 1597 1598] TEST: [824]\n",
            "TRAIN: [   0    1    2 ... 1596 1597 1598] TEST: [825]\n",
            "TRAIN: [   0    1    2 ... 1596 1597 1598] TEST: [826]\n",
            "TRAIN: [   0    1    2 ... 1596 1597 1598] TEST: [827]\n",
            "TRAIN: [   0    1    2 ... 1596 1597 1598] TEST: [828]\n",
            "TRAIN: [   0    1    2 ... 1596 1597 1598] TEST: [829]\n",
            "TRAIN: [   0    1    2 ... 1596 1597 1598] TEST: [830]\n",
            "TRAIN: [   0    1    2 ... 1596 1597 1598] TEST: [831]\n",
            "TRAIN: [   0    1    2 ... 1596 1597 1598] TEST: [832]\n",
            "TRAIN: [   0    1    2 ... 1596 1597 1598] TEST: [833]\n",
            "TRAIN: [   0    1    2 ... 1596 1597 1598] TEST: [834]\n",
            "TRAIN: [   0    1    2 ... 1596 1597 1598] TEST: [835]\n",
            "TRAIN: [   0    1    2 ... 1596 1597 1598] TEST: [836]\n",
            "TRAIN: [   0    1    2 ... 1596 1597 1598] TEST: [837]\n",
            "TRAIN: [   0    1    2 ... 1596 1597 1598] TEST: [838]\n",
            "TRAIN: [   0    1    2 ... 1596 1597 1598] TEST: [839]\n",
            "TRAIN: [   0    1    2 ... 1596 1597 1598] TEST: [840]\n",
            "TRAIN: [   0    1    2 ... 1596 1597 1598] TEST: [841]\n",
            "TRAIN: [   0    1    2 ... 1596 1597 1598] TEST: [842]\n",
            "TRAIN: [   0    1    2 ... 1596 1597 1598] TEST: [843]\n",
            "TRAIN: [   0    1    2 ... 1596 1597 1598] TEST: [844]\n",
            "TRAIN: [   0    1    2 ... 1596 1597 1598] TEST: [845]\n",
            "TRAIN: [   0    1    2 ... 1596 1597 1598] TEST: [846]\n",
            "TRAIN: [   0    1    2 ... 1596 1597 1598] TEST: [847]\n",
            "TRAIN: [   0    1    2 ... 1596 1597 1598] TEST: [848]\n",
            "TRAIN: [   0    1    2 ... 1596 1597 1598] TEST: [849]\n",
            "TRAIN: [   0    1    2 ... 1596 1597 1598] TEST: [850]\n",
            "TRAIN: [   0    1    2 ... 1596 1597 1598] TEST: [851]\n",
            "TRAIN: [   0    1    2 ... 1596 1597 1598] TEST: [852]\n",
            "TRAIN: [   0    1    2 ... 1596 1597 1598] TEST: [853]\n",
            "TRAIN: [   0    1    2 ... 1596 1597 1598] TEST: [854]\n",
            "TRAIN: [   0    1    2 ... 1596 1597 1598] TEST: [855]\n",
            "TRAIN: [   0    1    2 ... 1596 1597 1598] TEST: [856]\n",
            "TRAIN: [   0    1    2 ... 1596 1597 1598] TEST: [857]\n",
            "TRAIN: [   0    1    2 ... 1596 1597 1598] TEST: [858]\n",
            "TRAIN: [   0    1    2 ... 1596 1597 1598] TEST: [859]\n",
            "TRAIN: [   0    1    2 ... 1596 1597 1598] TEST: [860]\n",
            "TRAIN: [   0    1    2 ... 1596 1597 1598] TEST: [861]\n",
            "TRAIN: [   0    1    2 ... 1596 1597 1598] TEST: [862]\n",
            "TRAIN: [   0    1    2 ... 1596 1597 1598] TEST: [863]\n",
            "TRAIN: [   0    1    2 ... 1596 1597 1598] TEST: [864]\n",
            "TRAIN: [   0    1    2 ... 1596 1597 1598] TEST: [865]\n",
            "TRAIN: [   0    1    2 ... 1596 1597 1598] TEST: [866]\n",
            "TRAIN: [   0    1    2 ... 1596 1597 1598] TEST: [867]\n",
            "TRAIN: [   0    1    2 ... 1596 1597 1598] TEST: [868]\n",
            "TRAIN: [   0    1    2 ... 1596 1597 1598] TEST: [869]\n",
            "TRAIN: [   0    1    2 ... 1596 1597 1598] TEST: [870]\n",
            "TRAIN: [   0    1    2 ... 1596 1597 1598] TEST: [871]\n",
            "TRAIN: [   0    1    2 ... 1596 1597 1598] TEST: [872]\n",
            "TRAIN: [   0    1    2 ... 1596 1597 1598] TEST: [873]\n",
            "TRAIN: [   0    1    2 ... 1596 1597 1598] TEST: [874]\n",
            "TRAIN: [   0    1    2 ... 1596 1597 1598] TEST: [875]\n",
            "TRAIN: [   0    1    2 ... 1596 1597 1598] TEST: [876]\n",
            "TRAIN: [   0    1    2 ... 1596 1597 1598] TEST: [877]\n",
            "TRAIN: [   0    1    2 ... 1596 1597 1598] TEST: [878]\n",
            "TRAIN: [   0    1    2 ... 1596 1597 1598] TEST: [879]\n",
            "TRAIN: [   0    1    2 ... 1596 1597 1598] TEST: [880]\n",
            "TRAIN: [   0    1    2 ... 1596 1597 1598] TEST: [881]\n",
            "TRAIN: [   0    1    2 ... 1596 1597 1598] TEST: [882]\n",
            "TRAIN: [   0    1    2 ... 1596 1597 1598] TEST: [883]\n",
            "TRAIN: [   0    1    2 ... 1596 1597 1598] TEST: [884]\n",
            "TRAIN: [   0    1    2 ... 1596 1597 1598] TEST: [885]\n",
            "TRAIN: [   0    1    2 ... 1596 1597 1598] TEST: [886]\n",
            "TRAIN: [   0    1    2 ... 1596 1597 1598] TEST: [887]\n",
            "TRAIN: [   0    1    2 ... 1596 1597 1598] TEST: [888]\n",
            "TRAIN: [   0    1    2 ... 1596 1597 1598] TEST: [889]\n",
            "TRAIN: [   0    1    2 ... 1596 1597 1598] TEST: [890]\n",
            "TRAIN: [   0    1    2 ... 1596 1597 1598] TEST: [891]\n",
            "TRAIN: [   0    1    2 ... 1596 1597 1598] TEST: [892]\n",
            "TRAIN: [   0    1    2 ... 1596 1597 1598] TEST: [893]\n",
            "TRAIN: [   0    1    2 ... 1596 1597 1598] TEST: [894]\n",
            "TRAIN: [   0    1    2 ... 1596 1597 1598] TEST: [895]\n",
            "TRAIN: [   0    1    2 ... 1596 1597 1598] TEST: [896]\n",
            "TRAIN: [   0    1    2 ... 1596 1597 1598] TEST: [897]\n",
            "TRAIN: [   0    1    2 ... 1596 1597 1598] TEST: [898]\n",
            "TRAIN: [   0    1    2 ... 1596 1597 1598] TEST: [899]\n",
            "TRAIN: [   0    1    2 ... 1596 1597 1598] TEST: [900]\n",
            "TRAIN: [   0    1    2 ... 1596 1597 1598] TEST: [901]\n",
            "TRAIN: [   0    1    2 ... 1596 1597 1598] TEST: [902]\n",
            "TRAIN: [   0    1    2 ... 1596 1597 1598] TEST: [903]\n",
            "TRAIN: [   0    1    2 ... 1596 1597 1598] TEST: [904]\n",
            "TRAIN: [   0    1    2 ... 1596 1597 1598] TEST: [905]\n",
            "TRAIN: [   0    1    2 ... 1596 1597 1598] TEST: [906]\n",
            "TRAIN: [   0    1    2 ... 1596 1597 1598] TEST: [907]\n",
            "TRAIN: [   0    1    2 ... 1596 1597 1598] TEST: [908]\n",
            "TRAIN: [   0    1    2 ... 1596 1597 1598] TEST: [909]\n",
            "TRAIN: [   0    1    2 ... 1596 1597 1598] TEST: [910]\n",
            "TRAIN: [   0    1    2 ... 1596 1597 1598] TEST: [911]\n",
            "TRAIN: [   0    1    2 ... 1596 1597 1598] TEST: [912]\n",
            "TRAIN: [   0    1    2 ... 1596 1597 1598] TEST: [913]\n",
            "TRAIN: [   0    1    2 ... 1596 1597 1598] TEST: [914]\n",
            "TRAIN: [   0    1    2 ... 1596 1597 1598] TEST: [915]\n",
            "TRAIN: [   0    1    2 ... 1596 1597 1598] TEST: [916]\n",
            "TRAIN: [   0    1    2 ... 1596 1597 1598] TEST: [917]\n",
            "TRAIN: [   0    1    2 ... 1596 1597 1598] TEST: [918]\n",
            "TRAIN: [   0    1    2 ... 1596 1597 1598] TEST: [919]\n",
            "TRAIN: [   0    1    2 ... 1596 1597 1598] TEST: [920]\n",
            "TRAIN: [   0    1    2 ... 1596 1597 1598] TEST: [921]\n",
            "TRAIN: [   0    1    2 ... 1596 1597 1598] TEST: [922]\n",
            "TRAIN: [   0    1    2 ... 1596 1597 1598] TEST: [923]\n",
            "TRAIN: [   0    1    2 ... 1596 1597 1598] TEST: [924]\n",
            "TRAIN: [   0    1    2 ... 1596 1597 1598] TEST: [925]\n",
            "TRAIN: [   0    1    2 ... 1596 1597 1598] TEST: [926]\n",
            "TRAIN: [   0    1    2 ... 1596 1597 1598] TEST: [927]\n",
            "TRAIN: [   0    1    2 ... 1596 1597 1598] TEST: [928]\n",
            "TRAIN: [   0    1    2 ... 1596 1597 1598] TEST: [929]\n",
            "TRAIN: [   0    1    2 ... 1596 1597 1598] TEST: [930]\n",
            "TRAIN: [   0    1    2 ... 1596 1597 1598] TEST: [931]\n",
            "TRAIN: [   0    1    2 ... 1596 1597 1598] TEST: [932]\n",
            "TRAIN: [   0    1    2 ... 1596 1597 1598] TEST: [933]\n",
            "TRAIN: [   0    1    2 ... 1596 1597 1598] TEST: [934]\n",
            "TRAIN: [   0    1    2 ... 1596 1597 1598] TEST: [935]\n",
            "TRAIN: [   0    1    2 ... 1596 1597 1598] TEST: [936]\n",
            "TRAIN: [   0    1    2 ... 1596 1597 1598] TEST: [937]\n",
            "TRAIN: [   0    1    2 ... 1596 1597 1598] TEST: [938]\n",
            "TRAIN: [   0    1    2 ... 1596 1597 1598] TEST: [939]\n",
            "TRAIN: [   0    1    2 ... 1596 1597 1598] TEST: [940]\n",
            "TRAIN: [   0    1    2 ... 1596 1597 1598] TEST: [941]\n",
            "TRAIN: [   0    1    2 ... 1596 1597 1598] TEST: [942]\n",
            "TRAIN: [   0    1    2 ... 1596 1597 1598] TEST: [943]\n",
            "TRAIN: [   0    1    2 ... 1596 1597 1598] TEST: [944]\n",
            "TRAIN: [   0    1    2 ... 1596 1597 1598] TEST: [945]\n",
            "TRAIN: [   0    1    2 ... 1596 1597 1598] TEST: [946]\n",
            "TRAIN: [   0    1    2 ... 1596 1597 1598] TEST: [947]\n",
            "TRAIN: [   0    1    2 ... 1596 1597 1598] TEST: [948]\n",
            "TRAIN: [   0    1    2 ... 1596 1597 1598] TEST: [949]\n",
            "TRAIN: [   0    1    2 ... 1596 1597 1598] TEST: [950]\n",
            "TRAIN: [   0    1    2 ... 1596 1597 1598] TEST: [951]\n",
            "TRAIN: [   0    1    2 ... 1596 1597 1598] TEST: [952]\n",
            "TRAIN: [   0    1    2 ... 1596 1597 1598] TEST: [953]\n",
            "TRAIN: [   0    1    2 ... 1596 1597 1598] TEST: [954]\n",
            "TRAIN: [   0    1    2 ... 1596 1597 1598] TEST: [955]\n",
            "TRAIN: [   0    1    2 ... 1596 1597 1598] TEST: [956]\n",
            "TRAIN: [   0    1    2 ... 1596 1597 1598] TEST: [957]\n",
            "TRAIN: [   0    1    2 ... 1596 1597 1598] TEST: [958]\n",
            "TRAIN: [   0    1    2 ... 1596 1597 1598] TEST: [959]\n",
            "TRAIN: [   0    1    2 ... 1596 1597 1598] TEST: [960]\n",
            "TRAIN: [   0    1    2 ... 1596 1597 1598] TEST: [961]\n",
            "TRAIN: [   0    1    2 ... 1596 1597 1598] TEST: [962]\n",
            "TRAIN: [   0    1    2 ... 1596 1597 1598] TEST: [963]\n",
            "TRAIN: [   0    1    2 ... 1596 1597 1598] TEST: [964]\n",
            "TRAIN: [   0    1    2 ... 1596 1597 1598] TEST: [965]\n",
            "TRAIN: [   0    1    2 ... 1596 1597 1598] TEST: [966]\n",
            "TRAIN: [   0    1    2 ... 1596 1597 1598] TEST: [967]\n",
            "TRAIN: [   0    1    2 ... 1596 1597 1598] TEST: [968]\n",
            "TRAIN: [   0    1    2 ... 1596 1597 1598] TEST: [969]\n",
            "TRAIN: [   0    1    2 ... 1596 1597 1598] TEST: [970]\n",
            "TRAIN: [   0    1    2 ... 1596 1597 1598] TEST: [971]\n",
            "TRAIN: [   0    1    2 ... 1596 1597 1598] TEST: [972]\n",
            "TRAIN: [   0    1    2 ... 1596 1597 1598] TEST: [973]\n",
            "TRAIN: [   0    1    2 ... 1596 1597 1598] TEST: [974]\n",
            "TRAIN: [   0    1    2 ... 1596 1597 1598] TEST: [975]\n",
            "TRAIN: [   0    1    2 ... 1596 1597 1598] TEST: [976]\n",
            "TRAIN: [   0    1    2 ... 1596 1597 1598] TEST: [977]\n",
            "TRAIN: [   0    1    2 ... 1596 1597 1598] TEST: [978]\n",
            "TRAIN: [   0    1    2 ... 1596 1597 1598] TEST: [979]\n",
            "TRAIN: [   0    1    2 ... 1596 1597 1598] TEST: [980]\n",
            "TRAIN: [   0    1    2 ... 1596 1597 1598] TEST: [981]\n",
            "TRAIN: [   0    1    2 ... 1596 1597 1598] TEST: [982]\n",
            "TRAIN: [   0    1    2 ... 1596 1597 1598] TEST: [983]\n",
            "TRAIN: [   0    1    2 ... 1596 1597 1598] TEST: [984]\n",
            "TRAIN: [   0    1    2 ... 1596 1597 1598] TEST: [985]\n",
            "TRAIN: [   0    1    2 ... 1596 1597 1598] TEST: [986]\n",
            "TRAIN: [   0    1    2 ... 1596 1597 1598] TEST: [987]\n",
            "TRAIN: [   0    1    2 ... 1596 1597 1598] TEST: [988]\n",
            "TRAIN: [   0    1    2 ... 1596 1597 1598] TEST: [989]\n",
            "TRAIN: [   0    1    2 ... 1596 1597 1598] TEST: [990]\n",
            "TRAIN: [   0    1    2 ... 1596 1597 1598] TEST: [991]\n",
            "TRAIN: [   0    1    2 ... 1596 1597 1598] TEST: [992]\n",
            "TRAIN: [   0    1    2 ... 1596 1597 1598] TEST: [993]\n",
            "TRAIN: [   0    1    2 ... 1596 1597 1598] TEST: [994]\n",
            "TRAIN: [   0    1    2 ... 1596 1597 1598] TEST: [995]\n",
            "TRAIN: [   0    1    2 ... 1596 1597 1598] TEST: [996]\n",
            "TRAIN: [   0    1    2 ... 1596 1597 1598] TEST: [997]\n",
            "TRAIN: [   0    1    2 ... 1596 1597 1598] TEST: [998]\n",
            "TRAIN: [   0    1    2 ... 1596 1597 1598] TEST: [999]\n",
            "TRAIN: [   0    1    2 ... 1596 1597 1598] TEST: [1000]\n",
            "TRAIN: [   0    1    2 ... 1596 1597 1598] TEST: [1001]\n",
            "TRAIN: [   0    1    2 ... 1596 1597 1598] TEST: [1002]\n",
            "TRAIN: [   0    1    2 ... 1596 1597 1598] TEST: [1003]\n",
            "TRAIN: [   0    1    2 ... 1596 1597 1598] TEST: [1004]\n",
            "TRAIN: [   0    1    2 ... 1596 1597 1598] TEST: [1005]\n",
            "TRAIN: [   0    1    2 ... 1596 1597 1598] TEST: [1006]\n",
            "TRAIN: [   0    1    2 ... 1596 1597 1598] TEST: [1007]\n",
            "TRAIN: [   0    1    2 ... 1596 1597 1598] TEST: [1008]\n",
            "TRAIN: [   0    1    2 ... 1596 1597 1598] TEST: [1009]\n",
            "TRAIN: [   0    1    2 ... 1596 1597 1598] TEST: [1010]\n",
            "TRAIN: [   0    1    2 ... 1596 1597 1598] TEST: [1011]\n",
            "TRAIN: [   0    1    2 ... 1596 1597 1598] TEST: [1012]\n",
            "TRAIN: [   0    1    2 ... 1596 1597 1598] TEST: [1013]\n",
            "TRAIN: [   0    1    2 ... 1596 1597 1598] TEST: [1014]\n",
            "TRAIN: [   0    1    2 ... 1596 1597 1598] TEST: [1015]\n",
            "TRAIN: [   0    1    2 ... 1596 1597 1598] TEST: [1016]\n",
            "TRAIN: [   0    1    2 ... 1596 1597 1598] TEST: [1017]\n",
            "TRAIN: [   0    1    2 ... 1596 1597 1598] TEST: [1018]\n",
            "TRAIN: [   0    1    2 ... 1596 1597 1598] TEST: [1019]\n",
            "TRAIN: [   0    1    2 ... 1596 1597 1598] TEST: [1020]\n",
            "TRAIN: [   0    1    2 ... 1596 1597 1598] TEST: [1021]\n",
            "TRAIN: [   0    1    2 ... 1596 1597 1598] TEST: [1022]\n",
            "TRAIN: [   0    1    2 ... 1596 1597 1598] TEST: [1023]\n",
            "TRAIN: [   0    1    2 ... 1596 1597 1598] TEST: [1024]\n",
            "TRAIN: [   0    1    2 ... 1596 1597 1598] TEST: [1025]\n",
            "TRAIN: [   0    1    2 ... 1596 1597 1598] TEST: [1026]\n",
            "TRAIN: [   0    1    2 ... 1596 1597 1598] TEST: [1027]\n",
            "TRAIN: [   0    1    2 ... 1596 1597 1598] TEST: [1028]\n",
            "TRAIN: [   0    1    2 ... 1596 1597 1598] TEST: [1029]\n",
            "TRAIN: [   0    1    2 ... 1596 1597 1598] TEST: [1030]\n",
            "TRAIN: [   0    1    2 ... 1596 1597 1598] TEST: [1031]\n",
            "TRAIN: [   0    1    2 ... 1596 1597 1598] TEST: [1032]\n",
            "TRAIN: [   0    1    2 ... 1596 1597 1598] TEST: [1033]\n",
            "TRAIN: [   0    1    2 ... 1596 1597 1598] TEST: [1034]\n",
            "TRAIN: [   0    1    2 ... 1596 1597 1598] TEST: [1035]\n",
            "TRAIN: [   0    1    2 ... 1596 1597 1598] TEST: [1036]\n",
            "TRAIN: [   0    1    2 ... 1596 1597 1598] TEST: [1037]\n",
            "TRAIN: [   0    1    2 ... 1596 1597 1598] TEST: [1038]\n",
            "TRAIN: [   0    1    2 ... 1596 1597 1598] TEST: [1039]\n",
            "TRAIN: [   0    1    2 ... 1596 1597 1598] TEST: [1040]\n",
            "TRAIN: [   0    1    2 ... 1596 1597 1598] TEST: [1041]\n",
            "TRAIN: [   0    1    2 ... 1596 1597 1598] TEST: [1042]\n",
            "TRAIN: [   0    1    2 ... 1596 1597 1598] TEST: [1043]\n",
            "TRAIN: [   0    1    2 ... 1596 1597 1598] TEST: [1044]\n",
            "TRAIN: [   0    1    2 ... 1596 1597 1598] TEST: [1045]\n",
            "TRAIN: [   0    1    2 ... 1596 1597 1598] TEST: [1046]\n",
            "TRAIN: [   0    1    2 ... 1596 1597 1598] TEST: [1047]\n",
            "TRAIN: [   0    1    2 ... 1596 1597 1598] TEST: [1048]\n",
            "TRAIN: [   0    1    2 ... 1596 1597 1598] TEST: [1049]\n",
            "TRAIN: [   0    1    2 ... 1596 1597 1598] TEST: [1050]\n",
            "TRAIN: [   0    1    2 ... 1596 1597 1598] TEST: [1051]\n",
            "TRAIN: [   0    1    2 ... 1596 1597 1598] TEST: [1052]\n",
            "TRAIN: [   0    1    2 ... 1596 1597 1598] TEST: [1053]\n",
            "TRAIN: [   0    1    2 ... 1596 1597 1598] TEST: [1054]\n",
            "TRAIN: [   0    1    2 ... 1596 1597 1598] TEST: [1055]\n",
            "TRAIN: [   0    1    2 ... 1596 1597 1598] TEST: [1056]\n",
            "TRAIN: [   0    1    2 ... 1596 1597 1598] TEST: [1057]\n",
            "TRAIN: [   0    1    2 ... 1596 1597 1598] TEST: [1058]\n",
            "TRAIN: [   0    1    2 ... 1596 1597 1598] TEST: [1059]\n",
            "TRAIN: [   0    1    2 ... 1596 1597 1598] TEST: [1060]\n",
            "TRAIN: [   0    1    2 ... 1596 1597 1598] TEST: [1061]\n",
            "TRAIN: [   0    1    2 ... 1596 1597 1598] TEST: [1062]\n",
            "TRAIN: [   0    1    2 ... 1596 1597 1598] TEST: [1063]\n",
            "TRAIN: [   0    1    2 ... 1596 1597 1598] TEST: [1064]\n",
            "TRAIN: [   0    1    2 ... 1596 1597 1598] TEST: [1065]\n",
            "TRAIN: [   0    1    2 ... 1596 1597 1598] TEST: [1066]\n",
            "TRAIN: [   0    1    2 ... 1596 1597 1598] TEST: [1067]\n",
            "TRAIN: [   0    1    2 ... 1596 1597 1598] TEST: [1068]\n",
            "TRAIN: [   0    1    2 ... 1596 1597 1598] TEST: [1069]\n",
            "TRAIN: [   0    1    2 ... 1596 1597 1598] TEST: [1070]\n",
            "TRAIN: [   0    1    2 ... 1596 1597 1598] TEST: [1071]\n",
            "TRAIN: [   0    1    2 ... 1596 1597 1598] TEST: [1072]\n",
            "TRAIN: [   0    1    2 ... 1596 1597 1598] TEST: [1073]\n",
            "TRAIN: [   0    1    2 ... 1596 1597 1598] TEST: [1074]\n",
            "TRAIN: [   0    1    2 ... 1596 1597 1598] TEST: [1075]\n",
            "TRAIN: [   0    1    2 ... 1596 1597 1598] TEST: [1076]\n",
            "TRAIN: [   0    1    2 ... 1596 1597 1598] TEST: [1077]\n",
            "TRAIN: [   0    1    2 ... 1596 1597 1598] TEST: [1078]\n",
            "TRAIN: [   0    1    2 ... 1596 1597 1598] TEST: [1079]\n",
            "TRAIN: [   0    1    2 ... 1596 1597 1598] TEST: [1080]\n",
            "TRAIN: [   0    1    2 ... 1596 1597 1598] TEST: [1081]\n",
            "TRAIN: [   0    1    2 ... 1596 1597 1598] TEST: [1082]\n",
            "TRAIN: [   0    1    2 ... 1596 1597 1598] TEST: [1083]\n",
            "TRAIN: [   0    1    2 ... 1596 1597 1598] TEST: [1084]\n",
            "TRAIN: [   0    1    2 ... 1596 1597 1598] TEST: [1085]\n",
            "TRAIN: [   0    1    2 ... 1596 1597 1598] TEST: [1086]\n",
            "TRAIN: [   0    1    2 ... 1596 1597 1598] TEST: [1087]\n",
            "TRAIN: [   0    1    2 ... 1596 1597 1598] TEST: [1088]\n",
            "TRAIN: [   0    1    2 ... 1596 1597 1598] TEST: [1089]\n",
            "TRAIN: [   0    1    2 ... 1596 1597 1598] TEST: [1090]\n",
            "TRAIN: [   0    1    2 ... 1596 1597 1598] TEST: [1091]\n",
            "TRAIN: [   0    1    2 ... 1596 1597 1598] TEST: [1092]\n",
            "TRAIN: [   0    1    2 ... 1596 1597 1598] TEST: [1093]\n",
            "TRAIN: [   0    1    2 ... 1596 1597 1598] TEST: [1094]\n",
            "TRAIN: [   0    1    2 ... 1596 1597 1598] TEST: [1095]\n",
            "TRAIN: [   0    1    2 ... 1596 1597 1598] TEST: [1096]\n",
            "TRAIN: [   0    1    2 ... 1596 1597 1598] TEST: [1097]\n",
            "TRAIN: [   0    1    2 ... 1596 1597 1598] TEST: [1098]\n",
            "TRAIN: [   0    1    2 ... 1596 1597 1598] TEST: [1099]\n",
            "TRAIN: [   0    1    2 ... 1596 1597 1598] TEST: [1100]\n",
            "TRAIN: [   0    1    2 ... 1596 1597 1598] TEST: [1101]\n",
            "TRAIN: [   0    1    2 ... 1596 1597 1598] TEST: [1102]\n",
            "TRAIN: [   0    1    2 ... 1596 1597 1598] TEST: [1103]\n",
            "TRAIN: [   0    1    2 ... 1596 1597 1598] TEST: [1104]\n",
            "TRAIN: [   0    1    2 ... 1596 1597 1598] TEST: [1105]\n",
            "TRAIN: [   0    1    2 ... 1596 1597 1598] TEST: [1106]\n",
            "TRAIN: [   0    1    2 ... 1596 1597 1598] TEST: [1107]\n",
            "TRAIN: [   0    1    2 ... 1596 1597 1598] TEST: [1108]\n",
            "TRAIN: [   0    1    2 ... 1596 1597 1598] TEST: [1109]\n",
            "TRAIN: [   0    1    2 ... 1596 1597 1598] TEST: [1110]\n",
            "TRAIN: [   0    1    2 ... 1596 1597 1598] TEST: [1111]\n",
            "TRAIN: [   0    1    2 ... 1596 1597 1598] TEST: [1112]\n",
            "TRAIN: [   0    1    2 ... 1596 1597 1598] TEST: [1113]\n",
            "TRAIN: [   0    1    2 ... 1596 1597 1598] TEST: [1114]\n",
            "TRAIN: [   0    1    2 ... 1596 1597 1598] TEST: [1115]\n",
            "TRAIN: [   0    1    2 ... 1596 1597 1598] TEST: [1116]\n",
            "TRAIN: [   0    1    2 ... 1596 1597 1598] TEST: [1117]\n",
            "TRAIN: [   0    1    2 ... 1596 1597 1598] TEST: [1118]\n",
            "TRAIN: [   0    1    2 ... 1596 1597 1598] TEST: [1119]\n",
            "TRAIN: [   0    1    2 ... 1596 1597 1598] TEST: [1120]\n",
            "TRAIN: [   0    1    2 ... 1596 1597 1598] TEST: [1121]\n",
            "TRAIN: [   0    1    2 ... 1596 1597 1598] TEST: [1122]\n",
            "TRAIN: [   0    1    2 ... 1596 1597 1598] TEST: [1123]\n",
            "TRAIN: [   0    1    2 ... 1596 1597 1598] TEST: [1124]\n",
            "TRAIN: [   0    1    2 ... 1596 1597 1598] TEST: [1125]\n",
            "TRAIN: [   0    1    2 ... 1596 1597 1598] TEST: [1126]\n",
            "TRAIN: [   0    1    2 ... 1596 1597 1598] TEST: [1127]\n",
            "TRAIN: [   0    1    2 ... 1596 1597 1598] TEST: [1128]\n",
            "TRAIN: [   0    1    2 ... 1596 1597 1598] TEST: [1129]\n",
            "TRAIN: [   0    1    2 ... 1596 1597 1598] TEST: [1130]\n",
            "TRAIN: [   0    1    2 ... 1596 1597 1598] TEST: [1131]\n",
            "TRAIN: [   0    1    2 ... 1596 1597 1598] TEST: [1132]\n",
            "TRAIN: [   0    1    2 ... 1596 1597 1598] TEST: [1133]\n",
            "TRAIN: [   0    1    2 ... 1596 1597 1598] TEST: [1134]\n",
            "TRAIN: [   0    1    2 ... 1596 1597 1598] TEST: [1135]\n",
            "TRAIN: [   0    1    2 ... 1596 1597 1598] TEST: [1136]\n",
            "TRAIN: [   0    1    2 ... 1596 1597 1598] TEST: [1137]\n",
            "TRAIN: [   0    1    2 ... 1596 1597 1598] TEST: [1138]\n",
            "TRAIN: [   0    1    2 ... 1596 1597 1598] TEST: [1139]\n",
            "TRAIN: [   0    1    2 ... 1596 1597 1598] TEST: [1140]\n",
            "TRAIN: [   0    1    2 ... 1596 1597 1598] TEST: [1141]\n",
            "TRAIN: [   0    1    2 ... 1596 1597 1598] TEST: [1142]\n",
            "TRAIN: [   0    1    2 ... 1596 1597 1598] TEST: [1143]\n",
            "TRAIN: [   0    1    2 ... 1596 1597 1598] TEST: [1144]\n",
            "TRAIN: [   0    1    2 ... 1596 1597 1598] TEST: [1145]\n",
            "TRAIN: [   0    1    2 ... 1596 1597 1598] TEST: [1146]\n",
            "TRAIN: [   0    1    2 ... 1596 1597 1598] TEST: [1147]\n",
            "TRAIN: [   0    1    2 ... 1596 1597 1598] TEST: [1148]\n",
            "TRAIN: [   0    1    2 ... 1596 1597 1598] TEST: [1149]\n",
            "TRAIN: [   0    1    2 ... 1596 1597 1598] TEST: [1150]\n",
            "TRAIN: [   0    1    2 ... 1596 1597 1598] TEST: [1151]\n",
            "TRAIN: [   0    1    2 ... 1596 1597 1598] TEST: [1152]\n",
            "TRAIN: [   0    1    2 ... 1596 1597 1598] TEST: [1153]\n",
            "TRAIN: [   0    1    2 ... 1596 1597 1598] TEST: [1154]\n",
            "TRAIN: [   0    1    2 ... 1596 1597 1598] TEST: [1155]\n",
            "TRAIN: [   0    1    2 ... 1596 1597 1598] TEST: [1156]\n",
            "TRAIN: [   0    1    2 ... 1596 1597 1598] TEST: [1157]\n",
            "TRAIN: [   0    1    2 ... 1596 1597 1598] TEST: [1158]\n",
            "TRAIN: [   0    1    2 ... 1596 1597 1598] TEST: [1159]\n",
            "TRAIN: [   0    1    2 ... 1596 1597 1598] TEST: [1160]\n",
            "TRAIN: [   0    1    2 ... 1596 1597 1598] TEST: [1161]\n",
            "TRAIN: [   0    1    2 ... 1596 1597 1598] TEST: [1162]\n",
            "TRAIN: [   0    1    2 ... 1596 1597 1598] TEST: [1163]\n",
            "TRAIN: [   0    1    2 ... 1596 1597 1598] TEST: [1164]\n",
            "TRAIN: [   0    1    2 ... 1596 1597 1598] TEST: [1165]\n",
            "TRAIN: [   0    1    2 ... 1596 1597 1598] TEST: [1166]\n",
            "TRAIN: [   0    1    2 ... 1596 1597 1598] TEST: [1167]\n",
            "TRAIN: [   0    1    2 ... 1596 1597 1598] TEST: [1168]\n",
            "TRAIN: [   0    1    2 ... 1596 1597 1598] TEST: [1169]\n",
            "TRAIN: [   0    1    2 ... 1596 1597 1598] TEST: [1170]\n",
            "TRAIN: [   0    1    2 ... 1596 1597 1598] TEST: [1171]\n",
            "TRAIN: [   0    1    2 ... 1596 1597 1598] TEST: [1172]\n",
            "TRAIN: [   0    1    2 ... 1596 1597 1598] TEST: [1173]\n",
            "TRAIN: [   0    1    2 ... 1596 1597 1598] TEST: [1174]\n",
            "TRAIN: [   0    1    2 ... 1596 1597 1598] TEST: [1175]\n",
            "TRAIN: [   0    1    2 ... 1596 1597 1598] TEST: [1176]\n",
            "TRAIN: [   0    1    2 ... 1596 1597 1598] TEST: [1177]\n",
            "TRAIN: [   0    1    2 ... 1596 1597 1598] TEST: [1178]\n",
            "TRAIN: [   0    1    2 ... 1596 1597 1598] TEST: [1179]\n",
            "TRAIN: [   0    1    2 ... 1596 1597 1598] TEST: [1180]\n",
            "TRAIN: [   0    1    2 ... 1596 1597 1598] TEST: [1181]\n",
            "TRAIN: [   0    1    2 ... 1596 1597 1598] TEST: [1182]\n",
            "TRAIN: [   0    1    2 ... 1596 1597 1598] TEST: [1183]\n",
            "TRAIN: [   0    1    2 ... 1596 1597 1598] TEST: [1184]\n",
            "TRAIN: [   0    1    2 ... 1596 1597 1598] TEST: [1185]\n",
            "TRAIN: [   0    1    2 ... 1596 1597 1598] TEST: [1186]\n",
            "TRAIN: [   0    1    2 ... 1596 1597 1598] TEST: [1187]\n",
            "TRAIN: [   0    1    2 ... 1596 1597 1598] TEST: [1188]\n",
            "TRAIN: [   0    1    2 ... 1596 1597 1598] TEST: [1189]\n",
            "TRAIN: [   0    1    2 ... 1596 1597 1598] TEST: [1190]\n",
            "TRAIN: [   0    1    2 ... 1596 1597 1598] TEST: [1191]\n",
            "TRAIN: [   0    1    2 ... 1596 1597 1598] TEST: [1192]\n",
            "TRAIN: [   0    1    2 ... 1596 1597 1598] TEST: [1193]\n",
            "TRAIN: [   0    1    2 ... 1596 1597 1598] TEST: [1194]\n",
            "TRAIN: [   0    1    2 ... 1596 1597 1598] TEST: [1195]\n",
            "TRAIN: [   0    1    2 ... 1596 1597 1598] TEST: [1196]\n",
            "TRAIN: [   0    1    2 ... 1596 1597 1598] TEST: [1197]\n",
            "TRAIN: [   0    1    2 ... 1596 1597 1598] TEST: [1198]\n",
            "TRAIN: [   0    1    2 ... 1596 1597 1598] TEST: [1199]\n",
            "TRAIN: [   0    1    2 ... 1596 1597 1598] TEST: [1200]\n",
            "TRAIN: [   0    1    2 ... 1596 1597 1598] TEST: [1201]\n",
            "TRAIN: [   0    1    2 ... 1596 1597 1598] TEST: [1202]\n",
            "TRAIN: [   0    1    2 ... 1596 1597 1598] TEST: [1203]\n",
            "TRAIN: [   0    1    2 ... 1596 1597 1598] TEST: [1204]\n",
            "TRAIN: [   0    1    2 ... 1596 1597 1598] TEST: [1205]\n",
            "TRAIN: [   0    1    2 ... 1596 1597 1598] TEST: [1206]\n",
            "TRAIN: [   0    1    2 ... 1596 1597 1598] TEST: [1207]\n",
            "TRAIN: [   0    1    2 ... 1596 1597 1598] TEST: [1208]\n",
            "TRAIN: [   0    1    2 ... 1596 1597 1598] TEST: [1209]\n",
            "TRAIN: [   0    1    2 ... 1596 1597 1598] TEST: [1210]\n",
            "TRAIN: [   0    1    2 ... 1596 1597 1598] TEST: [1211]\n",
            "TRAIN: [   0    1    2 ... 1596 1597 1598] TEST: [1212]\n",
            "TRAIN: [   0    1    2 ... 1596 1597 1598] TEST: [1213]\n",
            "TRAIN: [   0    1    2 ... 1596 1597 1598] TEST: [1214]\n",
            "TRAIN: [   0    1    2 ... 1596 1597 1598] TEST: [1215]\n",
            "TRAIN: [   0    1    2 ... 1596 1597 1598] TEST: [1216]\n",
            "TRAIN: [   0    1    2 ... 1596 1597 1598] TEST: [1217]\n",
            "TRAIN: [   0    1    2 ... 1596 1597 1598] TEST: [1218]\n",
            "TRAIN: [   0    1    2 ... 1596 1597 1598] TEST: [1219]\n",
            "TRAIN: [   0    1    2 ... 1596 1597 1598] TEST: [1220]\n",
            "TRAIN: [   0    1    2 ... 1596 1597 1598] TEST: [1221]\n",
            "TRAIN: [   0    1    2 ... 1596 1597 1598] TEST: [1222]\n",
            "TRAIN: [   0    1    2 ... 1596 1597 1598] TEST: [1223]\n",
            "TRAIN: [   0    1    2 ... 1596 1597 1598] TEST: [1224]\n",
            "TRAIN: [   0    1    2 ... 1596 1597 1598] TEST: [1225]\n",
            "TRAIN: [   0    1    2 ... 1596 1597 1598] TEST: [1226]\n",
            "TRAIN: [   0    1    2 ... 1596 1597 1598] TEST: [1227]\n",
            "TRAIN: [   0    1    2 ... 1596 1597 1598] TEST: [1228]\n",
            "TRAIN: [   0    1    2 ... 1596 1597 1598] TEST: [1229]\n",
            "TRAIN: [   0    1    2 ... 1596 1597 1598] TEST: [1230]\n",
            "TRAIN: [   0    1    2 ... 1596 1597 1598] TEST: [1231]\n",
            "TRAIN: [   0    1    2 ... 1596 1597 1598] TEST: [1232]\n",
            "TRAIN: [   0    1    2 ... 1596 1597 1598] TEST: [1233]\n",
            "TRAIN: [   0    1    2 ... 1596 1597 1598] TEST: [1234]\n",
            "TRAIN: [   0    1    2 ... 1596 1597 1598] TEST: [1235]\n",
            "TRAIN: [   0    1    2 ... 1596 1597 1598] TEST: [1236]\n",
            "TRAIN: [   0    1    2 ... 1596 1597 1598] TEST: [1237]\n",
            "TRAIN: [   0    1    2 ... 1596 1597 1598] TEST: [1238]\n",
            "TRAIN: [   0    1    2 ... 1596 1597 1598] TEST: [1239]\n",
            "TRAIN: [   0    1    2 ... 1596 1597 1598] TEST: [1240]\n",
            "TRAIN: [   0    1    2 ... 1596 1597 1598] TEST: [1241]\n",
            "TRAIN: [   0    1    2 ... 1596 1597 1598] TEST: [1242]\n",
            "TRAIN: [   0    1    2 ... 1596 1597 1598] TEST: [1243]\n",
            "TRAIN: [   0    1    2 ... 1596 1597 1598] TEST: [1244]\n",
            "TRAIN: [   0    1    2 ... 1596 1597 1598] TEST: [1245]\n",
            "TRAIN: [   0    1    2 ... 1596 1597 1598] TEST: [1246]\n",
            "TRAIN: [   0    1    2 ... 1596 1597 1598] TEST: [1247]\n",
            "TRAIN: [   0    1    2 ... 1596 1597 1598] TEST: [1248]\n",
            "TRAIN: [   0    1    2 ... 1596 1597 1598] TEST: [1249]\n",
            "TRAIN: [   0    1    2 ... 1596 1597 1598] TEST: [1250]\n",
            "TRAIN: [   0    1    2 ... 1596 1597 1598] TEST: [1251]\n",
            "TRAIN: [   0    1    2 ... 1596 1597 1598] TEST: [1252]\n",
            "TRAIN: [   0    1    2 ... 1596 1597 1598] TEST: [1253]\n",
            "TRAIN: [   0    1    2 ... 1596 1597 1598] TEST: [1254]\n",
            "TRAIN: [   0    1    2 ... 1596 1597 1598] TEST: [1255]\n",
            "TRAIN: [   0    1    2 ... 1596 1597 1598] TEST: [1256]\n",
            "TRAIN: [   0    1    2 ... 1596 1597 1598] TEST: [1257]\n",
            "TRAIN: [   0    1    2 ... 1596 1597 1598] TEST: [1258]\n",
            "TRAIN: [   0    1    2 ... 1596 1597 1598] TEST: [1259]\n",
            "TRAIN: [   0    1    2 ... 1596 1597 1598] TEST: [1260]\n",
            "TRAIN: [   0    1    2 ... 1596 1597 1598] TEST: [1261]\n",
            "TRAIN: [   0    1    2 ... 1596 1597 1598] TEST: [1262]\n",
            "TRAIN: [   0    1    2 ... 1596 1597 1598] TEST: [1263]\n",
            "TRAIN: [   0    1    2 ... 1596 1597 1598] TEST: [1264]\n",
            "TRAIN: [   0    1    2 ... 1596 1597 1598] TEST: [1265]\n",
            "TRAIN: [   0    1    2 ... 1596 1597 1598] TEST: [1266]\n",
            "TRAIN: [   0    1    2 ... 1596 1597 1598] TEST: [1267]\n",
            "TRAIN: [   0    1    2 ... 1596 1597 1598] TEST: [1268]\n",
            "TRAIN: [   0    1    2 ... 1596 1597 1598] TEST: [1269]\n",
            "TRAIN: [   0    1    2 ... 1596 1597 1598] TEST: [1270]\n",
            "TRAIN: [   0    1    2 ... 1596 1597 1598] TEST: [1271]\n",
            "TRAIN: [   0    1    2 ... 1596 1597 1598] TEST: [1272]\n",
            "TRAIN: [   0    1    2 ... 1596 1597 1598] TEST: [1273]\n",
            "TRAIN: [   0    1    2 ... 1596 1597 1598] TEST: [1274]\n",
            "TRAIN: [   0    1    2 ... 1596 1597 1598] TEST: [1275]\n",
            "TRAIN: [   0    1    2 ... 1596 1597 1598] TEST: [1276]\n",
            "TRAIN: [   0    1    2 ... 1596 1597 1598] TEST: [1277]\n",
            "TRAIN: [   0    1    2 ... 1596 1597 1598] TEST: [1278]\n",
            "TRAIN: [   0    1    2 ... 1596 1597 1598] TEST: [1279]\n",
            "TRAIN: [   0    1    2 ... 1596 1597 1598] TEST: [1280]\n",
            "TRAIN: [   0    1    2 ... 1596 1597 1598] TEST: [1281]\n",
            "TRAIN: [   0    1    2 ... 1596 1597 1598] TEST: [1282]\n",
            "TRAIN: [   0    1    2 ... 1596 1597 1598] TEST: [1283]\n",
            "TRAIN: [   0    1    2 ... 1596 1597 1598] TEST: [1284]\n",
            "TRAIN: [   0    1    2 ... 1596 1597 1598] TEST: [1285]\n",
            "TRAIN: [   0    1    2 ... 1596 1597 1598] TEST: [1286]\n",
            "TRAIN: [   0    1    2 ... 1596 1597 1598] TEST: [1287]\n",
            "TRAIN: [   0    1    2 ... 1596 1597 1598] TEST: [1288]\n",
            "TRAIN: [   0    1    2 ... 1596 1597 1598] TEST: [1289]\n",
            "TRAIN: [   0    1    2 ... 1596 1597 1598] TEST: [1290]\n",
            "TRAIN: [   0    1    2 ... 1596 1597 1598] TEST: [1291]\n",
            "TRAIN: [   0    1    2 ... 1596 1597 1598] TEST: [1292]\n",
            "TRAIN: [   0    1    2 ... 1596 1597 1598] TEST: [1293]\n",
            "TRAIN: [   0    1    2 ... 1596 1597 1598] TEST: [1294]\n",
            "TRAIN: [   0    1    2 ... 1596 1597 1598] TEST: [1295]\n",
            "TRAIN: [   0    1    2 ... 1596 1597 1598] TEST: [1296]\n",
            "TRAIN: [   0    1    2 ... 1596 1597 1598] TEST: [1297]\n",
            "TRAIN: [   0    1    2 ... 1596 1597 1598] TEST: [1298]\n",
            "TRAIN: [   0    1    2 ... 1596 1597 1598] TEST: [1299]\n",
            "TRAIN: [   0    1    2 ... 1596 1597 1598] TEST: [1300]\n",
            "TRAIN: [   0    1    2 ... 1596 1597 1598] TEST: [1301]\n",
            "TRAIN: [   0    1    2 ... 1596 1597 1598] TEST: [1302]\n",
            "TRAIN: [   0    1    2 ... 1596 1597 1598] TEST: [1303]\n",
            "TRAIN: [   0    1    2 ... 1596 1597 1598] TEST: [1304]\n",
            "TRAIN: [   0    1    2 ... 1596 1597 1598] TEST: [1305]\n",
            "TRAIN: [   0    1    2 ... 1596 1597 1598] TEST: [1306]\n",
            "TRAIN: [   0    1    2 ... 1596 1597 1598] TEST: [1307]\n",
            "TRAIN: [   0    1    2 ... 1596 1597 1598] TEST: [1308]\n",
            "TRAIN: [   0    1    2 ... 1596 1597 1598] TEST: [1309]\n",
            "TRAIN: [   0    1    2 ... 1596 1597 1598] TEST: [1310]\n",
            "TRAIN: [   0    1    2 ... 1596 1597 1598] TEST: [1311]\n",
            "TRAIN: [   0    1    2 ... 1596 1597 1598] TEST: [1312]\n",
            "TRAIN: [   0    1    2 ... 1596 1597 1598] TEST: [1313]\n",
            "TRAIN: [   0    1    2 ... 1596 1597 1598] TEST: [1314]\n",
            "TRAIN: [   0    1    2 ... 1596 1597 1598] TEST: [1315]\n",
            "TRAIN: [   0    1    2 ... 1596 1597 1598] TEST: [1316]\n",
            "TRAIN: [   0    1    2 ... 1596 1597 1598] TEST: [1317]\n",
            "TRAIN: [   0    1    2 ... 1596 1597 1598] TEST: [1318]\n",
            "TRAIN: [   0    1    2 ... 1596 1597 1598] TEST: [1319]\n",
            "TRAIN: [   0    1    2 ... 1596 1597 1598] TEST: [1320]\n",
            "TRAIN: [   0    1    2 ... 1596 1597 1598] TEST: [1321]\n",
            "TRAIN: [   0    1    2 ... 1596 1597 1598] TEST: [1322]\n",
            "TRAIN: [   0    1    2 ... 1596 1597 1598] TEST: [1323]\n",
            "TRAIN: [   0    1    2 ... 1596 1597 1598] TEST: [1324]\n",
            "TRAIN: [   0    1    2 ... 1596 1597 1598] TEST: [1325]\n",
            "TRAIN: [   0    1    2 ... 1596 1597 1598] TEST: [1326]\n",
            "TRAIN: [   0    1    2 ... 1596 1597 1598] TEST: [1327]\n",
            "TRAIN: [   0    1    2 ... 1596 1597 1598] TEST: [1328]\n",
            "TRAIN: [   0    1    2 ... 1596 1597 1598] TEST: [1329]\n",
            "TRAIN: [   0    1    2 ... 1596 1597 1598] TEST: [1330]\n",
            "TRAIN: [   0    1    2 ... 1596 1597 1598] TEST: [1331]\n",
            "TRAIN: [   0    1    2 ... 1596 1597 1598] TEST: [1332]\n",
            "TRAIN: [   0    1    2 ... 1596 1597 1598] TEST: [1333]\n",
            "TRAIN: [   0    1    2 ... 1596 1597 1598] TEST: [1334]\n",
            "TRAIN: [   0    1    2 ... 1596 1597 1598] TEST: [1335]\n",
            "TRAIN: [   0    1    2 ... 1596 1597 1598] TEST: [1336]\n",
            "TRAIN: [   0    1    2 ... 1596 1597 1598] TEST: [1337]\n",
            "TRAIN: [   0    1    2 ... 1596 1597 1598] TEST: [1338]\n",
            "TRAIN: [   0    1    2 ... 1596 1597 1598] TEST: [1339]\n",
            "TRAIN: [   0    1    2 ... 1596 1597 1598] TEST: [1340]\n",
            "TRAIN: [   0    1    2 ... 1596 1597 1598] TEST: [1341]\n",
            "TRAIN: [   0    1    2 ... 1596 1597 1598] TEST: [1342]\n",
            "TRAIN: [   0    1    2 ... 1596 1597 1598] TEST: [1343]\n",
            "TRAIN: [   0    1    2 ... 1596 1597 1598] TEST: [1344]\n",
            "TRAIN: [   0    1    2 ... 1596 1597 1598] TEST: [1345]\n",
            "TRAIN: [   0    1    2 ... 1596 1597 1598] TEST: [1346]\n",
            "TRAIN: [   0    1    2 ... 1596 1597 1598] TEST: [1347]\n",
            "TRAIN: [   0    1    2 ... 1596 1597 1598] TEST: [1348]\n",
            "TRAIN: [   0    1    2 ... 1596 1597 1598] TEST: [1349]\n",
            "TRAIN: [   0    1    2 ... 1596 1597 1598] TEST: [1350]\n",
            "TRAIN: [   0    1    2 ... 1596 1597 1598] TEST: [1351]\n",
            "TRAIN: [   0    1    2 ... 1596 1597 1598] TEST: [1352]\n",
            "TRAIN: [   0    1    2 ... 1596 1597 1598] TEST: [1353]\n",
            "TRAIN: [   0    1    2 ... 1596 1597 1598] TEST: [1354]\n",
            "TRAIN: [   0    1    2 ... 1596 1597 1598] TEST: [1355]\n",
            "TRAIN: [   0    1    2 ... 1596 1597 1598] TEST: [1356]\n",
            "TRAIN: [   0    1    2 ... 1596 1597 1598] TEST: [1357]\n",
            "TRAIN: [   0    1    2 ... 1596 1597 1598] TEST: [1358]\n",
            "TRAIN: [   0    1    2 ... 1596 1597 1598] TEST: [1359]\n",
            "TRAIN: [   0    1    2 ... 1596 1597 1598] TEST: [1360]\n",
            "TRAIN: [   0    1    2 ... 1596 1597 1598] TEST: [1361]\n",
            "TRAIN: [   0    1    2 ... 1596 1597 1598] TEST: [1362]\n",
            "TRAIN: [   0    1    2 ... 1596 1597 1598] TEST: [1363]\n",
            "TRAIN: [   0    1    2 ... 1596 1597 1598] TEST: [1364]\n",
            "TRAIN: [   0    1    2 ... 1596 1597 1598] TEST: [1365]\n",
            "TRAIN: [   0    1    2 ... 1596 1597 1598] TEST: [1366]\n",
            "TRAIN: [   0    1    2 ... 1596 1597 1598] TEST: [1367]\n",
            "TRAIN: [   0    1    2 ... 1596 1597 1598] TEST: [1368]\n",
            "TRAIN: [   0    1    2 ... 1596 1597 1598] TEST: [1369]\n",
            "TRAIN: [   0    1    2 ... 1596 1597 1598] TEST: [1370]\n",
            "TRAIN: [   0    1    2 ... 1596 1597 1598] TEST: [1371]\n",
            "TRAIN: [   0    1    2 ... 1596 1597 1598] TEST: [1372]\n",
            "TRAIN: [   0    1    2 ... 1596 1597 1598] TEST: [1373]\n",
            "TRAIN: [   0    1    2 ... 1596 1597 1598] TEST: [1374]\n",
            "TRAIN: [   0    1    2 ... 1596 1597 1598] TEST: [1375]\n",
            "TRAIN: [   0    1    2 ... 1596 1597 1598] TEST: [1376]\n",
            "TRAIN: [   0    1    2 ... 1596 1597 1598] TEST: [1377]\n",
            "TRAIN: [   0    1    2 ... 1596 1597 1598] TEST: [1378]\n",
            "TRAIN: [   0    1    2 ... 1596 1597 1598] TEST: [1379]\n",
            "TRAIN: [   0    1    2 ... 1596 1597 1598] TEST: [1380]\n",
            "TRAIN: [   0    1    2 ... 1596 1597 1598] TEST: [1381]\n",
            "TRAIN: [   0    1    2 ... 1596 1597 1598] TEST: [1382]\n",
            "TRAIN: [   0    1    2 ... 1596 1597 1598] TEST: [1383]\n",
            "TRAIN: [   0    1    2 ... 1596 1597 1598] TEST: [1384]\n",
            "TRAIN: [   0    1    2 ... 1596 1597 1598] TEST: [1385]\n",
            "TRAIN: [   0    1    2 ... 1596 1597 1598] TEST: [1386]\n",
            "TRAIN: [   0    1    2 ... 1596 1597 1598] TEST: [1387]\n",
            "TRAIN: [   0    1    2 ... 1596 1597 1598] TEST: [1388]\n",
            "TRAIN: [   0    1    2 ... 1596 1597 1598] TEST: [1389]\n",
            "TRAIN: [   0    1    2 ... 1596 1597 1598] TEST: [1390]\n",
            "TRAIN: [   0    1    2 ... 1596 1597 1598] TEST: [1391]\n",
            "TRAIN: [   0    1    2 ... 1596 1597 1598] TEST: [1392]\n",
            "TRAIN: [   0    1    2 ... 1596 1597 1598] TEST: [1393]\n",
            "TRAIN: [   0    1    2 ... 1596 1597 1598] TEST: [1394]\n",
            "TRAIN: [   0    1    2 ... 1596 1597 1598] TEST: [1395]\n",
            "TRAIN: [   0    1    2 ... 1596 1597 1598] TEST: [1396]\n",
            "TRAIN: [   0    1    2 ... 1596 1597 1598] TEST: [1397]\n",
            "TRAIN: [   0    1    2 ... 1596 1597 1598] TEST: [1398]\n",
            "TRAIN: [   0    1    2 ... 1596 1597 1598] TEST: [1399]\n",
            "TRAIN: [   0    1    2 ... 1596 1597 1598] TEST: [1400]\n",
            "TRAIN: [   0    1    2 ... 1596 1597 1598] TEST: [1401]\n",
            "TRAIN: [   0    1    2 ... 1596 1597 1598] TEST: [1402]\n",
            "TRAIN: [   0    1    2 ... 1596 1597 1598] TEST: [1403]\n",
            "TRAIN: [   0    1    2 ... 1596 1597 1598] TEST: [1404]\n",
            "TRAIN: [   0    1    2 ... 1596 1597 1598] TEST: [1405]\n",
            "TRAIN: [   0    1    2 ... 1596 1597 1598] TEST: [1406]\n",
            "TRAIN: [   0    1    2 ... 1596 1597 1598] TEST: [1407]\n",
            "TRAIN: [   0    1    2 ... 1596 1597 1598] TEST: [1408]\n",
            "TRAIN: [   0    1    2 ... 1596 1597 1598] TEST: [1409]\n",
            "TRAIN: [   0    1    2 ... 1596 1597 1598] TEST: [1410]\n",
            "TRAIN: [   0    1    2 ... 1596 1597 1598] TEST: [1411]\n",
            "TRAIN: [   0    1    2 ... 1596 1597 1598] TEST: [1412]\n",
            "TRAIN: [   0    1    2 ... 1596 1597 1598] TEST: [1413]\n",
            "TRAIN: [   0    1    2 ... 1596 1597 1598] TEST: [1414]\n",
            "TRAIN: [   0    1    2 ... 1596 1597 1598] TEST: [1415]\n",
            "TRAIN: [   0    1    2 ... 1596 1597 1598] TEST: [1416]\n",
            "TRAIN: [   0    1    2 ... 1596 1597 1598] TEST: [1417]\n",
            "TRAIN: [   0    1    2 ... 1596 1597 1598] TEST: [1418]\n",
            "TRAIN: [   0    1    2 ... 1596 1597 1598] TEST: [1419]\n",
            "TRAIN: [   0    1    2 ... 1596 1597 1598] TEST: [1420]\n",
            "TRAIN: [   0    1    2 ... 1596 1597 1598] TEST: [1421]\n",
            "TRAIN: [   0    1    2 ... 1596 1597 1598] TEST: [1422]\n",
            "TRAIN: [   0    1    2 ... 1596 1597 1598] TEST: [1423]\n",
            "TRAIN: [   0    1    2 ... 1596 1597 1598] TEST: [1424]\n",
            "TRAIN: [   0    1    2 ... 1596 1597 1598] TEST: [1425]\n",
            "TRAIN: [   0    1    2 ... 1596 1597 1598] TEST: [1426]\n",
            "TRAIN: [   0    1    2 ... 1596 1597 1598] TEST: [1427]\n",
            "TRAIN: [   0    1    2 ... 1596 1597 1598] TEST: [1428]\n",
            "TRAIN: [   0    1    2 ... 1596 1597 1598] TEST: [1429]\n",
            "TRAIN: [   0    1    2 ... 1596 1597 1598] TEST: [1430]\n",
            "TRAIN: [   0    1    2 ... 1596 1597 1598] TEST: [1431]\n",
            "TRAIN: [   0    1    2 ... 1596 1597 1598] TEST: [1432]\n",
            "TRAIN: [   0    1    2 ... 1596 1597 1598] TEST: [1433]\n",
            "TRAIN: [   0    1    2 ... 1596 1597 1598] TEST: [1434]\n",
            "TRAIN: [   0    1    2 ... 1596 1597 1598] TEST: [1435]\n",
            "TRAIN: [   0    1    2 ... 1596 1597 1598] TEST: [1436]\n",
            "TRAIN: [   0    1    2 ... 1596 1597 1598] TEST: [1437]\n",
            "TRAIN: [   0    1    2 ... 1596 1597 1598] TEST: [1438]\n",
            "TRAIN: [   0    1    2 ... 1596 1597 1598] TEST: [1439]\n",
            "TRAIN: [   0    1    2 ... 1596 1597 1598] TEST: [1440]\n",
            "TRAIN: [   0    1    2 ... 1596 1597 1598] TEST: [1441]\n",
            "TRAIN: [   0    1    2 ... 1596 1597 1598] TEST: [1442]\n",
            "TRAIN: [   0    1    2 ... 1596 1597 1598] TEST: [1443]\n",
            "TRAIN: [   0    1    2 ... 1596 1597 1598] TEST: [1444]\n",
            "TRAIN: [   0    1    2 ... 1596 1597 1598] TEST: [1445]\n",
            "TRAIN: [   0    1    2 ... 1596 1597 1598] TEST: [1446]\n",
            "TRAIN: [   0    1    2 ... 1596 1597 1598] TEST: [1447]\n",
            "TRAIN: [   0    1    2 ... 1596 1597 1598] TEST: [1448]\n",
            "TRAIN: [   0    1    2 ... 1596 1597 1598] TEST: [1449]\n",
            "TRAIN: [   0    1    2 ... 1596 1597 1598] TEST: [1450]\n",
            "TRAIN: [   0    1    2 ... 1596 1597 1598] TEST: [1451]\n",
            "TRAIN: [   0    1    2 ... 1596 1597 1598] TEST: [1452]\n",
            "TRAIN: [   0    1    2 ... 1596 1597 1598] TEST: [1453]\n",
            "TRAIN: [   0    1    2 ... 1596 1597 1598] TEST: [1454]\n",
            "TRAIN: [   0    1    2 ... 1596 1597 1598] TEST: [1455]\n",
            "TRAIN: [   0    1    2 ... 1596 1597 1598] TEST: [1456]\n",
            "TRAIN: [   0    1    2 ... 1596 1597 1598] TEST: [1457]\n",
            "TRAIN: [   0    1    2 ... 1596 1597 1598] TEST: [1458]\n",
            "TRAIN: [   0    1    2 ... 1596 1597 1598] TEST: [1459]\n",
            "TRAIN: [   0    1    2 ... 1596 1597 1598] TEST: [1460]\n",
            "TRAIN: [   0    1    2 ... 1596 1597 1598] TEST: [1461]\n",
            "TRAIN: [   0    1    2 ... 1596 1597 1598] TEST: [1462]\n",
            "TRAIN: [   0    1    2 ... 1596 1597 1598] TEST: [1463]\n",
            "TRAIN: [   0    1    2 ... 1596 1597 1598] TEST: [1464]\n",
            "TRAIN: [   0    1    2 ... 1596 1597 1598] TEST: [1465]\n",
            "TRAIN: [   0    1    2 ... 1596 1597 1598] TEST: [1466]\n",
            "TRAIN: [   0    1    2 ... 1596 1597 1598] TEST: [1467]\n",
            "TRAIN: [   0    1    2 ... 1596 1597 1598] TEST: [1468]\n",
            "TRAIN: [   0    1    2 ... 1596 1597 1598] TEST: [1469]\n",
            "TRAIN: [   0    1    2 ... 1596 1597 1598] TEST: [1470]\n",
            "TRAIN: [   0    1    2 ... 1596 1597 1598] TEST: [1471]\n",
            "TRAIN: [   0    1    2 ... 1596 1597 1598] TEST: [1472]\n",
            "TRAIN: [   0    1    2 ... 1596 1597 1598] TEST: [1473]\n",
            "TRAIN: [   0    1    2 ... 1596 1597 1598] TEST: [1474]\n",
            "TRAIN: [   0    1    2 ... 1596 1597 1598] TEST: [1475]\n",
            "TRAIN: [   0    1    2 ... 1596 1597 1598] TEST: [1476]\n",
            "TRAIN: [   0    1    2 ... 1596 1597 1598] TEST: [1477]\n",
            "TRAIN: [   0    1    2 ... 1596 1597 1598] TEST: [1478]\n",
            "TRAIN: [   0    1    2 ... 1596 1597 1598] TEST: [1479]\n",
            "TRAIN: [   0    1    2 ... 1596 1597 1598] TEST: [1480]\n",
            "TRAIN: [   0    1    2 ... 1596 1597 1598] TEST: [1481]\n",
            "TRAIN: [   0    1    2 ... 1596 1597 1598] TEST: [1482]\n",
            "TRAIN: [   0    1    2 ... 1596 1597 1598] TEST: [1483]\n",
            "TRAIN: [   0    1    2 ... 1596 1597 1598] TEST: [1484]\n",
            "TRAIN: [   0    1    2 ... 1596 1597 1598] TEST: [1485]\n",
            "TRAIN: [   0    1    2 ... 1596 1597 1598] TEST: [1486]\n",
            "TRAIN: [   0    1    2 ... 1596 1597 1598] TEST: [1487]\n",
            "TRAIN: [   0    1    2 ... 1596 1597 1598] TEST: [1488]\n",
            "TRAIN: [   0    1    2 ... 1596 1597 1598] TEST: [1489]\n",
            "TRAIN: [   0    1    2 ... 1596 1597 1598] TEST: [1490]\n",
            "TRAIN: [   0    1    2 ... 1596 1597 1598] TEST: [1491]\n",
            "TRAIN: [   0    1    2 ... 1596 1597 1598] TEST: [1492]\n",
            "TRAIN: [   0    1    2 ... 1596 1597 1598] TEST: [1493]\n",
            "TRAIN: [   0    1    2 ... 1596 1597 1598] TEST: [1494]\n",
            "TRAIN: [   0    1    2 ... 1596 1597 1598] TEST: [1495]\n",
            "TRAIN: [   0    1    2 ... 1596 1597 1598] TEST: [1496]\n",
            "TRAIN: [   0    1    2 ... 1596 1597 1598] TEST: [1497]\n",
            "TRAIN: [   0    1    2 ... 1596 1597 1598] TEST: [1498]\n",
            "TRAIN: [   0    1    2 ... 1596 1597 1598] TEST: [1499]\n",
            "TRAIN: [   0    1    2 ... 1596 1597 1598] TEST: [1500]\n",
            "TRAIN: [   0    1    2 ... 1596 1597 1598] TEST: [1501]\n",
            "TRAIN: [   0    1    2 ... 1596 1597 1598] TEST: [1502]\n",
            "TRAIN: [   0    1    2 ... 1596 1597 1598] TEST: [1503]\n",
            "TRAIN: [   0    1    2 ... 1596 1597 1598] TEST: [1504]\n",
            "TRAIN: [   0    1    2 ... 1596 1597 1598] TEST: [1505]\n",
            "TRAIN: [   0    1    2 ... 1596 1597 1598] TEST: [1506]\n",
            "TRAIN: [   0    1    2 ... 1596 1597 1598] TEST: [1507]\n",
            "TRAIN: [   0    1    2 ... 1596 1597 1598] TEST: [1508]\n",
            "TRAIN: [   0    1    2 ... 1596 1597 1598] TEST: [1509]\n",
            "TRAIN: [   0    1    2 ... 1596 1597 1598] TEST: [1510]\n",
            "TRAIN: [   0    1    2 ... 1596 1597 1598] TEST: [1511]\n",
            "TRAIN: [   0    1    2 ... 1596 1597 1598] TEST: [1512]\n",
            "TRAIN: [   0    1    2 ... 1596 1597 1598] TEST: [1513]\n",
            "TRAIN: [   0    1    2 ... 1596 1597 1598] TEST: [1514]\n",
            "TRAIN: [   0    1    2 ... 1596 1597 1598] TEST: [1515]\n",
            "TRAIN: [   0    1    2 ... 1596 1597 1598] TEST: [1516]\n",
            "TRAIN: [   0    1    2 ... 1596 1597 1598] TEST: [1517]\n",
            "TRAIN: [   0    1    2 ... 1596 1597 1598] TEST: [1518]\n",
            "TRAIN: [   0    1    2 ... 1596 1597 1598] TEST: [1519]\n",
            "TRAIN: [   0    1    2 ... 1596 1597 1598] TEST: [1520]\n",
            "TRAIN: [   0    1    2 ... 1596 1597 1598] TEST: [1521]\n",
            "TRAIN: [   0    1    2 ... 1596 1597 1598] TEST: [1522]\n",
            "TRAIN: [   0    1    2 ... 1596 1597 1598] TEST: [1523]\n",
            "TRAIN: [   0    1    2 ... 1596 1597 1598] TEST: [1524]\n",
            "TRAIN: [   0    1    2 ... 1596 1597 1598] TEST: [1525]\n",
            "TRAIN: [   0    1    2 ... 1596 1597 1598] TEST: [1526]\n",
            "TRAIN: [   0    1    2 ... 1596 1597 1598] TEST: [1527]\n",
            "TRAIN: [   0    1    2 ... 1596 1597 1598] TEST: [1528]\n",
            "TRAIN: [   0    1    2 ... 1596 1597 1598] TEST: [1529]\n",
            "TRAIN: [   0    1    2 ... 1596 1597 1598] TEST: [1530]\n",
            "TRAIN: [   0    1    2 ... 1596 1597 1598] TEST: [1531]\n",
            "TRAIN: [   0    1    2 ... 1596 1597 1598] TEST: [1532]\n",
            "TRAIN: [   0    1    2 ... 1596 1597 1598] TEST: [1533]\n",
            "TRAIN: [   0    1    2 ... 1596 1597 1598] TEST: [1534]\n",
            "TRAIN: [   0    1    2 ... 1596 1597 1598] TEST: [1535]\n",
            "TRAIN: [   0    1    2 ... 1596 1597 1598] TEST: [1536]\n",
            "TRAIN: [   0    1    2 ... 1596 1597 1598] TEST: [1537]\n",
            "TRAIN: [   0    1    2 ... 1596 1597 1598] TEST: [1538]\n",
            "TRAIN: [   0    1    2 ... 1596 1597 1598] TEST: [1539]\n",
            "TRAIN: [   0    1    2 ... 1596 1597 1598] TEST: [1540]\n",
            "TRAIN: [   0    1    2 ... 1596 1597 1598] TEST: [1541]\n",
            "TRAIN: [   0    1    2 ... 1596 1597 1598] TEST: [1542]\n",
            "TRAIN: [   0    1    2 ... 1596 1597 1598] TEST: [1543]\n",
            "TRAIN: [   0    1    2 ... 1596 1597 1598] TEST: [1544]\n",
            "TRAIN: [   0    1    2 ... 1596 1597 1598] TEST: [1545]\n",
            "TRAIN: [   0    1    2 ... 1596 1597 1598] TEST: [1546]\n",
            "TRAIN: [   0    1    2 ... 1596 1597 1598] TEST: [1547]\n",
            "TRAIN: [   0    1    2 ... 1596 1597 1598] TEST: [1548]\n",
            "TRAIN: [   0    1    2 ... 1596 1597 1598] TEST: [1549]\n",
            "TRAIN: [   0    1    2 ... 1596 1597 1598] TEST: [1550]\n",
            "TRAIN: [   0    1    2 ... 1596 1597 1598] TEST: [1551]\n",
            "TRAIN: [   0    1    2 ... 1596 1597 1598] TEST: [1552]\n",
            "TRAIN: [   0    1    2 ... 1596 1597 1598] TEST: [1553]\n",
            "TRAIN: [   0    1    2 ... 1596 1597 1598] TEST: [1554]\n",
            "TRAIN: [   0    1    2 ... 1596 1597 1598] TEST: [1555]\n",
            "TRAIN: [   0    1    2 ... 1596 1597 1598] TEST: [1556]\n",
            "TRAIN: [   0    1    2 ... 1596 1597 1598] TEST: [1557]\n",
            "TRAIN: [   0    1    2 ... 1596 1597 1598] TEST: [1558]\n",
            "TRAIN: [   0    1    2 ... 1596 1597 1598] TEST: [1559]\n",
            "TRAIN: [   0    1    2 ... 1596 1597 1598] TEST: [1560]\n",
            "TRAIN: [   0    1    2 ... 1596 1597 1598] TEST: [1561]\n",
            "TRAIN: [   0    1    2 ... 1596 1597 1598] TEST: [1562]\n",
            "TRAIN: [   0    1    2 ... 1596 1597 1598] TEST: [1563]\n",
            "TRAIN: [   0    1    2 ... 1596 1597 1598] TEST: [1564]\n",
            "TRAIN: [   0    1    2 ... 1596 1597 1598] TEST: [1565]\n",
            "TRAIN: [   0    1    2 ... 1596 1597 1598] TEST: [1566]\n",
            "TRAIN: [   0    1    2 ... 1596 1597 1598] TEST: [1567]\n",
            "TRAIN: [   0    1    2 ... 1596 1597 1598] TEST: [1568]\n",
            "TRAIN: [   0    1    2 ... 1596 1597 1598] TEST: [1569]\n",
            "TRAIN: [   0    1    2 ... 1596 1597 1598] TEST: [1570]\n",
            "TRAIN: [   0    1    2 ... 1596 1597 1598] TEST: [1571]\n",
            "TRAIN: [   0    1    2 ... 1596 1597 1598] TEST: [1572]\n",
            "TRAIN: [   0    1    2 ... 1596 1597 1598] TEST: [1573]\n",
            "TRAIN: [   0    1    2 ... 1596 1597 1598] TEST: [1574]\n",
            "TRAIN: [   0    1    2 ... 1596 1597 1598] TEST: [1575]\n",
            "TRAIN: [   0    1    2 ... 1596 1597 1598] TEST: [1576]\n",
            "TRAIN: [   0    1    2 ... 1596 1597 1598] TEST: [1577]\n",
            "TRAIN: [   0    1    2 ... 1596 1597 1598] TEST: [1578]\n",
            "TRAIN: [   0    1    2 ... 1596 1597 1598] TEST: [1579]\n",
            "TRAIN: [   0    1    2 ... 1596 1597 1598] TEST: [1580]\n",
            "TRAIN: [   0    1    2 ... 1596 1597 1598] TEST: [1581]\n",
            "TRAIN: [   0    1    2 ... 1596 1597 1598] TEST: [1582]\n",
            "TRAIN: [   0    1    2 ... 1596 1597 1598] TEST: [1583]\n",
            "TRAIN: [   0    1    2 ... 1596 1597 1598] TEST: [1584]\n",
            "TRAIN: [   0    1    2 ... 1596 1597 1598] TEST: [1585]\n",
            "TRAIN: [   0    1    2 ... 1596 1597 1598] TEST: [1586]\n",
            "TRAIN: [   0    1    2 ... 1596 1597 1598] TEST: [1587]\n",
            "TRAIN: [   0    1    2 ... 1596 1597 1598] TEST: [1588]\n",
            "TRAIN: [   0    1    2 ... 1596 1597 1598] TEST: [1589]\n",
            "TRAIN: [   0    1    2 ... 1596 1597 1598] TEST: [1590]\n",
            "TRAIN: [   0    1    2 ... 1596 1597 1598] TEST: [1591]\n",
            "TRAIN: [   0    1    2 ... 1596 1597 1598] TEST: [1592]\n",
            "TRAIN: [   0    1    2 ... 1596 1597 1598] TEST: [1593]\n",
            "TRAIN: [   0    1    2 ... 1596 1597 1598] TEST: [1594]\n",
            "TRAIN: [   0    1    2 ... 1596 1597 1598] TEST: [1595]\n",
            "TRAIN: [   0    1    2 ... 1595 1597 1598] TEST: [1596]\n",
            "TRAIN: [   0    1    2 ... 1595 1596 1598] TEST: [1597]\n",
            "TRAIN: [   0    1    2 ... 1595 1596 1597] TEST: [1598]\n"
          ]
        }
      ]
    },
    {
      "cell_type": "markdown",
      "metadata": {
        "id": "m-keq5ldPNO6"
      },
      "source": [
        "Creamos dentro del bucle cada uno de los conjuntos necesarios para poder aplicar luego un modelo *Xtrain, Xtest, ytrain, ytest*. "
      ]
    },
    {
      "cell_type": "code",
      "metadata": {
        "id": "sbDIgkA-PQsd",
        "colab": {
          "base_uri": "https://localhost:8080/"
        },
        "outputId": "80bab6c0-c14e-4f16-8cf8-66914ad16630"
      },
      "source": [
        "for train_index, val_index in loocv.split(X):\n",
        "  # añadimos cada instancia a su conjunto a través de los índices\n",
        "  X_train, X_val = X.iloc[train_index], X.iloc[val_index] \n",
        "  y_train, y_val = y.iloc[train_index], y.iloc[val_index]\n",
        "  print(X_train, X_val, y_train, y_val)"
      ],
      "execution_count": null,
      "outputs": [
        {
          "output_type": "stream",
          "name": "stdout",
          "text": [
            "\u001b[1;30;43mSe han truncado las últimas 5000 líneas del flujo de salida.\u001b[0m\n",
            "1       0\n",
            "2       0\n",
            "3       1\n",
            "4       0\n",
            "       ..\n",
            "1594    0\n",
            "1595    1\n",
            "1596    1\n",
            "1597    0\n",
            "1598    1\n",
            "Name: quality, Length: 1598, dtype: int64 1426    1\n",
            "Name: quality, dtype: int64\n",
            "      fixed acidity  volatile acidity  citric acid  ...    pH  sulphates  alcohol\n",
            "0               7.4             0.700         0.00  ...  3.51       0.56      9.4\n",
            "1               7.8             0.880         0.00  ...  3.20       0.68      9.8\n",
            "2               7.8             0.760         0.04  ...  3.26       0.65      9.8\n",
            "3              11.2             0.280         0.56  ...  3.16       0.58      9.8\n",
            "4               7.4             0.700         0.00  ...  3.51       0.56      9.4\n",
            "...             ...               ...          ...  ...   ...        ...      ...\n",
            "1594            6.2             0.600         0.08  ...  3.45       0.58     10.5\n",
            "1595            5.9             0.550         0.10  ...  3.52       0.76     11.2\n",
            "1596            6.3             0.510         0.13  ...  3.42       0.75     11.0\n",
            "1597            5.9             0.645         0.12  ...  3.57       0.71     10.2\n",
            "1598            6.0             0.310         0.47  ...  3.39       0.66     11.0\n",
            "\n",
            "[1598 rows x 11 columns]       fixed acidity  volatile acidity  citric acid  ...   pH  sulphates  alcohol\n",
            "1427            7.6              0.41         0.33  ...  3.3       0.58     11.2\n",
            "\n",
            "[1 rows x 11 columns] 0       0\n",
            "1       0\n",
            "2       0\n",
            "3       1\n",
            "4       0\n",
            "       ..\n",
            "1594    0\n",
            "1595    1\n",
            "1596    1\n",
            "1597    0\n",
            "1598    1\n",
            "Name: quality, Length: 1598, dtype: int64 1427    0\n",
            "Name: quality, dtype: int64\n",
            "      fixed acidity  volatile acidity  citric acid  ...    pH  sulphates  alcohol\n",
            "0               7.4             0.700         0.00  ...  3.51       0.56      9.4\n",
            "1               7.8             0.880         0.00  ...  3.20       0.68      9.8\n",
            "2               7.8             0.760         0.04  ...  3.26       0.65      9.8\n",
            "3              11.2             0.280         0.56  ...  3.16       0.58      9.8\n",
            "4               7.4             0.700         0.00  ...  3.51       0.56      9.4\n",
            "...             ...               ...          ...  ...   ...        ...      ...\n",
            "1594            6.2             0.600         0.08  ...  3.45       0.58     10.5\n",
            "1595            5.9             0.550         0.10  ...  3.52       0.76     11.2\n",
            "1596            6.3             0.510         0.13  ...  3.42       0.75     11.0\n",
            "1597            5.9             0.645         0.12  ...  3.57       0.71     10.2\n",
            "1598            6.0             0.310         0.47  ...  3.39       0.66     11.0\n",
            "\n",
            "[1598 rows x 11 columns]       fixed acidity  volatile acidity  citric acid  ...    pH  sulphates  alcohol\n",
            "1428            7.8              0.64          0.0  ...  3.31       0.63     11.0\n",
            "\n",
            "[1 rows x 11 columns] 0       0\n",
            "1       0\n",
            "2       0\n",
            "3       1\n",
            "4       0\n",
            "       ..\n",
            "1594    0\n",
            "1595    1\n",
            "1596    1\n",
            "1597    0\n",
            "1598    1\n",
            "Name: quality, Length: 1598, dtype: int64 1428    0\n",
            "Name: quality, dtype: int64\n",
            "      fixed acidity  volatile acidity  citric acid  ...    pH  sulphates  alcohol\n",
            "0               7.4             0.700         0.00  ...  3.51       0.56      9.4\n",
            "1               7.8             0.880         0.00  ...  3.20       0.68      9.8\n",
            "2               7.8             0.760         0.04  ...  3.26       0.65      9.8\n",
            "3              11.2             0.280         0.56  ...  3.16       0.58      9.8\n",
            "4               7.4             0.700         0.00  ...  3.51       0.56      9.4\n",
            "...             ...               ...          ...  ...   ...        ...      ...\n",
            "1594            6.2             0.600         0.08  ...  3.45       0.58     10.5\n",
            "1595            5.9             0.550         0.10  ...  3.52       0.76     11.2\n",
            "1596            6.3             0.510         0.13  ...  3.42       0.75     11.0\n",
            "1597            5.9             0.645         0.12  ...  3.57       0.71     10.2\n",
            "1598            6.0             0.310         0.47  ...  3.39       0.66     11.0\n",
            "\n",
            "[1598 rows x 11 columns]       fixed acidity  volatile acidity  citric acid  ...    pH  sulphates  alcohol\n",
            "1429            7.9              0.18          0.4  ...  3.33       0.93     11.3\n",
            "\n",
            "[1 rows x 11 columns] 0       0\n",
            "1       0\n",
            "2       0\n",
            "3       1\n",
            "4       0\n",
            "       ..\n",
            "1594    0\n",
            "1595    1\n",
            "1596    1\n",
            "1597    0\n",
            "1598    1\n",
            "Name: quality, Length: 1598, dtype: int64 1429    0\n",
            "Name: quality, dtype: int64\n",
            "      fixed acidity  volatile acidity  citric acid  ...    pH  sulphates  alcohol\n",
            "0               7.4             0.700         0.00  ...  3.51       0.56      9.4\n",
            "1               7.8             0.880         0.00  ...  3.20       0.68      9.8\n",
            "2               7.8             0.760         0.04  ...  3.26       0.65      9.8\n",
            "3              11.2             0.280         0.56  ...  3.16       0.58      9.8\n",
            "4               7.4             0.700         0.00  ...  3.51       0.56      9.4\n",
            "...             ...               ...          ...  ...   ...        ...      ...\n",
            "1594            6.2             0.600         0.08  ...  3.45       0.58     10.5\n",
            "1595            5.9             0.550         0.10  ...  3.52       0.76     11.2\n",
            "1596            6.3             0.510         0.13  ...  3.42       0.75     11.0\n",
            "1597            5.9             0.645         0.12  ...  3.57       0.71     10.2\n",
            "1598            6.0             0.310         0.47  ...  3.39       0.66     11.0\n",
            "\n",
            "[1598 rows x 11 columns]       fixed acidity  volatile acidity  citric acid  ...    pH  sulphates  alcohol\n",
            "1430            7.4              0.41         0.24  ...  3.37       0.62     10.4\n",
            "\n",
            "[1 rows x 11 columns] 0       0\n",
            "1       0\n",
            "2       0\n",
            "3       1\n",
            "4       0\n",
            "       ..\n",
            "1594    0\n",
            "1595    1\n",
            "1596    1\n",
            "1597    0\n",
            "1598    1\n",
            "Name: quality, Length: 1598, dtype: int64 1430    0\n",
            "Name: quality, dtype: int64\n",
            "      fixed acidity  volatile acidity  citric acid  ...    pH  sulphates  alcohol\n",
            "0               7.4             0.700         0.00  ...  3.51       0.56      9.4\n",
            "1               7.8             0.880         0.00  ...  3.20       0.68      9.8\n",
            "2               7.8             0.760         0.04  ...  3.26       0.65      9.8\n",
            "3              11.2             0.280         0.56  ...  3.16       0.58      9.8\n",
            "4               7.4             0.700         0.00  ...  3.51       0.56      9.4\n",
            "...             ...               ...          ...  ...   ...        ...      ...\n",
            "1594            6.2             0.600         0.08  ...  3.45       0.58     10.5\n",
            "1595            5.9             0.550         0.10  ...  3.52       0.76     11.2\n",
            "1596            6.3             0.510         0.13  ...  3.42       0.75     11.0\n",
            "1597            5.9             0.645         0.12  ...  3.57       0.71     10.2\n",
            "1598            6.0             0.310         0.47  ...  3.39       0.66     11.0\n",
            "\n",
            "[1598 rows x 11 columns]       fixed acidity  volatile acidity  citric acid  ...    pH  sulphates  alcohol\n",
            "1431            7.6              0.43         0.31  ...  3.26       0.54      9.9\n",
            "\n",
            "[1 rows x 11 columns] 0       0\n",
            "1       0\n",
            "2       0\n",
            "3       1\n",
            "4       0\n",
            "       ..\n",
            "1594    0\n",
            "1595    1\n",
            "1596    1\n",
            "1597    0\n",
            "1598    1\n",
            "Name: quality, Length: 1598, dtype: int64 1431    1\n",
            "Name: quality, dtype: int64\n",
            "      fixed acidity  volatile acidity  citric acid  ...    pH  sulphates  alcohol\n",
            "0               7.4             0.700         0.00  ...  3.51       0.56      9.4\n",
            "1               7.8             0.880         0.00  ...  3.20       0.68      9.8\n",
            "2               7.8             0.760         0.04  ...  3.26       0.65      9.8\n",
            "3              11.2             0.280         0.56  ...  3.16       0.58      9.8\n",
            "4               7.4             0.700         0.00  ...  3.51       0.56      9.4\n",
            "...             ...               ...          ...  ...   ...        ...      ...\n",
            "1594            6.2             0.600         0.08  ...  3.45       0.58     10.5\n",
            "1595            5.9             0.550         0.10  ...  3.52       0.76     11.2\n",
            "1596            6.3             0.510         0.13  ...  3.42       0.75     11.0\n",
            "1597            5.9             0.645         0.12  ...  3.57       0.71     10.2\n",
            "1598            6.0             0.310         0.47  ...  3.39       0.66     11.0\n",
            "\n",
            "[1598 rows x 11 columns]       fixed acidity  volatile acidity  citric acid  ...    pH  sulphates  alcohol\n",
            "1432            5.9              0.44          0.0  ...  3.48       0.85     11.7\n",
            "\n",
            "[1 rows x 11 columns] 0       0\n",
            "1       0\n",
            "2       0\n",
            "3       1\n",
            "4       0\n",
            "       ..\n",
            "1594    0\n",
            "1595    1\n",
            "1596    1\n",
            "1597    0\n",
            "1598    1\n",
            "Name: quality, Length: 1598, dtype: int64 1432    1\n",
            "Name: quality, dtype: int64\n",
            "      fixed acidity  volatile acidity  citric acid  ...    pH  sulphates  alcohol\n",
            "0               7.4             0.700         0.00  ...  3.51       0.56      9.4\n",
            "1               7.8             0.880         0.00  ...  3.20       0.68      9.8\n",
            "2               7.8             0.760         0.04  ...  3.26       0.65      9.8\n",
            "3              11.2             0.280         0.56  ...  3.16       0.58      9.8\n",
            "4               7.4             0.700         0.00  ...  3.51       0.56      9.4\n",
            "...             ...               ...          ...  ...   ...        ...      ...\n",
            "1594            6.2             0.600         0.08  ...  3.45       0.58     10.5\n",
            "1595            5.9             0.550         0.10  ...  3.52       0.76     11.2\n",
            "1596            6.3             0.510         0.13  ...  3.42       0.75     11.0\n",
            "1597            5.9             0.645         0.12  ...  3.57       0.71     10.2\n",
            "1598            6.0             0.310         0.47  ...  3.39       0.66     11.0\n",
            "\n",
            "[1598 rows x 11 columns]       fixed acidity  volatile acidity  citric acid  ...    pH  sulphates  alcohol\n",
            "1433            6.1               0.4         0.16  ...  3.42       0.74     10.1\n",
            "\n",
            "[1 rows x 11 columns] 0       0\n",
            "1       0\n",
            "2       0\n",
            "3       1\n",
            "4       0\n",
            "       ..\n",
            "1594    0\n",
            "1595    1\n",
            "1596    1\n",
            "1597    0\n",
            "1598    1\n",
            "Name: quality, Length: 1598, dtype: int64 1433    1\n",
            "Name: quality, dtype: int64\n",
            "      fixed acidity  volatile acidity  citric acid  ...    pH  sulphates  alcohol\n",
            "0               7.4             0.700         0.00  ...  3.51       0.56      9.4\n",
            "1               7.8             0.880         0.00  ...  3.20       0.68      9.8\n",
            "2               7.8             0.760         0.04  ...  3.26       0.65      9.8\n",
            "3              11.2             0.280         0.56  ...  3.16       0.58      9.8\n",
            "4               7.4             0.700         0.00  ...  3.51       0.56      9.4\n",
            "...             ...               ...          ...  ...   ...        ...      ...\n",
            "1594            6.2             0.600         0.08  ...  3.45       0.58     10.5\n",
            "1595            5.9             0.550         0.10  ...  3.52       0.76     11.2\n",
            "1596            6.3             0.510         0.13  ...  3.42       0.75     11.0\n",
            "1597            5.9             0.645         0.12  ...  3.57       0.71     10.2\n",
            "1598            6.0             0.310         0.47  ...  3.39       0.66     11.0\n",
            "\n",
            "[1598 rows x 11 columns]       fixed acidity  volatile acidity  citric acid  ...    pH  sulphates  alcohol\n",
            "1434           10.2              0.54         0.37  ...  3.18       0.77      9.0\n",
            "\n",
            "[1 rows x 11 columns] 0       0\n",
            "1       0\n",
            "2       0\n",
            "3       1\n",
            "4       0\n",
            "       ..\n",
            "1594    0\n",
            "1595    1\n",
            "1596    1\n",
            "1597    0\n",
            "1598    1\n",
            "Name: quality, Length: 1598, dtype: int64 1434    1\n",
            "Name: quality, dtype: int64\n",
            "      fixed acidity  volatile acidity  citric acid  ...    pH  sulphates  alcohol\n",
            "0               7.4             0.700         0.00  ...  3.51       0.56      9.4\n",
            "1               7.8             0.880         0.00  ...  3.20       0.68      9.8\n",
            "2               7.8             0.760         0.04  ...  3.26       0.65      9.8\n",
            "3              11.2             0.280         0.56  ...  3.16       0.58      9.8\n",
            "4               7.4             0.700         0.00  ...  3.51       0.56      9.4\n",
            "...             ...               ...          ...  ...   ...        ...      ...\n",
            "1594            6.2             0.600         0.08  ...  3.45       0.58     10.5\n",
            "1595            5.9             0.550         0.10  ...  3.52       0.76     11.2\n",
            "1596            6.3             0.510         0.13  ...  3.42       0.75     11.0\n",
            "1597            5.9             0.645         0.12  ...  3.57       0.71     10.2\n",
            "1598            6.0             0.310         0.47  ...  3.39       0.66     11.0\n",
            "\n",
            "[1598 rows x 11 columns]       fixed acidity  volatile acidity  citric acid  ...    pH  sulphates  alcohol\n",
            "1435           10.2              0.54         0.37  ...  3.18       0.77      9.0\n",
            "\n",
            "[1 rows x 11 columns] 0       0\n",
            "1       0\n",
            "2       0\n",
            "3       1\n",
            "4       0\n",
            "       ..\n",
            "1594    0\n",
            "1595    1\n",
            "1596    1\n",
            "1597    0\n",
            "1598    1\n",
            "Name: quality, Length: 1598, dtype: int64 1435    1\n",
            "Name: quality, dtype: int64\n",
            "      fixed acidity  volatile acidity  citric acid  ...    pH  sulphates  alcohol\n",
            "0               7.4             0.700         0.00  ...  3.51       0.56      9.4\n",
            "1               7.8             0.880         0.00  ...  3.20       0.68      9.8\n",
            "2               7.8             0.760         0.04  ...  3.26       0.65      9.8\n",
            "3              11.2             0.280         0.56  ...  3.16       0.58      9.8\n",
            "4               7.4             0.700         0.00  ...  3.51       0.56      9.4\n",
            "...             ...               ...          ...  ...   ...        ...      ...\n",
            "1594            6.2             0.600         0.08  ...  3.45       0.58     10.5\n",
            "1595            5.9             0.550         0.10  ...  3.52       0.76     11.2\n",
            "1596            6.3             0.510         0.13  ...  3.42       0.75     11.0\n",
            "1597            5.9             0.645         0.12  ...  3.57       0.71     10.2\n",
            "1598            6.0             0.310         0.47  ...  3.39       0.66     11.0\n",
            "\n",
            "[1598 rows x 11 columns]       fixed acidity  volatile acidity  citric acid  ...    pH  sulphates  alcohol\n",
            "1436           10.0              0.38         0.38  ...  3.15       0.65      8.5\n",
            "\n",
            "[1 rows x 11 columns] 0       0\n",
            "1       0\n",
            "2       0\n",
            "3       1\n",
            "4       0\n",
            "       ..\n",
            "1594    0\n",
            "1595    1\n",
            "1596    1\n",
            "1597    0\n",
            "1598    1\n",
            "Name: quality, Length: 1598, dtype: int64 1436    0\n",
            "Name: quality, dtype: int64\n",
            "      fixed acidity  volatile acidity  citric acid  ...    pH  sulphates  alcohol\n",
            "0               7.4             0.700         0.00  ...  3.51       0.56      9.4\n",
            "1               7.8             0.880         0.00  ...  3.20       0.68      9.8\n",
            "2               7.8             0.760         0.04  ...  3.26       0.65      9.8\n",
            "3              11.2             0.280         0.56  ...  3.16       0.58      9.8\n",
            "4               7.4             0.700         0.00  ...  3.51       0.56      9.4\n",
            "...             ...               ...          ...  ...   ...        ...      ...\n",
            "1594            6.2             0.600         0.08  ...  3.45       0.58     10.5\n",
            "1595            5.9             0.550         0.10  ...  3.52       0.76     11.2\n",
            "1596            6.3             0.510         0.13  ...  3.42       0.75     11.0\n",
            "1597            5.9             0.645         0.12  ...  3.57       0.71     10.2\n",
            "1598            6.0             0.310         0.47  ...  3.39       0.66     11.0\n",
            "\n",
            "[1598 rows x 11 columns]       fixed acidity  volatile acidity  citric acid  ...    pH  sulphates  alcohol\n",
            "1437            6.8             0.915         0.29  ...  3.53       0.54     11.1\n",
            "\n",
            "[1 rows x 11 columns] 0       0\n",
            "1       0\n",
            "2       0\n",
            "3       1\n",
            "4       0\n",
            "       ..\n",
            "1594    0\n",
            "1595    1\n",
            "1596    1\n",
            "1597    0\n",
            "1598    1\n",
            "Name: quality, Length: 1598, dtype: int64 1437    0\n",
            "Name: quality, dtype: int64\n",
            "      fixed acidity  volatile acidity  citric acid  ...    pH  sulphates  alcohol\n",
            "0               7.4             0.700         0.00  ...  3.51       0.56      9.4\n",
            "1               7.8             0.880         0.00  ...  3.20       0.68      9.8\n",
            "2               7.8             0.760         0.04  ...  3.26       0.65      9.8\n",
            "3              11.2             0.280         0.56  ...  3.16       0.58      9.8\n",
            "4               7.4             0.700         0.00  ...  3.51       0.56      9.4\n",
            "...             ...               ...          ...  ...   ...        ...      ...\n",
            "1594            6.2             0.600         0.08  ...  3.45       0.58     10.5\n",
            "1595            5.9             0.550         0.10  ...  3.52       0.76     11.2\n",
            "1596            6.3             0.510         0.13  ...  3.42       0.75     11.0\n",
            "1597            5.9             0.645         0.12  ...  3.57       0.71     10.2\n",
            "1598            6.0             0.310         0.47  ...  3.39       0.66     11.0\n",
            "\n",
            "[1598 rows x 11 columns]       fixed acidity  volatile acidity  citric acid  ...    pH  sulphates  alcohol\n",
            "1438            7.0              0.59          0.0  ...  3.41       0.47     10.3\n",
            "\n",
            "[1 rows x 11 columns] 0       0\n",
            "1       0\n",
            "2       0\n",
            "3       1\n",
            "4       0\n",
            "       ..\n",
            "1594    0\n",
            "1595    1\n",
            "1596    1\n",
            "1597    0\n",
            "1598    1\n",
            "Name: quality, Length: 1598, dtype: int64 1438    0\n",
            "Name: quality, dtype: int64\n",
            "      fixed acidity  volatile acidity  citric acid  ...    pH  sulphates  alcohol\n",
            "0               7.4             0.700         0.00  ...  3.51       0.56      9.4\n",
            "1               7.8             0.880         0.00  ...  3.20       0.68      9.8\n",
            "2               7.8             0.760         0.04  ...  3.26       0.65      9.8\n",
            "3              11.2             0.280         0.56  ...  3.16       0.58      9.8\n",
            "4               7.4             0.700         0.00  ...  3.51       0.56      9.4\n",
            "...             ...               ...          ...  ...   ...        ...      ...\n",
            "1594            6.2             0.600         0.08  ...  3.45       0.58     10.5\n",
            "1595            5.9             0.550         0.10  ...  3.52       0.76     11.2\n",
            "1596            6.3             0.510         0.13  ...  3.42       0.75     11.0\n",
            "1597            5.9             0.645         0.12  ...  3.57       0.71     10.2\n",
            "1598            6.0             0.310         0.47  ...  3.39       0.66     11.0\n",
            "\n",
            "[1598 rows x 11 columns]       fixed acidity  volatile acidity  citric acid  ...    pH  sulphates    alcohol\n",
            "1439            7.3              0.67         0.02  ...  3.32       0.68  11.066667\n",
            "\n",
            "[1 rows x 11 columns] 0       0\n",
            "1       0\n",
            "2       0\n",
            "3       1\n",
            "4       0\n",
            "       ..\n",
            "1594    0\n",
            "1595    1\n",
            "1596    1\n",
            "1597    0\n",
            "1598    1\n",
            "Name: quality, Length: 1598, dtype: int64 1439    1\n",
            "Name: quality, dtype: int64\n",
            "      fixed acidity  volatile acidity  citric acid  ...    pH  sulphates  alcohol\n",
            "0               7.4             0.700         0.00  ...  3.51       0.56      9.4\n",
            "1               7.8             0.880         0.00  ...  3.20       0.68      9.8\n",
            "2               7.8             0.760         0.04  ...  3.26       0.65      9.8\n",
            "3              11.2             0.280         0.56  ...  3.16       0.58      9.8\n",
            "4               7.4             0.700         0.00  ...  3.51       0.56      9.4\n",
            "...             ...               ...          ...  ...   ...        ...      ...\n",
            "1594            6.2             0.600         0.08  ...  3.45       0.58     10.5\n",
            "1595            5.9             0.550         0.10  ...  3.52       0.76     11.2\n",
            "1596            6.3             0.510         0.13  ...  3.42       0.75     11.0\n",
            "1597            5.9             0.645         0.12  ...  3.57       0.71     10.2\n",
            "1598            6.0             0.310         0.47  ...  3.39       0.66     11.0\n",
            "\n",
            "[1598 rows x 11 columns]       fixed acidity  volatile acidity  citric acid  ...    pH  sulphates  alcohol\n",
            "1440            7.2              0.37         0.32  ...  3.23       0.73     11.3\n",
            "\n",
            "[1 rows x 11 columns] 0       0\n",
            "1       0\n",
            "2       0\n",
            "3       1\n",
            "4       0\n",
            "       ..\n",
            "1594    0\n",
            "1595    1\n",
            "1596    1\n",
            "1597    0\n",
            "1598    1\n",
            "Name: quality, Length: 1598, dtype: int64 1440    1\n",
            "Name: quality, dtype: int64\n",
            "      fixed acidity  volatile acidity  citric acid  ...    pH  sulphates  alcohol\n",
            "0               7.4             0.700         0.00  ...  3.51       0.56      9.4\n",
            "1               7.8             0.880         0.00  ...  3.20       0.68      9.8\n",
            "2               7.8             0.760         0.04  ...  3.26       0.65      9.8\n",
            "3              11.2             0.280         0.56  ...  3.16       0.58      9.8\n",
            "4               7.4             0.700         0.00  ...  3.51       0.56      9.4\n",
            "...             ...               ...          ...  ...   ...        ...      ...\n",
            "1594            6.2             0.600         0.08  ...  3.45       0.58     10.5\n",
            "1595            5.9             0.550         0.10  ...  3.52       0.76     11.2\n",
            "1596            6.3             0.510         0.13  ...  3.42       0.75     11.0\n",
            "1597            5.9             0.645         0.12  ...  3.57       0.71     10.2\n",
            "1598            6.0             0.310         0.47  ...  3.39       0.66     11.0\n",
            "\n",
            "[1598 rows x 11 columns]       fixed acidity  volatile acidity  citric acid  ...    pH  sulphates   alcohol\n",
            "1441            7.4             0.785         0.19  ...  3.16       0.52  9.566667\n",
            "\n",
            "[1 rows x 11 columns] 0       0\n",
            "1       0\n",
            "2       0\n",
            "3       1\n",
            "4       0\n",
            "       ..\n",
            "1594    0\n",
            "1595    1\n",
            "1596    1\n",
            "1597    0\n",
            "1598    1\n",
            "Name: quality, Length: 1598, dtype: int64 1441    1\n",
            "Name: quality, dtype: int64\n",
            "      fixed acidity  volatile acidity  citric acid  ...    pH  sulphates  alcohol\n",
            "0               7.4             0.700         0.00  ...  3.51       0.56      9.4\n",
            "1               7.8             0.880         0.00  ...  3.20       0.68      9.8\n",
            "2               7.8             0.760         0.04  ...  3.26       0.65      9.8\n",
            "3              11.2             0.280         0.56  ...  3.16       0.58      9.8\n",
            "4               7.4             0.700         0.00  ...  3.51       0.56      9.4\n",
            "...             ...               ...          ...  ...   ...        ...      ...\n",
            "1594            6.2             0.600         0.08  ...  3.45       0.58     10.5\n",
            "1595            5.9             0.550         0.10  ...  3.52       0.76     11.2\n",
            "1596            6.3             0.510         0.13  ...  3.42       0.75     11.0\n",
            "1597            5.9             0.645         0.12  ...  3.57       0.71     10.2\n",
            "1598            6.0             0.310         0.47  ...  3.39       0.66     11.0\n",
            "\n",
            "[1598 rows x 11 columns]       fixed acidity  volatile acidity  citric acid  ...   pH  sulphates  alcohol\n",
            "1442            6.9              0.63         0.02  ...  3.4       0.75      9.8\n",
            "\n",
            "[1 rows x 11 columns] 0       0\n",
            "1       0\n",
            "2       0\n",
            "3       1\n",
            "4       0\n",
            "       ..\n",
            "1594    0\n",
            "1595    1\n",
            "1596    1\n",
            "1597    0\n",
            "1598    1\n",
            "Name: quality, Length: 1598, dtype: int64 1442    0\n",
            "Name: quality, dtype: int64\n",
            "      fixed acidity  volatile acidity  citric acid  ...    pH  sulphates  alcohol\n",
            "0               7.4             0.700         0.00  ...  3.51       0.56      9.4\n",
            "1               7.8             0.880         0.00  ...  3.20       0.68      9.8\n",
            "2               7.8             0.760         0.04  ...  3.26       0.65      9.8\n",
            "3              11.2             0.280         0.56  ...  3.16       0.58      9.8\n",
            "4               7.4             0.700         0.00  ...  3.51       0.56      9.4\n",
            "...             ...               ...          ...  ...   ...        ...      ...\n",
            "1594            6.2             0.600         0.08  ...  3.45       0.58     10.5\n",
            "1595            5.9             0.550         0.10  ...  3.52       0.76     11.2\n",
            "1596            6.3             0.510         0.13  ...  3.42       0.75     11.0\n",
            "1597            5.9             0.645         0.12  ...  3.57       0.71     10.2\n",
            "1598            6.0             0.310         0.47  ...  3.39       0.66     11.0\n",
            "\n",
            "[1598 rows x 11 columns]       fixed acidity  volatile acidity  citric acid  ...    pH  sulphates  alcohol\n",
            "1443            6.9              0.58          0.2  ...  3.38       0.49     11.7\n",
            "\n",
            "[1 rows x 11 columns] 0       0\n",
            "1       0\n",
            "2       0\n",
            "3       1\n",
            "4       0\n",
            "       ..\n",
            "1594    0\n",
            "1595    1\n",
            "1596    1\n",
            "1597    0\n",
            "1598    1\n",
            "Name: quality, Length: 1598, dtype: int64 1443    0\n",
            "Name: quality, dtype: int64\n",
            "      fixed acidity  volatile acidity  citric acid  ...    pH  sulphates  alcohol\n",
            "0               7.4             0.700         0.00  ...  3.51       0.56      9.4\n",
            "1               7.8             0.880         0.00  ...  3.20       0.68      9.8\n",
            "2               7.8             0.760         0.04  ...  3.26       0.65      9.8\n",
            "3              11.2             0.280         0.56  ...  3.16       0.58      9.8\n",
            "4               7.4             0.700         0.00  ...  3.51       0.56      9.4\n",
            "...             ...               ...          ...  ...   ...        ...      ...\n",
            "1594            6.2             0.600         0.08  ...  3.45       0.58     10.5\n",
            "1595            5.9             0.550         0.10  ...  3.52       0.76     11.2\n",
            "1596            6.3             0.510         0.13  ...  3.42       0.75     11.0\n",
            "1597            5.9             0.645         0.12  ...  3.57       0.71     10.2\n",
            "1598            6.0             0.310         0.47  ...  3.39       0.66     11.0\n",
            "\n",
            "[1598 rows x 11 columns]       fixed acidity  volatile acidity  citric acid  ...    pH  sulphates  alcohol\n",
            "1444            7.3              0.67         0.02  ...  3.32       0.68     11.1\n",
            "\n",
            "[1 rows x 11 columns] 0       0\n",
            "1       0\n",
            "2       0\n",
            "3       1\n",
            "4       0\n",
            "       ..\n",
            "1594    0\n",
            "1595    1\n",
            "1596    1\n",
            "1597    0\n",
            "1598    1\n",
            "Name: quality, Length: 1598, dtype: int64 1444    1\n",
            "Name: quality, dtype: int64\n",
            "      fixed acidity  volatile acidity  citric acid  ...    pH  sulphates  alcohol\n",
            "0               7.4             0.700         0.00  ...  3.51       0.56      9.4\n",
            "1               7.8             0.880         0.00  ...  3.20       0.68      9.8\n",
            "2               7.8             0.760         0.04  ...  3.26       0.65      9.8\n",
            "3              11.2             0.280         0.56  ...  3.16       0.58      9.8\n",
            "4               7.4             0.700         0.00  ...  3.51       0.56      9.4\n",
            "...             ...               ...          ...  ...   ...        ...      ...\n",
            "1594            6.2             0.600         0.08  ...  3.45       0.58     10.5\n",
            "1595            5.9             0.550         0.10  ...  3.52       0.76     11.2\n",
            "1596            6.3             0.510         0.13  ...  3.42       0.75     11.0\n",
            "1597            5.9             0.645         0.12  ...  3.57       0.71     10.2\n",
            "1598            6.0             0.310         0.47  ...  3.39       0.66     11.0\n",
            "\n",
            "[1598 rows x 11 columns]       fixed acidity  volatile acidity  citric acid  ...    pH  sulphates  alcohol\n",
            "1445            7.4             0.785         0.19  ...  3.16       0.52      9.6\n",
            "\n",
            "[1 rows x 11 columns] 0       0\n",
            "1       0\n",
            "2       0\n",
            "3       1\n",
            "4       0\n",
            "       ..\n",
            "1594    0\n",
            "1595    1\n",
            "1596    1\n",
            "1597    0\n",
            "1598    1\n",
            "Name: quality, Length: 1598, dtype: int64 1445    1\n",
            "Name: quality, dtype: int64\n",
            "      fixed acidity  volatile acidity  citric acid  ...    pH  sulphates  alcohol\n",
            "0               7.4             0.700         0.00  ...  3.51       0.56      9.4\n",
            "1               7.8             0.880         0.00  ...  3.20       0.68      9.8\n",
            "2               7.8             0.760         0.04  ...  3.26       0.65      9.8\n",
            "3              11.2             0.280         0.56  ...  3.16       0.58      9.8\n",
            "4               7.4             0.700         0.00  ...  3.51       0.56      9.4\n",
            "...             ...               ...          ...  ...   ...        ...      ...\n",
            "1594            6.2             0.600         0.08  ...  3.45       0.58     10.5\n",
            "1595            5.9             0.550         0.10  ...  3.52       0.76     11.2\n",
            "1596            6.3             0.510         0.13  ...  3.42       0.75     11.0\n",
            "1597            5.9             0.645         0.12  ...  3.57       0.71     10.2\n",
            "1598            6.0             0.310         0.47  ...  3.39       0.66     11.0\n",
            "\n",
            "[1598 rows x 11 columns]       fixed acidity  volatile acidity  citric acid  ...   pH  sulphates  alcohol\n",
            "1446            6.9              0.63         0.02  ...  3.4       0.75      9.8\n",
            "\n",
            "[1 rows x 11 columns] 0       0\n",
            "1       0\n",
            "2       0\n",
            "3       1\n",
            "4       0\n",
            "       ..\n",
            "1594    0\n",
            "1595    1\n",
            "1596    1\n",
            "1597    0\n",
            "1598    1\n",
            "Name: quality, Length: 1598, dtype: int64 1446    0\n",
            "Name: quality, dtype: int64\n",
            "      fixed acidity  volatile acidity  citric acid  ...    pH  sulphates  alcohol\n",
            "0               7.4             0.700         0.00  ...  3.51       0.56      9.4\n",
            "1               7.8             0.880         0.00  ...  3.20       0.68      9.8\n",
            "2               7.8             0.760         0.04  ...  3.26       0.65      9.8\n",
            "3              11.2             0.280         0.56  ...  3.16       0.58      9.8\n",
            "4               7.4             0.700         0.00  ...  3.51       0.56      9.4\n",
            "...             ...               ...          ...  ...   ...        ...      ...\n",
            "1594            6.2             0.600         0.08  ...  3.45       0.58     10.5\n",
            "1595            5.9             0.550         0.10  ...  3.52       0.76     11.2\n",
            "1596            6.3             0.510         0.13  ...  3.42       0.75     11.0\n",
            "1597            5.9             0.645         0.12  ...  3.57       0.71     10.2\n",
            "1598            6.0             0.310         0.47  ...  3.39       0.66     11.0\n",
            "\n",
            "[1598 rows x 11 columns]       fixed acidity  volatile acidity  citric acid  ...   pH  sulphates  alcohol\n",
            "1447            6.8              0.67          0.0  ...  3.4       0.74      9.7\n",
            "\n",
            "[1 rows x 11 columns] 0       0\n",
            "1       0\n",
            "2       0\n",
            "3       1\n",
            "4       0\n",
            "       ..\n",
            "1594    0\n",
            "1595    1\n",
            "1596    1\n",
            "1597    0\n",
            "1598    1\n",
            "Name: quality, Length: 1598, dtype: int64 1447    0\n",
            "Name: quality, dtype: int64\n",
            "      fixed acidity  volatile acidity  citric acid  ...    pH  sulphates  alcohol\n",
            "0               7.4             0.700         0.00  ...  3.51       0.56      9.4\n",
            "1               7.8             0.880         0.00  ...  3.20       0.68      9.8\n",
            "2               7.8             0.760         0.04  ...  3.26       0.65      9.8\n",
            "3              11.2             0.280         0.56  ...  3.16       0.58      9.8\n",
            "4               7.4             0.700         0.00  ...  3.51       0.56      9.4\n",
            "...             ...               ...          ...  ...   ...        ...      ...\n",
            "1594            6.2             0.600         0.08  ...  3.45       0.58     10.5\n",
            "1595            5.9             0.550         0.10  ...  3.52       0.76     11.2\n",
            "1596            6.3             0.510         0.13  ...  3.42       0.75     11.0\n",
            "1597            5.9             0.645         0.12  ...  3.57       0.71     10.2\n",
            "1598            6.0             0.310         0.47  ...  3.39       0.66     11.0\n",
            "\n",
            "[1598 rows x 11 columns]       fixed acidity  volatile acidity  citric acid  ...   pH  sulphates  alcohol\n",
            "1448            6.9              0.58         0.01  ...  3.4       0.73      9.7\n",
            "\n",
            "[1 rows x 11 columns] 0       0\n",
            "1       0\n",
            "2       0\n",
            "3       1\n",
            "4       0\n",
            "       ..\n",
            "1594    0\n",
            "1595    1\n",
            "1596    1\n",
            "1597    0\n",
            "1598    1\n",
            "Name: quality, Length: 1598, dtype: int64 1448    0\n",
            "Name: quality, dtype: int64\n",
            "      fixed acidity  volatile acidity  citric acid  ...    pH  sulphates  alcohol\n",
            "0               7.4             0.700         0.00  ...  3.51       0.56      9.4\n",
            "1               7.8             0.880         0.00  ...  3.20       0.68      9.8\n",
            "2               7.8             0.760         0.04  ...  3.26       0.65      9.8\n",
            "3              11.2             0.280         0.56  ...  3.16       0.58      9.8\n",
            "4               7.4             0.700         0.00  ...  3.51       0.56      9.4\n",
            "...             ...               ...          ...  ...   ...        ...      ...\n",
            "1594            6.2             0.600         0.08  ...  3.45       0.58     10.5\n",
            "1595            5.9             0.550         0.10  ...  3.52       0.76     11.2\n",
            "1596            6.3             0.510         0.13  ...  3.42       0.75     11.0\n",
            "1597            5.9             0.645         0.12  ...  3.57       0.71     10.2\n",
            "1598            6.0             0.310         0.47  ...  3.39       0.66     11.0\n",
            "\n",
            "[1598 rows x 11 columns]       fixed acidity  volatile acidity  citric acid  ...    pH  sulphates  alcohol\n",
            "1449            7.2              0.38         0.31  ...  3.23       0.76     11.3\n",
            "\n",
            "[1 rows x 11 columns] 0       0\n",
            "1       0\n",
            "2       0\n",
            "3       1\n",
            "4       0\n",
            "       ..\n",
            "1594    0\n",
            "1595    1\n",
            "1596    1\n",
            "1597    0\n",
            "1598    1\n",
            "Name: quality, Length: 1598, dtype: int64 1449    1\n",
            "Name: quality, dtype: int64\n",
            "      fixed acidity  volatile acidity  citric acid  ...    pH  sulphates  alcohol\n",
            "0               7.4             0.700         0.00  ...  3.51       0.56      9.4\n",
            "1               7.8             0.880         0.00  ...  3.20       0.68      9.8\n",
            "2               7.8             0.760         0.04  ...  3.26       0.65      9.8\n",
            "3              11.2             0.280         0.56  ...  3.16       0.58      9.8\n",
            "4               7.4             0.700         0.00  ...  3.51       0.56      9.4\n",
            "...             ...               ...          ...  ...   ...        ...      ...\n",
            "1594            6.2             0.600         0.08  ...  3.45       0.58     10.5\n",
            "1595            5.9             0.550         0.10  ...  3.52       0.76     11.2\n",
            "1596            6.3             0.510         0.13  ...  3.42       0.75     11.0\n",
            "1597            5.9             0.645         0.12  ...  3.57       0.71     10.2\n",
            "1598            6.0             0.310         0.47  ...  3.39       0.66     11.0\n",
            "\n",
            "[1598 rows x 11 columns]       fixed acidity  volatile acidity  citric acid  ...    pH  sulphates  alcohol\n",
            "1450            7.2              0.37         0.32  ...  3.23       0.73     11.3\n",
            "\n",
            "[1 rows x 11 columns] 0       0\n",
            "1       0\n",
            "2       0\n",
            "3       1\n",
            "4       0\n",
            "       ..\n",
            "1594    0\n",
            "1595    1\n",
            "1596    1\n",
            "1597    0\n",
            "1598    1\n",
            "Name: quality, Length: 1598, dtype: int64 1450    1\n",
            "Name: quality, dtype: int64\n",
            "      fixed acidity  volatile acidity  citric acid  ...    pH  sulphates  alcohol\n",
            "0               7.4             0.700         0.00  ...  3.51       0.56      9.4\n",
            "1               7.8             0.880         0.00  ...  3.20       0.68      9.8\n",
            "2               7.8             0.760         0.04  ...  3.26       0.65      9.8\n",
            "3              11.2             0.280         0.56  ...  3.16       0.58      9.8\n",
            "4               7.4             0.700         0.00  ...  3.51       0.56      9.4\n",
            "...             ...               ...          ...  ...   ...        ...      ...\n",
            "1594            6.2             0.600         0.08  ...  3.45       0.58     10.5\n",
            "1595            5.9             0.550         0.10  ...  3.52       0.76     11.2\n",
            "1596            6.3             0.510         0.13  ...  3.42       0.75     11.0\n",
            "1597            5.9             0.645         0.12  ...  3.57       0.71     10.2\n",
            "1598            6.0             0.310         0.47  ...  3.39       0.66     11.0\n",
            "\n",
            "[1598 rows x 11 columns]       fixed acidity  volatile acidity  citric acid  ...    pH  sulphates  alcohol\n",
            "1451            7.8              0.32         0.44  ...  3.33       0.78     11.0\n",
            "\n",
            "[1 rows x 11 columns] 0       0\n",
            "1       0\n",
            "2       0\n",
            "3       1\n",
            "4       0\n",
            "       ..\n",
            "1594    0\n",
            "1595    1\n",
            "1596    1\n",
            "1597    0\n",
            "1598    1\n",
            "Name: quality, Length: 1598, dtype: int64 1451    1\n",
            "Name: quality, dtype: int64\n",
            "      fixed acidity  volatile acidity  citric acid  ...    pH  sulphates  alcohol\n",
            "0               7.4             0.700         0.00  ...  3.51       0.56      9.4\n",
            "1               7.8             0.880         0.00  ...  3.20       0.68      9.8\n",
            "2               7.8             0.760         0.04  ...  3.26       0.65      9.8\n",
            "3              11.2             0.280         0.56  ...  3.16       0.58      9.8\n",
            "4               7.4             0.700         0.00  ...  3.51       0.56      9.4\n",
            "...             ...               ...          ...  ...   ...        ...      ...\n",
            "1594            6.2             0.600         0.08  ...  3.45       0.58     10.5\n",
            "1595            5.9             0.550         0.10  ...  3.52       0.76     11.2\n",
            "1596            6.3             0.510         0.13  ...  3.42       0.75     11.0\n",
            "1597            5.9             0.645         0.12  ...  3.57       0.71     10.2\n",
            "1598            6.0             0.310         0.47  ...  3.39       0.66     11.0\n",
            "\n",
            "[1598 rows x 11 columns]       fixed acidity  volatile acidity  citric acid  ...    pH  sulphates  alcohol\n",
            "1452            6.6              0.58         0.02  ...  3.35       0.76     11.6\n",
            "\n",
            "[1 rows x 11 columns] 0       0\n",
            "1       0\n",
            "2       0\n",
            "3       1\n",
            "4       0\n",
            "       ..\n",
            "1594    0\n",
            "1595    1\n",
            "1596    1\n",
            "1597    0\n",
            "1598    1\n",
            "Name: quality, Length: 1598, dtype: int64 1452    1\n",
            "Name: quality, dtype: int64\n",
            "      fixed acidity  volatile acidity  citric acid  ...    pH  sulphates  alcohol\n",
            "0               7.4             0.700         0.00  ...  3.51       0.56      9.4\n",
            "1               7.8             0.880         0.00  ...  3.20       0.68      9.8\n",
            "2               7.8             0.760         0.04  ...  3.26       0.65      9.8\n",
            "3              11.2             0.280         0.56  ...  3.16       0.58      9.8\n",
            "4               7.4             0.700         0.00  ...  3.51       0.56      9.4\n",
            "...             ...               ...          ...  ...   ...        ...      ...\n",
            "1594            6.2             0.600         0.08  ...  3.45       0.58     10.5\n",
            "1595            5.9             0.550         0.10  ...  3.52       0.76     11.2\n",
            "1596            6.3             0.510         0.13  ...  3.42       0.75     11.0\n",
            "1597            5.9             0.645         0.12  ...  3.57       0.71     10.2\n",
            "1598            6.0             0.310         0.47  ...  3.39       0.66     11.0\n",
            "\n",
            "[1598 rows x 11 columns]       fixed acidity  volatile acidity  citric acid  ...    pH  sulphates  alcohol\n",
            "1453            7.6              0.49         0.33  ...  3.41       0.58      9.0\n",
            "\n",
            "[1 rows x 11 columns] 0       0\n",
            "1       0\n",
            "2       0\n",
            "3       1\n",
            "4       0\n",
            "       ..\n",
            "1594    0\n",
            "1595    1\n",
            "1596    1\n",
            "1597    0\n",
            "1598    1\n",
            "Name: quality, Length: 1598, dtype: int64 1453    0\n",
            "Name: quality, dtype: int64\n",
            "      fixed acidity  volatile acidity  citric acid  ...    pH  sulphates  alcohol\n",
            "0               7.4             0.700         0.00  ...  3.51       0.56      9.4\n",
            "1               7.8             0.880         0.00  ...  3.20       0.68      9.8\n",
            "2               7.8             0.760         0.04  ...  3.26       0.65      9.8\n",
            "3              11.2             0.280         0.56  ...  3.16       0.58      9.8\n",
            "4               7.4             0.700         0.00  ...  3.51       0.56      9.4\n",
            "...             ...               ...          ...  ...   ...        ...      ...\n",
            "1594            6.2             0.600         0.08  ...  3.45       0.58     10.5\n",
            "1595            5.9             0.550         0.10  ...  3.52       0.76     11.2\n",
            "1596            6.3             0.510         0.13  ...  3.42       0.75     11.0\n",
            "1597            5.9             0.645         0.12  ...  3.57       0.71     10.2\n",
            "1598            6.0             0.310         0.47  ...  3.39       0.66     11.0\n",
            "\n",
            "[1598 rows x 11 columns]       fixed acidity  volatile acidity  citric acid  ...    pH  sulphates  alcohol\n",
            "1454           11.7              0.45         0.63  ...  3.21       0.69     10.9\n",
            "\n",
            "[1 rows x 11 columns] 0       0\n",
            "1       0\n",
            "2       0\n",
            "3       1\n",
            "4       0\n",
            "       ..\n",
            "1594    0\n",
            "1595    1\n",
            "1596    1\n",
            "1597    0\n",
            "1598    1\n",
            "Name: quality, Length: 1598, dtype: int64 1454    1\n",
            "Name: quality, dtype: int64\n",
            "      fixed acidity  volatile acidity  citric acid  ...    pH  sulphates  alcohol\n",
            "0               7.4             0.700         0.00  ...  3.51       0.56      9.4\n",
            "1               7.8             0.880         0.00  ...  3.20       0.68      9.8\n",
            "2               7.8             0.760         0.04  ...  3.26       0.65      9.8\n",
            "3              11.2             0.280         0.56  ...  3.16       0.58      9.8\n",
            "4               7.4             0.700         0.00  ...  3.51       0.56      9.4\n",
            "...             ...               ...          ...  ...   ...        ...      ...\n",
            "1594            6.2             0.600         0.08  ...  3.45       0.58     10.5\n",
            "1595            5.9             0.550         0.10  ...  3.52       0.76     11.2\n",
            "1596            6.3             0.510         0.13  ...  3.42       0.75     11.0\n",
            "1597            5.9             0.645         0.12  ...  3.57       0.71     10.2\n",
            "1598            6.0             0.310         0.47  ...  3.39       0.66     11.0\n",
            "\n",
            "[1598 rows x 11 columns]       fixed acidity  volatile acidity  citric acid  ...   pH  sulphates  alcohol\n",
            "1455            6.5               0.9          0.0  ...  3.5       0.63     10.9\n",
            "\n",
            "[1 rows x 11 columns] 0       0\n",
            "1       0\n",
            "2       0\n",
            "3       1\n",
            "4       0\n",
            "       ..\n",
            "1594    0\n",
            "1595    1\n",
            "1596    1\n",
            "1597    0\n",
            "1598    1\n",
            "Name: quality, Length: 1598, dtype: int64 1455    1\n",
            "Name: quality, dtype: int64\n",
            "      fixed acidity  volatile acidity  citric acid  ...    pH  sulphates  alcohol\n",
            "0               7.4             0.700         0.00  ...  3.51       0.56      9.4\n",
            "1               7.8             0.880         0.00  ...  3.20       0.68      9.8\n",
            "2               7.8             0.760         0.04  ...  3.26       0.65      9.8\n",
            "3              11.2             0.280         0.56  ...  3.16       0.58      9.8\n",
            "4               7.4             0.700         0.00  ...  3.51       0.56      9.4\n",
            "...             ...               ...          ...  ...   ...        ...      ...\n",
            "1594            6.2             0.600         0.08  ...  3.45       0.58     10.5\n",
            "1595            5.9             0.550         0.10  ...  3.52       0.76     11.2\n",
            "1596            6.3             0.510         0.13  ...  3.42       0.75     11.0\n",
            "1597            5.9             0.645         0.12  ...  3.57       0.71     10.2\n",
            "1598            6.0             0.310         0.47  ...  3.39       0.66     11.0\n",
            "\n",
            "[1598 rows x 11 columns]       fixed acidity  volatile acidity  citric acid  ...   pH  sulphates  alcohol\n",
            "1456            6.0              0.54         0.06  ...  3.3        0.5    10.55\n",
            "\n",
            "[1 rows x 11 columns] 0       0\n",
            "1       0\n",
            "2       0\n",
            "3       1\n",
            "4       0\n",
            "       ..\n",
            "1594    0\n",
            "1595    1\n",
            "1596    1\n",
            "1597    0\n",
            "1598    1\n",
            "Name: quality, Length: 1598, dtype: int64 1456    1\n",
            "Name: quality, dtype: int64\n",
            "      fixed acidity  volatile acidity  citric acid  ...    pH  sulphates  alcohol\n",
            "0               7.4             0.700         0.00  ...  3.51       0.56      9.4\n",
            "1               7.8             0.880         0.00  ...  3.20       0.68      9.8\n",
            "2               7.8             0.760         0.04  ...  3.26       0.65      9.8\n",
            "3              11.2             0.280         0.56  ...  3.16       0.58      9.8\n",
            "4               7.4             0.700         0.00  ...  3.51       0.56      9.4\n",
            "...             ...               ...          ...  ...   ...        ...      ...\n",
            "1594            6.2             0.600         0.08  ...  3.45       0.58     10.5\n",
            "1595            5.9             0.550         0.10  ...  3.52       0.76     11.2\n",
            "1596            6.3             0.510         0.13  ...  3.42       0.75     11.0\n",
            "1597            5.9             0.645         0.12  ...  3.57       0.71     10.2\n",
            "1598            6.0             0.310         0.47  ...  3.39       0.66     11.0\n",
            "\n",
            "[1598 rows x 11 columns]       fixed acidity  volatile acidity  citric acid  ...    pH  sulphates  alcohol\n",
            "1457            7.6              0.49         0.33  ...  3.41       0.58      9.0\n",
            "\n",
            "[1 rows x 11 columns] 0       0\n",
            "1       0\n",
            "2       0\n",
            "3       1\n",
            "4       0\n",
            "       ..\n",
            "1594    0\n",
            "1595    1\n",
            "1596    1\n",
            "1597    0\n",
            "1598    1\n",
            "Name: quality, Length: 1598, dtype: int64 1457    0\n",
            "Name: quality, dtype: int64\n",
            "      fixed acidity  volatile acidity  citric acid  ...    pH  sulphates  alcohol\n",
            "0               7.4             0.700         0.00  ...  3.51       0.56      9.4\n",
            "1               7.8             0.880         0.00  ...  3.20       0.68      9.8\n",
            "2               7.8             0.760         0.04  ...  3.26       0.65      9.8\n",
            "3              11.2             0.280         0.56  ...  3.16       0.58      9.8\n",
            "4               7.4             0.700         0.00  ...  3.51       0.56      9.4\n",
            "...             ...               ...          ...  ...   ...        ...      ...\n",
            "1594            6.2             0.600         0.08  ...  3.45       0.58     10.5\n",
            "1595            5.9             0.550         0.10  ...  3.52       0.76     11.2\n",
            "1596            6.3             0.510         0.13  ...  3.42       0.75     11.0\n",
            "1597            5.9             0.645         0.12  ...  3.57       0.71     10.2\n",
            "1598            6.0             0.310         0.47  ...  3.39       0.66     11.0\n",
            "\n",
            "[1598 rows x 11 columns]       fixed acidity  volatile acidity  citric acid  ...    pH  sulphates  alcohol\n",
            "1458            8.4              0.29          0.4  ...  3.39        0.6     10.5\n",
            "\n",
            "[1 rows x 11 columns] 0       0\n",
            "1       0\n",
            "2       0\n",
            "3       1\n",
            "4       0\n",
            "       ..\n",
            "1594    0\n",
            "1595    1\n",
            "1596    1\n",
            "1597    0\n",
            "1598    1\n",
            "Name: quality, Length: 1598, dtype: int64 1458    0\n",
            "Name: quality, dtype: int64\n",
            "      fixed acidity  volatile acidity  citric acid  ...    pH  sulphates  alcohol\n",
            "0               7.4             0.700         0.00  ...  3.51       0.56      9.4\n",
            "1               7.8             0.880         0.00  ...  3.20       0.68      9.8\n",
            "2               7.8             0.760         0.04  ...  3.26       0.65      9.8\n",
            "3              11.2             0.280         0.56  ...  3.16       0.58      9.8\n",
            "4               7.4             0.700         0.00  ...  3.51       0.56      9.4\n",
            "...             ...               ...          ...  ...   ...        ...      ...\n",
            "1594            6.2             0.600         0.08  ...  3.45       0.58     10.5\n",
            "1595            5.9             0.550         0.10  ...  3.52       0.76     11.2\n",
            "1596            6.3             0.510         0.13  ...  3.42       0.75     11.0\n",
            "1597            5.9             0.645         0.12  ...  3.57       0.71     10.2\n",
            "1598            6.0             0.310         0.47  ...  3.39       0.66     11.0\n",
            "\n",
            "[1598 rows x 11 columns]       fixed acidity  volatile acidity  citric acid  ...    pH  sulphates  alcohol\n",
            "1459            7.9               0.2         0.35  ...  3.32        0.8     11.9\n",
            "\n",
            "[1 rows x 11 columns] 0       0\n",
            "1       0\n",
            "2       0\n",
            "3       1\n",
            "4       0\n",
            "       ..\n",
            "1594    0\n",
            "1595    1\n",
            "1596    1\n",
            "1597    0\n",
            "1598    1\n",
            "Name: quality, Length: 1598, dtype: int64 1459    1\n",
            "Name: quality, dtype: int64\n",
            "      fixed acidity  volatile acidity  citric acid  ...    pH  sulphates  alcohol\n",
            "0               7.4             0.700         0.00  ...  3.51       0.56      9.4\n",
            "1               7.8             0.880         0.00  ...  3.20       0.68      9.8\n",
            "2               7.8             0.760         0.04  ...  3.26       0.65      9.8\n",
            "3              11.2             0.280         0.56  ...  3.16       0.58      9.8\n",
            "4               7.4             0.700         0.00  ...  3.51       0.56      9.4\n",
            "...             ...               ...          ...  ...   ...        ...      ...\n",
            "1594            6.2             0.600         0.08  ...  3.45       0.58     10.5\n",
            "1595            5.9             0.550         0.10  ...  3.52       0.76     11.2\n",
            "1596            6.3             0.510         0.13  ...  3.42       0.75     11.0\n",
            "1597            5.9             0.645         0.12  ...  3.57       0.71     10.2\n",
            "1598            6.0             0.310         0.47  ...  3.39       0.66     11.0\n",
            "\n",
            "[1598 rows x 11 columns]       fixed acidity  volatile acidity  citric acid  ...    pH  sulphates  alcohol\n",
            "1460            6.4              0.42         0.09  ...  3.41       0.68     10.4\n",
            "\n",
            "[1 rows x 11 columns] 0       0\n",
            "1       0\n",
            "2       0\n",
            "3       1\n",
            "4       0\n",
            "       ..\n",
            "1594    0\n",
            "1595    1\n",
            "1596    1\n",
            "1597    0\n",
            "1598    1\n",
            "Name: quality, Length: 1598, dtype: int64 1460    1\n",
            "Name: quality, dtype: int64\n",
            "      fixed acidity  volatile acidity  citric acid  ...    pH  sulphates  alcohol\n",
            "0               7.4             0.700         0.00  ...  3.51       0.56      9.4\n",
            "1               7.8             0.880         0.00  ...  3.20       0.68      9.8\n",
            "2               7.8             0.760         0.04  ...  3.26       0.65      9.8\n",
            "3              11.2             0.280         0.56  ...  3.16       0.58      9.8\n",
            "4               7.4             0.700         0.00  ...  3.51       0.56      9.4\n",
            "...             ...               ...          ...  ...   ...        ...      ...\n",
            "1594            6.2             0.600         0.08  ...  3.45       0.58     10.5\n",
            "1595            5.9             0.550         0.10  ...  3.52       0.76     11.2\n",
            "1596            6.3             0.510         0.13  ...  3.42       0.75     11.0\n",
            "1597            5.9             0.645         0.12  ...  3.57       0.71     10.2\n",
            "1598            6.0             0.310         0.47  ...  3.39       0.66     11.0\n",
            "\n",
            "[1598 rows x 11 columns]       fixed acidity  volatile acidity  citric acid  ...    pH  sulphates  alcohol\n",
            "1461            6.2             0.785          0.0  ...  3.59       0.61     10.0\n",
            "\n",
            "[1 rows x 11 columns] 0       0\n",
            "1       0\n",
            "2       0\n",
            "3       1\n",
            "4       0\n",
            "       ..\n",
            "1594    0\n",
            "1595    1\n",
            "1596    1\n",
            "1597    0\n",
            "1598    1\n",
            "Name: quality, Length: 1598, dtype: int64 1461    0\n",
            "Name: quality, dtype: int64\n",
            "      fixed acidity  volatile acidity  citric acid  ...    pH  sulphates  alcohol\n",
            "0               7.4             0.700         0.00  ...  3.51       0.56      9.4\n",
            "1               7.8             0.880         0.00  ...  3.20       0.68      9.8\n",
            "2               7.8             0.760         0.04  ...  3.26       0.65      9.8\n",
            "3              11.2             0.280         0.56  ...  3.16       0.58      9.8\n",
            "4               7.4             0.700         0.00  ...  3.51       0.56      9.4\n",
            "...             ...               ...          ...  ...   ...        ...      ...\n",
            "1594            6.2             0.600         0.08  ...  3.45       0.58     10.5\n",
            "1595            5.9             0.550         0.10  ...  3.52       0.76     11.2\n",
            "1596            6.3             0.510         0.13  ...  3.42       0.75     11.0\n",
            "1597            5.9             0.645         0.12  ...  3.57       0.71     10.2\n",
            "1598            6.0             0.310         0.47  ...  3.39       0.66     11.0\n",
            "\n",
            "[1598 rows x 11 columns]       fixed acidity  volatile acidity  citric acid  ...    pH  sulphates  alcohol\n",
            "1462            6.8              0.64         0.03  ...  3.36       0.58     10.4\n",
            "\n",
            "[1 rows x 11 columns] 0       0\n",
            "1       0\n",
            "2       0\n",
            "3       1\n",
            "4       0\n",
            "       ..\n",
            "1594    0\n",
            "1595    1\n",
            "1596    1\n",
            "1597    0\n",
            "1598    1\n",
            "Name: quality, Length: 1598, dtype: int64 1462    1\n",
            "Name: quality, dtype: int64\n",
            "      fixed acidity  volatile acidity  citric acid  ...    pH  sulphates  alcohol\n",
            "0               7.4             0.700         0.00  ...  3.51       0.56      9.4\n",
            "1               7.8             0.880         0.00  ...  3.20       0.68      9.8\n",
            "2               7.8             0.760         0.04  ...  3.26       0.65      9.8\n",
            "3              11.2             0.280         0.56  ...  3.16       0.58      9.8\n",
            "4               7.4             0.700         0.00  ...  3.51       0.56      9.4\n",
            "...             ...               ...          ...  ...   ...        ...      ...\n",
            "1594            6.2             0.600         0.08  ...  3.45       0.58     10.5\n",
            "1595            5.9             0.550         0.10  ...  3.52       0.76     11.2\n",
            "1596            6.3             0.510         0.13  ...  3.42       0.75     11.0\n",
            "1597            5.9             0.645         0.12  ...  3.57       0.71     10.2\n",
            "1598            6.0             0.310         0.47  ...  3.39       0.66     11.0\n",
            "\n",
            "[1598 rows x 11 columns]       fixed acidity  volatile acidity  citric acid  ...    pH  sulphates  alcohol\n",
            "1463            6.9              0.63         0.01  ...  3.34       0.53     10.8\n",
            "\n",
            "[1 rows x 11 columns] 0       0\n",
            "1       0\n",
            "2       0\n",
            "3       1\n",
            "4       0\n",
            "       ..\n",
            "1594    0\n",
            "1595    1\n",
            "1596    1\n",
            "1597    0\n",
            "1598    1\n",
            "Name: quality, Length: 1598, dtype: int64 1463    1\n",
            "Name: quality, dtype: int64\n",
            "      fixed acidity  volatile acidity  citric acid  ...    pH  sulphates  alcohol\n",
            "0               7.4             0.700         0.00  ...  3.51       0.56      9.4\n",
            "1               7.8             0.880         0.00  ...  3.20       0.68      9.8\n",
            "2               7.8             0.760         0.04  ...  3.26       0.65      9.8\n",
            "3              11.2             0.280         0.56  ...  3.16       0.58      9.8\n",
            "4               7.4             0.700         0.00  ...  3.51       0.56      9.4\n",
            "...             ...               ...          ...  ...   ...        ...      ...\n",
            "1594            6.2             0.600         0.08  ...  3.45       0.58     10.5\n",
            "1595            5.9             0.550         0.10  ...  3.52       0.76     11.2\n",
            "1596            6.3             0.510         0.13  ...  3.42       0.75     11.0\n",
            "1597            5.9             0.645         0.12  ...  3.57       0.71     10.2\n",
            "1598            6.0             0.310         0.47  ...  3.39       0.66     11.0\n",
            "\n",
            "[1598 rows x 11 columns]       fixed acidity  volatile acidity  citric acid  ...    pH  sulphates  alcohol\n",
            "1464            6.8              0.59          0.1  ...  3.41       0.67      9.7\n",
            "\n",
            "[1 rows x 11 columns] 0       0\n",
            "1       0\n",
            "2       0\n",
            "3       1\n",
            "4       0\n",
            "       ..\n",
            "1594    0\n",
            "1595    1\n",
            "1596    1\n",
            "1597    0\n",
            "1598    1\n",
            "Name: quality, Length: 1598, dtype: int64 1464    0\n",
            "Name: quality, dtype: int64\n",
            "      fixed acidity  volatile acidity  citric acid  ...    pH  sulphates  alcohol\n",
            "0               7.4             0.700         0.00  ...  3.51       0.56      9.4\n",
            "1               7.8             0.880         0.00  ...  3.20       0.68      9.8\n",
            "2               7.8             0.760         0.04  ...  3.26       0.65      9.8\n",
            "3              11.2             0.280         0.56  ...  3.16       0.58      9.8\n",
            "4               7.4             0.700         0.00  ...  3.51       0.56      9.4\n",
            "...             ...               ...          ...  ...   ...        ...      ...\n",
            "1594            6.2             0.600         0.08  ...  3.45       0.58     10.5\n",
            "1595            5.9             0.550         0.10  ...  3.52       0.76     11.2\n",
            "1596            6.3             0.510         0.13  ...  3.42       0.75     11.0\n",
            "1597            5.9             0.645         0.12  ...  3.57       0.71     10.2\n",
            "1598            6.0             0.310         0.47  ...  3.39       0.66     11.0\n",
            "\n",
            "[1598 rows x 11 columns]       fixed acidity  volatile acidity  citric acid  ...    pH  sulphates  alcohol\n",
            "1465            6.8              0.59          0.1  ...  3.41       0.67      9.7\n",
            "\n",
            "[1 rows x 11 columns] 0       0\n",
            "1       0\n",
            "2       0\n",
            "3       1\n",
            "4       0\n",
            "       ..\n",
            "1594    0\n",
            "1595    1\n",
            "1596    1\n",
            "1597    0\n",
            "1598    1\n",
            "Name: quality, Length: 1598, dtype: int64 1465    0\n",
            "Name: quality, dtype: int64\n",
            "      fixed acidity  volatile acidity  citric acid  ...    pH  sulphates  alcohol\n",
            "0               7.4             0.700         0.00  ...  3.51       0.56      9.4\n",
            "1               7.8             0.880         0.00  ...  3.20       0.68      9.8\n",
            "2               7.8             0.760         0.04  ...  3.26       0.65      9.8\n",
            "3              11.2             0.280         0.56  ...  3.16       0.58      9.8\n",
            "4               7.4             0.700         0.00  ...  3.51       0.56      9.4\n",
            "...             ...               ...          ...  ...   ...        ...      ...\n",
            "1594            6.2             0.600         0.08  ...  3.45       0.58     10.5\n",
            "1595            5.9             0.550         0.10  ...  3.52       0.76     11.2\n",
            "1596            6.3             0.510         0.13  ...  3.42       0.75     11.0\n",
            "1597            5.9             0.645         0.12  ...  3.57       0.71     10.2\n",
            "1598            6.0             0.310         0.47  ...  3.39       0.66     11.0\n",
            "\n",
            "[1598 rows x 11 columns]       fixed acidity  volatile acidity  citric acid  ...   pH  sulphates  alcohol\n",
            "1466            7.3              0.48         0.32  ...  3.3       0.65     10.0\n",
            "\n",
            "[1 rows x 11 columns] 0       0\n",
            "1       0\n",
            "2       0\n",
            "3       1\n",
            "4       0\n",
            "       ..\n",
            "1594    0\n",
            "1595    1\n",
            "1596    1\n",
            "1597    0\n",
            "1598    1\n",
            "Name: quality, Length: 1598, dtype: int64 1466    1\n",
            "Name: quality, dtype: int64\n",
            "      fixed acidity  volatile acidity  citric acid  ...    pH  sulphates  alcohol\n",
            "0               7.4             0.700         0.00  ...  3.51       0.56      9.4\n",
            "1               7.8             0.880         0.00  ...  3.20       0.68      9.8\n",
            "2               7.8             0.760         0.04  ...  3.26       0.65      9.8\n",
            "3              11.2             0.280         0.56  ...  3.16       0.58      9.8\n",
            "4               7.4             0.700         0.00  ...  3.51       0.56      9.4\n",
            "...             ...               ...          ...  ...   ...        ...      ...\n",
            "1594            6.2             0.600         0.08  ...  3.45       0.58     10.5\n",
            "1595            5.9             0.550         0.10  ...  3.52       0.76     11.2\n",
            "1596            6.3             0.510         0.13  ...  3.42       0.75     11.0\n",
            "1597            5.9             0.645         0.12  ...  3.57       0.71     10.2\n",
            "1598            6.0             0.310         0.47  ...  3.39       0.66     11.0\n",
            "\n",
            "[1598 rows x 11 columns]       fixed acidity  volatile acidity  citric acid  ...    pH  sulphates  alcohol\n",
            "1467            6.7              1.04         0.08  ...  3.52       0.57     11.0\n",
            "\n",
            "[1 rows x 11 columns] 0       0\n",
            "1       0\n",
            "2       0\n",
            "3       1\n",
            "4       0\n",
            "       ..\n",
            "1594    0\n",
            "1595    1\n",
            "1596    1\n",
            "1597    0\n",
            "1598    1\n",
            "Name: quality, Length: 1598, dtype: int64 1467    0\n",
            "Name: quality, dtype: int64\n",
            "      fixed acidity  volatile acidity  citric acid  ...    pH  sulphates  alcohol\n",
            "0               7.4             0.700         0.00  ...  3.51       0.56      9.4\n",
            "1               7.8             0.880         0.00  ...  3.20       0.68      9.8\n",
            "2               7.8             0.760         0.04  ...  3.26       0.65      9.8\n",
            "3              11.2             0.280         0.56  ...  3.16       0.58      9.8\n",
            "4               7.4             0.700         0.00  ...  3.51       0.56      9.4\n",
            "...             ...               ...          ...  ...   ...        ...      ...\n",
            "1594            6.2             0.600         0.08  ...  3.45       0.58     10.5\n",
            "1595            5.9             0.550         0.10  ...  3.52       0.76     11.2\n",
            "1596            6.3             0.510         0.13  ...  3.42       0.75     11.0\n",
            "1597            5.9             0.645         0.12  ...  3.57       0.71     10.2\n",
            "1598            6.0             0.310         0.47  ...  3.39       0.66     11.0\n",
            "\n",
            "[1598 rows x 11 columns]       fixed acidity  volatile acidity  citric acid  ...   pH  sulphates  alcohol\n",
            "1468            7.3              0.48         0.32  ...  3.3       0.65     10.0\n",
            "\n",
            "[1 rows x 11 columns] 0       0\n",
            "1       0\n",
            "2       0\n",
            "3       1\n",
            "4       0\n",
            "       ..\n",
            "1594    0\n",
            "1595    1\n",
            "1596    1\n",
            "1597    0\n",
            "1598    1\n",
            "Name: quality, Length: 1598, dtype: int64 1468    1\n",
            "Name: quality, dtype: int64\n",
            "      fixed acidity  volatile acidity  citric acid  ...    pH  sulphates  alcohol\n",
            "0               7.4             0.700         0.00  ...  3.51       0.56      9.4\n",
            "1               7.8             0.880         0.00  ...  3.20       0.68      9.8\n",
            "2               7.8             0.760         0.04  ...  3.26       0.65      9.8\n",
            "3              11.2             0.280         0.56  ...  3.16       0.58      9.8\n",
            "4               7.4             0.700         0.00  ...  3.51       0.56      9.4\n",
            "...             ...               ...          ...  ...   ...        ...      ...\n",
            "1594            6.2             0.600         0.08  ...  3.45       0.58     10.5\n",
            "1595            5.9             0.550         0.10  ...  3.52       0.76     11.2\n",
            "1596            6.3             0.510         0.13  ...  3.42       0.75     11.0\n",
            "1597            5.9             0.645         0.12  ...  3.57       0.71     10.2\n",
            "1598            6.0             0.310         0.47  ...  3.39       0.66     11.0\n",
            "\n",
            "[1598 rows x 11 columns]       fixed acidity  volatile acidity  citric acid  ...    pH  sulphates  alcohol\n",
            "1469            7.3              0.98         0.05  ...  3.31       0.55      9.7\n",
            "\n",
            "[1 rows x 11 columns] 0       0\n",
            "1       0\n",
            "2       0\n",
            "3       1\n",
            "4       0\n",
            "       ..\n",
            "1594    0\n",
            "1595    1\n",
            "1596    1\n",
            "1597    0\n",
            "1598    1\n",
            "Name: quality, Length: 1598, dtype: int64 1469    0\n",
            "Name: quality, dtype: int64\n",
            "      fixed acidity  volatile acidity  citric acid  ...    pH  sulphates  alcohol\n",
            "0               7.4             0.700         0.00  ...  3.51       0.56      9.4\n",
            "1               7.8             0.880         0.00  ...  3.20       0.68      9.8\n",
            "2               7.8             0.760         0.04  ...  3.26       0.65      9.8\n",
            "3              11.2             0.280         0.56  ...  3.16       0.58      9.8\n",
            "4               7.4             0.700         0.00  ...  3.51       0.56      9.4\n",
            "...             ...               ...          ...  ...   ...        ...      ...\n",
            "1594            6.2             0.600         0.08  ...  3.45       0.58     10.5\n",
            "1595            5.9             0.550         0.10  ...  3.52       0.76     11.2\n",
            "1596            6.3             0.510         0.13  ...  3.42       0.75     11.0\n",
            "1597            5.9             0.645         0.12  ...  3.57       0.71     10.2\n",
            "1598            6.0             0.310         0.47  ...  3.39       0.66     11.0\n",
            "\n",
            "[1598 rows x 11 columns]       fixed acidity  volatile acidity  citric acid  ...    pH  sulphates  alcohol\n",
            "1470           10.0              0.69         0.11  ...  2.88       0.47      9.7\n",
            "\n",
            "[1 rows x 11 columns] 0       0\n",
            "1       0\n",
            "2       0\n",
            "3       1\n",
            "4       0\n",
            "       ..\n",
            "1594    0\n",
            "1595    1\n",
            "1596    1\n",
            "1597    0\n",
            "1598    1\n",
            "Name: quality, Length: 1598, dtype: int64 1470    0\n",
            "Name: quality, dtype: int64\n",
            "      fixed acidity  volatile acidity  citric acid  ...    pH  sulphates  alcohol\n",
            "0               7.4             0.700         0.00  ...  3.51       0.56      9.4\n",
            "1               7.8             0.880         0.00  ...  3.20       0.68      9.8\n",
            "2               7.8             0.760         0.04  ...  3.26       0.65      9.8\n",
            "3              11.2             0.280         0.56  ...  3.16       0.58      9.8\n",
            "4               7.4             0.700         0.00  ...  3.51       0.56      9.4\n",
            "...             ...               ...          ...  ...   ...        ...      ...\n",
            "1594            6.2             0.600         0.08  ...  3.45       0.58     10.5\n",
            "1595            5.9             0.550         0.10  ...  3.52       0.76     11.2\n",
            "1596            6.3             0.510         0.13  ...  3.42       0.75     11.0\n",
            "1597            5.9             0.645         0.12  ...  3.57       0.71     10.2\n",
            "1598            6.0             0.310         0.47  ...  3.39       0.66     11.0\n",
            "\n",
            "[1598 rows x 11 columns]       fixed acidity  volatile acidity  citric acid  ...    pH  sulphates  alcohol\n",
            "1471            6.7               0.7         0.08  ...  3.43       0.52     12.6\n",
            "\n",
            "[1 rows x 11 columns] 0       0\n",
            "1       0\n",
            "2       0\n",
            "3       1\n",
            "4       0\n",
            "       ..\n",
            "1594    0\n",
            "1595    1\n",
            "1596    1\n",
            "1597    0\n",
            "1598    1\n",
            "Name: quality, Length: 1598, dtype: int64 1471    0\n",
            "Name: quality, dtype: int64\n",
            "      fixed acidity  volatile acidity  citric acid  ...    pH  sulphates  alcohol\n",
            "0               7.4             0.700         0.00  ...  3.51       0.56      9.4\n",
            "1               7.8             0.880         0.00  ...  3.20       0.68      9.8\n",
            "2               7.8             0.760         0.04  ...  3.26       0.65      9.8\n",
            "3              11.2             0.280         0.56  ...  3.16       0.58      9.8\n",
            "4               7.4             0.700         0.00  ...  3.51       0.56      9.4\n",
            "...             ...               ...          ...  ...   ...        ...      ...\n",
            "1594            6.2             0.600         0.08  ...  3.45       0.58     10.5\n",
            "1595            5.9             0.550         0.10  ...  3.52       0.76     11.2\n",
            "1596            6.3             0.510         0.13  ...  3.42       0.75     11.0\n",
            "1597            5.9             0.645         0.12  ...  3.57       0.71     10.2\n",
            "1598            6.0             0.310         0.47  ...  3.39       0.66     11.0\n",
            "\n",
            "[1598 rows x 11 columns]       fixed acidity  volatile acidity  citric acid  ...    pH  sulphates  alcohol\n",
            "1472            7.6              0.35          0.6  ...  3.38       0.79     11.1\n",
            "\n",
            "[1 rows x 11 columns] 0       0\n",
            "1       0\n",
            "2       0\n",
            "3       1\n",
            "4       0\n",
            "       ..\n",
            "1594    0\n",
            "1595    1\n",
            "1596    1\n",
            "1597    0\n",
            "1598    1\n",
            "Name: quality, Length: 1598, dtype: int64 1472    1\n",
            "Name: quality, dtype: int64\n",
            "      fixed acidity  volatile acidity  citric acid  ...    pH  sulphates  alcohol\n",
            "0               7.4             0.700         0.00  ...  3.51       0.56      9.4\n",
            "1               7.8             0.880         0.00  ...  3.20       0.68      9.8\n",
            "2               7.8             0.760         0.04  ...  3.26       0.65      9.8\n",
            "3              11.2             0.280         0.56  ...  3.16       0.58      9.8\n",
            "4               7.4             0.700         0.00  ...  3.51       0.56      9.4\n",
            "...             ...               ...          ...  ...   ...        ...      ...\n",
            "1594            6.2             0.600         0.08  ...  3.45       0.58     10.5\n",
            "1595            5.9             0.550         0.10  ...  3.52       0.76     11.2\n",
            "1596            6.3             0.510         0.13  ...  3.42       0.75     11.0\n",
            "1597            5.9             0.645         0.12  ...  3.57       0.71     10.2\n",
            "1598            6.0             0.310         0.47  ...  3.39       0.66     11.0\n",
            "\n",
            "[1598 rows x 11 columns]       fixed acidity  volatile acidity  citric acid  ...    pH  sulphates  alcohol\n",
            "1473            6.1               0.6         0.08  ...  3.38       0.54     11.0\n",
            "\n",
            "[1 rows x 11 columns] 0       0\n",
            "1       0\n",
            "2       0\n",
            "3       1\n",
            "4       0\n",
            "       ..\n",
            "1594    0\n",
            "1595    1\n",
            "1596    1\n",
            "1597    0\n",
            "1598    1\n",
            "Name: quality, Length: 1598, dtype: int64 1473    0\n",
            "Name: quality, dtype: int64\n",
            "      fixed acidity  volatile acidity  citric acid  ...    pH  sulphates  alcohol\n",
            "0               7.4             0.700         0.00  ...  3.51       0.56      9.4\n",
            "1               7.8             0.880         0.00  ...  3.20       0.68      9.8\n",
            "2               7.8             0.760         0.04  ...  3.26       0.65      9.8\n",
            "3              11.2             0.280         0.56  ...  3.16       0.58      9.8\n",
            "4               7.4             0.700         0.00  ...  3.51       0.56      9.4\n",
            "...             ...               ...          ...  ...   ...        ...      ...\n",
            "1594            6.2             0.600         0.08  ...  3.45       0.58     10.5\n",
            "1595            5.9             0.550         0.10  ...  3.52       0.76     11.2\n",
            "1596            6.3             0.510         0.13  ...  3.42       0.75     11.0\n",
            "1597            5.9             0.645         0.12  ...  3.57       0.71     10.2\n",
            "1598            6.0             0.310         0.47  ...  3.39       0.66     11.0\n",
            "\n",
            "[1598 rows x 11 columns]       fixed acidity  volatile acidity  citric acid  ...    pH  sulphates  alcohol\n",
            "1474            9.9               0.5          0.5  ...  3.16       0.75      8.8\n",
            "\n",
            "[1 rows x 11 columns] 0       0\n",
            "1       0\n",
            "2       0\n",
            "3       1\n",
            "4       0\n",
            "       ..\n",
            "1594    0\n",
            "1595    1\n",
            "1596    1\n",
            "1597    0\n",
            "1598    1\n",
            "Name: quality, Length: 1598, dtype: int64 1474    0\n",
            "Name: quality, dtype: int64\n",
            "      fixed acidity  volatile acidity  citric acid  ...    pH  sulphates  alcohol\n",
            "0               7.4             0.700         0.00  ...  3.51       0.56      9.4\n",
            "1               7.8             0.880         0.00  ...  3.20       0.68      9.8\n",
            "2               7.8             0.760         0.04  ...  3.26       0.65      9.8\n",
            "3              11.2             0.280         0.56  ...  3.16       0.58      9.8\n",
            "4               7.4             0.700         0.00  ...  3.51       0.56      9.4\n",
            "...             ...               ...          ...  ...   ...        ...      ...\n",
            "1594            6.2             0.600         0.08  ...  3.45       0.58     10.5\n",
            "1595            5.9             0.550         0.10  ...  3.52       0.76     11.2\n",
            "1596            6.3             0.510         0.13  ...  3.42       0.75     11.0\n",
            "1597            5.9             0.645         0.12  ...  3.57       0.71     10.2\n",
            "1598            6.0             0.310         0.47  ...  3.39       0.66     11.0\n",
            "\n",
            "[1598 rows x 11 columns]       fixed acidity  volatile acidity  citric acid  ...    pH  sulphates    alcohol\n",
            "1475            5.3              0.47         0.11  ...  3.54       0.88  13.566667\n",
            "\n",
            "[1 rows x 11 columns] 0       0\n",
            "1       0\n",
            "2       0\n",
            "3       1\n",
            "4       0\n",
            "       ..\n",
            "1594    0\n",
            "1595    1\n",
            "1596    1\n",
            "1597    0\n",
            "1598    1\n",
            "Name: quality, Length: 1598, dtype: int64 1475    1\n",
            "Name: quality, dtype: int64\n",
            "      fixed acidity  volatile acidity  citric acid  ...    pH  sulphates  alcohol\n",
            "0               7.4             0.700         0.00  ...  3.51       0.56      9.4\n",
            "1               7.8             0.880         0.00  ...  3.20       0.68      9.8\n",
            "2               7.8             0.760         0.04  ...  3.26       0.65      9.8\n",
            "3              11.2             0.280         0.56  ...  3.16       0.58      9.8\n",
            "4               7.4             0.700         0.00  ...  3.51       0.56      9.4\n",
            "...             ...               ...          ...  ...   ...        ...      ...\n",
            "1594            6.2             0.600         0.08  ...  3.45       0.58     10.5\n",
            "1595            5.9             0.550         0.10  ...  3.52       0.76     11.2\n",
            "1596            6.3             0.510         0.13  ...  3.42       0.75     11.0\n",
            "1597            5.9             0.645         0.12  ...  3.57       0.71     10.2\n",
            "1598            6.0             0.310         0.47  ...  3.39       0.66     11.0\n",
            "\n",
            "[1598 rows x 11 columns]       fixed acidity  volatile acidity  citric acid  ...    pH  sulphates  alcohol\n",
            "1476            9.9               0.5          0.5  ...  3.16       0.75      8.8\n",
            "\n",
            "[1 rows x 11 columns] 0       0\n",
            "1       0\n",
            "2       0\n",
            "3       1\n",
            "4       0\n",
            "       ..\n",
            "1594    0\n",
            "1595    1\n",
            "1596    1\n",
            "1597    0\n",
            "1598    1\n",
            "Name: quality, Length: 1598, dtype: int64 1476    0\n",
            "Name: quality, dtype: int64\n",
            "      fixed acidity  volatile acidity  citric acid  ...    pH  sulphates  alcohol\n",
            "0               7.4             0.700         0.00  ...  3.51       0.56      9.4\n",
            "1               7.8             0.880         0.00  ...  3.20       0.68      9.8\n",
            "2               7.8             0.760         0.04  ...  3.26       0.65      9.8\n",
            "3              11.2             0.280         0.56  ...  3.16       0.58      9.8\n",
            "4               7.4             0.700         0.00  ...  3.51       0.56      9.4\n",
            "...             ...               ...          ...  ...   ...        ...      ...\n",
            "1594            6.2             0.600         0.08  ...  3.45       0.58     10.5\n",
            "1595            5.9             0.550         0.10  ...  3.52       0.76     11.2\n",
            "1596            6.3             0.510         0.13  ...  3.42       0.75     11.0\n",
            "1597            5.9             0.645         0.12  ...  3.57       0.71     10.2\n",
            "1598            6.0             0.310         0.47  ...  3.39       0.66     11.0\n",
            "\n",
            "[1598 rows x 11 columns]       fixed acidity  volatile acidity  citric acid  ...    pH  sulphates  alcohol\n",
            "1477            5.3              0.47         0.11  ...  3.54       0.88     13.6\n",
            "\n",
            "[1 rows x 11 columns] 0       0\n",
            "1       0\n",
            "2       0\n",
            "3       1\n",
            "4       0\n",
            "       ..\n",
            "1594    0\n",
            "1595    1\n",
            "1596    1\n",
            "1597    0\n",
            "1598    1\n",
            "Name: quality, Length: 1598, dtype: int64 1477    1\n",
            "Name: quality, dtype: int64\n",
            "      fixed acidity  volatile acidity  citric acid  ...    pH  sulphates  alcohol\n",
            "0               7.4             0.700         0.00  ...  3.51       0.56      9.4\n",
            "1               7.8             0.880         0.00  ...  3.20       0.68      9.8\n",
            "2               7.8             0.760         0.04  ...  3.26       0.65      9.8\n",
            "3              11.2             0.280         0.56  ...  3.16       0.58      9.8\n",
            "4               7.4             0.700         0.00  ...  3.51       0.56      9.4\n",
            "...             ...               ...          ...  ...   ...        ...      ...\n",
            "1594            6.2             0.600         0.08  ...  3.45       0.58     10.5\n",
            "1595            5.9             0.550         0.10  ...  3.52       0.76     11.2\n",
            "1596            6.3             0.510         0.13  ...  3.42       0.75     11.0\n",
            "1597            5.9             0.645         0.12  ...  3.57       0.71     10.2\n",
            "1598            6.0             0.310         0.47  ...  3.39       0.66     11.0\n",
            "\n",
            "[1598 rows x 11 columns]       fixed acidity  volatile acidity  citric acid  ...   pH  sulphates  alcohol\n",
            "1478            7.1             0.875         0.05  ...  3.4       0.52     10.2\n",
            "\n",
            "[1 rows x 11 columns] 0       0\n",
            "1       0\n",
            "2       0\n",
            "3       1\n",
            "4       0\n",
            "       ..\n",
            "1594    0\n",
            "1595    1\n",
            "1596    1\n",
            "1597    0\n",
            "1598    1\n",
            "Name: quality, Length: 1598, dtype: int64 1478    0\n",
            "Name: quality, dtype: int64\n",
            "      fixed acidity  volatile acidity  citric acid  ...    pH  sulphates  alcohol\n",
            "0               7.4             0.700         0.00  ...  3.51       0.56      9.4\n",
            "1               7.8             0.880         0.00  ...  3.20       0.68      9.8\n",
            "2               7.8             0.760         0.04  ...  3.26       0.65      9.8\n",
            "3              11.2             0.280         0.56  ...  3.16       0.58      9.8\n",
            "4               7.4             0.700         0.00  ...  3.51       0.56      9.4\n",
            "...             ...               ...          ...  ...   ...        ...      ...\n",
            "1594            6.2             0.600         0.08  ...  3.45       0.58     10.5\n",
            "1595            5.9             0.550         0.10  ...  3.52       0.76     11.2\n",
            "1596            6.3             0.510         0.13  ...  3.42       0.75     11.0\n",
            "1597            5.9             0.645         0.12  ...  3.57       0.71     10.2\n",
            "1598            6.0             0.310         0.47  ...  3.39       0.66     11.0\n",
            "\n",
            "[1598 rows x 11 columns]       fixed acidity  volatile acidity  citric acid  ...    pH  sulphates  alcohol\n",
            "1479            8.2              0.28          0.6  ...  3.39       0.68     10.6\n",
            "\n",
            "[1 rows x 11 columns] 0       0\n",
            "1       0\n",
            "2       0\n",
            "3       1\n",
            "4       0\n",
            "       ..\n",
            "1594    0\n",
            "1595    1\n",
            "1596    1\n",
            "1597    0\n",
            "1598    1\n",
            "Name: quality, Length: 1598, dtype: int64 1479    0\n",
            "Name: quality, dtype: int64\n",
            "      fixed acidity  volatile acidity  citric acid  ...    pH  sulphates  alcohol\n",
            "0               7.4             0.700         0.00  ...  3.51       0.56      9.4\n",
            "1               7.8             0.880         0.00  ...  3.20       0.68      9.8\n",
            "2               7.8             0.760         0.04  ...  3.26       0.65      9.8\n",
            "3              11.2             0.280         0.56  ...  3.16       0.58      9.8\n",
            "4               7.4             0.700         0.00  ...  3.51       0.56      9.4\n",
            "...             ...               ...          ...  ...   ...        ...      ...\n",
            "1594            6.2             0.600         0.08  ...  3.45       0.58     10.5\n",
            "1595            5.9             0.550         0.10  ...  3.52       0.76     11.2\n",
            "1596            6.3             0.510         0.13  ...  3.42       0.75     11.0\n",
            "1597            5.9             0.645         0.12  ...  3.57       0.71     10.2\n",
            "1598            6.0             0.310         0.47  ...  3.39       0.66     11.0\n",
            "\n",
            "[1598 rows x 11 columns]       fixed acidity  volatile acidity  citric acid  ...    pH  sulphates  alcohol\n",
            "1480            5.6              0.62         0.03  ...  3.66       0.62     10.1\n",
            "\n",
            "[1 rows x 11 columns] 0       0\n",
            "1       0\n",
            "2       0\n",
            "3       1\n",
            "4       0\n",
            "       ..\n",
            "1594    0\n",
            "1595    1\n",
            "1596    1\n",
            "1597    0\n",
            "1598    1\n",
            "Name: quality, Length: 1598, dtype: int64 1480    0\n",
            "Name: quality, dtype: int64\n",
            "      fixed acidity  volatile acidity  citric acid  ...    pH  sulphates  alcohol\n",
            "0               7.4             0.700         0.00  ...  3.51       0.56      9.4\n",
            "1               7.8             0.880         0.00  ...  3.20       0.68      9.8\n",
            "2               7.8             0.760         0.04  ...  3.26       0.65      9.8\n",
            "3              11.2             0.280         0.56  ...  3.16       0.58      9.8\n",
            "4               7.4             0.700         0.00  ...  3.51       0.56      9.4\n",
            "...             ...               ...          ...  ...   ...        ...      ...\n",
            "1594            6.2             0.600         0.08  ...  3.45       0.58     10.5\n",
            "1595            5.9             0.550         0.10  ...  3.52       0.76     11.2\n",
            "1596            6.3             0.510         0.13  ...  3.42       0.75     11.0\n",
            "1597            5.9             0.645         0.12  ...  3.57       0.71     10.2\n",
            "1598            6.0             0.310         0.47  ...  3.39       0.66     11.0\n",
            "\n",
            "[1598 rows x 11 columns]       fixed acidity  volatile acidity  citric acid  ...    pH  sulphates  alcohol\n",
            "1481            8.2              0.28          0.6  ...  3.39       0.68     10.6\n",
            "\n",
            "[1 rows x 11 columns] 0       0\n",
            "1       0\n",
            "2       0\n",
            "3       1\n",
            "4       0\n",
            "       ..\n",
            "1594    0\n",
            "1595    1\n",
            "1596    1\n",
            "1597    0\n",
            "1598    1\n",
            "Name: quality, Length: 1598, dtype: int64 1481    0\n",
            "Name: quality, dtype: int64\n",
            "      fixed acidity  volatile acidity  citric acid  ...    pH  sulphates  alcohol\n",
            "0               7.4             0.700         0.00  ...  3.51       0.56      9.4\n",
            "1               7.8             0.880         0.00  ...  3.20       0.68      9.8\n",
            "2               7.8             0.760         0.04  ...  3.26       0.65      9.8\n",
            "3              11.2             0.280         0.56  ...  3.16       0.58      9.8\n",
            "4               7.4             0.700         0.00  ...  3.51       0.56      9.4\n",
            "...             ...               ...          ...  ...   ...        ...      ...\n",
            "1594            6.2             0.600         0.08  ...  3.45       0.58     10.5\n",
            "1595            5.9             0.550         0.10  ...  3.52       0.76     11.2\n",
            "1596            6.3             0.510         0.13  ...  3.42       0.75     11.0\n",
            "1597            5.9             0.645         0.12  ...  3.57       0.71     10.2\n",
            "1598            6.0             0.310         0.47  ...  3.39       0.66     11.0\n",
            "\n",
            "[1598 rows x 11 columns]       fixed acidity  volatile acidity  citric acid  ...    pH  sulphates  alcohol\n",
            "1482            7.2              0.58         0.54  ...  3.33       0.57     10.3\n",
            "\n",
            "[1 rows x 11 columns] 0       0\n",
            "1       0\n",
            "2       0\n",
            "3       1\n",
            "4       0\n",
            "       ..\n",
            "1594    0\n",
            "1595    1\n",
            "1596    1\n",
            "1597    0\n",
            "1598    1\n",
            "Name: quality, Length: 1598, dtype: int64 1482    0\n",
            "Name: quality, dtype: int64\n",
            "      fixed acidity  volatile acidity  citric acid  ...    pH  sulphates  alcohol\n",
            "0               7.4             0.700         0.00  ...  3.51       0.56      9.4\n",
            "1               7.8             0.880         0.00  ...  3.20       0.68      9.8\n",
            "2               7.8             0.760         0.04  ...  3.26       0.65      9.8\n",
            "3              11.2             0.280         0.56  ...  3.16       0.58      9.8\n",
            "4               7.4             0.700         0.00  ...  3.51       0.56      9.4\n",
            "...             ...               ...          ...  ...   ...        ...      ...\n",
            "1594            6.2             0.600         0.08  ...  3.45       0.58     10.5\n",
            "1595            5.9             0.550         0.10  ...  3.52       0.76     11.2\n",
            "1596            6.3             0.510         0.13  ...  3.42       0.75     11.0\n",
            "1597            5.9             0.645         0.12  ...  3.57       0.71     10.2\n",
            "1598            6.0             0.310         0.47  ...  3.39       0.66     11.0\n",
            "\n",
            "[1598 rows x 11 columns]       fixed acidity  volatile acidity  citric acid  ...    pH  sulphates  alcohol\n",
            "1483            8.1              0.33         0.44  ...  3.35       0.61     10.7\n",
            "\n",
            "[1 rows x 11 columns] 0       0\n",
            "1       0\n",
            "2       0\n",
            "3       1\n",
            "4       0\n",
            "       ..\n",
            "1594    0\n",
            "1595    1\n",
            "1596    1\n",
            "1597    0\n",
            "1598    1\n",
            "Name: quality, Length: 1598, dtype: int64 1483    0\n",
            "Name: quality, dtype: int64\n",
            "      fixed acidity  volatile acidity  citric acid  ...    pH  sulphates  alcohol\n",
            "0               7.4             0.700         0.00  ...  3.51       0.56      9.4\n",
            "1               7.8             0.880         0.00  ...  3.20       0.68      9.8\n",
            "2               7.8             0.760         0.04  ...  3.26       0.65      9.8\n",
            "3              11.2             0.280         0.56  ...  3.16       0.58      9.8\n",
            "4               7.4             0.700         0.00  ...  3.51       0.56      9.4\n",
            "...             ...               ...          ...  ...   ...        ...      ...\n",
            "1594            6.2             0.600         0.08  ...  3.45       0.58     10.5\n",
            "1595            5.9             0.550         0.10  ...  3.52       0.76     11.2\n",
            "1596            6.3             0.510         0.13  ...  3.42       0.75     11.0\n",
            "1597            5.9             0.645         0.12  ...  3.57       0.71     10.2\n",
            "1598            6.0             0.310         0.47  ...  3.39       0.66     11.0\n",
            "\n",
            "[1598 rows x 11 columns]       fixed acidity  volatile acidity  citric acid  ...    pH  sulphates  alcohol\n",
            "1484            6.8              0.91         0.06  ...  3.53       0.64     10.9\n",
            "\n",
            "[1 rows x 11 columns] 0       0\n",
            "1       0\n",
            "2       0\n",
            "3       1\n",
            "4       0\n",
            "       ..\n",
            "1594    0\n",
            "1595    1\n",
            "1596    1\n",
            "1597    0\n",
            "1598    1\n",
            "Name: quality, Length: 1598, dtype: int64 1484    0\n",
            "Name: quality, dtype: int64\n",
            "      fixed acidity  volatile acidity  citric acid  ...    pH  sulphates  alcohol\n",
            "0               7.4             0.700         0.00  ...  3.51       0.56      9.4\n",
            "1               7.8             0.880         0.00  ...  3.20       0.68      9.8\n",
            "2               7.8             0.760         0.04  ...  3.26       0.65      9.8\n",
            "3              11.2             0.280         0.56  ...  3.16       0.58      9.8\n",
            "4               7.4             0.700         0.00  ...  3.51       0.56      9.4\n",
            "...             ...               ...          ...  ...   ...        ...      ...\n",
            "1594            6.2             0.600         0.08  ...  3.45       0.58     10.5\n",
            "1595            5.9             0.550         0.10  ...  3.52       0.76     11.2\n",
            "1596            6.3             0.510         0.13  ...  3.42       0.75     11.0\n",
            "1597            5.9             0.645         0.12  ...  3.57       0.71     10.2\n",
            "1598            6.0             0.310         0.47  ...  3.39       0.66     11.0\n",
            "\n",
            "[1598 rows x 11 columns]       fixed acidity  volatile acidity  citric acid  ...    pH  sulphates  alcohol\n",
            "1485            7.0             0.655         0.16  ...  3.37       0.55      9.7\n",
            "\n",
            "[1 rows x 11 columns] 0       0\n",
            "1       0\n",
            "2       0\n",
            "3       1\n",
            "4       0\n",
            "       ..\n",
            "1594    0\n",
            "1595    1\n",
            "1596    1\n",
            "1597    0\n",
            "1598    1\n",
            "Name: quality, Length: 1598, dtype: int64 1485    0\n",
            "Name: quality, dtype: int64\n",
            "      fixed acidity  volatile acidity  citric acid  ...    pH  sulphates  alcohol\n",
            "0               7.4             0.700         0.00  ...  3.51       0.56      9.4\n",
            "1               7.8             0.880         0.00  ...  3.20       0.68      9.8\n",
            "2               7.8             0.760         0.04  ...  3.26       0.65      9.8\n",
            "3              11.2             0.280         0.56  ...  3.16       0.58      9.8\n",
            "4               7.4             0.700         0.00  ...  3.51       0.56      9.4\n",
            "...             ...               ...          ...  ...   ...        ...      ...\n",
            "1594            6.2             0.600         0.08  ...  3.45       0.58     10.5\n",
            "1595            5.9             0.550         0.10  ...  3.52       0.76     11.2\n",
            "1596            6.3             0.510         0.13  ...  3.42       0.75     11.0\n",
            "1597            5.9             0.645         0.12  ...  3.57       0.71     10.2\n",
            "1598            6.0             0.310         0.47  ...  3.39       0.66     11.0\n",
            "\n",
            "[1598 rows x 11 columns]       fixed acidity  volatile acidity  citric acid  ...    pH  sulphates  alcohol\n",
            "1486            6.8              0.68         0.21  ...  3.38        0.6     10.3\n",
            "\n",
            "[1 rows x 11 columns] 0       0\n",
            "1       0\n",
            "2       0\n",
            "3       1\n",
            "4       0\n",
            "       ..\n",
            "1594    0\n",
            "1595    1\n",
            "1596    1\n",
            "1597    0\n",
            "1598    1\n",
            "Name: quality, Length: 1598, dtype: int64 1486    0\n",
            "Name: quality, dtype: int64\n",
            "      fixed acidity  volatile acidity  citric acid  ...    pH  sulphates  alcohol\n",
            "0               7.4             0.700         0.00  ...  3.51       0.56      9.4\n",
            "1               7.8             0.880         0.00  ...  3.20       0.68      9.8\n",
            "2               7.8             0.760         0.04  ...  3.26       0.65      9.8\n",
            "3              11.2             0.280         0.56  ...  3.16       0.58      9.8\n",
            "4               7.4             0.700         0.00  ...  3.51       0.56      9.4\n",
            "...             ...               ...          ...  ...   ...        ...      ...\n",
            "1594            6.2             0.600         0.08  ...  3.45       0.58     10.5\n",
            "1595            5.9             0.550         0.10  ...  3.52       0.76     11.2\n",
            "1596            6.3             0.510         0.13  ...  3.42       0.75     11.0\n",
            "1597            5.9             0.645         0.12  ...  3.57       0.71     10.2\n",
            "1598            6.0             0.310         0.47  ...  3.39       0.66     11.0\n",
            "\n",
            "[1598 rows x 11 columns]       fixed acidity  volatile acidity  citric acid  ...    pH  sulphates  alcohol\n",
            "1487            6.0              0.64         0.05  ...  3.52       0.78     10.6\n",
            "\n",
            "[1 rows x 11 columns] 0       0\n",
            "1       0\n",
            "2       0\n",
            "3       1\n",
            "4       0\n",
            "       ..\n",
            "1594    0\n",
            "1595    1\n",
            "1596    1\n",
            "1597    0\n",
            "1598    1\n",
            "Name: quality, Length: 1598, dtype: int64 1487    0\n",
            "Name: quality, dtype: int64\n",
            "      fixed acidity  volatile acidity  citric acid  ...    pH  sulphates  alcohol\n",
            "0               7.4             0.700         0.00  ...  3.51       0.56      9.4\n",
            "1               7.8             0.880         0.00  ...  3.20       0.68      9.8\n",
            "2               7.8             0.760         0.04  ...  3.26       0.65      9.8\n",
            "3              11.2             0.280         0.56  ...  3.16       0.58      9.8\n",
            "4               7.4             0.700         0.00  ...  3.51       0.56      9.4\n",
            "...             ...               ...          ...  ...   ...        ...      ...\n",
            "1594            6.2             0.600         0.08  ...  3.45       0.58     10.5\n",
            "1595            5.9             0.550         0.10  ...  3.52       0.76     11.2\n",
            "1596            6.3             0.510         0.13  ...  3.42       0.75     11.0\n",
            "1597            5.9             0.645         0.12  ...  3.57       0.71     10.2\n",
            "1598            6.0             0.310         0.47  ...  3.39       0.66     11.0\n",
            "\n",
            "[1598 rows x 11 columns]       fixed acidity  volatile acidity  citric acid  ...    pH  sulphates  alcohol\n",
            "1488            5.6              0.54         0.04  ...  3.72       0.58     11.4\n",
            "\n",
            "[1 rows x 11 columns] 0       0\n",
            "1       0\n",
            "2       0\n",
            "3       1\n",
            "4       0\n",
            "       ..\n",
            "1594    0\n",
            "1595    1\n",
            "1596    1\n",
            "1597    0\n",
            "1598    1\n",
            "Name: quality, Length: 1598, dtype: int64 1488    0\n",
            "Name: quality, dtype: int64\n",
            "      fixed acidity  volatile acidity  citric acid  ...    pH  sulphates  alcohol\n",
            "0               7.4             0.700         0.00  ...  3.51       0.56      9.4\n",
            "1               7.8             0.880         0.00  ...  3.20       0.68      9.8\n",
            "2               7.8             0.760         0.04  ...  3.26       0.65      9.8\n",
            "3              11.2             0.280         0.56  ...  3.16       0.58      9.8\n",
            "4               7.4             0.700         0.00  ...  3.51       0.56      9.4\n",
            "...             ...               ...          ...  ...   ...        ...      ...\n",
            "1594            6.2             0.600         0.08  ...  3.45       0.58     10.5\n",
            "1595            5.9             0.550         0.10  ...  3.52       0.76     11.2\n",
            "1596            6.3             0.510         0.13  ...  3.42       0.75     11.0\n",
            "1597            5.9             0.645         0.12  ...  3.57       0.71     10.2\n",
            "1598            6.0             0.310         0.47  ...  3.39       0.66     11.0\n",
            "\n",
            "[1598 rows x 11 columns]       fixed acidity  volatile acidity  citric acid  ...    pH  sulphates  alcohol\n",
            "1489            6.2              0.57          0.1  ...  3.44       0.76     10.8\n",
            "\n",
            "[1 rows x 11 columns] 0       0\n",
            "1       0\n",
            "2       0\n",
            "3       1\n",
            "4       0\n",
            "       ..\n",
            "1594    0\n",
            "1595    1\n",
            "1596    1\n",
            "1597    0\n",
            "1598    1\n",
            "Name: quality, Length: 1598, dtype: int64 1489    1\n",
            "Name: quality, dtype: int64\n",
            "      fixed acidity  volatile acidity  citric acid  ...    pH  sulphates  alcohol\n",
            "0               7.4             0.700         0.00  ...  3.51       0.56      9.4\n",
            "1               7.8             0.880         0.00  ...  3.20       0.68      9.8\n",
            "2               7.8             0.760         0.04  ...  3.26       0.65      9.8\n",
            "3              11.2             0.280         0.56  ...  3.16       0.58      9.8\n",
            "4               7.4             0.700         0.00  ...  3.51       0.56      9.4\n",
            "...             ...               ...          ...  ...   ...        ...      ...\n",
            "1594            6.2             0.600         0.08  ...  3.45       0.58     10.5\n",
            "1595            5.9             0.550         0.10  ...  3.52       0.76     11.2\n",
            "1596            6.3             0.510         0.13  ...  3.42       0.75     11.0\n",
            "1597            5.9             0.645         0.12  ...  3.57       0.71     10.2\n",
            "1598            6.0             0.310         0.47  ...  3.39       0.66     11.0\n",
            "\n",
            "[1598 rows x 11 columns]       fixed acidity  volatile acidity  citric acid  ...    pH  sulphates  alcohol\n",
            "1490            7.1              0.22         0.49  ...  3.39       0.56     12.4\n",
            "\n",
            "[1 rows x 11 columns] 0       0\n",
            "1       0\n",
            "2       0\n",
            "3       1\n",
            "4       0\n",
            "       ..\n",
            "1594    0\n",
            "1595    1\n",
            "1596    1\n",
            "1597    0\n",
            "1598    1\n",
            "Name: quality, Length: 1598, dtype: int64 1490    1\n",
            "Name: quality, dtype: int64\n",
            "      fixed acidity  volatile acidity  citric acid  ...    pH  sulphates  alcohol\n",
            "0               7.4             0.700         0.00  ...  3.51       0.56      9.4\n",
            "1               7.8             0.880         0.00  ...  3.20       0.68      9.8\n",
            "2               7.8             0.760         0.04  ...  3.26       0.65      9.8\n",
            "3              11.2             0.280         0.56  ...  3.16       0.58      9.8\n",
            "4               7.4             0.700         0.00  ...  3.51       0.56      9.4\n",
            "...             ...               ...          ...  ...   ...        ...      ...\n",
            "1594            6.2             0.600         0.08  ...  3.45       0.58     10.5\n",
            "1595            5.9             0.550         0.10  ...  3.52       0.76     11.2\n",
            "1596            6.3             0.510         0.13  ...  3.42       0.75     11.0\n",
            "1597            5.9             0.645         0.12  ...  3.57       0.71     10.2\n",
            "1598            6.0             0.310         0.47  ...  3.39       0.66     11.0\n",
            "\n",
            "[1598 rows x 11 columns]       fixed acidity  volatile acidity  citric acid  ...    pH  sulphates  alcohol\n",
            "1491            5.6              0.54         0.04  ...  3.72       0.58     11.4\n",
            "\n",
            "[1 rows x 11 columns] 0       0\n",
            "1       0\n",
            "2       0\n",
            "3       1\n",
            "4       0\n",
            "       ..\n",
            "1594    0\n",
            "1595    1\n",
            "1596    1\n",
            "1597    0\n",
            "1598    1\n",
            "Name: quality, Length: 1598, dtype: int64 1491    0\n",
            "Name: quality, dtype: int64\n",
            "      fixed acidity  volatile acidity  citric acid  ...    pH  sulphates  alcohol\n",
            "0               7.4             0.700         0.00  ...  3.51       0.56      9.4\n",
            "1               7.8             0.880         0.00  ...  3.20       0.68      9.8\n",
            "2               7.8             0.760         0.04  ...  3.26       0.65      9.8\n",
            "3              11.2             0.280         0.56  ...  3.16       0.58      9.8\n",
            "4               7.4             0.700         0.00  ...  3.51       0.56      9.4\n",
            "...             ...               ...          ...  ...   ...        ...      ...\n",
            "1594            6.2             0.600         0.08  ...  3.45       0.58     10.5\n",
            "1595            5.9             0.550         0.10  ...  3.52       0.76     11.2\n",
            "1596            6.3             0.510         0.13  ...  3.42       0.75     11.0\n",
            "1597            5.9             0.645         0.12  ...  3.57       0.71     10.2\n",
            "1598            6.0             0.310         0.47  ...  3.39       0.66     11.0\n",
            "\n",
            "[1598 rows x 11 columns]       fixed acidity  volatile acidity  citric acid  ...    pH  sulphates  alcohol\n",
            "1492            6.2              0.65         0.06  ...  3.57       0.54    11.95\n",
            "\n",
            "[1 rows x 11 columns] 0       0\n",
            "1       0\n",
            "2       0\n",
            "3       1\n",
            "4       0\n",
            "       ..\n",
            "1594    0\n",
            "1595    1\n",
            "1596    1\n",
            "1597    0\n",
            "1598    1\n",
            "Name: quality, Length: 1598, dtype: int64 1492    0\n",
            "Name: quality, dtype: int64\n",
            "      fixed acidity  volatile acidity  citric acid  ...    pH  sulphates  alcohol\n",
            "0               7.4             0.700         0.00  ...  3.51       0.56      9.4\n",
            "1               7.8             0.880         0.00  ...  3.20       0.68      9.8\n",
            "2               7.8             0.760         0.04  ...  3.26       0.65      9.8\n",
            "3              11.2             0.280         0.56  ...  3.16       0.58      9.8\n",
            "4               7.4             0.700         0.00  ...  3.51       0.56      9.4\n",
            "...             ...               ...          ...  ...   ...        ...      ...\n",
            "1594            6.2             0.600         0.08  ...  3.45       0.58     10.5\n",
            "1595            5.9             0.550         0.10  ...  3.52       0.76     11.2\n",
            "1596            6.3             0.510         0.13  ...  3.42       0.75     11.0\n",
            "1597            5.9             0.645         0.12  ...  3.57       0.71     10.2\n",
            "1598            6.0             0.310         0.47  ...  3.39       0.66     11.0\n",
            "\n",
            "[1598 rows x 11 columns]       fixed acidity  volatile acidity  citric acid  ...    pH  sulphates  alcohol\n",
            "1493            7.7              0.54         0.26  ...  3.26       0.59      9.7\n",
            "\n",
            "[1 rows x 11 columns] 0       0\n",
            "1       0\n",
            "2       0\n",
            "3       1\n",
            "4       0\n",
            "       ..\n",
            "1594    0\n",
            "1595    1\n",
            "1596    1\n",
            "1597    0\n",
            "1598    1\n",
            "Name: quality, Length: 1598, dtype: int64 1493    0\n",
            "Name: quality, dtype: int64\n",
            "      fixed acidity  volatile acidity  citric acid  ...    pH  sulphates  alcohol\n",
            "0               7.4             0.700         0.00  ...  3.51       0.56      9.4\n",
            "1               7.8             0.880         0.00  ...  3.20       0.68      9.8\n",
            "2               7.8             0.760         0.04  ...  3.26       0.65      9.8\n",
            "3              11.2             0.280         0.56  ...  3.16       0.58      9.8\n",
            "4               7.4             0.700         0.00  ...  3.51       0.56      9.4\n",
            "...             ...               ...          ...  ...   ...        ...      ...\n",
            "1594            6.2             0.600         0.08  ...  3.45       0.58     10.5\n",
            "1595            5.9             0.550         0.10  ...  3.52       0.76     11.2\n",
            "1596            6.3             0.510         0.13  ...  3.42       0.75     11.0\n",
            "1597            5.9             0.645         0.12  ...  3.57       0.71     10.2\n",
            "1598            6.0             0.310         0.47  ...  3.39       0.66     11.0\n",
            "\n",
            "[1598 rows x 11 columns]       fixed acidity  volatile acidity  citric acid  ...    pH  sulphates  alcohol\n",
            "1494            6.4              0.31         0.09  ...  3.42        0.7     10.0\n",
            "\n",
            "[1 rows x 11 columns] 0       0\n",
            "1       0\n",
            "2       0\n",
            "3       1\n",
            "4       0\n",
            "       ..\n",
            "1594    0\n",
            "1595    1\n",
            "1596    1\n",
            "1597    0\n",
            "1598    1\n",
            "Name: quality, Length: 1598, dtype: int64 1494    1\n",
            "Name: quality, dtype: int64\n",
            "      fixed acidity  volatile acidity  citric acid  ...    pH  sulphates  alcohol\n",
            "0               7.4             0.700         0.00  ...  3.51       0.56      9.4\n",
            "1               7.8             0.880         0.00  ...  3.20       0.68      9.8\n",
            "2               7.8             0.760         0.04  ...  3.26       0.65      9.8\n",
            "3              11.2             0.280         0.56  ...  3.16       0.58      9.8\n",
            "4               7.4             0.700         0.00  ...  3.51       0.56      9.4\n",
            "...             ...               ...          ...  ...   ...        ...      ...\n",
            "1594            6.2             0.600         0.08  ...  3.45       0.58     10.5\n",
            "1595            5.9             0.550         0.10  ...  3.52       0.76     11.2\n",
            "1596            6.3             0.510         0.13  ...  3.42       0.75     11.0\n",
            "1597            5.9             0.645         0.12  ...  3.57       0.71     10.2\n",
            "1598            6.0             0.310         0.47  ...  3.39       0.66     11.0\n",
            "\n",
            "[1598 rows x 11 columns]       fixed acidity  volatile acidity  citric acid  ...    pH  sulphates  alcohol\n",
            "1495            7.0              0.43         0.02  ...  3.35       0.81     10.6\n",
            "\n",
            "[1 rows x 11 columns] 0       0\n",
            "1       0\n",
            "2       0\n",
            "3       1\n",
            "4       0\n",
            "       ..\n",
            "1594    0\n",
            "1595    1\n",
            "1596    1\n",
            "1597    0\n",
            "1598    1\n",
            "Name: quality, Length: 1598, dtype: int64 1495    1\n",
            "Name: quality, dtype: int64\n",
            "      fixed acidity  volatile acidity  citric acid  ...    pH  sulphates  alcohol\n",
            "0               7.4             0.700         0.00  ...  3.51       0.56      9.4\n",
            "1               7.8             0.880         0.00  ...  3.20       0.68      9.8\n",
            "2               7.8             0.760         0.04  ...  3.26       0.65      9.8\n",
            "3              11.2             0.280         0.56  ...  3.16       0.58      9.8\n",
            "4               7.4             0.700         0.00  ...  3.51       0.56      9.4\n",
            "...             ...               ...          ...  ...   ...        ...      ...\n",
            "1594            6.2             0.600         0.08  ...  3.45       0.58     10.5\n",
            "1595            5.9             0.550         0.10  ...  3.52       0.76     11.2\n",
            "1596            6.3             0.510         0.13  ...  3.42       0.75     11.0\n",
            "1597            5.9             0.645         0.12  ...  3.57       0.71     10.2\n",
            "1598            6.0             0.310         0.47  ...  3.39       0.66     11.0\n",
            "\n",
            "[1598 rows x 11 columns]       fixed acidity  volatile acidity  citric acid  ...    pH  sulphates  alcohol\n",
            "1496            7.7              0.54         0.26  ...  3.26       0.59      9.7\n",
            "\n",
            "[1 rows x 11 columns] 0       0\n",
            "1       0\n",
            "2       0\n",
            "3       1\n",
            "4       0\n",
            "       ..\n",
            "1594    0\n",
            "1595    1\n",
            "1596    1\n",
            "1597    0\n",
            "1598    1\n",
            "Name: quality, Length: 1598, dtype: int64 1496    0\n",
            "Name: quality, dtype: int64\n",
            "      fixed acidity  volatile acidity  citric acid  ...    pH  sulphates  alcohol\n",
            "0               7.4             0.700         0.00  ...  3.51       0.56      9.4\n",
            "1               7.8             0.880         0.00  ...  3.20       0.68      9.8\n",
            "2               7.8             0.760         0.04  ...  3.26       0.65      9.8\n",
            "3              11.2             0.280         0.56  ...  3.16       0.58      9.8\n",
            "4               7.4             0.700         0.00  ...  3.51       0.56      9.4\n",
            "...             ...               ...          ...  ...   ...        ...      ...\n",
            "1594            6.2             0.600         0.08  ...  3.45       0.58     10.5\n",
            "1595            5.9             0.550         0.10  ...  3.52       0.76     11.2\n",
            "1596            6.3             0.510         0.13  ...  3.42       0.75     11.0\n",
            "1597            5.9             0.645         0.12  ...  3.57       0.71     10.2\n",
            "1598            6.0             0.310         0.47  ...  3.39       0.66     11.0\n",
            "\n",
            "[1598 rows x 11 columns]       fixed acidity  volatile acidity  citric acid  ...    pH  sulphates  alcohol\n",
            "1497            6.9              0.74         0.03  ...  3.45       0.63     11.5\n",
            "\n",
            "[1 rows x 11 columns] 0       0\n",
            "1       0\n",
            "2       0\n",
            "3       1\n",
            "4       0\n",
            "       ..\n",
            "1594    0\n",
            "1595    1\n",
            "1596    1\n",
            "1597    0\n",
            "1598    1\n",
            "Name: quality, Length: 1598, dtype: int64 1497    1\n",
            "Name: quality, dtype: int64\n",
            "      fixed acidity  volatile acidity  citric acid  ...    pH  sulphates  alcohol\n",
            "0               7.4             0.700         0.00  ...  3.51       0.56      9.4\n",
            "1               7.8             0.880         0.00  ...  3.20       0.68      9.8\n",
            "2               7.8             0.760         0.04  ...  3.26       0.65      9.8\n",
            "3              11.2             0.280         0.56  ...  3.16       0.58      9.8\n",
            "4               7.4             0.700         0.00  ...  3.51       0.56      9.4\n",
            "...             ...               ...          ...  ...   ...        ...      ...\n",
            "1594            6.2             0.600         0.08  ...  3.45       0.58     10.5\n",
            "1595            5.9             0.550         0.10  ...  3.52       0.76     11.2\n",
            "1596            6.3             0.510         0.13  ...  3.42       0.75     11.0\n",
            "1597            5.9             0.645         0.12  ...  3.57       0.71     10.2\n",
            "1598            6.0             0.310         0.47  ...  3.39       0.66     11.0\n",
            "\n",
            "[1598 rows x 11 columns]       fixed acidity  volatile acidity  citric acid  ...    pH  sulphates  alcohol\n",
            "1498            6.6             0.895         0.04  ...  3.53       0.58     10.8\n",
            "\n",
            "[1 rows x 11 columns] 0       0\n",
            "1       0\n",
            "2       0\n",
            "3       1\n",
            "4       0\n",
            "       ..\n",
            "1594    0\n",
            "1595    1\n",
            "1596    1\n",
            "1597    0\n",
            "1598    1\n",
            "Name: quality, Length: 1598, dtype: int64 1498    1\n",
            "Name: quality, dtype: int64\n",
            "      fixed acidity  volatile acidity  citric acid  ...    pH  sulphates  alcohol\n",
            "0               7.4             0.700         0.00  ...  3.51       0.56      9.4\n",
            "1               7.8             0.880         0.00  ...  3.20       0.68      9.8\n",
            "2               7.8             0.760         0.04  ...  3.26       0.65      9.8\n",
            "3              11.2             0.280         0.56  ...  3.16       0.58      9.8\n",
            "4               7.4             0.700         0.00  ...  3.51       0.56      9.4\n",
            "...             ...               ...          ...  ...   ...        ...      ...\n",
            "1594            6.2             0.600         0.08  ...  3.45       0.58     10.5\n",
            "1595            5.9             0.550         0.10  ...  3.52       0.76     11.2\n",
            "1596            6.3             0.510         0.13  ...  3.42       0.75     11.0\n",
            "1597            5.9             0.645         0.12  ...  3.57       0.71     10.2\n",
            "1598            6.0             0.310         0.47  ...  3.39       0.66     11.0\n",
            "\n",
            "[1598 rows x 11 columns]       fixed acidity  volatile acidity  citric acid  ...    pH  sulphates  alcohol\n",
            "1499            6.9              0.74         0.03  ...  3.45       0.63     11.5\n",
            "\n",
            "[1 rows x 11 columns] 0       0\n",
            "1       0\n",
            "2       0\n",
            "3       1\n",
            "4       0\n",
            "       ..\n",
            "1594    0\n",
            "1595    1\n",
            "1596    1\n",
            "1597    0\n",
            "1598    1\n",
            "Name: quality, Length: 1598, dtype: int64 1499    1\n",
            "Name: quality, dtype: int64\n",
            "      fixed acidity  volatile acidity  citric acid  ...    pH  sulphates  alcohol\n",
            "0               7.4             0.700         0.00  ...  3.51       0.56      9.4\n",
            "1               7.8             0.880         0.00  ...  3.20       0.68      9.8\n",
            "2               7.8             0.760         0.04  ...  3.26       0.65      9.8\n",
            "3              11.2             0.280         0.56  ...  3.16       0.58      9.8\n",
            "4               7.4             0.700         0.00  ...  3.51       0.56      9.4\n",
            "...             ...               ...          ...  ...   ...        ...      ...\n",
            "1594            6.2             0.600         0.08  ...  3.45       0.58     10.5\n",
            "1595            5.9             0.550         0.10  ...  3.52       0.76     11.2\n",
            "1596            6.3             0.510         0.13  ...  3.42       0.75     11.0\n",
            "1597            5.9             0.645         0.12  ...  3.57       0.71     10.2\n",
            "1598            6.0             0.310         0.47  ...  3.39       0.66     11.0\n",
            "\n",
            "[1598 rows x 11 columns]       fixed acidity  volatile acidity  citric acid  ...    pH  sulphates  alcohol\n",
            "1500            7.5             0.725         0.04  ...  3.26       0.53      9.6\n",
            "\n",
            "[1 rows x 11 columns] 0       0\n",
            "1       0\n",
            "2       0\n",
            "3       1\n",
            "4       0\n",
            "       ..\n",
            "1594    0\n",
            "1595    1\n",
            "1596    1\n",
            "1597    0\n",
            "1598    1\n",
            "Name: quality, Length: 1598, dtype: int64 1500    0\n",
            "Name: quality, dtype: int64\n",
            "      fixed acidity  volatile acidity  citric acid  ...    pH  sulphates  alcohol\n",
            "0               7.4             0.700         0.00  ...  3.51       0.56      9.4\n",
            "1               7.8             0.880         0.00  ...  3.20       0.68      9.8\n",
            "2               7.8             0.760         0.04  ...  3.26       0.65      9.8\n",
            "3              11.2             0.280         0.56  ...  3.16       0.58      9.8\n",
            "4               7.4             0.700         0.00  ...  3.51       0.56      9.4\n",
            "...             ...               ...          ...  ...   ...        ...      ...\n",
            "1594            6.2             0.600         0.08  ...  3.45       0.58     10.5\n",
            "1595            5.9             0.550         0.10  ...  3.52       0.76     11.2\n",
            "1596            6.3             0.510         0.13  ...  3.42       0.75     11.0\n",
            "1597            5.9             0.645         0.12  ...  3.57       0.71     10.2\n",
            "1598            6.0             0.310         0.47  ...  3.39       0.66     11.0\n",
            "\n",
            "[1598 rows x 11 columns]       fixed acidity  volatile acidity  citric acid  ...    pH  sulphates  alcohol\n",
            "1501            7.8              0.82         0.29  ...  3.16       0.53      9.4\n",
            "\n",
            "[1 rows x 11 columns] 0       0\n",
            "1       0\n",
            "2       0\n",
            "3       1\n",
            "4       0\n",
            "       ..\n",
            "1594    0\n",
            "1595    1\n",
            "1596    1\n",
            "1597    0\n",
            "1598    1\n",
            "Name: quality, Length: 1598, dtype: int64 1501    0\n",
            "Name: quality, dtype: int64\n",
            "      fixed acidity  volatile acidity  citric acid  ...    pH  sulphates  alcohol\n",
            "0               7.4             0.700         0.00  ...  3.51       0.56      9.4\n",
            "1               7.8             0.880         0.00  ...  3.20       0.68      9.8\n",
            "2               7.8             0.760         0.04  ...  3.26       0.65      9.8\n",
            "3              11.2             0.280         0.56  ...  3.16       0.58      9.8\n",
            "4               7.4             0.700         0.00  ...  3.51       0.56      9.4\n",
            "...             ...               ...          ...  ...   ...        ...      ...\n",
            "1594            6.2             0.600         0.08  ...  3.45       0.58     10.5\n",
            "1595            5.9             0.550         0.10  ...  3.52       0.76     11.2\n",
            "1596            6.3             0.510         0.13  ...  3.42       0.75     11.0\n",
            "1597            5.9             0.645         0.12  ...  3.57       0.71     10.2\n",
            "1598            6.0             0.310         0.47  ...  3.39       0.66     11.0\n",
            "\n",
            "[1598 rows x 11 columns]       fixed acidity  volatile acidity  citric acid  ...    pH  sulphates  alcohol\n",
            "1502            7.3             0.585         0.18  ...  3.31       0.54      9.8\n",
            "\n",
            "[1 rows x 11 columns] 0       0\n",
            "1       0\n",
            "2       0\n",
            "3       1\n",
            "4       0\n",
            "       ..\n",
            "1594    0\n",
            "1595    1\n",
            "1596    1\n",
            "1597    0\n",
            "1598    1\n",
            "Name: quality, Length: 1598, dtype: int64 1502    0\n",
            "Name: quality, dtype: int64\n",
            "      fixed acidity  volatile acidity  citric acid  ...    pH  sulphates  alcohol\n",
            "0               7.4             0.700         0.00  ...  3.51       0.56      9.4\n",
            "1               7.8             0.880         0.00  ...  3.20       0.68      9.8\n",
            "2               7.8             0.760         0.04  ...  3.26       0.65      9.8\n",
            "3              11.2             0.280         0.56  ...  3.16       0.58      9.8\n",
            "4               7.4             0.700         0.00  ...  3.51       0.56      9.4\n",
            "...             ...               ...          ...  ...   ...        ...      ...\n",
            "1594            6.2             0.600         0.08  ...  3.45       0.58     10.5\n",
            "1595            5.9             0.550         0.10  ...  3.52       0.76     11.2\n",
            "1596            6.3             0.510         0.13  ...  3.42       0.75     11.0\n",
            "1597            5.9             0.645         0.12  ...  3.57       0.71     10.2\n",
            "1598            6.0             0.310         0.47  ...  3.39       0.66     11.0\n",
            "\n",
            "[1598 rows x 11 columns]       fixed acidity  volatile acidity  citric acid  ...    pH  sulphates  alcohol\n",
            "1503            6.2              0.44         0.39  ...  3.51       0.69     11.0\n",
            "\n",
            "[1 rows x 11 columns] 0       0\n",
            "1       0\n",
            "2       0\n",
            "3       1\n",
            "4       0\n",
            "       ..\n",
            "1594    0\n",
            "1595    1\n",
            "1596    1\n",
            "1597    0\n",
            "1598    1\n",
            "Name: quality, Length: 1598, dtype: int64 1503    1\n",
            "Name: quality, dtype: int64\n",
            "      fixed acidity  volatile acidity  citric acid  ...    pH  sulphates  alcohol\n",
            "0               7.4             0.700         0.00  ...  3.51       0.56      9.4\n",
            "1               7.8             0.880         0.00  ...  3.20       0.68      9.8\n",
            "2               7.8             0.760         0.04  ...  3.26       0.65      9.8\n",
            "3              11.2             0.280         0.56  ...  3.16       0.58      9.8\n",
            "4               7.4             0.700         0.00  ...  3.51       0.56      9.4\n",
            "...             ...               ...          ...  ...   ...        ...      ...\n",
            "1594            6.2             0.600         0.08  ...  3.45       0.58     10.5\n",
            "1595            5.9             0.550         0.10  ...  3.52       0.76     11.2\n",
            "1596            6.3             0.510         0.13  ...  3.42       0.75     11.0\n",
            "1597            5.9             0.645         0.12  ...  3.57       0.71     10.2\n",
            "1598            6.0             0.310         0.47  ...  3.39       0.66     11.0\n",
            "\n",
            "[1598 rows x 11 columns]       fixed acidity  volatile acidity  citric acid  ...    pH  sulphates  alcohol\n",
            "1504            7.5              0.38         0.57  ...  3.36       0.55     11.4\n",
            "\n",
            "[1 rows x 11 columns] 0       0\n",
            "1       0\n",
            "2       0\n",
            "3       1\n",
            "4       0\n",
            "       ..\n",
            "1594    0\n",
            "1595    1\n",
            "1596    1\n",
            "1597    0\n",
            "1598    1\n",
            "Name: quality, Length: 1598, dtype: int64 1504    1\n",
            "Name: quality, dtype: int64\n",
            "      fixed acidity  volatile acidity  citric acid  ...    pH  sulphates  alcohol\n",
            "0               7.4             0.700         0.00  ...  3.51       0.56      9.4\n",
            "1               7.8             0.880         0.00  ...  3.20       0.68      9.8\n",
            "2               7.8             0.760         0.04  ...  3.26       0.65      9.8\n",
            "3              11.2             0.280         0.56  ...  3.16       0.58      9.8\n",
            "4               7.4             0.700         0.00  ...  3.51       0.56      9.4\n",
            "...             ...               ...          ...  ...   ...        ...      ...\n",
            "1594            6.2             0.600         0.08  ...  3.45       0.58     10.5\n",
            "1595            5.9             0.550         0.10  ...  3.52       0.76     11.2\n",
            "1596            6.3             0.510         0.13  ...  3.42       0.75     11.0\n",
            "1597            5.9             0.645         0.12  ...  3.57       0.71     10.2\n",
            "1598            6.0             0.310         0.47  ...  3.39       0.66     11.0\n",
            "\n",
            "[1598 rows x 11 columns]       fixed acidity  volatile acidity  citric acid  ...    pH  sulphates  alcohol\n",
            "1505            6.7              0.76         0.02  ...  3.55       0.63     9.95\n",
            "\n",
            "[1 rows x 11 columns] 0       0\n",
            "1       0\n",
            "2       0\n",
            "3       1\n",
            "4       0\n",
            "       ..\n",
            "1594    0\n",
            "1595    1\n",
            "1596    1\n",
            "1597    0\n",
            "1598    1\n",
            "Name: quality, Length: 1598, dtype: int64 1505    0\n",
            "Name: quality, dtype: int64\n",
            "      fixed acidity  volatile acidity  citric acid  ...    pH  sulphates  alcohol\n",
            "0               7.4             0.700         0.00  ...  3.51       0.56      9.4\n",
            "1               7.8             0.880         0.00  ...  3.20       0.68      9.8\n",
            "2               7.8             0.760         0.04  ...  3.26       0.65      9.8\n",
            "3              11.2             0.280         0.56  ...  3.16       0.58      9.8\n",
            "4               7.4             0.700         0.00  ...  3.51       0.56      9.4\n",
            "...             ...               ...          ...  ...   ...        ...      ...\n",
            "1594            6.2             0.600         0.08  ...  3.45       0.58     10.5\n",
            "1595            5.9             0.550         0.10  ...  3.52       0.76     11.2\n",
            "1596            6.3             0.510         0.13  ...  3.42       0.75     11.0\n",
            "1597            5.9             0.645         0.12  ...  3.57       0.71     10.2\n",
            "1598            6.0             0.310         0.47  ...  3.39       0.66     11.0\n",
            "\n",
            "[1598 rows x 11 columns]       fixed acidity  volatile acidity  citric acid  ...    pH  sulphates  alcohol\n",
            "1506            6.8              0.81         0.05  ...  3.51       0.66     10.8\n",
            "\n",
            "[1 rows x 11 columns] 0       0\n",
            "1       0\n",
            "2       0\n",
            "3       1\n",
            "4       0\n",
            "       ..\n",
            "1594    0\n",
            "1595    1\n",
            "1596    1\n",
            "1597    0\n",
            "1598    1\n",
            "Name: quality, Length: 1598, dtype: int64 1506    1\n",
            "Name: quality, dtype: int64\n",
            "      fixed acidity  volatile acidity  citric acid  ...    pH  sulphates  alcohol\n",
            "0               7.4             0.700         0.00  ...  3.51       0.56      9.4\n",
            "1               7.8             0.880         0.00  ...  3.20       0.68      9.8\n",
            "2               7.8             0.760         0.04  ...  3.26       0.65      9.8\n",
            "3              11.2             0.280         0.56  ...  3.16       0.58      9.8\n",
            "4               7.4             0.700         0.00  ...  3.51       0.56      9.4\n",
            "...             ...               ...          ...  ...   ...        ...      ...\n",
            "1594            6.2             0.600         0.08  ...  3.45       0.58     10.5\n",
            "1595            5.9             0.550         0.10  ...  3.52       0.76     11.2\n",
            "1596            6.3             0.510         0.13  ...  3.42       0.75     11.0\n",
            "1597            5.9             0.645         0.12  ...  3.57       0.71     10.2\n",
            "1598            6.0             0.310         0.47  ...  3.39       0.66     11.0\n",
            "\n",
            "[1598 rows x 11 columns]       fixed acidity  volatile acidity  citric acid  ...    pH  sulphates  alcohol\n",
            "1507            7.5              0.38         0.57  ...  3.36       0.55     11.4\n",
            "\n",
            "[1 rows x 11 columns] 0       0\n",
            "1       0\n",
            "2       0\n",
            "3       1\n",
            "4       0\n",
            "       ..\n",
            "1594    0\n",
            "1595    1\n",
            "1596    1\n",
            "1597    0\n",
            "1598    1\n",
            "Name: quality, Length: 1598, dtype: int64 1507    1\n",
            "Name: quality, dtype: int64\n",
            "      fixed acidity  volatile acidity  citric acid  ...    pH  sulphates  alcohol\n",
            "0               7.4             0.700         0.00  ...  3.51       0.56      9.4\n",
            "1               7.8             0.880         0.00  ...  3.20       0.68      9.8\n",
            "2               7.8             0.760         0.04  ...  3.26       0.65      9.8\n",
            "3              11.2             0.280         0.56  ...  3.16       0.58      9.8\n",
            "4               7.4             0.700         0.00  ...  3.51       0.56      9.4\n",
            "...             ...               ...          ...  ...   ...        ...      ...\n",
            "1594            6.2             0.600         0.08  ...  3.45       0.58     10.5\n",
            "1595            5.9             0.550         0.10  ...  3.52       0.76     11.2\n",
            "1596            6.3             0.510         0.13  ...  3.42       0.75     11.0\n",
            "1597            5.9             0.645         0.12  ...  3.57       0.71     10.2\n",
            "1598            6.0             0.310         0.47  ...  3.39       0.66     11.0\n",
            "\n",
            "[1598 rows x 11 columns]       fixed acidity  volatile acidity  citric acid  ...    pH  sulphates  alcohol\n",
            "1508            7.1              0.27          0.6  ...  3.38       0.72     10.6\n",
            "\n",
            "[1 rows x 11 columns] 0       0\n",
            "1       0\n",
            "2       0\n",
            "3       1\n",
            "4       0\n",
            "       ..\n",
            "1594    0\n",
            "1595    1\n",
            "1596    1\n",
            "1597    0\n",
            "1598    1\n",
            "Name: quality, Length: 1598, dtype: int64 1508    1\n",
            "Name: quality, dtype: int64\n",
            "      fixed acidity  volatile acidity  citric acid  ...    pH  sulphates  alcohol\n",
            "0               7.4             0.700         0.00  ...  3.51       0.56      9.4\n",
            "1               7.8             0.880         0.00  ...  3.20       0.68      9.8\n",
            "2               7.8             0.760         0.04  ...  3.26       0.65      9.8\n",
            "3              11.2             0.280         0.56  ...  3.16       0.58      9.8\n",
            "4               7.4             0.700         0.00  ...  3.51       0.56      9.4\n",
            "...             ...               ...          ...  ...   ...        ...      ...\n",
            "1594            6.2             0.600         0.08  ...  3.45       0.58     10.5\n",
            "1595            5.9             0.550         0.10  ...  3.52       0.76     11.2\n",
            "1596            6.3             0.510         0.13  ...  3.42       0.75     11.0\n",
            "1597            5.9             0.645         0.12  ...  3.57       0.71     10.2\n",
            "1598            6.0             0.310         0.47  ...  3.39       0.66     11.0\n",
            "\n",
            "[1598 rows x 11 columns]       fixed acidity  volatile acidity  citric acid  ...    pH  sulphates  alcohol\n",
            "1509            7.9              0.18          0.4  ...  3.28        0.7     11.1\n",
            "\n",
            "[1 rows x 11 columns] 0       0\n",
            "1       0\n",
            "2       0\n",
            "3       1\n",
            "4       0\n",
            "       ..\n",
            "1594    0\n",
            "1595    1\n",
            "1596    1\n",
            "1597    0\n",
            "1598    1\n",
            "Name: quality, Length: 1598, dtype: int64 1509    0\n",
            "Name: quality, dtype: int64\n",
            "      fixed acidity  volatile acidity  citric acid  ...    pH  sulphates  alcohol\n",
            "0               7.4             0.700         0.00  ...  3.51       0.56      9.4\n",
            "1               7.8             0.880         0.00  ...  3.20       0.68      9.8\n",
            "2               7.8             0.760         0.04  ...  3.26       0.65      9.8\n",
            "3              11.2             0.280         0.56  ...  3.16       0.58      9.8\n",
            "4               7.4             0.700         0.00  ...  3.51       0.56      9.4\n",
            "...             ...               ...          ...  ...   ...        ...      ...\n",
            "1594            6.2             0.600         0.08  ...  3.45       0.58     10.5\n",
            "1595            5.9             0.550         0.10  ...  3.52       0.76     11.2\n",
            "1596            6.3             0.510         0.13  ...  3.42       0.75     11.0\n",
            "1597            5.9             0.645         0.12  ...  3.57       0.71     10.2\n",
            "1598            6.0             0.310         0.47  ...  3.39       0.66     11.0\n",
            "\n",
            "[1598 rows x 11 columns]       fixed acidity  volatile acidity  citric acid  ...    pH  sulphates  alcohol\n",
            "1510            6.4              0.36         0.21  ...  3.47       0.77      9.7\n",
            "\n",
            "[1 rows x 11 columns] 0       0\n",
            "1       0\n",
            "2       0\n",
            "3       1\n",
            "4       0\n",
            "       ..\n",
            "1594    0\n",
            "1595    1\n",
            "1596    1\n",
            "1597    0\n",
            "1598    1\n",
            "Name: quality, Length: 1598, dtype: int64 1510    1\n",
            "Name: quality, dtype: int64\n",
            "      fixed acidity  volatile acidity  citric acid  ...    pH  sulphates  alcohol\n",
            "0               7.4             0.700         0.00  ...  3.51       0.56      9.4\n",
            "1               7.8             0.880         0.00  ...  3.20       0.68      9.8\n",
            "2               7.8             0.760         0.04  ...  3.26       0.65      9.8\n",
            "3              11.2             0.280         0.56  ...  3.16       0.58      9.8\n",
            "4               7.4             0.700         0.00  ...  3.51       0.56      9.4\n",
            "...             ...               ...          ...  ...   ...        ...      ...\n",
            "1594            6.2             0.600         0.08  ...  3.45       0.58     10.5\n",
            "1595            5.9             0.550         0.10  ...  3.52       0.76     11.2\n",
            "1596            6.3             0.510         0.13  ...  3.42       0.75     11.0\n",
            "1597            5.9             0.645         0.12  ...  3.57       0.71     10.2\n",
            "1598            6.0             0.310         0.47  ...  3.39       0.66     11.0\n",
            "\n",
            "[1598 rows x 11 columns]       fixed acidity  volatile acidity  citric acid  ...    pH  sulphates  alcohol\n",
            "1511            7.1              0.69         0.04  ...  3.44       0.67      9.8\n",
            "\n",
            "[1 rows x 11 columns] 0       0\n",
            "1       0\n",
            "2       0\n",
            "3       1\n",
            "4       0\n",
            "       ..\n",
            "1594    0\n",
            "1595    1\n",
            "1596    1\n",
            "1597    0\n",
            "1598    1\n",
            "Name: quality, Length: 1598, dtype: int64 1511    0\n",
            "Name: quality, dtype: int64\n",
            "      fixed acidity  volatile acidity  citric acid  ...    pH  sulphates  alcohol\n",
            "0               7.4             0.700         0.00  ...  3.51       0.56      9.4\n",
            "1               7.8             0.880         0.00  ...  3.20       0.68      9.8\n",
            "2               7.8             0.760         0.04  ...  3.26       0.65      9.8\n",
            "3              11.2             0.280         0.56  ...  3.16       0.58      9.8\n",
            "4               7.4             0.700         0.00  ...  3.51       0.56      9.4\n",
            "...             ...               ...          ...  ...   ...        ...      ...\n",
            "1594            6.2             0.600         0.08  ...  3.45       0.58     10.5\n",
            "1595            5.9             0.550         0.10  ...  3.52       0.76     11.2\n",
            "1596            6.3             0.510         0.13  ...  3.42       0.75     11.0\n",
            "1597            5.9             0.645         0.12  ...  3.57       0.71     10.2\n",
            "1598            6.0             0.310         0.47  ...  3.39       0.66     11.0\n",
            "\n",
            "[1598 rows x 11 columns]       fixed acidity  volatile acidity  citric acid  ...    pH  sulphates  alcohol\n",
            "1512            6.4              0.79         0.04  ...  3.53       0.65     10.4\n",
            "\n",
            "[1 rows x 11 columns] 0       0\n",
            "1       0\n",
            "2       0\n",
            "3       1\n",
            "4       0\n",
            "       ..\n",
            "1594    0\n",
            "1595    1\n",
            "1596    1\n",
            "1597    0\n",
            "1598    1\n",
            "Name: quality, Length: 1598, dtype: int64 1512    1\n",
            "Name: quality, dtype: int64\n",
            "      fixed acidity  volatile acidity  citric acid  ...    pH  sulphates  alcohol\n",
            "0               7.4             0.700         0.00  ...  3.51       0.56      9.4\n",
            "1               7.8             0.880         0.00  ...  3.20       0.68      9.8\n",
            "2               7.8             0.760         0.04  ...  3.26       0.65      9.8\n",
            "3              11.2             0.280         0.56  ...  3.16       0.58      9.8\n",
            "4               7.4             0.700         0.00  ...  3.51       0.56      9.4\n",
            "...             ...               ...          ...  ...   ...        ...      ...\n",
            "1594            6.2             0.600         0.08  ...  3.45       0.58     10.5\n",
            "1595            5.9             0.550         0.10  ...  3.52       0.76     11.2\n",
            "1596            6.3             0.510         0.13  ...  3.42       0.75     11.0\n",
            "1597            5.9             0.645         0.12  ...  3.57       0.71     10.2\n",
            "1598            6.0             0.310         0.47  ...  3.39       0.66     11.0\n",
            "\n",
            "[1598 rows x 11 columns]       fixed acidity  volatile acidity  citric acid  ...    pH  sulphates  alcohol\n",
            "1513            6.4              0.56         0.15  ...  3.33        0.6     10.5\n",
            "\n",
            "[1 rows x 11 columns] 0       0\n",
            "1       0\n",
            "2       0\n",
            "3       1\n",
            "4       0\n",
            "       ..\n",
            "1594    0\n",
            "1595    1\n",
            "1596    1\n",
            "1597    0\n",
            "1598    1\n",
            "Name: quality, Length: 1598, dtype: int64 1513    1\n",
            "Name: quality, dtype: int64\n",
            "      fixed acidity  volatile acidity  citric acid  ...    pH  sulphates  alcohol\n",
            "0               7.4             0.700         0.00  ...  3.51       0.56      9.4\n",
            "1               7.8             0.880         0.00  ...  3.20       0.68      9.8\n",
            "2               7.8             0.760         0.04  ...  3.26       0.65      9.8\n",
            "3              11.2             0.280         0.56  ...  3.16       0.58      9.8\n",
            "4               7.4             0.700         0.00  ...  3.51       0.56      9.4\n",
            "...             ...               ...          ...  ...   ...        ...      ...\n",
            "1594            6.2             0.600         0.08  ...  3.45       0.58     10.5\n",
            "1595            5.9             0.550         0.10  ...  3.52       0.76     11.2\n",
            "1596            6.3             0.510         0.13  ...  3.42       0.75     11.0\n",
            "1597            5.9             0.645         0.12  ...  3.57       0.71     10.2\n",
            "1598            6.0             0.310         0.47  ...  3.39       0.66     11.0\n",
            "\n",
            "[1598 rows x 11 columns]       fixed acidity  volatile acidity  citric acid  ...    pH  sulphates   alcohol\n",
            "1514            6.9              0.84         0.21  ...  3.53       0.72  9.233333\n",
            "\n",
            "[1 rows x 11 columns] 0       0\n",
            "1       0\n",
            "2       0\n",
            "3       1\n",
            "4       0\n",
            "       ..\n",
            "1594    0\n",
            "1595    1\n",
            "1596    1\n",
            "1597    0\n",
            "1598    1\n",
            "Name: quality, Length: 1598, dtype: int64 1514    1\n",
            "Name: quality, dtype: int64\n",
            "      fixed acidity  volatile acidity  citric acid  ...    pH  sulphates  alcohol\n",
            "0               7.4             0.700         0.00  ...  3.51       0.56      9.4\n",
            "1               7.8             0.880         0.00  ...  3.20       0.68      9.8\n",
            "2               7.8             0.760         0.04  ...  3.26       0.65      9.8\n",
            "3              11.2             0.280         0.56  ...  3.16       0.58      9.8\n",
            "4               7.4             0.700         0.00  ...  3.51       0.56      9.4\n",
            "...             ...               ...          ...  ...   ...        ...      ...\n",
            "1594            6.2             0.600         0.08  ...  3.45       0.58     10.5\n",
            "1595            5.9             0.550         0.10  ...  3.52       0.76     11.2\n",
            "1596            6.3             0.510         0.13  ...  3.42       0.75     11.0\n",
            "1597            5.9             0.645         0.12  ...  3.57       0.71     10.2\n",
            "1598            6.0             0.310         0.47  ...  3.39       0.66     11.0\n",
            "\n",
            "[1598 rows x 11 columns]       fixed acidity  volatile acidity  citric acid  ...    pH  sulphates  alcohol\n",
            "1515            6.9              0.84         0.21  ...  3.53       0.72     9.25\n",
            "\n",
            "[1 rows x 11 columns] 0       0\n",
            "1       0\n",
            "2       0\n",
            "3       1\n",
            "4       0\n",
            "       ..\n",
            "1594    0\n",
            "1595    1\n",
            "1596    1\n",
            "1597    0\n",
            "1598    1\n",
            "Name: quality, Length: 1598, dtype: int64 1515    1\n",
            "Name: quality, dtype: int64\n",
            "      fixed acidity  volatile acidity  citric acid  ...    pH  sulphates  alcohol\n",
            "0               7.4             0.700         0.00  ...  3.51       0.56      9.4\n",
            "1               7.8             0.880         0.00  ...  3.20       0.68      9.8\n",
            "2               7.8             0.760         0.04  ...  3.26       0.65      9.8\n",
            "3              11.2             0.280         0.56  ...  3.16       0.58      9.8\n",
            "4               7.4             0.700         0.00  ...  3.51       0.56      9.4\n",
            "...             ...               ...          ...  ...   ...        ...      ...\n",
            "1594            6.2             0.600         0.08  ...  3.45       0.58     10.5\n",
            "1595            5.9             0.550         0.10  ...  3.52       0.76     11.2\n",
            "1596            6.3             0.510         0.13  ...  3.42       0.75     11.0\n",
            "1597            5.9             0.645         0.12  ...  3.57       0.71     10.2\n",
            "1598            6.0             0.310         0.47  ...  3.39       0.66     11.0\n",
            "\n",
            "[1598 rows x 11 columns]       fixed acidity  volatile acidity  citric acid  ...    pH  sulphates  alcohol\n",
            "1516            6.1              0.32         0.25  ...  3.42       0.97     10.6\n",
            "\n",
            "[1 rows x 11 columns] 0       0\n",
            "1       0\n",
            "2       0\n",
            "3       1\n",
            "4       0\n",
            "       ..\n",
            "1594    0\n",
            "1595    1\n",
            "1596    1\n",
            "1597    0\n",
            "1598    1\n",
            "Name: quality, Length: 1598, dtype: int64 1516    0\n",
            "Name: quality, dtype: int64\n",
            "      fixed acidity  volatile acidity  citric acid  ...    pH  sulphates  alcohol\n",
            "0               7.4             0.700         0.00  ...  3.51       0.56      9.4\n",
            "1               7.8             0.880         0.00  ...  3.20       0.68      9.8\n",
            "2               7.8             0.760         0.04  ...  3.26       0.65      9.8\n",
            "3              11.2             0.280         0.56  ...  3.16       0.58      9.8\n",
            "4               7.4             0.700         0.00  ...  3.51       0.56      9.4\n",
            "...             ...               ...          ...  ...   ...        ...      ...\n",
            "1594            6.2             0.600         0.08  ...  3.45       0.58     10.5\n",
            "1595            5.9             0.550         0.10  ...  3.52       0.76     11.2\n",
            "1596            6.3             0.510         0.13  ...  3.42       0.75     11.0\n",
            "1597            5.9             0.645         0.12  ...  3.57       0.71     10.2\n",
            "1598            6.0             0.310         0.47  ...  3.39       0.66     11.0\n",
            "\n",
            "[1598 rows x 11 columns]       fixed acidity  volatile acidity  citric acid  ...    pH  sulphates  alcohol\n",
            "1517            6.5              0.53         0.06  ...  3.38       0.83     10.3\n",
            "\n",
            "[1 rows x 11 columns] 0       0\n",
            "1       0\n",
            "2       0\n",
            "3       1\n",
            "4       0\n",
            "       ..\n",
            "1594    0\n",
            "1595    1\n",
            "1596    1\n",
            "1597    0\n",
            "1598    1\n",
            "Name: quality, Length: 1598, dtype: int64 1517    1\n",
            "Name: quality, dtype: int64\n",
            "      fixed acidity  volatile acidity  citric acid  ...    pH  sulphates  alcohol\n",
            "0               7.4             0.700         0.00  ...  3.51       0.56      9.4\n",
            "1               7.8             0.880         0.00  ...  3.20       0.68      9.8\n",
            "2               7.8             0.760         0.04  ...  3.26       0.65      9.8\n",
            "3              11.2             0.280         0.56  ...  3.16       0.58      9.8\n",
            "4               7.4             0.700         0.00  ...  3.51       0.56      9.4\n",
            "...             ...               ...          ...  ...   ...        ...      ...\n",
            "1594            6.2             0.600         0.08  ...  3.45       0.58     10.5\n",
            "1595            5.9             0.550         0.10  ...  3.52       0.76     11.2\n",
            "1596            6.3             0.510         0.13  ...  3.42       0.75     11.0\n",
            "1597            5.9             0.645         0.12  ...  3.57       0.71     10.2\n",
            "1598            6.0             0.310         0.47  ...  3.39       0.66     11.0\n",
            "\n",
            "[1598 rows x 11 columns]       fixed acidity  volatile acidity  citric acid  ...    pH  sulphates  alcohol\n",
            "1518            7.4              0.47         0.46  ...  3.32       0.63     10.5\n",
            "\n",
            "[1 rows x 11 columns] 0       0\n",
            "1       0\n",
            "2       0\n",
            "3       1\n",
            "4       0\n",
            "       ..\n",
            "1594    0\n",
            "1595    1\n",
            "1596    1\n",
            "1597    0\n",
            "1598    1\n",
            "Name: quality, Length: 1598, dtype: int64 1518    0\n",
            "Name: quality, dtype: int64\n",
            "      fixed acidity  volatile acidity  citric acid  ...    pH  sulphates  alcohol\n",
            "0               7.4             0.700         0.00  ...  3.51       0.56      9.4\n",
            "1               7.8             0.880         0.00  ...  3.20       0.68      9.8\n",
            "2               7.8             0.760         0.04  ...  3.26       0.65      9.8\n",
            "3              11.2             0.280         0.56  ...  3.16       0.58      9.8\n",
            "4               7.4             0.700         0.00  ...  3.51       0.56      9.4\n",
            "...             ...               ...          ...  ...   ...        ...      ...\n",
            "1594            6.2             0.600         0.08  ...  3.45       0.58     10.5\n",
            "1595            5.9             0.550         0.10  ...  3.52       0.76     11.2\n",
            "1596            6.3             0.510         0.13  ...  3.42       0.75     11.0\n",
            "1597            5.9             0.645         0.12  ...  3.57       0.71     10.2\n",
            "1598            6.0             0.310         0.47  ...  3.39       0.66     11.0\n",
            "\n",
            "[1598 rows x 11 columns]       fixed acidity  volatile acidity  citric acid  ...    pH  sulphates  alcohol\n",
            "1519            6.6               0.7         0.08  ...  3.44       0.58     10.2\n",
            "\n",
            "[1 rows x 11 columns] 0       0\n",
            "1       0\n",
            "2       0\n",
            "3       1\n",
            "4       0\n",
            "       ..\n",
            "1594    0\n",
            "1595    1\n",
            "1596    1\n",
            "1597    0\n",
            "1598    1\n",
            "Name: quality, Length: 1598, dtype: int64 1519    0\n",
            "Name: quality, dtype: int64\n",
            "      fixed acidity  volatile acidity  citric acid  ...    pH  sulphates  alcohol\n",
            "0               7.4             0.700         0.00  ...  3.51       0.56      9.4\n",
            "1               7.8             0.880         0.00  ...  3.20       0.68      9.8\n",
            "2               7.8             0.760         0.04  ...  3.26       0.65      9.8\n",
            "3              11.2             0.280         0.56  ...  3.16       0.58      9.8\n",
            "4               7.4             0.700         0.00  ...  3.51       0.56      9.4\n",
            "...             ...               ...          ...  ...   ...        ...      ...\n",
            "1594            6.2             0.600         0.08  ...  3.45       0.58     10.5\n",
            "1595            5.9             0.550         0.10  ...  3.52       0.76     11.2\n",
            "1596            6.3             0.510         0.13  ...  3.42       0.75     11.0\n",
            "1597            5.9             0.645         0.12  ...  3.57       0.71     10.2\n",
            "1598            6.0             0.310         0.47  ...  3.39       0.66     11.0\n",
            "\n",
            "[1598 rows x 11 columns]       fixed acidity  volatile acidity  citric acid  ...    pH  sulphates  alcohol\n",
            "1520            6.5              0.53         0.06  ...  3.38       0.83     10.3\n",
            "\n",
            "[1 rows x 11 columns] 0       0\n",
            "1       0\n",
            "2       0\n",
            "3       1\n",
            "4       0\n",
            "       ..\n",
            "1594    0\n",
            "1595    1\n",
            "1596    1\n",
            "1597    0\n",
            "1598    1\n",
            "Name: quality, Length: 1598, dtype: int64 1520    1\n",
            "Name: quality, dtype: int64\n",
            "      fixed acidity  volatile acidity  citric acid  ...    pH  sulphates  alcohol\n",
            "0               7.4             0.700         0.00  ...  3.51       0.56      9.4\n",
            "1               7.8             0.880         0.00  ...  3.20       0.68      9.8\n",
            "2               7.8             0.760         0.04  ...  3.26       0.65      9.8\n",
            "3              11.2             0.280         0.56  ...  3.16       0.58      9.8\n",
            "4               7.4             0.700         0.00  ...  3.51       0.56      9.4\n",
            "...             ...               ...          ...  ...   ...        ...      ...\n",
            "1594            6.2             0.600         0.08  ...  3.45       0.58     10.5\n",
            "1595            5.9             0.550         0.10  ...  3.52       0.76     11.2\n",
            "1596            6.3             0.510         0.13  ...  3.42       0.75     11.0\n",
            "1597            5.9             0.645         0.12  ...  3.57       0.71     10.2\n",
            "1598            6.0             0.310         0.47  ...  3.39       0.66     11.0\n",
            "\n",
            "[1598 rows x 11 columns]       fixed acidity  volatile acidity  citric acid  ...    pH  sulphates  alcohol\n",
            "1521            6.9              0.48          0.2  ...  3.39       0.43     9.05\n",
            "\n",
            "[1 rows x 11 columns] 0       0\n",
            "1       0\n",
            "2       0\n",
            "3       1\n",
            "4       0\n",
            "       ..\n",
            "1594    0\n",
            "1595    1\n",
            "1596    1\n",
            "1597    0\n",
            "1598    1\n",
            "Name: quality, Length: 1598, dtype: int64 1521    0\n",
            "Name: quality, dtype: int64\n",
            "      fixed acidity  volatile acidity  citric acid  ...    pH  sulphates  alcohol\n",
            "0               7.4             0.700         0.00  ...  3.51       0.56      9.4\n",
            "1               7.8             0.880         0.00  ...  3.20       0.68      9.8\n",
            "2               7.8             0.760         0.04  ...  3.26       0.65      9.8\n",
            "3              11.2             0.280         0.56  ...  3.16       0.58      9.8\n",
            "4               7.4             0.700         0.00  ...  3.51       0.56      9.4\n",
            "...             ...               ...          ...  ...   ...        ...      ...\n",
            "1594            6.2             0.600         0.08  ...  3.45       0.58     10.5\n",
            "1595            5.9             0.550         0.10  ...  3.52       0.76     11.2\n",
            "1596            6.3             0.510         0.13  ...  3.42       0.75     11.0\n",
            "1597            5.9             0.645         0.12  ...  3.57       0.71     10.2\n",
            "1598            6.0             0.310         0.47  ...  3.39       0.66     11.0\n",
            "\n",
            "[1598 rows x 11 columns]       fixed acidity  volatile acidity  citric acid  ...    pH  sulphates  alcohol\n",
            "1522            6.1              0.32         0.25  ...  3.42       0.97     10.6\n",
            "\n",
            "[1 rows x 11 columns] 0       0\n",
            "1       0\n",
            "2       0\n",
            "3       1\n",
            "4       0\n",
            "       ..\n",
            "1594    0\n",
            "1595    1\n",
            "1596    1\n",
            "1597    0\n",
            "1598    1\n",
            "Name: quality, Length: 1598, dtype: int64 1522    0\n",
            "Name: quality, dtype: int64\n",
            "      fixed acidity  volatile acidity  citric acid  ...    pH  sulphates  alcohol\n",
            "0               7.4             0.700         0.00  ...  3.51       0.56      9.4\n",
            "1               7.8             0.880         0.00  ...  3.20       0.68      9.8\n",
            "2               7.8             0.760         0.04  ...  3.26       0.65      9.8\n",
            "3              11.2             0.280         0.56  ...  3.16       0.58      9.8\n",
            "4               7.4             0.700         0.00  ...  3.51       0.56      9.4\n",
            "...             ...               ...          ...  ...   ...        ...      ...\n",
            "1594            6.2             0.600         0.08  ...  3.45       0.58     10.5\n",
            "1595            5.9             0.550         0.10  ...  3.52       0.76     11.2\n",
            "1596            6.3             0.510         0.13  ...  3.42       0.75     11.0\n",
            "1597            5.9             0.645         0.12  ...  3.57       0.71     10.2\n",
            "1598            6.0             0.310         0.47  ...  3.39       0.66     11.0\n",
            "\n",
            "[1598 rows x 11 columns]       fixed acidity  volatile acidity  citric acid  ...    pH  sulphates  alcohol\n",
            "1523            6.8              0.48         0.25  ...  3.34        0.6     10.4\n",
            "\n",
            "[1 rows x 11 columns] 0       0\n",
            "1       0\n",
            "2       0\n",
            "3       1\n",
            "4       0\n",
            "       ..\n",
            "1594    0\n",
            "1595    1\n",
            "1596    1\n",
            "1597    0\n",
            "1598    1\n",
            "Name: quality, Length: 1598, dtype: int64 1523    0\n",
            "Name: quality, dtype: int64\n",
            "      fixed acidity  volatile acidity  citric acid  ...    pH  sulphates  alcohol\n",
            "0               7.4             0.700         0.00  ...  3.51       0.56      9.4\n",
            "1               7.8             0.880         0.00  ...  3.20       0.68      9.8\n",
            "2               7.8             0.760         0.04  ...  3.26       0.65      9.8\n",
            "3              11.2             0.280         0.56  ...  3.16       0.58      9.8\n",
            "4               7.4             0.700         0.00  ...  3.51       0.56      9.4\n",
            "...             ...               ...          ...  ...   ...        ...      ...\n",
            "1594            6.2             0.600         0.08  ...  3.45       0.58     10.5\n",
            "1595            5.9             0.550         0.10  ...  3.52       0.76     11.2\n",
            "1596            6.3             0.510         0.13  ...  3.42       0.75     11.0\n",
            "1597            5.9             0.645         0.12  ...  3.57       0.71     10.2\n",
            "1598            6.0             0.310         0.47  ...  3.39       0.66     11.0\n",
            "\n",
            "[1598 rows x 11 columns]       fixed acidity  volatile acidity  citric acid  ...    pH  sulphates  alcohol\n",
            "1524            6.0              0.42         0.19  ...  3.39       0.78     10.0\n",
            "\n",
            "[1 rows x 11 columns] 0       0\n",
            "1       0\n",
            "2       0\n",
            "3       1\n",
            "4       0\n",
            "       ..\n",
            "1594    0\n",
            "1595    1\n",
            "1596    1\n",
            "1597    0\n",
            "1598    1\n",
            "Name: quality, Length: 1598, dtype: int64 1524    1\n",
            "Name: quality, dtype: int64\n",
            "      fixed acidity  volatile acidity  citric acid  ...    pH  sulphates  alcohol\n",
            "0               7.4             0.700         0.00  ...  3.51       0.56      9.4\n",
            "1               7.8             0.880         0.00  ...  3.20       0.68      9.8\n",
            "2               7.8             0.760         0.04  ...  3.26       0.65      9.8\n",
            "3              11.2             0.280         0.56  ...  3.16       0.58      9.8\n",
            "4               7.4             0.700         0.00  ...  3.51       0.56      9.4\n",
            "...             ...               ...          ...  ...   ...        ...      ...\n",
            "1594            6.2             0.600         0.08  ...  3.45       0.58     10.5\n",
            "1595            5.9             0.550         0.10  ...  3.52       0.76     11.2\n",
            "1596            6.3             0.510         0.13  ...  3.42       0.75     11.0\n",
            "1597            5.9             0.645         0.12  ...  3.57       0.71     10.2\n",
            "1598            6.0             0.310         0.47  ...  3.39       0.66     11.0\n",
            "\n",
            "[1598 rows x 11 columns]       fixed acidity  volatile acidity  citric acid  ...    pH  sulphates  alcohol\n",
            "1525            6.7              0.48         0.08  ...  3.33       0.64      9.7\n",
            "\n",
            "[1 rows x 11 columns] 0       0\n",
            "1       0\n",
            "2       0\n",
            "3       1\n",
            "4       0\n",
            "       ..\n",
            "1594    0\n",
            "1595    1\n",
            "1596    1\n",
            "1597    0\n",
            "1598    1\n",
            "Name: quality, Length: 1598, dtype: int64 1525    0\n",
            "Name: quality, dtype: int64\n",
            "      fixed acidity  volatile acidity  citric acid  ...    pH  sulphates  alcohol\n",
            "0               7.4             0.700         0.00  ...  3.51       0.56      9.4\n",
            "1               7.8             0.880         0.00  ...  3.20       0.68      9.8\n",
            "2               7.8             0.760         0.04  ...  3.26       0.65      9.8\n",
            "3              11.2             0.280         0.56  ...  3.16       0.58      9.8\n",
            "4               7.4             0.700         0.00  ...  3.51       0.56      9.4\n",
            "...             ...               ...          ...  ...   ...        ...      ...\n",
            "1594            6.2             0.600         0.08  ...  3.45       0.58     10.5\n",
            "1595            5.9             0.550         0.10  ...  3.52       0.76     11.2\n",
            "1596            6.3             0.510         0.13  ...  3.42       0.75     11.0\n",
            "1597            5.9             0.645         0.12  ...  3.57       0.71     10.2\n",
            "1598            6.0             0.310         0.47  ...  3.39       0.66     11.0\n",
            "\n",
            "[1598 rows x 11 columns]       fixed acidity  volatile acidity  citric acid  ...   pH  sulphates  alcohol\n",
            "1526            6.8              0.47         0.08  ...  3.3       0.65      9.6\n",
            "\n",
            "[1 rows x 11 columns] 0       0\n",
            "1       0\n",
            "2       0\n",
            "3       1\n",
            "4       0\n",
            "       ..\n",
            "1594    0\n",
            "1595    1\n",
            "1596    1\n",
            "1597    0\n",
            "1598    1\n",
            "Name: quality, Length: 1598, dtype: int64 1526    1\n",
            "Name: quality, dtype: int64\n",
            "      fixed acidity  volatile acidity  citric acid  ...    pH  sulphates  alcohol\n",
            "0               7.4             0.700         0.00  ...  3.51       0.56      9.4\n",
            "1               7.8             0.880         0.00  ...  3.20       0.68      9.8\n",
            "2               7.8             0.760         0.04  ...  3.26       0.65      9.8\n",
            "3              11.2             0.280         0.56  ...  3.16       0.58      9.8\n",
            "4               7.4             0.700         0.00  ...  3.51       0.56      9.4\n",
            "...             ...               ...          ...  ...   ...        ...      ...\n",
            "1594            6.2             0.600         0.08  ...  3.45       0.58     10.5\n",
            "1595            5.9             0.550         0.10  ...  3.52       0.76     11.2\n",
            "1596            6.3             0.510         0.13  ...  3.42       0.75     11.0\n",
            "1597            5.9             0.645         0.12  ...  3.57       0.71     10.2\n",
            "1598            6.0             0.310         0.47  ...  3.39       0.66     11.0\n",
            "\n",
            "[1598 rows x 11 columns]       fixed acidity  volatile acidity  citric acid  ...    pH  sulphates  alcohol\n",
            "1527            7.1              0.53         0.07  ...  3.29       0.66     10.8\n",
            "\n",
            "[1 rows x 11 columns] 0       0\n",
            "1       0\n",
            "2       0\n",
            "3       1\n",
            "4       0\n",
            "       ..\n",
            "1594    0\n",
            "1595    1\n",
            "1596    1\n",
            "1597    0\n",
            "1598    1\n",
            "Name: quality, Length: 1598, dtype: int64 1527    1\n",
            "Name: quality, dtype: int64\n",
            "      fixed acidity  volatile acidity  citric acid  ...    pH  sulphates  alcohol\n",
            "0               7.4             0.700         0.00  ...  3.51       0.56      9.4\n",
            "1               7.8             0.880         0.00  ...  3.20       0.68      9.8\n",
            "2               7.8             0.760         0.04  ...  3.26       0.65      9.8\n",
            "3              11.2             0.280         0.56  ...  3.16       0.58      9.8\n",
            "4               7.4             0.700         0.00  ...  3.51       0.56      9.4\n",
            "...             ...               ...          ...  ...   ...        ...      ...\n",
            "1594            6.2             0.600         0.08  ...  3.45       0.58     10.5\n",
            "1595            5.9             0.550         0.10  ...  3.52       0.76     11.2\n",
            "1596            6.3             0.510         0.13  ...  3.42       0.75     11.0\n",
            "1597            5.9             0.645         0.12  ...  3.57       0.71     10.2\n",
            "1598            6.0             0.310         0.47  ...  3.39       0.66     11.0\n",
            "\n",
            "[1598 rows x 11 columns]       fixed acidity  volatile acidity  citric acid  ...    pH  sulphates  alcohol\n",
            "1528            7.9              0.29         0.49  ...  3.31       0.67     10.1\n",
            "\n",
            "[1 rows x 11 columns] 0       0\n",
            "1       0\n",
            "2       0\n",
            "3       1\n",
            "4       0\n",
            "       ..\n",
            "1594    0\n",
            "1595    1\n",
            "1596    1\n",
            "1597    0\n",
            "1598    1\n",
            "Name: quality, Length: 1598, dtype: int64 1528    1\n",
            "Name: quality, dtype: int64\n",
            "      fixed acidity  volatile acidity  citric acid  ...    pH  sulphates  alcohol\n",
            "0               7.4             0.700         0.00  ...  3.51       0.56      9.4\n",
            "1               7.8             0.880         0.00  ...  3.20       0.68      9.8\n",
            "2               7.8             0.760         0.04  ...  3.26       0.65      9.8\n",
            "3              11.2             0.280         0.56  ...  3.16       0.58      9.8\n",
            "4               7.4             0.700         0.00  ...  3.51       0.56      9.4\n",
            "...             ...               ...          ...  ...   ...        ...      ...\n",
            "1594            6.2             0.600         0.08  ...  3.45       0.58     10.5\n",
            "1595            5.9             0.550         0.10  ...  3.52       0.76     11.2\n",
            "1596            6.3             0.510         0.13  ...  3.42       0.75     11.0\n",
            "1597            5.9             0.645         0.12  ...  3.57       0.71     10.2\n",
            "1598            6.0             0.310         0.47  ...  3.39       0.66     11.0\n",
            "\n",
            "[1598 rows x 11 columns]       fixed acidity  volatile acidity  citric acid  ...    pH  sulphates  alcohol\n",
            "1529            7.1              0.69         0.08  ...  3.42        0.6     10.2\n",
            "\n",
            "[1 rows x 11 columns] 0       0\n",
            "1       0\n",
            "2       0\n",
            "3       1\n",
            "4       0\n",
            "       ..\n",
            "1594    0\n",
            "1595    1\n",
            "1596    1\n",
            "1597    0\n",
            "1598    1\n",
            "Name: quality, Length: 1598, dtype: int64 1529    1\n",
            "Name: quality, dtype: int64\n",
            "      fixed acidity  volatile acidity  citric acid  ...    pH  sulphates  alcohol\n",
            "0               7.4             0.700         0.00  ...  3.51       0.56      9.4\n",
            "1               7.8             0.880         0.00  ...  3.20       0.68      9.8\n",
            "2               7.8             0.760         0.04  ...  3.26       0.65      9.8\n",
            "3              11.2             0.280         0.56  ...  3.16       0.58      9.8\n",
            "4               7.4             0.700         0.00  ...  3.51       0.56      9.4\n",
            "...             ...               ...          ...  ...   ...        ...      ...\n",
            "1594            6.2             0.600         0.08  ...  3.45       0.58     10.5\n",
            "1595            5.9             0.550         0.10  ...  3.52       0.76     11.2\n",
            "1596            6.3             0.510         0.13  ...  3.42       0.75     11.0\n",
            "1597            5.9             0.645         0.12  ...  3.57       0.71     10.2\n",
            "1598            6.0             0.310         0.47  ...  3.39       0.66     11.0\n",
            "\n",
            "[1598 rows x 11 columns]       fixed acidity  volatile acidity  citric acid  ...    pH  sulphates  alcohol\n",
            "1530            6.6              0.44         0.09  ...  3.42       0.69     11.3\n",
            "\n",
            "[1 rows x 11 columns] 0       0\n",
            "1       0\n",
            "2       0\n",
            "3       1\n",
            "4       0\n",
            "       ..\n",
            "1594    0\n",
            "1595    1\n",
            "1596    1\n",
            "1597    0\n",
            "1598    1\n",
            "Name: quality, Length: 1598, dtype: int64 1530    1\n",
            "Name: quality, dtype: int64\n",
            "      fixed acidity  volatile acidity  citric acid  ...    pH  sulphates  alcohol\n",
            "0               7.4             0.700         0.00  ...  3.51       0.56      9.4\n",
            "1               7.8             0.880         0.00  ...  3.20       0.68      9.8\n",
            "2               7.8             0.760         0.04  ...  3.26       0.65      9.8\n",
            "3              11.2             0.280         0.56  ...  3.16       0.58      9.8\n",
            "4               7.4             0.700         0.00  ...  3.51       0.56      9.4\n",
            "...             ...               ...          ...  ...   ...        ...      ...\n",
            "1594            6.2             0.600         0.08  ...  3.45       0.58     10.5\n",
            "1595            5.9             0.550         0.10  ...  3.52       0.76     11.2\n",
            "1596            6.3             0.510         0.13  ...  3.42       0.75     11.0\n",
            "1597            5.9             0.645         0.12  ...  3.57       0.71     10.2\n",
            "1598            6.0             0.310         0.47  ...  3.39       0.66     11.0\n",
            "\n",
            "[1598 rows x 11 columns]       fixed acidity  volatile acidity  citric acid  ...   pH  sulphates  alcohol\n",
            "1531            6.1             0.705          0.1  ...  3.6       0.66     10.2\n",
            "\n",
            "[1 rows x 11 columns] 0       0\n",
            "1       0\n",
            "2       0\n",
            "3       1\n",
            "4       0\n",
            "       ..\n",
            "1594    0\n",
            "1595    1\n",
            "1596    1\n",
            "1597    0\n",
            "1598    1\n",
            "Name: quality, Length: 1598, dtype: int64 1531    0\n",
            "Name: quality, dtype: int64\n",
            "      fixed acidity  volatile acidity  citric acid  ...    pH  sulphates  alcohol\n",
            "0               7.4             0.700         0.00  ...  3.51       0.56      9.4\n",
            "1               7.8             0.880         0.00  ...  3.20       0.68      9.8\n",
            "2               7.8             0.760         0.04  ...  3.26       0.65      9.8\n",
            "3              11.2             0.280         0.56  ...  3.16       0.58      9.8\n",
            "4               7.4             0.700         0.00  ...  3.51       0.56      9.4\n",
            "...             ...               ...          ...  ...   ...        ...      ...\n",
            "1594            6.2             0.600         0.08  ...  3.45       0.58     10.5\n",
            "1595            5.9             0.550         0.10  ...  3.52       0.76     11.2\n",
            "1596            6.3             0.510         0.13  ...  3.42       0.75     11.0\n",
            "1597            5.9             0.645         0.12  ...  3.57       0.71     10.2\n",
            "1598            6.0             0.310         0.47  ...  3.39       0.66     11.0\n",
            "\n",
            "[1598 rows x 11 columns]       fixed acidity  volatile acidity  citric acid  ...    pH  sulphates  alcohol\n",
            "1532            7.2              0.53         0.13  ...  3.21       0.68      9.9\n",
            "\n",
            "[1 rows x 11 columns] 0       0\n",
            "1       0\n",
            "2       0\n",
            "3       1\n",
            "4       0\n",
            "       ..\n",
            "1594    0\n",
            "1595    1\n",
            "1596    1\n",
            "1597    0\n",
            "1598    1\n",
            "Name: quality, Length: 1598, dtype: int64 1532    1\n",
            "Name: quality, dtype: int64\n",
            "      fixed acidity  volatile acidity  citric acid  ...    pH  sulphates  alcohol\n",
            "0               7.4             0.700         0.00  ...  3.51       0.56      9.4\n",
            "1               7.8             0.880         0.00  ...  3.20       0.68      9.8\n",
            "2               7.8             0.760         0.04  ...  3.26       0.65      9.8\n",
            "3              11.2             0.280         0.56  ...  3.16       0.58      9.8\n",
            "4               7.4             0.700         0.00  ...  3.51       0.56      9.4\n",
            "...             ...               ...          ...  ...   ...        ...      ...\n",
            "1594            6.2             0.600         0.08  ...  3.45       0.58     10.5\n",
            "1595            5.9             0.550         0.10  ...  3.52       0.76     11.2\n",
            "1596            6.3             0.510         0.13  ...  3.42       0.75     11.0\n",
            "1597            5.9             0.645         0.12  ...  3.57       0.71     10.2\n",
            "1598            6.0             0.310         0.47  ...  3.39       0.66     11.0\n",
            "\n",
            "[1598 rows x 11 columns]       fixed acidity  volatile acidity  citric acid  ...    pH  sulphates  alcohol\n",
            "1533            8.0              0.39          0.3  ...  3.39       0.61      9.0\n",
            "\n",
            "[1 rows x 11 columns] 0       0\n",
            "1       0\n",
            "2       0\n",
            "3       1\n",
            "4       0\n",
            "       ..\n",
            "1594    0\n",
            "1595    1\n",
            "1596    1\n",
            "1597    0\n",
            "1598    1\n",
            "Name: quality, Length: 1598, dtype: int64 1533    0\n",
            "Name: quality, dtype: int64\n",
            "      fixed acidity  volatile acidity  citric acid  ...    pH  sulphates  alcohol\n",
            "0               7.4             0.700         0.00  ...  3.51       0.56      9.4\n",
            "1               7.8             0.880         0.00  ...  3.20       0.68      9.8\n",
            "2               7.8             0.760         0.04  ...  3.26       0.65      9.8\n",
            "3              11.2             0.280         0.56  ...  3.16       0.58      9.8\n",
            "4               7.4             0.700         0.00  ...  3.51       0.56      9.4\n",
            "...             ...               ...          ...  ...   ...        ...      ...\n",
            "1594            6.2             0.600         0.08  ...  3.45       0.58     10.5\n",
            "1595            5.9             0.550         0.10  ...  3.52       0.76     11.2\n",
            "1596            6.3             0.510         0.13  ...  3.42       0.75     11.0\n",
            "1597            5.9             0.645         0.12  ...  3.57       0.71     10.2\n",
            "1598            6.0             0.310         0.47  ...  3.39       0.66     11.0\n",
            "\n",
            "[1598 rows x 11 columns]       fixed acidity  volatile acidity  citric acid  ...    pH  sulphates  alcohol\n",
            "1534            6.6              0.56         0.14  ...  3.42       0.62     11.7\n",
            "\n",
            "[1 rows x 11 columns] 0       0\n",
            "1       0\n",
            "2       0\n",
            "3       1\n",
            "4       0\n",
            "       ..\n",
            "1594    0\n",
            "1595    1\n",
            "1596    1\n",
            "1597    0\n",
            "1598    1\n",
            "Name: quality, Length: 1598, dtype: int64 1534    1\n",
            "Name: quality, dtype: int64\n",
            "      fixed acidity  volatile acidity  citric acid  ...    pH  sulphates  alcohol\n",
            "0               7.4             0.700         0.00  ...  3.51       0.56      9.4\n",
            "1               7.8             0.880         0.00  ...  3.20       0.68      9.8\n",
            "2               7.8             0.760         0.04  ...  3.26       0.65      9.8\n",
            "3              11.2             0.280         0.56  ...  3.16       0.58      9.8\n",
            "4               7.4             0.700         0.00  ...  3.51       0.56      9.4\n",
            "...             ...               ...          ...  ...   ...        ...      ...\n",
            "1594            6.2             0.600         0.08  ...  3.45       0.58     10.5\n",
            "1595            5.9             0.550         0.10  ...  3.52       0.76     11.2\n",
            "1596            6.3             0.510         0.13  ...  3.42       0.75     11.0\n",
            "1597            5.9             0.645         0.12  ...  3.57       0.71     10.2\n",
            "1598            6.0             0.310         0.47  ...  3.39       0.66     11.0\n",
            "\n",
            "[1598 rows x 11 columns]       fixed acidity  volatile acidity  citric acid  ...    pH  sulphates  alcohol\n",
            "1535            7.0              0.55         0.13  ...  3.36       0.59      9.7\n",
            "\n",
            "[1 rows x 11 columns] 0       0\n",
            "1       0\n",
            "2       0\n",
            "3       1\n",
            "4       0\n",
            "       ..\n",
            "1594    0\n",
            "1595    1\n",
            "1596    1\n",
            "1597    0\n",
            "1598    1\n",
            "Name: quality, Length: 1598, dtype: int64 1535    1\n",
            "Name: quality, dtype: int64\n",
            "      fixed acidity  volatile acidity  citric acid  ...    pH  sulphates  alcohol\n",
            "0               7.4             0.700         0.00  ...  3.51       0.56      9.4\n",
            "1               7.8             0.880         0.00  ...  3.20       0.68      9.8\n",
            "2               7.8             0.760         0.04  ...  3.26       0.65      9.8\n",
            "3              11.2             0.280         0.56  ...  3.16       0.58      9.8\n",
            "4               7.4             0.700         0.00  ...  3.51       0.56      9.4\n",
            "...             ...               ...          ...  ...   ...        ...      ...\n",
            "1594            6.2             0.600         0.08  ...  3.45       0.58     10.5\n",
            "1595            5.9             0.550         0.10  ...  3.52       0.76     11.2\n",
            "1596            6.3             0.510         0.13  ...  3.42       0.75     11.0\n",
            "1597            5.9             0.645         0.12  ...  3.57       0.71     10.2\n",
            "1598            6.0             0.310         0.47  ...  3.39       0.66     11.0\n",
            "\n",
            "[1598 rows x 11 columns]       fixed acidity  volatile acidity  citric acid  ...   pH  sulphates  alcohol\n",
            "1536            6.1              0.53         0.08  ...  3.6       0.68     10.3\n",
            "\n",
            "[1 rows x 11 columns] 0       0\n",
            "1       0\n",
            "2       0\n",
            "3       1\n",
            "4       0\n",
            "       ..\n",
            "1594    0\n",
            "1595    1\n",
            "1596    1\n",
            "1597    0\n",
            "1598    1\n",
            "Name: quality, Length: 1598, dtype: int64 1536    1\n",
            "Name: quality, dtype: int64\n",
            "      fixed acidity  volatile acidity  citric acid  ...    pH  sulphates  alcohol\n",
            "0               7.4             0.700         0.00  ...  3.51       0.56      9.4\n",
            "1               7.8             0.880         0.00  ...  3.20       0.68      9.8\n",
            "2               7.8             0.760         0.04  ...  3.26       0.65      9.8\n",
            "3              11.2             0.280         0.56  ...  3.16       0.58      9.8\n",
            "4               7.4             0.700         0.00  ...  3.51       0.56      9.4\n",
            "...             ...               ...          ...  ...   ...        ...      ...\n",
            "1594            6.2             0.600         0.08  ...  3.45       0.58     10.5\n",
            "1595            5.9             0.550         0.10  ...  3.52       0.76     11.2\n",
            "1596            6.3             0.510         0.13  ...  3.42       0.75     11.0\n",
            "1597            5.9             0.645         0.12  ...  3.57       0.71     10.2\n",
            "1598            6.0             0.310         0.47  ...  3.39       0.66     11.0\n",
            "\n",
            "[1598 rows x 11 columns]       fixed acidity  volatile acidity  citric acid  ...   pH  sulphates  alcohol\n",
            "1537            5.4              0.58         0.08  ...  3.5       0.64     10.2\n",
            "\n",
            "[1 rows x 11 columns] 0       0\n",
            "1       0\n",
            "2       0\n",
            "3       1\n",
            "4       0\n",
            "       ..\n",
            "1594    0\n",
            "1595    1\n",
            "1596    1\n",
            "1597    0\n",
            "1598    1\n",
            "Name: quality, Length: 1598, dtype: int64 1537    1\n",
            "Name: quality, dtype: int64\n",
            "      fixed acidity  volatile acidity  citric acid  ...    pH  sulphates  alcohol\n",
            "0               7.4             0.700         0.00  ...  3.51       0.56      9.4\n",
            "1               7.8             0.880         0.00  ...  3.20       0.68      9.8\n",
            "2               7.8             0.760         0.04  ...  3.26       0.65      9.8\n",
            "3              11.2             0.280         0.56  ...  3.16       0.58      9.8\n",
            "4               7.4             0.700         0.00  ...  3.51       0.56      9.4\n",
            "...             ...               ...          ...  ...   ...        ...      ...\n",
            "1594            6.2             0.600         0.08  ...  3.45       0.58     10.5\n",
            "1595            5.9             0.550         0.10  ...  3.52       0.76     11.2\n",
            "1596            6.3             0.510         0.13  ...  3.42       0.75     11.0\n",
            "1597            5.9             0.645         0.12  ...  3.57       0.71     10.2\n",
            "1598            6.0             0.310         0.47  ...  3.39       0.66     11.0\n",
            "\n",
            "[1598 rows x 11 columns]       fixed acidity  volatile acidity  citric acid  ...    pH  sulphates  alcohol\n",
            "1538            6.2              0.64         0.09  ...  3.57       0.63     12.0\n",
            "\n",
            "[1 rows x 11 columns] 0       0\n",
            "1       0\n",
            "2       0\n",
            "3       1\n",
            "4       0\n",
            "       ..\n",
            "1594    0\n",
            "1595    1\n",
            "1596    1\n",
            "1597    0\n",
            "1598    1\n",
            "Name: quality, Length: 1598, dtype: int64 1538    0\n",
            "Name: quality, dtype: int64\n",
            "      fixed acidity  volatile acidity  citric acid  ...    pH  sulphates  alcohol\n",
            "0               7.4             0.700         0.00  ...  3.51       0.56      9.4\n",
            "1               7.8             0.880         0.00  ...  3.20       0.68      9.8\n",
            "2               7.8             0.760         0.04  ...  3.26       0.65      9.8\n",
            "3              11.2             0.280         0.56  ...  3.16       0.58      9.8\n",
            "4               7.4             0.700         0.00  ...  3.51       0.56      9.4\n",
            "...             ...               ...          ...  ...   ...        ...      ...\n",
            "1594            6.2             0.600         0.08  ...  3.45       0.58     10.5\n",
            "1595            5.9             0.550         0.10  ...  3.52       0.76     11.2\n",
            "1596            6.3             0.510         0.13  ...  3.42       0.75     11.0\n",
            "1597            5.9             0.645         0.12  ...  3.57       0.71     10.2\n",
            "1598            6.0             0.310         0.47  ...  3.39       0.66     11.0\n",
            "\n",
            "[1598 rows x 11 columns]       fixed acidity  volatile acidity  citric acid  ...    pH  sulphates  alcohol\n",
            "1539            7.2              0.39         0.32  ...  3.46       0.78      9.9\n",
            "\n",
            "[1 rows x 11 columns] 0       0\n",
            "1       0\n",
            "2       0\n",
            "3       1\n",
            "4       0\n",
            "       ..\n",
            "1594    0\n",
            "1595    1\n",
            "1596    1\n",
            "1597    0\n",
            "1598    1\n",
            "Name: quality, Length: 1598, dtype: int64 1539    0\n",
            "Name: quality, dtype: int64\n",
            "      fixed acidity  volatile acidity  citric acid  ...    pH  sulphates  alcohol\n",
            "0               7.4             0.700         0.00  ...  3.51       0.56      9.4\n",
            "1               7.8             0.880         0.00  ...  3.20       0.68      9.8\n",
            "2               7.8             0.760         0.04  ...  3.26       0.65      9.8\n",
            "3              11.2             0.280         0.56  ...  3.16       0.58      9.8\n",
            "4               7.4             0.700         0.00  ...  3.51       0.56      9.4\n",
            "...             ...               ...          ...  ...   ...        ...      ...\n",
            "1594            6.2             0.600         0.08  ...  3.45       0.58     10.5\n",
            "1595            5.9             0.550         0.10  ...  3.52       0.76     11.2\n",
            "1596            6.3             0.510         0.13  ...  3.42       0.75     11.0\n",
            "1597            5.9             0.645         0.12  ...  3.57       0.71     10.2\n",
            "1598            6.0             0.310         0.47  ...  3.39       0.66     11.0\n",
            "\n",
            "[1598 rows x 11 columns]       fixed acidity  volatile acidity  citric acid  ...    pH  sulphates  alcohol\n",
            "1540            6.2              0.52         0.08  ...  3.56       0.63     11.6\n",
            "\n",
            "[1 rows x 11 columns] 0       0\n",
            "1       0\n",
            "2       0\n",
            "3       1\n",
            "4       0\n",
            "       ..\n",
            "1594    0\n",
            "1595    1\n",
            "1596    1\n",
            "1597    0\n",
            "1598    1\n",
            "Name: quality, Length: 1598, dtype: int64 1540    1\n",
            "Name: quality, dtype: int64\n",
            "      fixed acidity  volatile acidity  citric acid  ...    pH  sulphates  alcohol\n",
            "0               7.4             0.700         0.00  ...  3.51       0.56      9.4\n",
            "1               7.8             0.880         0.00  ...  3.20       0.68      9.8\n",
            "2               7.8             0.760         0.04  ...  3.26       0.65      9.8\n",
            "3              11.2             0.280         0.56  ...  3.16       0.58      9.8\n",
            "4               7.4             0.700         0.00  ...  3.51       0.56      9.4\n",
            "...             ...               ...          ...  ...   ...        ...      ...\n",
            "1594            6.2             0.600         0.08  ...  3.45       0.58     10.5\n",
            "1595            5.9             0.550         0.10  ...  3.52       0.76     11.2\n",
            "1596            6.3             0.510         0.13  ...  3.42       0.75     11.0\n",
            "1597            5.9             0.645         0.12  ...  3.57       0.71     10.2\n",
            "1598            6.0             0.310         0.47  ...  3.39       0.66     11.0\n",
            "\n",
            "[1598 rows x 11 columns]       fixed acidity  volatile acidity  citric acid  ...   pH  sulphates  alcohol\n",
            "1541            7.4              0.25         0.29  ...  3.4       0.76     10.9\n",
            "\n",
            "[1 rows x 11 columns] 0       0\n",
            "1       0\n",
            "2       0\n",
            "3       1\n",
            "4       0\n",
            "       ..\n",
            "1594    0\n",
            "1595    1\n",
            "1596    1\n",
            "1597    0\n",
            "1598    1\n",
            "Name: quality, Length: 1598, dtype: int64 1541    1\n",
            "Name: quality, dtype: int64\n",
            "      fixed acidity  volatile acidity  citric acid  ...    pH  sulphates  alcohol\n",
            "0               7.4             0.700         0.00  ...  3.51       0.56      9.4\n",
            "1               7.8             0.880         0.00  ...  3.20       0.68      9.8\n",
            "2               7.8             0.760         0.04  ...  3.26       0.65      9.8\n",
            "3              11.2             0.280         0.56  ...  3.16       0.58      9.8\n",
            "4               7.4             0.700         0.00  ...  3.51       0.56      9.4\n",
            "...             ...               ...          ...  ...   ...        ...      ...\n",
            "1594            6.2             0.600         0.08  ...  3.45       0.58     10.5\n",
            "1595            5.9             0.550         0.10  ...  3.52       0.76     11.2\n",
            "1596            6.3             0.510         0.13  ...  3.42       0.75     11.0\n",
            "1597            5.9             0.645         0.12  ...  3.57       0.71     10.2\n",
            "1598            6.0             0.310         0.47  ...  3.39       0.66     11.0\n",
            "\n",
            "[1598 rows x 11 columns]       fixed acidity  volatile acidity  citric acid  ...   pH  sulphates  alcohol\n",
            "1542            6.7             0.855         0.02  ...  3.3       0.56    10.75\n",
            "\n",
            "[1 rows x 11 columns] 0       0\n",
            "1       0\n",
            "2       0\n",
            "3       1\n",
            "4       0\n",
            "       ..\n",
            "1594    0\n",
            "1595    1\n",
            "1596    1\n",
            "1597    0\n",
            "1598    1\n",
            "Name: quality, Length: 1598, dtype: int64 1542    1\n",
            "Name: quality, dtype: int64\n",
            "      fixed acidity  volatile acidity  citric acid  ...    pH  sulphates  alcohol\n",
            "0               7.4             0.700         0.00  ...  3.51       0.56      9.4\n",
            "1               7.8             0.880         0.00  ...  3.20       0.68      9.8\n",
            "2               7.8             0.760         0.04  ...  3.26       0.65      9.8\n",
            "3              11.2             0.280         0.56  ...  3.16       0.58      9.8\n",
            "4               7.4             0.700         0.00  ...  3.51       0.56      9.4\n",
            "...             ...               ...          ...  ...   ...        ...      ...\n",
            "1594            6.2             0.600         0.08  ...  3.45       0.58     10.5\n",
            "1595            5.9             0.550         0.10  ...  3.52       0.76     11.2\n",
            "1596            6.3             0.510         0.13  ...  3.42       0.75     11.0\n",
            "1597            5.9             0.645         0.12  ...  3.57       0.71     10.2\n",
            "1598            6.0             0.310         0.47  ...  3.39       0.66     11.0\n",
            "\n",
            "[1598 rows x 11 columns]       fixed acidity  volatile acidity  citric acid  ...    pH  sulphates  alcohol\n",
            "1543           11.1              0.44         0.42  ...  3.25       0.57     10.4\n",
            "\n",
            "[1 rows x 11 columns] 0       0\n",
            "1       0\n",
            "2       0\n",
            "3       1\n",
            "4       0\n",
            "       ..\n",
            "1594    0\n",
            "1595    1\n",
            "1596    1\n",
            "1597    0\n",
            "1598    1\n",
            "Name: quality, Length: 1598, dtype: int64 1543    1\n",
            "Name: quality, dtype: int64\n",
            "      fixed acidity  volatile acidity  citric acid  ...    pH  sulphates  alcohol\n",
            "0               7.4             0.700         0.00  ...  3.51       0.56      9.4\n",
            "1               7.8             0.880         0.00  ...  3.20       0.68      9.8\n",
            "2               7.8             0.760         0.04  ...  3.26       0.65      9.8\n",
            "3              11.2             0.280         0.56  ...  3.16       0.58      9.8\n",
            "4               7.4             0.700         0.00  ...  3.51       0.56      9.4\n",
            "...             ...               ...          ...  ...   ...        ...      ...\n",
            "1594            6.2             0.600         0.08  ...  3.45       0.58     10.5\n",
            "1595            5.9             0.550         0.10  ...  3.52       0.76     11.2\n",
            "1596            6.3             0.510         0.13  ...  3.42       0.75     11.0\n",
            "1597            5.9             0.645         0.12  ...  3.57       0.71     10.2\n",
            "1598            6.0             0.310         0.47  ...  3.39       0.66     11.0\n",
            "\n",
            "[1598 rows x 11 columns]       fixed acidity  volatile acidity  citric acid  ...    pH  sulphates  alcohol\n",
            "1544            8.4              0.37         0.43  ...  3.17       0.81     11.2\n",
            "\n",
            "[1 rows x 11 columns] 0       0\n",
            "1       0\n",
            "2       0\n",
            "3       1\n",
            "4       0\n",
            "       ..\n",
            "1594    0\n",
            "1595    1\n",
            "1596    1\n",
            "1597    0\n",
            "1598    1\n",
            "Name: quality, Length: 1598, dtype: int64 1544    1\n",
            "Name: quality, dtype: int64\n",
            "      fixed acidity  volatile acidity  citric acid  ...    pH  sulphates  alcohol\n",
            "0               7.4             0.700         0.00  ...  3.51       0.56      9.4\n",
            "1               7.8             0.880         0.00  ...  3.20       0.68      9.8\n",
            "2               7.8             0.760         0.04  ...  3.26       0.65      9.8\n",
            "3              11.2             0.280         0.56  ...  3.16       0.58      9.8\n",
            "4               7.4             0.700         0.00  ...  3.51       0.56      9.4\n",
            "...             ...               ...          ...  ...   ...        ...      ...\n",
            "1594            6.2             0.600         0.08  ...  3.45       0.58     10.5\n",
            "1595            5.9             0.550         0.10  ...  3.52       0.76     11.2\n",
            "1596            6.3             0.510         0.13  ...  3.42       0.75     11.0\n",
            "1597            5.9             0.645         0.12  ...  3.57       0.71     10.2\n",
            "1598            6.0             0.310         0.47  ...  3.39       0.66     11.0\n",
            "\n",
            "[1598 rows x 11 columns]       fixed acidity  volatile acidity  citric acid  ...    pH  sulphates  alcohol\n",
            "1545            6.5              0.63         0.33  ...  3.36       0.64     10.1\n",
            "\n",
            "[1 rows x 11 columns] 0       0\n",
            "1       0\n",
            "2       0\n",
            "3       1\n",
            "4       0\n",
            "       ..\n",
            "1594    0\n",
            "1595    1\n",
            "1596    1\n",
            "1597    0\n",
            "1598    1\n",
            "Name: quality, Length: 1598, dtype: int64 1545    1\n",
            "Name: quality, dtype: int64\n",
            "      fixed acidity  volatile acidity  citric acid  ...    pH  sulphates  alcohol\n",
            "0               7.4             0.700         0.00  ...  3.51       0.56      9.4\n",
            "1               7.8             0.880         0.00  ...  3.20       0.68      9.8\n",
            "2               7.8             0.760         0.04  ...  3.26       0.65      9.8\n",
            "3              11.2             0.280         0.56  ...  3.16       0.58      9.8\n",
            "4               7.4             0.700         0.00  ...  3.51       0.56      9.4\n",
            "...             ...               ...          ...  ...   ...        ...      ...\n",
            "1594            6.2             0.600         0.08  ...  3.45       0.58     10.5\n",
            "1595            5.9             0.550         0.10  ...  3.52       0.76     11.2\n",
            "1596            6.3             0.510         0.13  ...  3.42       0.75     11.0\n",
            "1597            5.9             0.645         0.12  ...  3.57       0.71     10.2\n",
            "1598            6.0             0.310         0.47  ...  3.39       0.66     11.0\n",
            "\n",
            "[1598 rows x 11 columns]       fixed acidity  volatile acidity  citric acid  ...    pH  sulphates  alcohol\n",
            "1546            7.0              0.57         0.02  ...  3.36       0.61     10.2\n",
            "\n",
            "[1 rows x 11 columns] 0       0\n",
            "1       0\n",
            "2       0\n",
            "3       1\n",
            "4       0\n",
            "       ..\n",
            "1594    0\n",
            "1595    1\n",
            "1596    1\n",
            "1597    0\n",
            "1598    1\n",
            "Name: quality, Length: 1598, dtype: int64 1546    0\n",
            "Name: quality, dtype: int64\n",
            "      fixed acidity  volatile acidity  citric acid  ...    pH  sulphates  alcohol\n",
            "0               7.4             0.700         0.00  ...  3.51       0.56      9.4\n",
            "1               7.8             0.880         0.00  ...  3.20       0.68      9.8\n",
            "2               7.8             0.760         0.04  ...  3.26       0.65      9.8\n",
            "3              11.2             0.280         0.56  ...  3.16       0.58      9.8\n",
            "4               7.4             0.700         0.00  ...  3.51       0.56      9.4\n",
            "...             ...               ...          ...  ...   ...        ...      ...\n",
            "1594            6.2             0.600         0.08  ...  3.45       0.58     10.5\n",
            "1595            5.9             0.550         0.10  ...  3.52       0.76     11.2\n",
            "1596            6.3             0.510         0.13  ...  3.42       0.75     11.0\n",
            "1597            5.9             0.645         0.12  ...  3.57       0.71     10.2\n",
            "1598            6.0             0.310         0.47  ...  3.39       0.66     11.0\n",
            "\n",
            "[1598 rows x 11 columns]       fixed acidity  volatile acidity  citric acid  ...    pH  sulphates  alcohol\n",
            "1547            6.3               0.6          0.1  ...  3.55       0.51     12.1\n",
            "\n",
            "[1 rows x 11 columns] 0       0\n",
            "1       0\n",
            "2       0\n",
            "3       1\n",
            "4       0\n",
            "       ..\n",
            "1594    0\n",
            "1595    1\n",
            "1596    1\n",
            "1597    0\n",
            "1598    1\n",
            "Name: quality, Length: 1598, dtype: int64 1547    0\n",
            "Name: quality, dtype: int64\n",
            "      fixed acidity  volatile acidity  citric acid  ...    pH  sulphates  alcohol\n",
            "0               7.4             0.700         0.00  ...  3.51       0.56      9.4\n",
            "1               7.8             0.880         0.00  ...  3.20       0.68      9.8\n",
            "2               7.8             0.760         0.04  ...  3.26       0.65      9.8\n",
            "3              11.2             0.280         0.56  ...  3.16       0.58      9.8\n",
            "4               7.4             0.700         0.00  ...  3.51       0.56      9.4\n",
            "...             ...               ...          ...  ...   ...        ...      ...\n",
            "1594            6.2             0.600         0.08  ...  3.45       0.58     10.5\n",
            "1595            5.9             0.550         0.10  ...  3.52       0.76     11.2\n",
            "1596            6.3             0.510         0.13  ...  3.42       0.75     11.0\n",
            "1597            5.9             0.645         0.12  ...  3.57       0.71     10.2\n",
            "1598            6.0             0.310         0.47  ...  3.39       0.66     11.0\n",
            "\n",
            "[1598 rows x 11 columns]       fixed acidity  volatile acidity  citric acid  ...   pH  sulphates  alcohol\n",
            "1548           11.2               0.4          0.5  ...  3.1       0.58     10.4\n",
            "\n",
            "[1 rows x 11 columns] 0       0\n",
            "1       0\n",
            "2       0\n",
            "3       1\n",
            "4       0\n",
            "       ..\n",
            "1594    0\n",
            "1595    1\n",
            "1596    1\n",
            "1597    0\n",
            "1598    1\n",
            "Name: quality, Length: 1598, dtype: int64 1548    0\n",
            "Name: quality, dtype: int64\n",
            "      fixed acidity  volatile acidity  citric acid  ...    pH  sulphates  alcohol\n",
            "0               7.4             0.700         0.00  ...  3.51       0.56      9.4\n",
            "1               7.8             0.880         0.00  ...  3.20       0.68      9.8\n",
            "2               7.8             0.760         0.04  ...  3.26       0.65      9.8\n",
            "3              11.2             0.280         0.56  ...  3.16       0.58      9.8\n",
            "4               7.4             0.700         0.00  ...  3.51       0.56      9.4\n",
            "...             ...               ...          ...  ...   ...        ...      ...\n",
            "1594            6.2             0.600         0.08  ...  3.45       0.58     10.5\n",
            "1595            5.9             0.550         0.10  ...  3.52       0.76     11.2\n",
            "1596            6.3             0.510         0.13  ...  3.42       0.75     11.0\n",
            "1597            5.9             0.645         0.12  ...  3.57       0.71     10.2\n",
            "1598            6.0             0.310         0.47  ...  3.39       0.66     11.0\n",
            "\n",
            "[1598 rows x 11 columns]       fixed acidity  volatile acidity  citric acid  ...    pH  sulphates  alcohol\n",
            "1549            7.4              0.36          0.3  ...  3.24        0.7     11.4\n",
            "\n",
            "[1 rows x 11 columns] 0       0\n",
            "1       0\n",
            "2       0\n",
            "3       1\n",
            "4       0\n",
            "       ..\n",
            "1594    0\n",
            "1595    1\n",
            "1596    1\n",
            "1597    0\n",
            "1598    1\n",
            "Name: quality, Length: 1598, dtype: int64 1549    1\n",
            "Name: quality, dtype: int64\n",
            "      fixed acidity  volatile acidity  citric acid  ...    pH  sulphates  alcohol\n",
            "0               7.4             0.700         0.00  ...  3.51       0.56      9.4\n",
            "1               7.8             0.880         0.00  ...  3.20       0.68      9.8\n",
            "2               7.8             0.760         0.04  ...  3.26       0.65      9.8\n",
            "3              11.2             0.280         0.56  ...  3.16       0.58      9.8\n",
            "4               7.4             0.700         0.00  ...  3.51       0.56      9.4\n",
            "...             ...               ...          ...  ...   ...        ...      ...\n",
            "1594            6.2             0.600         0.08  ...  3.45       0.58     10.5\n",
            "1595            5.9             0.550         0.10  ...  3.52       0.76     11.2\n",
            "1596            6.3             0.510         0.13  ...  3.42       0.75     11.0\n",
            "1597            5.9             0.645         0.12  ...  3.57       0.71     10.2\n",
            "1598            6.0             0.310         0.47  ...  3.39       0.66     11.0\n",
            "\n",
            "[1598 rows x 11 columns]       fixed acidity  volatile acidity  citric acid  ...    pH  sulphates  alcohol\n",
            "1550            7.1              0.68          0.0  ...  3.45       0.53      9.5\n",
            "\n",
            "[1 rows x 11 columns] 0       0\n",
            "1       0\n",
            "2       0\n",
            "3       1\n",
            "4       0\n",
            "       ..\n",
            "1594    0\n",
            "1595    1\n",
            "1596    1\n",
            "1597    0\n",
            "1598    1\n",
            "Name: quality, Length: 1598, dtype: int64 1550    0\n",
            "Name: quality, dtype: int64\n",
            "      fixed acidity  volatile acidity  citric acid  ...    pH  sulphates  alcohol\n",
            "0               7.4             0.700         0.00  ...  3.51       0.56      9.4\n",
            "1               7.8             0.880         0.00  ...  3.20       0.68      9.8\n",
            "2               7.8             0.760         0.04  ...  3.26       0.65      9.8\n",
            "3              11.2             0.280         0.56  ...  3.16       0.58      9.8\n",
            "4               7.4             0.700         0.00  ...  3.51       0.56      9.4\n",
            "...             ...               ...          ...  ...   ...        ...      ...\n",
            "1594            6.2             0.600         0.08  ...  3.45       0.58     10.5\n",
            "1595            5.9             0.550         0.10  ...  3.52       0.76     11.2\n",
            "1596            6.3             0.510         0.13  ...  3.42       0.75     11.0\n",
            "1597            5.9             0.645         0.12  ...  3.57       0.71     10.2\n",
            "1598            6.0             0.310         0.47  ...  3.39       0.66     11.0\n",
            "\n",
            "[1598 rows x 11 columns]       fixed acidity  volatile acidity  citric acid  ...    pH  sulphates  alcohol\n",
            "1551            7.1              0.67          0.0  ...  3.44       0.54      9.4\n",
            "\n",
            "[1 rows x 11 columns] 0       0\n",
            "1       0\n",
            "2       0\n",
            "3       1\n",
            "4       0\n",
            "       ..\n",
            "1594    0\n",
            "1595    1\n",
            "1596    1\n",
            "1597    0\n",
            "1598    1\n",
            "Name: quality, Length: 1598, dtype: int64 1551    0\n",
            "Name: quality, dtype: int64\n",
            "      fixed acidity  volatile acidity  citric acid  ...    pH  sulphates  alcohol\n",
            "0               7.4             0.700         0.00  ...  3.51       0.56      9.4\n",
            "1               7.8             0.880         0.00  ...  3.20       0.68      9.8\n",
            "2               7.8             0.760         0.04  ...  3.26       0.65      9.8\n",
            "3              11.2             0.280         0.56  ...  3.16       0.58      9.8\n",
            "4               7.4             0.700         0.00  ...  3.51       0.56      9.4\n",
            "...             ...               ...          ...  ...   ...        ...      ...\n",
            "1594            6.2             0.600         0.08  ...  3.45       0.58     10.5\n",
            "1595            5.9             0.550         0.10  ...  3.52       0.76     11.2\n",
            "1596            6.3             0.510         0.13  ...  3.42       0.75     11.0\n",
            "1597            5.9             0.645         0.12  ...  3.57       0.71     10.2\n",
            "1598            6.0             0.310         0.47  ...  3.39       0.66     11.0\n",
            "\n",
            "[1598 rows x 11 columns]       fixed acidity  volatile acidity  citric acid  ...    pH  sulphates  alcohol\n",
            "1552            6.3              0.68         0.01  ...  3.51       0.66     11.3\n",
            "\n",
            "[1 rows x 11 columns] 0       0\n",
            "1       0\n",
            "2       0\n",
            "3       1\n",
            "4       0\n",
            "       ..\n",
            "1594    0\n",
            "1595    1\n",
            "1596    1\n",
            "1597    0\n",
            "1598    1\n",
            "Name: quality, Length: 1598, dtype: int64 1552    1\n",
            "Name: quality, dtype: int64\n",
            "      fixed acidity  volatile acidity  citric acid  ...    pH  sulphates  alcohol\n",
            "0               7.4             0.700         0.00  ...  3.51       0.56      9.4\n",
            "1               7.8             0.880         0.00  ...  3.20       0.68      9.8\n",
            "2               7.8             0.760         0.04  ...  3.26       0.65      9.8\n",
            "3              11.2             0.280         0.56  ...  3.16       0.58      9.8\n",
            "4               7.4             0.700         0.00  ...  3.51       0.56      9.4\n",
            "...             ...               ...          ...  ...   ...        ...      ...\n",
            "1594            6.2             0.600         0.08  ...  3.45       0.58     10.5\n",
            "1595            5.9             0.550         0.10  ...  3.52       0.76     11.2\n",
            "1596            6.3             0.510         0.13  ...  3.42       0.75     11.0\n",
            "1597            5.9             0.645         0.12  ...  3.57       0.71     10.2\n",
            "1598            6.0             0.310         0.47  ...  3.39       0.66     11.0\n",
            "\n",
            "[1598 rows x 11 columns]       fixed acidity  volatile acidity  citric acid  ...    pH  sulphates  alcohol\n",
            "1553            7.3             0.735          0.0  ...  3.41        0.6      9.4\n",
            "\n",
            "[1 rows x 11 columns] 0       0\n",
            "1       0\n",
            "2       0\n",
            "3       1\n",
            "4       0\n",
            "       ..\n",
            "1594    0\n",
            "1595    1\n",
            "1596    1\n",
            "1597    0\n",
            "1598    1\n",
            "Name: quality, Length: 1598, dtype: int64 1553    0\n",
            "Name: quality, dtype: int64\n",
            "      fixed acidity  volatile acidity  citric acid  ...    pH  sulphates  alcohol\n",
            "0               7.4             0.700         0.00  ...  3.51       0.56      9.4\n",
            "1               7.8             0.880         0.00  ...  3.20       0.68      9.8\n",
            "2               7.8             0.760         0.04  ...  3.26       0.65      9.8\n",
            "3              11.2             0.280         0.56  ...  3.16       0.58      9.8\n",
            "4               7.4             0.700         0.00  ...  3.51       0.56      9.4\n",
            "...             ...               ...          ...  ...   ...        ...      ...\n",
            "1594            6.2             0.600         0.08  ...  3.45       0.58     10.5\n",
            "1595            5.9             0.550         0.10  ...  3.52       0.76     11.2\n",
            "1596            6.3             0.510         0.13  ...  3.42       0.75     11.0\n",
            "1597            5.9             0.645         0.12  ...  3.57       0.71     10.2\n",
            "1598            6.0             0.310         0.47  ...  3.39       0.66     11.0\n",
            "\n",
            "[1598 rows x 11 columns]       fixed acidity  volatile acidity  citric acid  ...    pH  sulphates  alcohol\n",
            "1554            6.6             0.855         0.02  ...  3.54        0.6     11.0\n",
            "\n",
            "[1 rows x 11 columns] 0       0\n",
            "1       0\n",
            "2       0\n",
            "3       1\n",
            "4       0\n",
            "       ..\n",
            "1594    0\n",
            "1595    1\n",
            "1596    1\n",
            "1597    0\n",
            "1598    1\n",
            "Name: quality, Length: 1598, dtype: int64 1554    1\n",
            "Name: quality, dtype: int64\n",
            "      fixed acidity  volatile acidity  citric acid  ...    pH  sulphates  alcohol\n",
            "0               7.4             0.700         0.00  ...  3.51       0.56      9.4\n",
            "1               7.8             0.880         0.00  ...  3.20       0.68      9.8\n",
            "2               7.8             0.760         0.04  ...  3.26       0.65      9.8\n",
            "3              11.2             0.280         0.56  ...  3.16       0.58      9.8\n",
            "4               7.4             0.700         0.00  ...  3.51       0.56      9.4\n",
            "...             ...               ...          ...  ...   ...        ...      ...\n",
            "1594            6.2             0.600         0.08  ...  3.45       0.58     10.5\n",
            "1595            5.9             0.550         0.10  ...  3.52       0.76     11.2\n",
            "1596            6.3             0.510         0.13  ...  3.42       0.75     11.0\n",
            "1597            5.9             0.645         0.12  ...  3.57       0.71     10.2\n",
            "1598            6.0             0.310         0.47  ...  3.39       0.66     11.0\n",
            "\n",
            "[1598 rows x 11 columns]       fixed acidity  volatile acidity  citric acid  ...    pH  sulphates  alcohol\n",
            "1555            7.0              0.56         0.17  ...  3.44       0.68    10.55\n",
            "\n",
            "[1 rows x 11 columns] 0       0\n",
            "1       0\n",
            "2       0\n",
            "3       1\n",
            "4       0\n",
            "       ..\n",
            "1594    0\n",
            "1595    1\n",
            "1596    1\n",
            "1597    0\n",
            "1598    1\n",
            "Name: quality, Length: 1598, dtype: int64 1555    1\n",
            "Name: quality, dtype: int64\n",
            "      fixed acidity  volatile acidity  citric acid  ...    pH  sulphates  alcohol\n",
            "0               7.4             0.700         0.00  ...  3.51       0.56      9.4\n",
            "1               7.8             0.880         0.00  ...  3.20       0.68      9.8\n",
            "2               7.8             0.760         0.04  ...  3.26       0.65      9.8\n",
            "3              11.2             0.280         0.56  ...  3.16       0.58      9.8\n",
            "4               7.4             0.700         0.00  ...  3.51       0.56      9.4\n",
            "...             ...               ...          ...  ...   ...        ...      ...\n",
            "1594            6.2             0.600         0.08  ...  3.45       0.58     10.5\n",
            "1595            5.9             0.550         0.10  ...  3.52       0.76     11.2\n",
            "1596            6.3             0.510         0.13  ...  3.42       0.75     11.0\n",
            "1597            5.9             0.645         0.12  ...  3.57       0.71     10.2\n",
            "1598            6.0             0.310         0.47  ...  3.39       0.66     11.0\n",
            "\n",
            "[1598 rows x 11 columns]       fixed acidity  volatile acidity  citric acid  ...    pH  sulphates  alcohol\n",
            "1556            6.6              0.88         0.04  ...  3.53       0.56      9.9\n",
            "\n",
            "[1 rows x 11 columns] 0       0\n",
            "1       0\n",
            "2       0\n",
            "3       1\n",
            "4       0\n",
            "       ..\n",
            "1594    0\n",
            "1595    1\n",
            "1596    1\n",
            "1597    0\n",
            "1598    1\n",
            "Name: quality, Length: 1598, dtype: int64 1556    0\n",
            "Name: quality, dtype: int64\n",
            "      fixed acidity  volatile acidity  citric acid  ...    pH  sulphates  alcohol\n",
            "0               7.4             0.700         0.00  ...  3.51       0.56      9.4\n",
            "1               7.8             0.880         0.00  ...  3.20       0.68      9.8\n",
            "2               7.8             0.760         0.04  ...  3.26       0.65      9.8\n",
            "3              11.2             0.280         0.56  ...  3.16       0.58      9.8\n",
            "4               7.4             0.700         0.00  ...  3.51       0.56      9.4\n",
            "...             ...               ...          ...  ...   ...        ...      ...\n",
            "1594            6.2             0.600         0.08  ...  3.45       0.58     10.5\n",
            "1595            5.9             0.550         0.10  ...  3.52       0.76     11.2\n",
            "1596            6.3             0.510         0.13  ...  3.42       0.75     11.0\n",
            "1597            5.9             0.645         0.12  ...  3.57       0.71     10.2\n",
            "1598            6.0             0.310         0.47  ...  3.39       0.66     11.0\n",
            "\n",
            "[1598 rows x 11 columns]       fixed acidity  volatile acidity  citric acid  ...    pH  sulphates  alcohol\n",
            "1557            6.6             0.855         0.02  ...  3.54        0.6     11.0\n",
            "\n",
            "[1 rows x 11 columns] 0       0\n",
            "1       0\n",
            "2       0\n",
            "3       1\n",
            "4       0\n",
            "       ..\n",
            "1594    0\n",
            "1595    1\n",
            "1596    1\n",
            "1597    0\n",
            "1598    1\n",
            "Name: quality, Length: 1598, dtype: int64 1557    1\n",
            "Name: quality, dtype: int64\n",
            "      fixed acidity  volatile acidity  citric acid  ...    pH  sulphates  alcohol\n",
            "0               7.4             0.700         0.00  ...  3.51       0.56      9.4\n",
            "1               7.8             0.880         0.00  ...  3.20       0.68      9.8\n",
            "2               7.8             0.760         0.04  ...  3.26       0.65      9.8\n",
            "3              11.2             0.280         0.56  ...  3.16       0.58      9.8\n",
            "4               7.4             0.700         0.00  ...  3.51       0.56      9.4\n",
            "...             ...               ...          ...  ...   ...        ...      ...\n",
            "1594            6.2             0.600         0.08  ...  3.45       0.58     10.5\n",
            "1595            5.9             0.550         0.10  ...  3.52       0.76     11.2\n",
            "1596            6.3             0.510         0.13  ...  3.42       0.75     11.0\n",
            "1597            5.9             0.645         0.12  ...  3.57       0.71     10.2\n",
            "1598            6.0             0.310         0.47  ...  3.39       0.66     11.0\n",
            "\n",
            "[1598 rows x 11 columns]       fixed acidity  volatile acidity  citric acid  ...    pH  sulphates  alcohol\n",
            "1558            6.9              0.63         0.33  ...  3.22       0.56      9.5\n",
            "\n",
            "[1 rows x 11 columns] 0       0\n",
            "1       0\n",
            "2       0\n",
            "3       1\n",
            "4       0\n",
            "       ..\n",
            "1594    0\n",
            "1595    1\n",
            "1596    1\n",
            "1597    0\n",
            "1598    1\n",
            "Name: quality, Length: 1598, dtype: int64 1558    0\n",
            "Name: quality, dtype: int64\n",
            "      fixed acidity  volatile acidity  citric acid  ...    pH  sulphates  alcohol\n",
            "0               7.4             0.700         0.00  ...  3.51       0.56      9.4\n",
            "1               7.8             0.880         0.00  ...  3.20       0.68      9.8\n",
            "2               7.8             0.760         0.04  ...  3.26       0.65      9.8\n",
            "3              11.2             0.280         0.56  ...  3.16       0.58      9.8\n",
            "4               7.4             0.700         0.00  ...  3.51       0.56      9.4\n",
            "...             ...               ...          ...  ...   ...        ...      ...\n",
            "1594            6.2             0.600         0.08  ...  3.45       0.58     10.5\n",
            "1595            5.9             0.550         0.10  ...  3.52       0.76     11.2\n",
            "1596            6.3             0.510         0.13  ...  3.42       0.75     11.0\n",
            "1597            5.9             0.645         0.12  ...  3.57       0.71     10.2\n",
            "1598            6.0             0.310         0.47  ...  3.39       0.66     11.0\n",
            "\n",
            "[1598 rows x 11 columns]       fixed acidity  volatile acidity  citric acid  ...    pH  sulphates  alcohol\n",
            "1559            7.8               0.6         0.26  ...  3.21       0.52      9.9\n",
            "\n",
            "[1 rows x 11 columns] 0       0\n",
            "1       0\n",
            "2       0\n",
            "3       1\n",
            "4       0\n",
            "       ..\n",
            "1594    0\n",
            "1595    1\n",
            "1596    1\n",
            "1597    0\n",
            "1598    1\n",
            "Name: quality, Length: 1598, dtype: int64 1559    0\n",
            "Name: quality, dtype: int64\n",
            "      fixed acidity  volatile acidity  citric acid  ...    pH  sulphates  alcohol\n",
            "0               7.4             0.700         0.00  ...  3.51       0.56      9.4\n",
            "1               7.8             0.880         0.00  ...  3.20       0.68      9.8\n",
            "2               7.8             0.760         0.04  ...  3.26       0.65      9.8\n",
            "3              11.2             0.280         0.56  ...  3.16       0.58      9.8\n",
            "4               7.4             0.700         0.00  ...  3.51       0.56      9.4\n",
            "...             ...               ...          ...  ...   ...        ...      ...\n",
            "1594            6.2             0.600         0.08  ...  3.45       0.58     10.5\n",
            "1595            5.9             0.550         0.10  ...  3.52       0.76     11.2\n",
            "1596            6.3             0.510         0.13  ...  3.42       0.75     11.0\n",
            "1597            5.9             0.645         0.12  ...  3.57       0.71     10.2\n",
            "1598            6.0             0.310         0.47  ...  3.39       0.66     11.0\n",
            "\n",
            "[1598 rows x 11 columns]       fixed acidity  volatile acidity  citric acid  ...    pH  sulphates  alcohol\n",
            "1560            7.8               0.6         0.26  ...  3.21       0.52      9.9\n",
            "\n",
            "[1 rows x 11 columns] 0       0\n",
            "1       0\n",
            "2       0\n",
            "3       1\n",
            "4       0\n",
            "       ..\n",
            "1594    0\n",
            "1595    1\n",
            "1596    1\n",
            "1597    0\n",
            "1598    1\n",
            "Name: quality, Length: 1598, dtype: int64 1560    0\n",
            "Name: quality, dtype: int64\n",
            "      fixed acidity  volatile acidity  citric acid  ...    pH  sulphates  alcohol\n",
            "0               7.4             0.700         0.00  ...  3.51       0.56      9.4\n",
            "1               7.8             0.880         0.00  ...  3.20       0.68      9.8\n",
            "2               7.8             0.760         0.04  ...  3.26       0.65      9.8\n",
            "3              11.2             0.280         0.56  ...  3.16       0.58      9.8\n",
            "4               7.4             0.700         0.00  ...  3.51       0.56      9.4\n",
            "...             ...               ...          ...  ...   ...        ...      ...\n",
            "1594            6.2             0.600         0.08  ...  3.45       0.58     10.5\n",
            "1595            5.9             0.550         0.10  ...  3.52       0.76     11.2\n",
            "1596            6.3             0.510         0.13  ...  3.42       0.75     11.0\n",
            "1597            5.9             0.645         0.12  ...  3.57       0.71     10.2\n",
            "1598            6.0             0.310         0.47  ...  3.39       0.66     11.0\n",
            "\n",
            "[1598 rows x 11 columns]       fixed acidity  volatile acidity  citric acid  ...    pH  sulphates  alcohol\n",
            "1561            7.8               0.6         0.26  ...  3.21       0.52      9.9\n",
            "\n",
            "[1 rows x 11 columns] 0       0\n",
            "1       0\n",
            "2       0\n",
            "3       1\n",
            "4       0\n",
            "       ..\n",
            "1594    0\n",
            "1595    1\n",
            "1596    1\n",
            "1597    0\n",
            "1598    1\n",
            "Name: quality, Length: 1598, dtype: int64 1561    0\n",
            "Name: quality, dtype: int64\n",
            "      fixed acidity  volatile acidity  citric acid  ...    pH  sulphates  alcohol\n",
            "0               7.4             0.700         0.00  ...  3.51       0.56      9.4\n",
            "1               7.8             0.880         0.00  ...  3.20       0.68      9.8\n",
            "2               7.8             0.760         0.04  ...  3.26       0.65      9.8\n",
            "3              11.2             0.280         0.56  ...  3.16       0.58      9.8\n",
            "4               7.4             0.700         0.00  ...  3.51       0.56      9.4\n",
            "...             ...               ...          ...  ...   ...        ...      ...\n",
            "1594            6.2             0.600         0.08  ...  3.45       0.58     10.5\n",
            "1595            5.9             0.550         0.10  ...  3.52       0.76     11.2\n",
            "1596            6.3             0.510         0.13  ...  3.42       0.75     11.0\n",
            "1597            5.9             0.645         0.12  ...  3.57       0.71     10.2\n",
            "1598            6.0             0.310         0.47  ...  3.39       0.66     11.0\n",
            "\n",
            "[1598 rows x 11 columns]       fixed acidity  volatile acidity  citric acid  ...    pH  sulphates  alcohol\n",
            "1562            7.2             0.695         0.13  ...  3.29       0.54     10.1\n",
            "\n",
            "[1 rows x 11 columns] 0       0\n",
            "1       0\n",
            "2       0\n",
            "3       1\n",
            "4       0\n",
            "       ..\n",
            "1594    0\n",
            "1595    1\n",
            "1596    1\n",
            "1597    0\n",
            "1598    1\n",
            "Name: quality, Length: 1598, dtype: int64 1562    0\n",
            "Name: quality, dtype: int64\n",
            "      fixed acidity  volatile acidity  citric acid  ...    pH  sulphates  alcohol\n",
            "0               7.4             0.700         0.00  ...  3.51       0.56      9.4\n",
            "1               7.8             0.880         0.00  ...  3.20       0.68      9.8\n",
            "2               7.8             0.760         0.04  ...  3.26       0.65      9.8\n",
            "3              11.2             0.280         0.56  ...  3.16       0.58      9.8\n",
            "4               7.4             0.700         0.00  ...  3.51       0.56      9.4\n",
            "...             ...               ...          ...  ...   ...        ...      ...\n",
            "1594            6.2             0.600         0.08  ...  3.45       0.58     10.5\n",
            "1595            5.9             0.550         0.10  ...  3.52       0.76     11.2\n",
            "1596            6.3             0.510         0.13  ...  3.42       0.75     11.0\n",
            "1597            5.9             0.645         0.12  ...  3.57       0.71     10.2\n",
            "1598            6.0             0.310         0.47  ...  3.39       0.66     11.0\n",
            "\n",
            "[1598 rows x 11 columns]       fixed acidity  volatile acidity  citric acid  ...    pH  sulphates  alcohol\n",
            "1563            7.2             0.695         0.13  ...  3.29       0.54     10.1\n",
            "\n",
            "[1 rows x 11 columns] 0       0\n",
            "1       0\n",
            "2       0\n",
            "3       1\n",
            "4       0\n",
            "       ..\n",
            "1594    0\n",
            "1595    1\n",
            "1596    1\n",
            "1597    0\n",
            "1598    1\n",
            "Name: quality, Length: 1598, dtype: int64 1563    0\n",
            "Name: quality, dtype: int64\n",
            "      fixed acidity  volatile acidity  citric acid  ...    pH  sulphates  alcohol\n",
            "0               7.4             0.700         0.00  ...  3.51       0.56      9.4\n",
            "1               7.8             0.880         0.00  ...  3.20       0.68      9.8\n",
            "2               7.8             0.760         0.04  ...  3.26       0.65      9.8\n",
            "3              11.2             0.280         0.56  ...  3.16       0.58      9.8\n",
            "4               7.4             0.700         0.00  ...  3.51       0.56      9.4\n",
            "...             ...               ...          ...  ...   ...        ...      ...\n",
            "1594            6.2             0.600         0.08  ...  3.45       0.58     10.5\n",
            "1595            5.9             0.550         0.10  ...  3.52       0.76     11.2\n",
            "1596            6.3             0.510         0.13  ...  3.42       0.75     11.0\n",
            "1597            5.9             0.645         0.12  ...  3.57       0.71     10.2\n",
            "1598            6.0             0.310         0.47  ...  3.39       0.66     11.0\n",
            "\n",
            "[1598 rows x 11 columns]       fixed acidity  volatile acidity  citric acid  ...    pH  sulphates  alcohol\n",
            "1564            7.2             0.695         0.13  ...  3.29       0.54     10.1\n",
            "\n",
            "[1 rows x 11 columns] 0       0\n",
            "1       0\n",
            "2       0\n",
            "3       1\n",
            "4       0\n",
            "       ..\n",
            "1594    0\n",
            "1595    1\n",
            "1596    1\n",
            "1597    0\n",
            "1598    1\n",
            "Name: quality, Length: 1598, dtype: int64 1564    0\n",
            "Name: quality, dtype: int64\n",
            "      fixed acidity  volatile acidity  citric acid  ...    pH  sulphates  alcohol\n",
            "0               7.4             0.700         0.00  ...  3.51       0.56      9.4\n",
            "1               7.8             0.880         0.00  ...  3.20       0.68      9.8\n",
            "2               7.8             0.760         0.04  ...  3.26       0.65      9.8\n",
            "3              11.2             0.280         0.56  ...  3.16       0.58      9.8\n",
            "4               7.4             0.700         0.00  ...  3.51       0.56      9.4\n",
            "...             ...               ...          ...  ...   ...        ...      ...\n",
            "1594            6.2             0.600         0.08  ...  3.45       0.58     10.5\n",
            "1595            5.9             0.550         0.10  ...  3.52       0.76     11.2\n",
            "1596            6.3             0.510         0.13  ...  3.42       0.75     11.0\n",
            "1597            5.9             0.645         0.12  ...  3.57       0.71     10.2\n",
            "1598            6.0             0.310         0.47  ...  3.39       0.66     11.0\n",
            "\n",
            "[1598 rows x 11 columns]       fixed acidity  volatile acidity  citric acid  ...    pH  sulphates  alcohol\n",
            "1565            6.7              0.67         0.02  ...  3.39       0.82     10.9\n",
            "\n",
            "[1 rows x 11 columns] 0       0\n",
            "1       0\n",
            "2       0\n",
            "3       1\n",
            "4       0\n",
            "       ..\n",
            "1594    0\n",
            "1595    1\n",
            "1596    1\n",
            "1597    0\n",
            "1598    1\n",
            "Name: quality, Length: 1598, dtype: int64 1565    1\n",
            "Name: quality, dtype: int64\n",
            "      fixed acidity  volatile acidity  citric acid  ...    pH  sulphates  alcohol\n",
            "0               7.4             0.700         0.00  ...  3.51       0.56      9.4\n",
            "1               7.8             0.880         0.00  ...  3.20       0.68      9.8\n",
            "2               7.8             0.760         0.04  ...  3.26       0.65      9.8\n",
            "3              11.2             0.280         0.56  ...  3.16       0.58      9.8\n",
            "4               7.4             0.700         0.00  ...  3.51       0.56      9.4\n",
            "...             ...               ...          ...  ...   ...        ...      ...\n",
            "1594            6.2             0.600         0.08  ...  3.45       0.58     10.5\n",
            "1595            5.9             0.550         0.10  ...  3.52       0.76     11.2\n",
            "1596            6.3             0.510         0.13  ...  3.42       0.75     11.0\n",
            "1597            5.9             0.645         0.12  ...  3.57       0.71     10.2\n",
            "1598            6.0             0.310         0.47  ...  3.39       0.66     11.0\n",
            "\n",
            "[1598 rows x 11 columns]       fixed acidity  volatile acidity  citric acid  ...    pH  sulphates  alcohol\n",
            "1566            6.7              0.16         0.64  ...  3.34       0.71     11.2\n",
            "\n",
            "[1 rows x 11 columns] 0       0\n",
            "1       0\n",
            "2       0\n",
            "3       1\n",
            "4       0\n",
            "       ..\n",
            "1594    0\n",
            "1595    1\n",
            "1596    1\n",
            "1597    0\n",
            "1598    1\n",
            "Name: quality, Length: 1598, dtype: int64 1566    1\n",
            "Name: quality, dtype: int64\n",
            "      fixed acidity  volatile acidity  citric acid  ...    pH  sulphates  alcohol\n",
            "0               7.4             0.700         0.00  ...  3.51       0.56      9.4\n",
            "1               7.8             0.880         0.00  ...  3.20       0.68      9.8\n",
            "2               7.8             0.760         0.04  ...  3.26       0.65      9.8\n",
            "3              11.2             0.280         0.56  ...  3.16       0.58      9.8\n",
            "4               7.4             0.700         0.00  ...  3.51       0.56      9.4\n",
            "...             ...               ...          ...  ...   ...        ...      ...\n",
            "1594            6.2             0.600         0.08  ...  3.45       0.58     10.5\n",
            "1595            5.9             0.550         0.10  ...  3.52       0.76     11.2\n",
            "1596            6.3             0.510         0.13  ...  3.42       0.75     11.0\n",
            "1597            5.9             0.645         0.12  ...  3.57       0.71     10.2\n",
            "1598            6.0             0.310         0.47  ...  3.39       0.66     11.0\n",
            "\n",
            "[1598 rows x 11 columns]       fixed acidity  volatile acidity  citric acid  ...    pH  sulphates  alcohol\n",
            "1567            7.2             0.695         0.13  ...  3.29       0.54     10.1\n",
            "\n",
            "[1 rows x 11 columns] 0       0\n",
            "1       0\n",
            "2       0\n",
            "3       1\n",
            "4       0\n",
            "       ..\n",
            "1594    0\n",
            "1595    1\n",
            "1596    1\n",
            "1597    0\n",
            "1598    1\n",
            "Name: quality, Length: 1598, dtype: int64 1567    0\n",
            "Name: quality, dtype: int64\n",
            "      fixed acidity  volatile acidity  citric acid  ...    pH  sulphates  alcohol\n",
            "0               7.4             0.700         0.00  ...  3.51       0.56      9.4\n",
            "1               7.8             0.880         0.00  ...  3.20       0.68      9.8\n",
            "2               7.8             0.760         0.04  ...  3.26       0.65      9.8\n",
            "3              11.2             0.280         0.56  ...  3.16       0.58      9.8\n",
            "4               7.4             0.700         0.00  ...  3.51       0.56      9.4\n",
            "...             ...               ...          ...  ...   ...        ...      ...\n",
            "1594            6.2             0.600         0.08  ...  3.45       0.58     10.5\n",
            "1595            5.9             0.550         0.10  ...  3.52       0.76     11.2\n",
            "1596            6.3             0.510         0.13  ...  3.42       0.75     11.0\n",
            "1597            5.9             0.645         0.12  ...  3.57       0.71     10.2\n",
            "1598            6.0             0.310         0.47  ...  3.39       0.66     11.0\n",
            "\n",
            "[1598 rows x 11 columns]       fixed acidity  volatile acidity  citric acid  ...    pH  sulphates  alcohol\n",
            "1568            7.0              0.56         0.13  ...  3.34       0.59      9.2\n",
            "\n",
            "[1 rows x 11 columns] 0       0\n",
            "1       0\n",
            "2       0\n",
            "3       1\n",
            "4       0\n",
            "       ..\n",
            "1594    0\n",
            "1595    1\n",
            "1596    1\n",
            "1597    0\n",
            "1598    1\n",
            "Name: quality, Length: 1598, dtype: int64 1568    0\n",
            "Name: quality, dtype: int64\n",
            "      fixed acidity  volatile acidity  citric acid  ...    pH  sulphates  alcohol\n",
            "0               7.4             0.700         0.00  ...  3.51       0.56      9.4\n",
            "1               7.8             0.880         0.00  ...  3.20       0.68      9.8\n",
            "2               7.8             0.760         0.04  ...  3.26       0.65      9.8\n",
            "3              11.2             0.280         0.56  ...  3.16       0.58      9.8\n",
            "4               7.4             0.700         0.00  ...  3.51       0.56      9.4\n",
            "...             ...               ...          ...  ...   ...        ...      ...\n",
            "1594            6.2             0.600         0.08  ...  3.45       0.58     10.5\n",
            "1595            5.9             0.550         0.10  ...  3.52       0.76     11.2\n",
            "1596            6.3             0.510         0.13  ...  3.42       0.75     11.0\n",
            "1597            5.9             0.645         0.12  ...  3.57       0.71     10.2\n",
            "1598            6.0             0.310         0.47  ...  3.39       0.66     11.0\n",
            "\n",
            "[1598 rows x 11 columns]       fixed acidity  volatile acidity  citric acid  ...    pH  sulphates  alcohol\n",
            "1569            6.2              0.51         0.14  ...  3.48       0.57     11.5\n",
            "\n",
            "[1 rows x 11 columns] 0       0\n",
            "1       0\n",
            "2       0\n",
            "3       1\n",
            "4       0\n",
            "       ..\n",
            "1594    0\n",
            "1595    1\n",
            "1596    1\n",
            "1597    0\n",
            "1598    1\n",
            "Name: quality, Length: 1598, dtype: int64 1569    1\n",
            "Name: quality, dtype: int64\n",
            "      fixed acidity  volatile acidity  citric acid  ...    pH  sulphates  alcohol\n",
            "0               7.4             0.700         0.00  ...  3.51       0.56      9.4\n",
            "1               7.8             0.880         0.00  ...  3.20       0.68      9.8\n",
            "2               7.8             0.760         0.04  ...  3.26       0.65      9.8\n",
            "3              11.2             0.280         0.56  ...  3.16       0.58      9.8\n",
            "4               7.4             0.700         0.00  ...  3.51       0.56      9.4\n",
            "...             ...               ...          ...  ...   ...        ...      ...\n",
            "1594            6.2             0.600         0.08  ...  3.45       0.58     10.5\n",
            "1595            5.9             0.550         0.10  ...  3.52       0.76     11.2\n",
            "1596            6.3             0.510         0.13  ...  3.42       0.75     11.0\n",
            "1597            5.9             0.645         0.12  ...  3.57       0.71     10.2\n",
            "1598            6.0             0.310         0.47  ...  3.39       0.66     11.0\n",
            "\n",
            "[1598 rows x 11 columns]       fixed acidity  volatile acidity  citric acid  ...    pH  sulphates  alcohol\n",
            "1570            6.4              0.36         0.53  ...  3.37       0.93     12.4\n",
            "\n",
            "[1 rows x 11 columns] 0       0\n",
            "1       0\n",
            "2       0\n",
            "3       1\n",
            "4       0\n",
            "       ..\n",
            "1594    0\n",
            "1595    1\n",
            "1596    1\n",
            "1597    0\n",
            "1598    1\n",
            "Name: quality, Length: 1598, dtype: int64 1570    1\n",
            "Name: quality, dtype: int64\n",
            "      fixed acidity  volatile acidity  citric acid  ...    pH  sulphates  alcohol\n",
            "0               7.4             0.700         0.00  ...  3.51       0.56      9.4\n",
            "1               7.8             0.880         0.00  ...  3.20       0.68      9.8\n",
            "2               7.8             0.760         0.04  ...  3.26       0.65      9.8\n",
            "3              11.2             0.280         0.56  ...  3.16       0.58      9.8\n",
            "4               7.4             0.700         0.00  ...  3.51       0.56      9.4\n",
            "...             ...               ...          ...  ...   ...        ...      ...\n",
            "1594            6.2             0.600         0.08  ...  3.45       0.58     10.5\n",
            "1595            5.9             0.550         0.10  ...  3.52       0.76     11.2\n",
            "1596            6.3             0.510         0.13  ...  3.42       0.75     11.0\n",
            "1597            5.9             0.645         0.12  ...  3.57       0.71     10.2\n",
            "1598            6.0             0.310         0.47  ...  3.39       0.66     11.0\n",
            "\n",
            "[1598 rows x 11 columns]       fixed acidity  volatile acidity  citric acid  ...    pH  sulphates  alcohol\n",
            "1571            6.4              0.38         0.14  ...  3.44       0.65     11.1\n",
            "\n",
            "[1 rows x 11 columns] 0       0\n",
            "1       0\n",
            "2       0\n",
            "3       1\n",
            "4       0\n",
            "       ..\n",
            "1594    0\n",
            "1595    1\n",
            "1596    1\n",
            "1597    0\n",
            "1598    1\n",
            "Name: quality, Length: 1598, dtype: int64 1571    1\n",
            "Name: quality, dtype: int64\n",
            "      fixed acidity  volatile acidity  citric acid  ...    pH  sulphates  alcohol\n",
            "0               7.4             0.700         0.00  ...  3.51       0.56      9.4\n",
            "1               7.8             0.880         0.00  ...  3.20       0.68      9.8\n",
            "2               7.8             0.760         0.04  ...  3.26       0.65      9.8\n",
            "3              11.2             0.280         0.56  ...  3.16       0.58      9.8\n",
            "4               7.4             0.700         0.00  ...  3.51       0.56      9.4\n",
            "...             ...               ...          ...  ...   ...        ...      ...\n",
            "1594            6.2             0.600         0.08  ...  3.45       0.58     10.5\n",
            "1595            5.9             0.550         0.10  ...  3.52       0.76     11.2\n",
            "1596            6.3             0.510         0.13  ...  3.42       0.75     11.0\n",
            "1597            5.9             0.645         0.12  ...  3.57       0.71     10.2\n",
            "1598            6.0             0.310         0.47  ...  3.39       0.66     11.0\n",
            "\n",
            "[1598 rows x 11 columns]       fixed acidity  volatile acidity  citric acid  ...    pH  sulphates  alcohol\n",
            "1572            7.3              0.69         0.32  ...  3.33       0.51      9.5\n",
            "\n",
            "[1 rows x 11 columns] 0       0\n",
            "1       0\n",
            "2       0\n",
            "3       1\n",
            "4       0\n",
            "       ..\n",
            "1594    0\n",
            "1595    1\n",
            "1596    1\n",
            "1597    0\n",
            "1598    1\n",
            "Name: quality, Length: 1598, dtype: int64 1572    0\n",
            "Name: quality, dtype: int64\n",
            "      fixed acidity  volatile acidity  citric acid  ...    pH  sulphates  alcohol\n",
            "0               7.4             0.700         0.00  ...  3.51       0.56      9.4\n",
            "1               7.8             0.880         0.00  ...  3.20       0.68      9.8\n",
            "2               7.8             0.760         0.04  ...  3.26       0.65      9.8\n",
            "3              11.2             0.280         0.56  ...  3.16       0.58      9.8\n",
            "4               7.4             0.700         0.00  ...  3.51       0.56      9.4\n",
            "...             ...               ...          ...  ...   ...        ...      ...\n",
            "1594            6.2             0.600         0.08  ...  3.45       0.58     10.5\n",
            "1595            5.9             0.550         0.10  ...  3.52       0.76     11.2\n",
            "1596            6.3             0.510         0.13  ...  3.42       0.75     11.0\n",
            "1597            5.9             0.645         0.12  ...  3.57       0.71     10.2\n",
            "1598            6.0             0.310         0.47  ...  3.39       0.66     11.0\n",
            "\n",
            "[1598 rows x 11 columns]       fixed acidity  volatile acidity  citric acid  ...    pH  sulphates  alcohol\n",
            "1573            6.0              0.58          0.2  ...  3.58       0.67     12.5\n",
            "\n",
            "[1 rows x 11 columns] 0       0\n",
            "1       0\n",
            "2       0\n",
            "3       1\n",
            "4       0\n",
            "       ..\n",
            "1594    0\n",
            "1595    1\n",
            "1596    1\n",
            "1597    0\n",
            "1598    1\n",
            "Name: quality, Length: 1598, dtype: int64 1573    1\n",
            "Name: quality, dtype: int64\n",
            "      fixed acidity  volatile acidity  citric acid  ...    pH  sulphates  alcohol\n",
            "0               7.4             0.700         0.00  ...  3.51       0.56      9.4\n",
            "1               7.8             0.880         0.00  ...  3.20       0.68      9.8\n",
            "2               7.8             0.760         0.04  ...  3.26       0.65      9.8\n",
            "3              11.2             0.280         0.56  ...  3.16       0.58      9.8\n",
            "4               7.4             0.700         0.00  ...  3.51       0.56      9.4\n",
            "...             ...               ...          ...  ...   ...        ...      ...\n",
            "1594            6.2             0.600         0.08  ...  3.45       0.58     10.5\n",
            "1595            5.9             0.550         0.10  ...  3.52       0.76     11.2\n",
            "1596            6.3             0.510         0.13  ...  3.42       0.75     11.0\n",
            "1597            5.9             0.645         0.12  ...  3.57       0.71     10.2\n",
            "1598            6.0             0.310         0.47  ...  3.39       0.66     11.0\n",
            "\n",
            "[1598 rows x 11 columns]       fixed acidity  volatile acidity  citric acid  ...    pH  sulphates  alcohol\n",
            "1574            5.6              0.31         0.78  ...  3.39       0.48     10.5\n",
            "\n",
            "[1 rows x 11 columns] 0       0\n",
            "1       0\n",
            "2       0\n",
            "3       1\n",
            "4       0\n",
            "       ..\n",
            "1594    0\n",
            "1595    1\n",
            "1596    1\n",
            "1597    0\n",
            "1598    1\n",
            "Name: quality, Length: 1598, dtype: int64 1574    1\n",
            "Name: quality, dtype: int64\n",
            "      fixed acidity  volatile acidity  citric acid  ...    pH  sulphates  alcohol\n",
            "0               7.4             0.700         0.00  ...  3.51       0.56      9.4\n",
            "1               7.8             0.880         0.00  ...  3.20       0.68      9.8\n",
            "2               7.8             0.760         0.04  ...  3.26       0.65      9.8\n",
            "3              11.2             0.280         0.56  ...  3.16       0.58      9.8\n",
            "4               7.4             0.700         0.00  ...  3.51       0.56      9.4\n",
            "...             ...               ...          ...  ...   ...        ...      ...\n",
            "1594            6.2             0.600         0.08  ...  3.45       0.58     10.5\n",
            "1595            5.9             0.550         0.10  ...  3.52       0.76     11.2\n",
            "1596            6.3             0.510         0.13  ...  3.42       0.75     11.0\n",
            "1597            5.9             0.645         0.12  ...  3.57       0.71     10.2\n",
            "1598            6.0             0.310         0.47  ...  3.39       0.66     11.0\n",
            "\n",
            "[1598 rows x 11 columns]       fixed acidity  volatile acidity  citric acid  ...    pH  sulphates  alcohol\n",
            "1575            7.5              0.52          0.4  ...  3.26       0.64     11.8\n",
            "\n",
            "[1 rows x 11 columns] 0       0\n",
            "1       0\n",
            "2       0\n",
            "3       1\n",
            "4       0\n",
            "       ..\n",
            "1594    0\n",
            "1595    1\n",
            "1596    1\n",
            "1597    0\n",
            "1598    1\n",
            "Name: quality, Length: 1598, dtype: int64 1575    1\n",
            "Name: quality, dtype: int64\n",
            "      fixed acidity  volatile acidity  citric acid  ...    pH  sulphates  alcohol\n",
            "0               7.4             0.700         0.00  ...  3.51       0.56      9.4\n",
            "1               7.8             0.880         0.00  ...  3.20       0.68      9.8\n",
            "2               7.8             0.760         0.04  ...  3.26       0.65      9.8\n",
            "3              11.2             0.280         0.56  ...  3.16       0.58      9.8\n",
            "4               7.4             0.700         0.00  ...  3.51       0.56      9.4\n",
            "...             ...               ...          ...  ...   ...        ...      ...\n",
            "1594            6.2             0.600         0.08  ...  3.45       0.58     10.5\n",
            "1595            5.9             0.550         0.10  ...  3.52       0.76     11.2\n",
            "1596            6.3             0.510         0.13  ...  3.42       0.75     11.0\n",
            "1597            5.9             0.645         0.12  ...  3.57       0.71     10.2\n",
            "1598            6.0             0.310         0.47  ...  3.39       0.66     11.0\n",
            "\n",
            "[1598 rows x 11 columns]       fixed acidity  volatile acidity  citric acid  ...   pH  sulphates  alcohol\n",
            "1576            8.0               0.3         0.63  ...  3.3       0.78     10.8\n",
            "\n",
            "[1 rows x 11 columns] 0       0\n",
            "1       0\n",
            "2       0\n",
            "3       1\n",
            "4       0\n",
            "       ..\n",
            "1594    0\n",
            "1595    1\n",
            "1596    1\n",
            "1597    0\n",
            "1598    1\n",
            "Name: quality, Length: 1598, dtype: int64 1576    1\n",
            "Name: quality, dtype: int64\n",
            "      fixed acidity  volatile acidity  citric acid  ...    pH  sulphates  alcohol\n",
            "0               7.4             0.700         0.00  ...  3.51       0.56      9.4\n",
            "1               7.8             0.880         0.00  ...  3.20       0.68      9.8\n",
            "2               7.8             0.760         0.04  ...  3.26       0.65      9.8\n",
            "3              11.2             0.280         0.56  ...  3.16       0.58      9.8\n",
            "4               7.4             0.700         0.00  ...  3.51       0.56      9.4\n",
            "...             ...               ...          ...  ...   ...        ...      ...\n",
            "1594            6.2             0.600         0.08  ...  3.45       0.58     10.5\n",
            "1595            5.9             0.550         0.10  ...  3.52       0.76     11.2\n",
            "1596            6.3             0.510         0.13  ...  3.42       0.75     11.0\n",
            "1597            5.9             0.645         0.12  ...  3.57       0.71     10.2\n",
            "1598            6.0             0.310         0.47  ...  3.39       0.66     11.0\n",
            "\n",
            "[1598 rows x 11 columns]       fixed acidity  volatile acidity  citric acid  ...    pH  sulphates  alcohol\n",
            "1577            6.2               0.7         0.15  ...  3.54        0.6     11.9\n",
            "\n",
            "[1 rows x 11 columns] 0       0\n",
            "1       0\n",
            "2       0\n",
            "3       1\n",
            "4       0\n",
            "       ..\n",
            "1594    0\n",
            "1595    1\n",
            "1596    1\n",
            "1597    0\n",
            "1598    1\n",
            "Name: quality, Length: 1598, dtype: int64 1577    1\n",
            "Name: quality, dtype: int64\n",
            "      fixed acidity  volatile acidity  citric acid  ...    pH  sulphates  alcohol\n",
            "0               7.4             0.700         0.00  ...  3.51       0.56      9.4\n",
            "1               7.8             0.880         0.00  ...  3.20       0.68      9.8\n",
            "2               7.8             0.760         0.04  ...  3.26       0.65      9.8\n",
            "3              11.2             0.280         0.56  ...  3.16       0.58      9.8\n",
            "4               7.4             0.700         0.00  ...  3.51       0.56      9.4\n",
            "...             ...               ...          ...  ...   ...        ...      ...\n",
            "1594            6.2             0.600         0.08  ...  3.45       0.58     10.5\n",
            "1595            5.9             0.550         0.10  ...  3.52       0.76     11.2\n",
            "1596            6.3             0.510         0.13  ...  3.42       0.75     11.0\n",
            "1597            5.9             0.645         0.12  ...  3.57       0.71     10.2\n",
            "1598            6.0             0.310         0.47  ...  3.39       0.66     11.0\n",
            "\n",
            "[1598 rows x 11 columns]       fixed acidity  volatile acidity  citric acid  ...    pH  sulphates  alcohol\n",
            "1578            6.8              0.67         0.15  ...  3.42       0.67     11.3\n",
            "\n",
            "[1 rows x 11 columns] 0       0\n",
            "1       0\n",
            "2       0\n",
            "3       1\n",
            "4       0\n",
            "       ..\n",
            "1594    0\n",
            "1595    1\n",
            "1596    1\n",
            "1597    0\n",
            "1598    1\n",
            "Name: quality, Length: 1598, dtype: int64 1578    1\n",
            "Name: quality, dtype: int64\n",
            "      fixed acidity  volatile acidity  citric acid  ...    pH  sulphates  alcohol\n",
            "0               7.4             0.700         0.00  ...  3.51       0.56      9.4\n",
            "1               7.8             0.880         0.00  ...  3.20       0.68      9.8\n",
            "2               7.8             0.760         0.04  ...  3.26       0.65      9.8\n",
            "3              11.2             0.280         0.56  ...  3.16       0.58      9.8\n",
            "4               7.4             0.700         0.00  ...  3.51       0.56      9.4\n",
            "...             ...               ...          ...  ...   ...        ...      ...\n",
            "1594            6.2             0.600         0.08  ...  3.45       0.58     10.5\n",
            "1595            5.9             0.550         0.10  ...  3.52       0.76     11.2\n",
            "1596            6.3             0.510         0.13  ...  3.42       0.75     11.0\n",
            "1597            5.9             0.645         0.12  ...  3.57       0.71     10.2\n",
            "1598            6.0             0.310         0.47  ...  3.39       0.66     11.0\n",
            "\n",
            "[1598 rows x 11 columns]       fixed acidity  volatile acidity  citric acid  ...    pH  sulphates  alcohol\n",
            "1579            6.2              0.56         0.09  ...  3.54        0.6     11.3\n",
            "\n",
            "[1 rows x 11 columns] 0       0\n",
            "1       0\n",
            "2       0\n",
            "3       1\n",
            "4       0\n",
            "       ..\n",
            "1594    0\n",
            "1595    1\n",
            "1596    1\n",
            "1597    0\n",
            "1598    1\n",
            "Name: quality, Length: 1598, dtype: int64 1579    0\n",
            "Name: quality, dtype: int64\n",
            "      fixed acidity  volatile acidity  citric acid  ...    pH  sulphates  alcohol\n",
            "0               7.4             0.700         0.00  ...  3.51       0.56      9.4\n",
            "1               7.8             0.880         0.00  ...  3.20       0.68      9.8\n",
            "2               7.8             0.760         0.04  ...  3.26       0.65      9.8\n",
            "3              11.2             0.280         0.56  ...  3.16       0.58      9.8\n",
            "4               7.4             0.700         0.00  ...  3.51       0.56      9.4\n",
            "...             ...               ...          ...  ...   ...        ...      ...\n",
            "1594            6.2             0.600         0.08  ...  3.45       0.58     10.5\n",
            "1595            5.9             0.550         0.10  ...  3.52       0.76     11.2\n",
            "1596            6.3             0.510         0.13  ...  3.42       0.75     11.0\n",
            "1597            5.9             0.645         0.12  ...  3.57       0.71     10.2\n",
            "1598            6.0             0.310         0.47  ...  3.39       0.66     11.0\n",
            "\n",
            "[1598 rows x 11 columns]       fixed acidity  volatile acidity  citric acid  ...    pH  sulphates  alcohol\n",
            "1580            7.4              0.35         0.33  ...  3.36        0.6     11.9\n",
            "\n",
            "[1 rows x 11 columns] 0       0\n",
            "1       0\n",
            "2       0\n",
            "3       1\n",
            "4       0\n",
            "       ..\n",
            "1594    0\n",
            "1595    1\n",
            "1596    1\n",
            "1597    0\n",
            "1598    1\n",
            "Name: quality, Length: 1598, dtype: int64 1580    1\n",
            "Name: quality, dtype: int64\n",
            "      fixed acidity  volatile acidity  citric acid  ...    pH  sulphates  alcohol\n",
            "0               7.4             0.700         0.00  ...  3.51       0.56      9.4\n",
            "1               7.8             0.880         0.00  ...  3.20       0.68      9.8\n",
            "2               7.8             0.760         0.04  ...  3.26       0.65      9.8\n",
            "3              11.2             0.280         0.56  ...  3.16       0.58      9.8\n",
            "4               7.4             0.700         0.00  ...  3.51       0.56      9.4\n",
            "...             ...               ...          ...  ...   ...        ...      ...\n",
            "1594            6.2             0.600         0.08  ...  3.45       0.58     10.5\n",
            "1595            5.9             0.550         0.10  ...  3.52       0.76     11.2\n",
            "1596            6.3             0.510         0.13  ...  3.42       0.75     11.0\n",
            "1597            5.9             0.645         0.12  ...  3.57       0.71     10.2\n",
            "1598            6.0             0.310         0.47  ...  3.39       0.66     11.0\n",
            "\n",
            "[1598 rows x 11 columns]       fixed acidity  volatile acidity  citric acid  ...    pH  sulphates  alcohol\n",
            "1581            6.2              0.56         0.09  ...  3.54        0.6     11.3\n",
            "\n",
            "[1 rows x 11 columns] 0       0\n",
            "1       0\n",
            "2       0\n",
            "3       1\n",
            "4       0\n",
            "       ..\n",
            "1594    0\n",
            "1595    1\n",
            "1596    1\n",
            "1597    0\n",
            "1598    1\n",
            "Name: quality, Length: 1598, dtype: int64 1581    0\n",
            "Name: quality, dtype: int64\n",
            "      fixed acidity  volatile acidity  citric acid  ...    pH  sulphates  alcohol\n",
            "0               7.4             0.700         0.00  ...  3.51       0.56      9.4\n",
            "1               7.8             0.880         0.00  ...  3.20       0.68      9.8\n",
            "2               7.8             0.760         0.04  ...  3.26       0.65      9.8\n",
            "3              11.2             0.280         0.56  ...  3.16       0.58      9.8\n",
            "4               7.4             0.700         0.00  ...  3.51       0.56      9.4\n",
            "...             ...               ...          ...  ...   ...        ...      ...\n",
            "1594            6.2             0.600         0.08  ...  3.45       0.58     10.5\n",
            "1595            5.9             0.550         0.10  ...  3.52       0.76     11.2\n",
            "1596            6.3             0.510         0.13  ...  3.42       0.75     11.0\n",
            "1597            5.9             0.645         0.12  ...  3.57       0.71     10.2\n",
            "1598            6.0             0.310         0.47  ...  3.39       0.66     11.0\n",
            "\n",
            "[1598 rows x 11 columns]       fixed acidity  volatile acidity  citric acid  ...    pH  sulphates  alcohol\n",
            "1582            6.1             0.715          0.1  ...  3.57        0.5     11.9\n",
            "\n",
            "[1 rows x 11 columns] 0       0\n",
            "1       0\n",
            "2       0\n",
            "3       1\n",
            "4       0\n",
            "       ..\n",
            "1594    0\n",
            "1595    1\n",
            "1596    1\n",
            "1597    0\n",
            "1598    1\n",
            "Name: quality, Length: 1598, dtype: int64 1582    0\n",
            "Name: quality, dtype: int64\n",
            "      fixed acidity  volatile acidity  citric acid  ...    pH  sulphates  alcohol\n",
            "0               7.4             0.700         0.00  ...  3.51       0.56      9.4\n",
            "1               7.8             0.880         0.00  ...  3.20       0.68      9.8\n",
            "2               7.8             0.760         0.04  ...  3.26       0.65      9.8\n",
            "3              11.2             0.280         0.56  ...  3.16       0.58      9.8\n",
            "4               7.4             0.700         0.00  ...  3.51       0.56      9.4\n",
            "...             ...               ...          ...  ...   ...        ...      ...\n",
            "1594            6.2             0.600         0.08  ...  3.45       0.58     10.5\n",
            "1595            5.9             0.550         0.10  ...  3.52       0.76     11.2\n",
            "1596            6.3             0.510         0.13  ...  3.42       0.75     11.0\n",
            "1597            5.9             0.645         0.12  ...  3.57       0.71     10.2\n",
            "1598            6.0             0.310         0.47  ...  3.39       0.66     11.0\n",
            "\n",
            "[1598 rows x 11 columns]       fixed acidity  volatile acidity  citric acid  ...    pH  sulphates  alcohol\n",
            "1583            6.2              0.46         0.29  ...  3.33       0.62      9.8\n",
            "\n",
            "[1 rows x 11 columns] 0       0\n",
            "1       0\n",
            "2       0\n",
            "3       1\n",
            "4       0\n",
            "       ..\n",
            "1594    0\n",
            "1595    1\n",
            "1596    1\n",
            "1597    0\n",
            "1598    1\n",
            "Name: quality, Length: 1598, dtype: int64 1583    0\n",
            "Name: quality, dtype: int64\n",
            "      fixed acidity  volatile acidity  citric acid  ...    pH  sulphates  alcohol\n",
            "0               7.4             0.700         0.00  ...  3.51       0.56      9.4\n",
            "1               7.8             0.880         0.00  ...  3.20       0.68      9.8\n",
            "2               7.8             0.760         0.04  ...  3.26       0.65      9.8\n",
            "3              11.2             0.280         0.56  ...  3.16       0.58      9.8\n",
            "4               7.4             0.700         0.00  ...  3.51       0.56      9.4\n",
            "...             ...               ...          ...  ...   ...        ...      ...\n",
            "1594            6.2             0.600         0.08  ...  3.45       0.58     10.5\n",
            "1595            5.9             0.550         0.10  ...  3.52       0.76     11.2\n",
            "1596            6.3             0.510         0.13  ...  3.42       0.75     11.0\n",
            "1597            5.9             0.645         0.12  ...  3.57       0.71     10.2\n",
            "1598            6.0             0.310         0.47  ...  3.39       0.66     11.0\n",
            "\n",
            "[1598 rows x 11 columns]       fixed acidity  volatile acidity  citric acid  ...    pH  sulphates  alcohol\n",
            "1584            6.7              0.32         0.44  ...  3.29        0.8     11.6\n",
            "\n",
            "[1 rows x 11 columns] 0       0\n",
            "1       0\n",
            "2       0\n",
            "3       1\n",
            "4       0\n",
            "       ..\n",
            "1594    0\n",
            "1595    1\n",
            "1596    1\n",
            "1597    0\n",
            "1598    1\n",
            "Name: quality, Length: 1598, dtype: int64 1584    1\n",
            "Name: quality, dtype: int64\n",
            "      fixed acidity  volatile acidity  citric acid  ...    pH  sulphates  alcohol\n",
            "0               7.4             0.700         0.00  ...  3.51       0.56      9.4\n",
            "1               7.8             0.880         0.00  ...  3.20       0.68      9.8\n",
            "2               7.8             0.760         0.04  ...  3.26       0.65      9.8\n",
            "3              11.2             0.280         0.56  ...  3.16       0.58      9.8\n",
            "4               7.4             0.700         0.00  ...  3.51       0.56      9.4\n",
            "...             ...               ...          ...  ...   ...        ...      ...\n",
            "1594            6.2             0.600         0.08  ...  3.45       0.58     10.5\n",
            "1595            5.9             0.550         0.10  ...  3.52       0.76     11.2\n",
            "1596            6.3             0.510         0.13  ...  3.42       0.75     11.0\n",
            "1597            5.9             0.645         0.12  ...  3.57       0.71     10.2\n",
            "1598            6.0             0.310         0.47  ...  3.39       0.66     11.0\n",
            "\n",
            "[1598 rows x 11 columns]       fixed acidity  volatile acidity  citric acid  ...   pH  sulphates  alcohol\n",
            "1585            7.2              0.39         0.44  ...  3.3       0.84     11.5\n",
            "\n",
            "[1 rows x 11 columns] 0       0\n",
            "1       0\n",
            "2       0\n",
            "3       1\n",
            "4       0\n",
            "       ..\n",
            "1594    0\n",
            "1595    1\n",
            "1596    1\n",
            "1597    0\n",
            "1598    1\n",
            "Name: quality, Length: 1598, dtype: int64 1585    1\n",
            "Name: quality, dtype: int64\n",
            "      fixed acidity  volatile acidity  citric acid  ...    pH  sulphates  alcohol\n",
            "0               7.4             0.700         0.00  ...  3.51       0.56      9.4\n",
            "1               7.8             0.880         0.00  ...  3.20       0.68      9.8\n",
            "2               7.8             0.760         0.04  ...  3.26       0.65      9.8\n",
            "3              11.2             0.280         0.56  ...  3.16       0.58      9.8\n",
            "4               7.4             0.700         0.00  ...  3.51       0.56      9.4\n",
            "...             ...               ...          ...  ...   ...        ...      ...\n",
            "1594            6.2             0.600         0.08  ...  3.45       0.58     10.5\n",
            "1595            5.9             0.550         0.10  ...  3.52       0.76     11.2\n",
            "1596            6.3             0.510         0.13  ...  3.42       0.75     11.0\n",
            "1597            5.9             0.645         0.12  ...  3.57       0.71     10.2\n",
            "1598            6.0             0.310         0.47  ...  3.39       0.66     11.0\n",
            "\n",
            "[1598 rows x 11 columns]       fixed acidity  volatile acidity  citric acid  ...    pH  sulphates  alcohol\n",
            "1586            7.5              0.31         0.41  ...  3.34       0.85     11.4\n",
            "\n",
            "[1 rows x 11 columns] 0       0\n",
            "1       0\n",
            "2       0\n",
            "3       1\n",
            "4       0\n",
            "       ..\n",
            "1594    0\n",
            "1595    1\n",
            "1596    1\n",
            "1597    0\n",
            "1598    1\n",
            "Name: quality, Length: 1598, dtype: int64 1586    1\n",
            "Name: quality, dtype: int64\n",
            "      fixed acidity  volatile acidity  citric acid  ...    pH  sulphates  alcohol\n",
            "0               7.4             0.700         0.00  ...  3.51       0.56      9.4\n",
            "1               7.8             0.880         0.00  ...  3.20       0.68      9.8\n",
            "2               7.8             0.760         0.04  ...  3.26       0.65      9.8\n",
            "3              11.2             0.280         0.56  ...  3.16       0.58      9.8\n",
            "4               7.4             0.700         0.00  ...  3.51       0.56      9.4\n",
            "...             ...               ...          ...  ...   ...        ...      ...\n",
            "1594            6.2             0.600         0.08  ...  3.45       0.58     10.5\n",
            "1595            5.9             0.550         0.10  ...  3.52       0.76     11.2\n",
            "1596            6.3             0.510         0.13  ...  3.42       0.75     11.0\n",
            "1597            5.9             0.645         0.12  ...  3.57       0.71     10.2\n",
            "1598            6.0             0.310         0.47  ...  3.39       0.66     11.0\n",
            "\n",
            "[1598 rows x 11 columns]       fixed acidity  volatile acidity  citric acid  ...    pH  sulphates  alcohol\n",
            "1587            5.8              0.61         0.11  ...  3.55       0.66     10.9\n",
            "\n",
            "[1 rows x 11 columns] 0       0\n",
            "1       0\n",
            "2       0\n",
            "3       1\n",
            "4       0\n",
            "       ..\n",
            "1594    0\n",
            "1595    1\n",
            "1596    1\n",
            "1597    0\n",
            "1598    1\n",
            "Name: quality, Length: 1598, dtype: int64 1587    1\n",
            "Name: quality, dtype: int64\n",
            "      fixed acidity  volatile acidity  citric acid  ...    pH  sulphates  alcohol\n",
            "0               7.4             0.700         0.00  ...  3.51       0.56      9.4\n",
            "1               7.8             0.880         0.00  ...  3.20       0.68      9.8\n",
            "2               7.8             0.760         0.04  ...  3.26       0.65      9.8\n",
            "3              11.2             0.280         0.56  ...  3.16       0.58      9.8\n",
            "4               7.4             0.700         0.00  ...  3.51       0.56      9.4\n",
            "...             ...               ...          ...  ...   ...        ...      ...\n",
            "1594            6.2             0.600         0.08  ...  3.45       0.58     10.5\n",
            "1595            5.9             0.550         0.10  ...  3.52       0.76     11.2\n",
            "1596            6.3             0.510         0.13  ...  3.42       0.75     11.0\n",
            "1597            5.9             0.645         0.12  ...  3.57       0.71     10.2\n",
            "1598            6.0             0.310         0.47  ...  3.39       0.66     11.0\n",
            "\n",
            "[1598 rows x 11 columns]       fixed acidity  volatile acidity  citric acid  ...    pH  sulphates  alcohol\n",
            "1588            7.2              0.66         0.33  ...  3.27       0.78     12.8\n",
            "\n",
            "[1 rows x 11 columns] 0       0\n",
            "1       0\n",
            "2       0\n",
            "3       1\n",
            "4       0\n",
            "       ..\n",
            "1594    0\n",
            "1595    1\n",
            "1596    1\n",
            "1597    0\n",
            "1598    1\n",
            "Name: quality, Length: 1598, dtype: int64 1588    1\n",
            "Name: quality, dtype: int64\n",
            "      fixed acidity  volatile acidity  citric acid  ...    pH  sulphates  alcohol\n",
            "0               7.4             0.700         0.00  ...  3.51       0.56      9.4\n",
            "1               7.8             0.880         0.00  ...  3.20       0.68      9.8\n",
            "2               7.8             0.760         0.04  ...  3.26       0.65      9.8\n",
            "3              11.2             0.280         0.56  ...  3.16       0.58      9.8\n",
            "4               7.4             0.700         0.00  ...  3.51       0.56      9.4\n",
            "...             ...               ...          ...  ...   ...        ...      ...\n",
            "1594            6.2             0.600         0.08  ...  3.45       0.58     10.5\n",
            "1595            5.9             0.550         0.10  ...  3.52       0.76     11.2\n",
            "1596            6.3             0.510         0.13  ...  3.42       0.75     11.0\n",
            "1597            5.9             0.645         0.12  ...  3.57       0.71     10.2\n",
            "1598            6.0             0.310         0.47  ...  3.39       0.66     11.0\n",
            "\n",
            "[1598 rows x 11 columns]       fixed acidity  volatile acidity  citric acid  ...    pH  sulphates  alcohol\n",
            "1589            6.6             0.725          0.2  ...  3.29       0.54      9.2\n",
            "\n",
            "[1 rows x 11 columns] 0       0\n",
            "1       0\n",
            "2       0\n",
            "3       1\n",
            "4       0\n",
            "       ..\n",
            "1594    0\n",
            "1595    1\n",
            "1596    1\n",
            "1597    0\n",
            "1598    1\n",
            "Name: quality, Length: 1598, dtype: int64 1589    0\n",
            "Name: quality, dtype: int64\n",
            "      fixed acidity  volatile acidity  citric acid  ...    pH  sulphates  alcohol\n",
            "0               7.4             0.700         0.00  ...  3.51       0.56      9.4\n",
            "1               7.8             0.880         0.00  ...  3.20       0.68      9.8\n",
            "2               7.8             0.760         0.04  ...  3.26       0.65      9.8\n",
            "3              11.2             0.280         0.56  ...  3.16       0.58      9.8\n",
            "4               7.4             0.700         0.00  ...  3.51       0.56      9.4\n",
            "...             ...               ...          ...  ...   ...        ...      ...\n",
            "1594            6.2             0.600         0.08  ...  3.45       0.58     10.5\n",
            "1595            5.9             0.550         0.10  ...  3.52       0.76     11.2\n",
            "1596            6.3             0.510         0.13  ...  3.42       0.75     11.0\n",
            "1597            5.9             0.645         0.12  ...  3.57       0.71     10.2\n",
            "1598            6.0             0.310         0.47  ...  3.39       0.66     11.0\n",
            "\n",
            "[1598 rows x 11 columns]       fixed acidity  volatile acidity  citric acid  ...    pH  sulphates  alcohol\n",
            "1590            6.3              0.55         0.15  ...  3.32       0.82     11.6\n",
            "\n",
            "[1 rows x 11 columns] 0       0\n",
            "1       0\n",
            "2       0\n",
            "3       1\n",
            "4       0\n",
            "       ..\n",
            "1594    0\n",
            "1595    1\n",
            "1596    1\n",
            "1597    0\n",
            "1598    1\n",
            "Name: quality, Length: 1598, dtype: int64 1590    1\n",
            "Name: quality, dtype: int64\n",
            "      fixed acidity  volatile acidity  citric acid  ...    pH  sulphates  alcohol\n",
            "0               7.4             0.700         0.00  ...  3.51       0.56      9.4\n",
            "1               7.8             0.880         0.00  ...  3.20       0.68      9.8\n",
            "2               7.8             0.760         0.04  ...  3.26       0.65      9.8\n",
            "3              11.2             0.280         0.56  ...  3.16       0.58      9.8\n",
            "4               7.4             0.700         0.00  ...  3.51       0.56      9.4\n",
            "...             ...               ...          ...  ...   ...        ...      ...\n",
            "1594            6.2             0.600         0.08  ...  3.45       0.58     10.5\n",
            "1595            5.9             0.550         0.10  ...  3.52       0.76     11.2\n",
            "1596            6.3             0.510         0.13  ...  3.42       0.75     11.0\n",
            "1597            5.9             0.645         0.12  ...  3.57       0.71     10.2\n",
            "1598            6.0             0.310         0.47  ...  3.39       0.66     11.0\n",
            "\n",
            "[1598 rows x 11 columns]       fixed acidity  volatile acidity  citric acid  ...    pH  sulphates  alcohol\n",
            "1591            5.4              0.74         0.09  ...  3.67       0.56     11.6\n",
            "\n",
            "[1 rows x 11 columns] 0       0\n",
            "1       0\n",
            "2       0\n",
            "3       1\n",
            "4       0\n",
            "       ..\n",
            "1594    0\n",
            "1595    1\n",
            "1596    1\n",
            "1597    0\n",
            "1598    1\n",
            "Name: quality, Length: 1598, dtype: int64 1591    1\n",
            "Name: quality, dtype: int64\n",
            "      fixed acidity  volatile acidity  citric acid  ...    pH  sulphates  alcohol\n",
            "0               7.4             0.700         0.00  ...  3.51       0.56      9.4\n",
            "1               7.8             0.880         0.00  ...  3.20       0.68      9.8\n",
            "2               7.8             0.760         0.04  ...  3.26       0.65      9.8\n",
            "3              11.2             0.280         0.56  ...  3.16       0.58      9.8\n",
            "4               7.4             0.700         0.00  ...  3.51       0.56      9.4\n",
            "...             ...               ...          ...  ...   ...        ...      ...\n",
            "1594            6.2             0.600         0.08  ...  3.45       0.58     10.5\n",
            "1595            5.9             0.550         0.10  ...  3.52       0.76     11.2\n",
            "1596            6.3             0.510         0.13  ...  3.42       0.75     11.0\n",
            "1597            5.9             0.645         0.12  ...  3.57       0.71     10.2\n",
            "1598            6.0             0.310         0.47  ...  3.39       0.66     11.0\n",
            "\n",
            "[1598 rows x 11 columns]       fixed acidity  volatile acidity  citric acid  ...    pH  sulphates  alcohol\n",
            "1592            6.3              0.51         0.13  ...  3.42       0.75     11.0\n",
            "\n",
            "[1 rows x 11 columns] 0       0\n",
            "1       0\n",
            "2       0\n",
            "3       1\n",
            "4       0\n",
            "       ..\n",
            "1594    0\n",
            "1595    1\n",
            "1596    1\n",
            "1597    0\n",
            "1598    1\n",
            "Name: quality, Length: 1598, dtype: int64 1592    1\n",
            "Name: quality, dtype: int64\n",
            "      fixed acidity  volatile acidity  citric acid  ...    pH  sulphates  alcohol\n",
            "0               7.4             0.700         0.00  ...  3.51       0.56      9.4\n",
            "1               7.8             0.880         0.00  ...  3.20       0.68      9.8\n",
            "2               7.8             0.760         0.04  ...  3.26       0.65      9.8\n",
            "3              11.2             0.280         0.56  ...  3.16       0.58      9.8\n",
            "4               7.4             0.700         0.00  ...  3.51       0.56      9.4\n",
            "...             ...               ...          ...  ...   ...        ...      ...\n",
            "1594            6.2             0.600         0.08  ...  3.45       0.58     10.5\n",
            "1595            5.9             0.550         0.10  ...  3.52       0.76     11.2\n",
            "1596            6.3             0.510         0.13  ...  3.42       0.75     11.0\n",
            "1597            5.9             0.645         0.12  ...  3.57       0.71     10.2\n",
            "1598            6.0             0.310         0.47  ...  3.39       0.66     11.0\n",
            "\n",
            "[1598 rows x 11 columns]       fixed acidity  volatile acidity  citric acid  ...    pH  sulphates  alcohol\n",
            "1593            6.8              0.62         0.08  ...  3.42       0.82      9.5\n",
            "\n",
            "[1 rows x 11 columns] 0       0\n",
            "1       0\n",
            "2       0\n",
            "3       1\n",
            "4       0\n",
            "       ..\n",
            "1594    0\n",
            "1595    1\n",
            "1596    1\n",
            "1597    0\n",
            "1598    1\n",
            "Name: quality, Length: 1598, dtype: int64 1593    1\n",
            "Name: quality, dtype: int64\n",
            "      fixed acidity  volatile acidity  citric acid  ...    pH  sulphates  alcohol\n",
            "0               7.4             0.700         0.00  ...  3.51       0.56      9.4\n",
            "1               7.8             0.880         0.00  ...  3.20       0.68      9.8\n",
            "2               7.8             0.760         0.04  ...  3.26       0.65      9.8\n",
            "3              11.2             0.280         0.56  ...  3.16       0.58      9.8\n",
            "4               7.4             0.700         0.00  ...  3.51       0.56      9.4\n",
            "...             ...               ...          ...  ...   ...        ...      ...\n",
            "1593            6.8             0.620         0.08  ...  3.42       0.82      9.5\n",
            "1595            5.9             0.550         0.10  ...  3.52       0.76     11.2\n",
            "1596            6.3             0.510         0.13  ...  3.42       0.75     11.0\n",
            "1597            5.9             0.645         0.12  ...  3.57       0.71     10.2\n",
            "1598            6.0             0.310         0.47  ...  3.39       0.66     11.0\n",
            "\n",
            "[1598 rows x 11 columns]       fixed acidity  volatile acidity  citric acid  ...    pH  sulphates  alcohol\n",
            "1594            6.2               0.6         0.08  ...  3.45       0.58     10.5\n",
            "\n",
            "[1 rows x 11 columns] 0       0\n",
            "1       0\n",
            "2       0\n",
            "3       1\n",
            "4       0\n",
            "       ..\n",
            "1593    1\n",
            "1595    1\n",
            "1596    1\n",
            "1597    0\n",
            "1598    1\n",
            "Name: quality, Length: 1598, dtype: int64 1594    0\n",
            "Name: quality, dtype: int64\n",
            "      fixed acidity  volatile acidity  citric acid  ...    pH  sulphates  alcohol\n",
            "0               7.4             0.700         0.00  ...  3.51       0.56      9.4\n",
            "1               7.8             0.880         0.00  ...  3.20       0.68      9.8\n",
            "2               7.8             0.760         0.04  ...  3.26       0.65      9.8\n",
            "3              11.2             0.280         0.56  ...  3.16       0.58      9.8\n",
            "4               7.4             0.700         0.00  ...  3.51       0.56      9.4\n",
            "...             ...               ...          ...  ...   ...        ...      ...\n",
            "1593            6.8             0.620         0.08  ...  3.42       0.82      9.5\n",
            "1594            6.2             0.600         0.08  ...  3.45       0.58     10.5\n",
            "1596            6.3             0.510         0.13  ...  3.42       0.75     11.0\n",
            "1597            5.9             0.645         0.12  ...  3.57       0.71     10.2\n",
            "1598            6.0             0.310         0.47  ...  3.39       0.66     11.0\n",
            "\n",
            "[1598 rows x 11 columns]       fixed acidity  volatile acidity  citric acid  ...    pH  sulphates  alcohol\n",
            "1595            5.9              0.55          0.1  ...  3.52       0.76     11.2\n",
            "\n",
            "[1 rows x 11 columns] 0       0\n",
            "1       0\n",
            "2       0\n",
            "3       1\n",
            "4       0\n",
            "       ..\n",
            "1593    1\n",
            "1594    0\n",
            "1596    1\n",
            "1597    0\n",
            "1598    1\n",
            "Name: quality, Length: 1598, dtype: int64 1595    1\n",
            "Name: quality, dtype: int64\n",
            "      fixed acidity  volatile acidity  citric acid  ...    pH  sulphates  alcohol\n",
            "0               7.4             0.700         0.00  ...  3.51       0.56      9.4\n",
            "1               7.8             0.880         0.00  ...  3.20       0.68      9.8\n",
            "2               7.8             0.760         0.04  ...  3.26       0.65      9.8\n",
            "3              11.2             0.280         0.56  ...  3.16       0.58      9.8\n",
            "4               7.4             0.700         0.00  ...  3.51       0.56      9.4\n",
            "...             ...               ...          ...  ...   ...        ...      ...\n",
            "1593            6.8             0.620         0.08  ...  3.42       0.82      9.5\n",
            "1594            6.2             0.600         0.08  ...  3.45       0.58     10.5\n",
            "1595            5.9             0.550         0.10  ...  3.52       0.76     11.2\n",
            "1597            5.9             0.645         0.12  ...  3.57       0.71     10.2\n",
            "1598            6.0             0.310         0.47  ...  3.39       0.66     11.0\n",
            "\n",
            "[1598 rows x 11 columns]       fixed acidity  volatile acidity  citric acid  ...    pH  sulphates  alcohol\n",
            "1596            6.3              0.51         0.13  ...  3.42       0.75     11.0\n",
            "\n",
            "[1 rows x 11 columns] 0       0\n",
            "1       0\n",
            "2       0\n",
            "3       1\n",
            "4       0\n",
            "       ..\n",
            "1593    1\n",
            "1594    0\n",
            "1595    1\n",
            "1597    0\n",
            "1598    1\n",
            "Name: quality, Length: 1598, dtype: int64 1596    1\n",
            "Name: quality, dtype: int64\n",
            "      fixed acidity  volatile acidity  citric acid  ...    pH  sulphates  alcohol\n",
            "0               7.4              0.70         0.00  ...  3.51       0.56      9.4\n",
            "1               7.8              0.88         0.00  ...  3.20       0.68      9.8\n",
            "2               7.8              0.76         0.04  ...  3.26       0.65      9.8\n",
            "3              11.2              0.28         0.56  ...  3.16       0.58      9.8\n",
            "4               7.4              0.70         0.00  ...  3.51       0.56      9.4\n",
            "...             ...               ...          ...  ...   ...        ...      ...\n",
            "1593            6.8              0.62         0.08  ...  3.42       0.82      9.5\n",
            "1594            6.2              0.60         0.08  ...  3.45       0.58     10.5\n",
            "1595            5.9              0.55         0.10  ...  3.52       0.76     11.2\n",
            "1596            6.3              0.51         0.13  ...  3.42       0.75     11.0\n",
            "1598            6.0              0.31         0.47  ...  3.39       0.66     11.0\n",
            "\n",
            "[1598 rows x 11 columns]       fixed acidity  volatile acidity  citric acid  ...    pH  sulphates  alcohol\n",
            "1597            5.9             0.645         0.12  ...  3.57       0.71     10.2\n",
            "\n",
            "[1 rows x 11 columns] 0       0\n",
            "1       0\n",
            "2       0\n",
            "3       1\n",
            "4       0\n",
            "       ..\n",
            "1593    1\n",
            "1594    0\n",
            "1595    1\n",
            "1596    1\n",
            "1598    1\n",
            "Name: quality, Length: 1598, dtype: int64 1597    0\n",
            "Name: quality, dtype: int64\n",
            "      fixed acidity  volatile acidity  citric acid  ...    pH  sulphates  alcohol\n",
            "0               7.4             0.700         0.00  ...  3.51       0.56      9.4\n",
            "1               7.8             0.880         0.00  ...  3.20       0.68      9.8\n",
            "2               7.8             0.760         0.04  ...  3.26       0.65      9.8\n",
            "3              11.2             0.280         0.56  ...  3.16       0.58      9.8\n",
            "4               7.4             0.700         0.00  ...  3.51       0.56      9.4\n",
            "...             ...               ...          ...  ...   ...        ...      ...\n",
            "1593            6.8             0.620         0.08  ...  3.42       0.82      9.5\n",
            "1594            6.2             0.600         0.08  ...  3.45       0.58     10.5\n",
            "1595            5.9             0.550         0.10  ...  3.52       0.76     11.2\n",
            "1596            6.3             0.510         0.13  ...  3.42       0.75     11.0\n",
            "1597            5.9             0.645         0.12  ...  3.57       0.71     10.2\n",
            "\n",
            "[1598 rows x 11 columns]       fixed acidity  volatile acidity  citric acid  ...    pH  sulphates  alcohol\n",
            "1598            6.0              0.31         0.47  ...  3.39       0.66     11.0\n",
            "\n",
            "[1 rows x 11 columns] 0       0\n",
            "1       0\n",
            "2       0\n",
            "3       1\n",
            "4       0\n",
            "       ..\n",
            "1593    1\n",
            "1594    0\n",
            "1595    1\n",
            "1596    1\n",
            "1597    0\n",
            "Name: quality, Length: 1598, dtype: int64 1598    1\n",
            "Name: quality, dtype: int64\n"
          ]
        }
      ]
    },
    {
      "cell_type": "markdown",
      "metadata": {
        "id": "lXOhuzOsQMcJ"
      },
      "source": [
        "Para ver la estructura de uso completa de este sistema de validación, vamos a usar el algoritmo k-nn con los parámetros elegidos. Para ello completa el siguiente código con modelo que hayas determinado."
      ]
    },
    {
      "cell_type": "code",
      "metadata": {
        "id": "_DtVEnRKQxdY",
        "colab": {
          "base_uri": "https://localhost:8080/",
          "height": 130
        },
        "outputId": "e6bc518c-de99-4e76-c123-eefb1e6ec43a"
      },
      "source": [
        "#creamos dos variables que son listas vacías para poder ir guardando la clase verdadera de cada instancia y su valor predicho\n",
        "#y_true, y_pred = list(), list() \n",
        "y_true=[]\n",
        "y_pred= []\n",
        "for train_index, val_index in loocv.split(X):\n",
        "  # añadimos cada instancia a su conjunto a través de los índices\n",
        "  X_train, X_val = X.iloc[train_index], X.iloc[val_index] \n",
        "  y_train, y_val = y.iloc[train_index], y.iloc[val_index]\n",
        "  # crear el modelo\n",
        "  model = #..................................\n",
        "  model.fit(X_train, y_train)\n",
        "\t# testear el modelo\n",
        "  yhat = model.predict(X_val)\n",
        "\t# almacenar los datos predichos y los datos que conocemos \n",
        "  y_true.append(y_val.values[0])\n",
        "  y_pred.append(yhat[0])\n",
        " "
      ],
      "execution_count": null,
      "outputs": [
        {
          "output_type": "error",
          "ename": "SyntaxError",
          "evalue": "ignored",
          "traceback": [
            "\u001b[0;36m  File \u001b[0;32m\"<ipython-input-51-a278d104fbe6>\"\u001b[0;36m, line \u001b[0;32m10\u001b[0m\n\u001b[0;31m    model = #..................................\u001b[0m\n\u001b[0m                                               ^\u001b[0m\n\u001b[0;31mSyntaxError\u001b[0m\u001b[0;31m:\u001b[0m invalid syntax\n"
          ]
        }
      ]
    },
    {
      "cell_type": "markdown",
      "metadata": {
        "id": "Ho2nXTcIUJ2y"
      },
      "source": [
        "PREGUNTA: ¿Cuál será la dimensión de las variables *y_true* e *y_pred*? \n",
        "Compruébalo."
      ]
    },
    {
      "cell_type": "markdown",
      "metadata": {
        "id": "5Z7YbtbxUULi"
      },
      "source": [
        "En este caso para calcular la *accuracy* vamos a usar el método *accuracy_score* que se encuentra dentro del módulo *metrics* de la librería Scikit-Learn. "
      ]
    },
    {
      "cell_type": "code",
      "metadata": {
        "id": "zVmG6rFbUsB_"
      },
      "source": [
        "from sklearn.metrics import accuracy_score\n",
        "# calcular accuracy\n",
        "acc = accuracy_score(y_true, y_pred) #comparamos el valor real con las predicciones\n",
        "print('Accuracy: %.3f' % acc)"
      ],
      "execution_count": null,
      "outputs": []
    },
    {
      "cell_type": "markdown",
      "metadata": {
        "id": "5N4co1ePUv9a"
      },
      "source": [
        "PREGUNTA: ¿qué explicación le das al valor de *accuracy* obtenido? No pierdas este valor de vista que lo compararemos con el resto de estrategias de validación."
      ]
    },
    {
      "cell_type": "markdown",
      "metadata": {
        "id": "fWTgEBqoVCxo"
      },
      "source": [
        "###k-fold Cross Validation"
      ]
    },
    {
      "cell_type": "markdown",
      "metadata": {
        "id": "tG6O6-KsVa7A"
      },
      "source": [
        "El método *k-Fold Cross-Validation* es también un proceso iterativo. Consiste en dividir los datos de forma aleatoria en k grupos de aproximadamente el mismo tamaño, k-1 grupos se emplean para entrenar el modelo y uno de los grupos se emplea como validación. Este proceso se repite k veces utilizando un grupo distinto como validación en cada iteración. El proceso genera k estimaciones del error cuyo promedio se emplea como estimación final."
      ]
    },
    {
      "cell_type": "markdown",
      "metadata": {
        "id": "vaO5f5UUVosh"
      },
      "source": [
        "Cargamos las librerías que vamos a necesitar."
      ]
    },
    {
      "cell_type": "code",
      "metadata": {
        "id": "sokxVn0NVrve"
      },
      "source": [
        "from sklearn.model_selection import KFold\n",
        "from sklearn.model_selection import cross_val_score\n",
        "from numpy import mean\n",
        "from numpy import std"
      ],
      "execution_count": null,
      "outputs": []
    },
    {
      "cell_type": "markdown",
      "metadata": {
        "id": "2bbBtjwUgJlT"
      },
      "source": [
        "Un buen valor para el número de repeticiones depende del conjunto de datos y del ruido que contenga. Un valor de 3, 5 o 10 repeticiones probablemente sea un buen comienzo. Probablemente no se requieran más repeticiones de 10.\n",
        "\n",
        "Vamos a probar con k=5 para empezar. Completa el siguiente código para el modelo kNN y los parámetros que has escogido.\n",
        "\n",
        "Fíjate en que la *accuracy* que se observa es la media de las *accuracies* obtenidas en cada iteración."
      ]
    },
    {
      "cell_type": "code",
      "metadata": {
        "id": "sVhGRWfLVwqP"
      },
      "source": [
        "# preparar el procedimiento de cross-validation \n",
        "cv = KFold(n_splits=5)\n",
        "# crear el modelo\n",
        "model = #...........................\n",
        "# evaluar el modelo\n",
        "scores = cross_val_score(model, X, y, scoring='accuracy', cv=cv, n_jobs=-1)\n",
        "# mostrar el resultado\n",
        "print('Accuracy: %.3f (%.3f)' % (mean(scores), std(scores)))"
      ],
      "execution_count": null,
      "outputs": []
    },
    {
      "cell_type": "markdown",
      "metadata": {
        "id": "xD18PNYlhRri"
      },
      "source": [
        "EJERCICIO: mira en la ayuda del método kFold si por defecto esta estrategia de validación mezcla las muestras en cada iteración. Prueba lo contrario a lo que ocurra por defecto y dí si influye en el resultado que los datos estén mezclados o no. "
      ]
    },
    {
      "cell_type": "markdown",
      "metadata": {
        "id": "p_jANirAh0FB"
      },
      "source": [
        "### Repeticiones de k-fold Cross Validation"
      ]
    },
    {
      "cell_type": "markdown",
      "metadata": {
        "id": "ylCPcNkch4Cx"
      },
      "source": [
        "Es exactamente igual al método *k-Fold-Cross-Validation* pero repitiendo el proceso completo n veces. Por ejemplo, *10-Fold-Cross-Validation* con 5 repeticiones implica a un total de 50 iteraciones ajuste-validación, pero no equivale a un *50-Fold-Cross-Validation*."
      ]
    },
    {
      "cell_type": "markdown",
      "metadata": {
        "id": "VeFB5faJiI-J"
      },
      "source": [
        "La método que se necesita forma parte de *sklearn.model_selection* y se llama *RepeatedKFold*."
      ]
    },
    {
      "cell_type": "code",
      "metadata": {
        "id": "gPJ7v73TiBOX"
      },
      "source": [
        "from sklearn.model_selection import RepeatedKFold"
      ],
      "execution_count": null,
      "outputs": []
    },
    {
      "cell_type": "markdown",
      "metadata": {
        "id": "stTPFS32ii7I"
      },
      "source": [
        "EJERCICIO: busca en la ayuda de la librería y completa el siguiente código para obtener la *accuracy* de una *10-Fold-Cross-Validation*."
      ]
    },
    {
      "cell_type": "code",
      "metadata": {
        "id": "QzxPIXAKizpF"
      },
      "source": [
        "# preparar el procedimiento de cross-validation \n",
        "cv =#.....................\n",
        "# crear el modelo\n",
        "model = #...........................\n",
        "# evaluar el modelo\n",
        "scores = cross_val_score(model, X, y, scoring='accuracy', cv=cv, n_jobs=-1)\n",
        "# mostrar el resultado\n",
        "print('Accuracy: %.3f (%.3f)' % (mean(scores), std(scores)))"
      ],
      "execution_count": null,
      "outputs": []
    },
    {
      "cell_type": "markdown",
      "metadata": {
        "id": "wiYekNXIk26Z"
      },
      "source": [
        "### Stratified k-fold Cross Validation"
      ]
    },
    {
      "cell_type": "markdown",
      "metadata": {
        "id": "DQIFjOQ_k_Lr"
      },
      "source": [
        "Statified K-fold es una variante mejorada de K-fold, que cuando hace los *splits* (las divisiones) del conjunto de train tiene en cuenta mantener equilibradas las clases. Esto es muy útil, porque si por ejemplo tenemos que clasificar en “SI/NO” y una de las iteraciones del K-fold  tuviera muestras con etiquetas sólo “SI” el modelo no podría aprender a generalizar y aprendería que para cualquier entrada hay que responder “SI”."
      ]
    },
    {
      "cell_type": "markdown",
      "metadata": {
        "id": "avX6Vy17lRk9"
      },
      "source": [
        "El método a utilizar se llama *StratifiedKFold* y se encuentra en *sklearn.model_selection*. \n",
        "\n",
        "\n",
        "EJERCICIO: Crea el código siguiendo el mismo esquema que hasta ahora usando un *Stratified-10-Fold*, usa el modelo kNN con los parametros que has predeterminado, y calcula su *accuracy*. \n",
        "\n",
        "Recuerda, que en el caso de que la mezcla de los datos no se haga por defecto, es recomendable hacerla."
      ]
    },
    {
      "cell_type": "markdown",
      "metadata": {
        "id": "RhCyN1CwoIe-"
      },
      "source": [
        "### Shuffle Split"
      ]
    },
    {
      "cell_type": "markdown",
      "metadata": {
        "id": "WC0XVlZQoMeW"
      },
      "source": [
        "Esta estrategia es muy parecida a la conmumente utilizada *train_test_split*. \n"
      ]
    },
    {
      "cell_type": "markdown",
      "metadata": {
        "id": "NCGwttduogQe"
      },
      "source": [
        "EJERCICIO OPCIONAL: lee en que se diferencia del resto y como se usa. Desarrolla un ejemplo como los hechos hasta ahora dónde uses este método y calcules la *accuracy* para el modelo kNN."
      ]
    },
    {
      "cell_type": "markdown",
      "metadata": {
        "id": "ZbfdO0dqUQxt"
      },
      "source": [
        "En la segunda parte de esta práctica has fijado unos parámetros óptimos para el modelo kNN, vuelve a escribirlos:\n",
        "\n",
        "\n",
        "*   \n",
        "\n",
        "Para ese modelo has probado las distintas estrategias de validación.\n",
        "De todas las estrategias vistas, ¿cuál es la que mejor resultado en términos de *accuracy* ha dado? ¿Cuáles son los parámetros que has usado? Indica el valor de *accuracy*. "
      ]
    },
    {
      "cell_type": "markdown",
      "metadata": {
        "id": "j6kAAWHjVRTk"
      },
      "source": [
        "## Evaluación (parte III)"
      ]
    },
    {
      "cell_type": "markdown",
      "metadata": {
        "id": "0x95XWDMVVM6"
      },
      "source": [
        "### Métricas"
      ]
    },
    {
      "cell_type": "markdown",
      "metadata": {
        "id": "YhLbpOZgZm4r"
      },
      "source": [
        "En este apartado vamos a ver cómo obtener las distintas métricas de evaluación. \n",
        "\n",
        "En lugar de usar el problema anterior como un problema de clasificación binario, vamos a volver a cargarlo y usar la variable objetivo 'quality' sin agrupar, dejando así un problema de clasificación multiclase. \n",
        "\n",
        "Como hemos visto en teoría, el caso de la clasificación binaria es un caso particular de la clasificación multiclase, por eso que vamos a ver las métricas para un problema de este tipo."
      ]
    },
    {
      "cell_type": "markdown",
      "metadata": {
        "id": "y8luBeD-aKzJ"
      },
      "source": [
        "Volvemos a cargar el conjunto de datos para empezar de nuevo."
      ]
    },
    {
      "cell_type": "code",
      "metadata": {
        "id": "nBWlea7zVxx5"
      },
      "source": [
        "df = pd.read_csv('http://archive.ics.uci.edu/ml/machine-learning-databases/wine-quality/winequality-red.csv',sep=';')"
      ],
      "execution_count": null,
      "outputs": []
    },
    {
      "cell_type": "markdown",
      "metadata": {
        "id": "BGFJQfvqaQZp"
      },
      "source": [
        "Es una buena costumbre, echar un vistazo siempre, y antes de empezar a nuestros datos.\n",
        "\n",
        "EJERCICIO: Completa el código"
      ]
    },
    {
      "cell_type": "code",
      "metadata": {
        "id": "_ph2ezh9V32U"
      },
      "source": [
        "# Mostrar las 10 primeras filas del dataset\n",
        "# ................\n",
        "# Comprobamos la dimensión del dataset\n",
        "# ................\n",
        "# Obtenemos el tipo de cada una de sus features\n",
        "# ................"
      ],
      "execution_count": null,
      "outputs": []
    },
    {
      "cell_type": "markdown",
      "metadata": {
        "id": "qW03mDw4arjZ"
      },
      "source": [
        "Recuerda que hay que separar el conjunto de datos por un lado tiene que estar la variable con todas las características y por otro, la variable objetivo, en este caso es la variable 'quality'.\n",
        "\n",
        "EJERCICIO: Completa el código"
      ]
    },
    {
      "cell_type": "code",
      "metadata": {
        "id": "oMMZ9RHoWBQS"
      },
      "source": [
        "#creamos una variable X que tendrá las características de nuestros datos menos la variable objetivo\n",
        "# ................\n",
        "#creamos una variable y que tendrá sólo la variable objetivo\n",
        "# ................"
      ],
      "execution_count": null,
      "outputs": []
    },
    {
      "cell_type": "markdown",
      "metadata": {
        "id": "0aYGX0xda-D4"
      },
      "source": [
        "Crea el conjunto de entrenamiento y test dejando un 80-20% respectivamente en cada conjunto.\n",
        "\n",
        "EJERCICIO: Completa el código"
      ]
    },
    {
      "cell_type": "code",
      "metadata": {
        "id": "c_aPwvhtWInh"
      },
      "source": [
        "#creamos los conjuntos de entrenamiento y testeo (80-20%)\n",
        "# ................"
      ],
      "execution_count": null,
      "outputs": []
    },
    {
      "cell_type": "markdown",
      "metadata": {
        "id": "Kp1C9nVTbMWd"
      },
      "source": [
        "En el rápido vistazo que hemos visto de la cabecera de nuestro conjunto de datos, hemos podido apreciar que la escala de las distintas características no es la misma, así que es recomendable escalar los datos. Para ello vamos a estandarizar (\"normalizar\") los datos haciendo que su media sea 0 (centrándolos en 0) y con una desviación estándar de 1.\n",
        "\n",
        "Reucerda que has de escalar primero el conjunto de train y luego con la escala utilizada en ese conjunto aplicarlo al conjunto de test.\n",
        "\n",
        "EJERCICIO: Completa el código"
      ]
    },
    {
      "cell_type": "code",
      "metadata": {
        "id": "1sIBVw6aWQM7"
      },
      "source": [
        "# Escala los conjuntos de train y test centrandolos en 0 y obteniendo una desviación estándar de 1\n",
        "# ................"
      ],
      "execution_count": null,
      "outputs": []
    },
    {
      "cell_type": "markdown",
      "metadata": {
        "id": "wAPtZQSscnip"
      },
      "source": [
        "Para empezar vamos a usar el modelo kNN con todos sus parámetros con los valores por defecto. \n",
        "\n",
        "Obtén la predicción para el conjunto de test.\n",
        "\n",
        "EJERCICIO: Completa el código"
      ]
    },
    {
      "cell_type": "code",
      "metadata": {
        "id": "0Jq4ZXTfWUy4"
      },
      "source": [
        "# Creamos el modelo\n",
        "knn = KNeighborsClassifier()\n",
        "# ................"
      ],
      "execution_count": null,
      "outputs": []
    },
    {
      "cell_type": "code",
      "metadata": {
        "id": "KPVKiFXuWt-I"
      },
      "source": [
        "# Obtenemos la predicción sobre el conjunto de test\n",
        "# ................"
      ],
      "execution_count": null,
      "outputs": []
    },
    {
      "cell_type": "markdown",
      "metadata": {
        "id": "M8tRbN4QdCHl"
      },
      "source": [
        "Dentro de la librería *sklearn.metrics* está el método *confusion_matrix* que nos devuelve la **matriz de confusión**. Los parámetros de este método son los valores reales y los valores que se han predicho."
      ]
    },
    {
      "cell_type": "code",
      "metadata": {
        "id": "8mhAhnoCW4RB"
      },
      "source": [
        "# Muestra la matriz de confusión\n",
        "print(confusion_matrix(y_test, y_pred)) #si no has llamado así a las variables, cambialas"
      ],
      "execution_count": null,
      "outputs": []
    },
    {
      "cell_type": "markdown",
      "metadata": {
        "id": "KkrdcKImeE9T"
      },
      "source": [
        "Cómo hemos visto antes, el método anterior devuelve de una manera rápida pero un tanto 'fea' (para gusto los colores) la matriz de confusión. \n",
        "Otra manera de obtenerla sería de la siguiente forma, usando el método *plot_confusion_matrix*, cuyos parámetros son el modelo, y el conjunto de test con su variable objetivo. El último parámetro es la escala de colores para que se pinte el *heat map* dentro de la matriz. Puedes probar a cambiarlo.\n",
        "\n",
        "Este método a diferencia del otro calcula los datos predichos dentro del propio método."
      ]
    },
    {
      "cell_type": "code",
      "metadata": {
        "id": "NKHMmk2PXAIw"
      },
      "source": [
        "from sklearn.metrics import plot_confusion_matrix\n",
        "\n",
        "title=\"Confusion Matrix\"\n",
        "disp = plot_confusion_matrix(knn, X_test, y_test,cmap=plt.cm.Blues)\n",
        "disp.ax_.set_title(title)\n",
        "\n",
        "print(disp.confusion_matrix)"
      ],
      "execution_count": null,
      "outputs": []
    },
    {
      "cell_type": "markdown",
      "metadata": {
        "id": "fmRrj0PtXLgF"
      },
      "source": [
        "Cómo se ha visto antes los propios modelos tienen un método que se llama *score* que devuelve la ***accuracy*** (1). \n",
        "\n",
        "Esta métrica también se puede obtener a partir de la librería *sklearn.metrics* usando *accuracy_score* (2)."
      ]
    },
    {
      "cell_type": "code",
      "metadata": {
        "id": "EpTAdN10XtQW"
      },
      "source": [
        "# (1) Obtener la accuracy del conjunto de test usando el método del modelo\n",
        "knn.score(X_test, y_test)"
      ],
      "execution_count": null,
      "outputs": []
    },
    {
      "cell_type": "code",
      "metadata": {
        "id": "w-bHUXI3X5nN"
      },
      "source": [
        "# (2) Obtener la accuracy del cjto de test usando sklearn.metrics\n",
        "from sklearn.metrics import accuracy_score\n",
        "accuracy_score(y_test, y_pred)"
      ],
      "execution_count": null,
      "outputs": []
    },
    {
      "cell_type": "markdown",
      "metadata": {
        "id": "Rn_M-q9kZSBT"
      },
      "source": [
        "Si usamos el método *accuracy_score* podemos, además, ver el número de instancias bien clasificadas si ponemos el parámetro *normalize* a falso. "
      ]
    },
    {
      "cell_type": "code",
      "metadata": {
        "id": "8Bc1Dp4ZZLux"
      },
      "source": [
        "accuracy_score(y_test, y_pred,normalize=False)"
      ],
      "execution_count": null,
      "outputs": []
    },
    {
      "cell_type": "markdown",
      "metadata": {
        "id": "VGZfAdVnYQYG"
      },
      "source": [
        "PREGUNTA: Nuestro problema, como hemos dicho es un problema multiclase, fijándote en la matriz de confusión, ¿encuentras razonado la *accuracy* tan baja que sale?"
      ]
    },
    {
      "cell_type": "markdown",
      "metadata": {
        "id": "iwN3Y7uUgZc-"
      },
      "source": [
        "Hay distintas maneras de obtener las métricas ***recall, precision y F1-score***. Veamos dos de ellas. La primera es obtener las métricas de manera independiente.\n",
        "\n",
        "Recuerda que para los problemas de clasificación multiclase estas métricas pueden ser calculadas como la media de las métricas de cada clase (**micro**), tenidas en cuenta todas juntas como conjunto (**macro**), o teniendo en cuenta el número de instancias de cada clase para darles un peso (**weighted**).\n",
        "\n",
        "Fíjate en el siguiente código. Los métodos que vamos a usar están en la librería [*sklearn.metrics*](https://scikit-learn.org/stable/modules/model_evaluation.html)); es importante especificar en el parámetro *average* cuál es la estrategia a seguir para calcular cada uno.\n",
        "\n",
        "EJERCICIO: Completa el código para calcular el resto de métricas.\n"
      ]
    },
    {
      "cell_type": "code",
      "metadata": {
        "id": "mpJwT_W1ghWV"
      },
      "source": [
        "#importar los métodos que necesitamos precision_score, recall_score, f1_score\n",
        "from sklearn.metrics import precision_score, recall_score, f1_score\n",
        "\n",
        "print('Micro Precision: {:.2f}'.format(precision_score(y_test, y_pred, average='micro')))\n",
        "print('Micro Recall: {:.2f}'.format(recall_score(y_test, y_pred, average='micro')))\n",
        "print('Micro F1-score: {:.2f}\\n'.format(f1_score(y_test, y_pred, average='micro')))\n",
        "\n",
        "print('Macro Precision: {:.2f}'.format(#..................................))\n",
        "print('Macro Recall: {:.2f}'.format(#..................................))\n",
        "print('Macro F1-score: {:.2f}\\n'.format(#..................................))\n",
        "\n",
        "print('Weighted Precision: {:.2f}'.format(#..................................))\n",
        "print('Weighted Recall: {:.2f}'.format(#..................................))\n",
        "print('Weighted F1-score: {:.2f}'.format(#..................................))"
      ],
      "execution_count": null,
      "outputs": []
    },
    {
      "cell_type": "markdown",
      "metadata": {
        "id": "8ikwAuLDiDP9"
      },
      "source": [
        "Otra manera de obtener las métricas, es obtenerlas como un informe usando el método *classification_report*"
      ]
    },
    {
      "cell_type": "code",
      "metadata": {
        "id": "qXpEsGQgiMbZ"
      },
      "source": [
        "from sklearn.metrics import classification_report\n",
        "target_names = ['3 level', '4 level', '5 level', '6 level','7 level','8 level']\n",
        "print(classification_report(y_test, y_pred, target_names=target_names))"
      ],
      "execution_count": null,
      "outputs": []
    },
    {
      "cell_type": "markdown",
      "metadata": {
        "id": "ZIoUBdgQ0b6i"
      },
      "source": [
        "Para calcular el *área bajo la curva* (***auROC***) hay que tener en cuenta si nuestro problema es de clasificación binaria, multiclase o multietiqueta. En cualquier caso se puede calcular pero teniendo en cuenta ciertas restricciones (más info [aquí](https://scikit-learn.org/stable/modules/generated/sklearn.metrics.roc_auc_score.html#sklearn.metrics.roc_auc_score))"
      ]
    },
    {
      "cell_type": "markdown",
      "metadata": {
        "id": "I_p70uDI0f8P"
      },
      "source": [
        "El problema de este ejemplo es un problema multiclase así que vamos a calcular el *auROC* utilizando el método *roc_auc_score* especificando como queremos que sea el estudio de las clases. Principalmente hay dos estrategias:\n",
        "\n",
        "*    'ovr' (*one-vs-rest*): calcula la *auROC* de cada clase contra el resto\n",
        "*     'ovo' (*one-vs-one*): calcula la media de las *auROC* de todas las posibles combinaciones por pares de las clases.\n",
        "\n",
        "A continuación vemos el ejemplo de uso de este método y los resultados obtenidos.\n",
        "\n",
        "Para ello en lugar de calcular las predicciones es necesario calcular la probabilidad que tiene cada instancia de pertenecer a una clase. De hecho la mayor de las probabilidades es la que marca a que clase va a pertenecer la instancia.\n",
        "\n",
        "Para ello hay que usar el método *predict_proba* del propio modelo."
      ]
    },
    {
      "cell_type": "code",
      "metadata": {
        "id": "1XhGgDybxmRN"
      },
      "source": [
        "y_prob=knn.predict_proba(X_test)"
      ],
      "execution_count": null,
      "outputs": []
    },
    {
      "cell_type": "code",
      "metadata": {
        "id": "SD_62KXT0idU"
      },
      "source": [
        "from sklearn.metrics import roc_auc_score\n",
        "\n",
        "macro_roc_auc_ovo = roc_auc_score(y_test, y_prob, multi_class=\"ovo\",\n",
        "                                  average=\"macro\")\n",
        "weighted_roc_auc_ovo = roc_auc_score(y_test, y_prob, multi_class=\"ovo\",\n",
        "                                     average=\"weighted\")\n",
        "macro_roc_auc_ovr = roc_auc_score(y_test, y_prob, multi_class=\"ovr\",\n",
        "                                  average=\"macro\")\n",
        "weighted_roc_auc_ovr = roc_auc_score(y_test, y_prob, multi_class=\"ovr\",\n",
        "                                     average=\"weighted\")\n",
        "print(\"One-vs-One ROC AUC scores:\\n{:.6f} (macro),\\n{:.6f} \"\n",
        "      \"(weighted by prevalence)\"\n",
        "      .format(macro_roc_auc_ovo, weighted_roc_auc_ovo))\n",
        "print(\"One-vs-Rest ROC AUC scores:\\n{:.6f} (macro),\\n{:.6f} \"\n",
        "      \"(weighted by prevalence)\"\n",
        "      .format(macro_roc_auc_ovr, weighted_roc_auc_ovr))"
      ],
      "execution_count": null,
      "outputs": []
    },
    {
      "cell_type": "markdown",
      "metadata": {
        "id": "7FzcloxzYmOE"
      },
      "source": [
        "EJERCICIO: Antes has determinado una configuración óptima para el problema de clasificación binaria (la clase objetivo era \"good\" o \"bad\"). Comprueba si esa misma configuración mejoran el resultado obtenido con los parámetros por defecto usados antes, para el problema de clasificación multiclase que tenemos ahora, crea el modelo y obtén su matriz de confusión y su *accuracy*."
      ]
    },
    {
      "cell_type": "markdown",
      "metadata": {
        "id": "VYm6cwloitAJ"
      },
      "source": [
        "EJERCICIO OPCIONAL: vuelve a obtener un problema de **clasificación binario** separando la variable objetivo en dos clases \"good\" y \"bad\" como hemos hecho antes. \n",
        "\n",
        "Para el método kNN con los parámetros seleccionados como los más óptimos y usando la estrategia de validación que has elegido como la mejor, calcula la matriz de confusión, y las métricas recall, precision, F1-score y el valor de auROC y su gráfica. \n",
        "\n",
        "Reescribe todo lo que necesites para que quede el proceso de manera ordenada y legible, a continuación tienes una nota dónde puedes ver todas las partes del flujo de trabajo típico de un problema de Machine Learning y que debería verse reflejado en este ejercicio.\n",
        "\n",
        "\n"
      ]
    },
    {
      "cell_type": "markdown",
      "metadata": {
        "id": "SpG7y1ZXoi3u"
      },
      "source": [
        "### Nota"
      ]
    },
    {
      "cell_type": "markdown",
      "metadata": {
        "id": "Z4IPP32GoklN"
      },
      "source": [
        "El último ejercicio propuesto es un ejemplo de un proceso completo de aplicación de un método de aprendizaje supervisado. Repasando el flujo de trabajo nos quedaría algo así:\n",
        "\n",
        "\n",
        "*   **\"Identificar el problema:\"** queremos predecir la calidad del vino (good o bad) en función de una serie de características de éste.\n",
        "*   **\"Obtener los datos: compilar preparar\"**: observamos como son los datos que tenemos y en este caso los escalamos centrandolos en 0 y dejando una desviacion estándar de 1\n",
        "*   **\"Modelar y procesar los datos\"**: utilizamos una estrategia de validación para obtener el mejor modelo. Lo obtenemos y lo usamos para predecir el conjunto de test.\n",
        "*   **\"Evaluar e interpretar los datos\"**: usamos las métricas de evaluación para comprobar como es de óptimo nuestro modelo y si se obtiene un nivel de los resultados asumible por el problema planteado."
      ]
    }
  ]
}